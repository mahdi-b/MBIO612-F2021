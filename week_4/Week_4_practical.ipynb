{
 "cells": [
  {
   "cell_type": "markdown",
   "id": "b90fe26e",
   "metadata": {},
   "source": [
    "### Instructions:\n",
    "\n",
    "1. Import all the libraries you need in the cell below\n",
    "2. Create as many cells as needed to answer a question\n",
    "  * Group code that is logically related in the same cell\n",
    "  * Keep cells relatively small\n",
    "  * Format long statements or expressions, including `ggplot`, across multiple lines\n",
    "3. Submit your work to Github\n",
    "  * Folder should be called `week_4_practical`\n",
    "  * This file should be called `week_4_solution.ipynb`\n",
    "    "
   ]
  },
  {
   "cell_type": "code",
   "execution_count": 1,
   "id": "ff2aee4a",
   "metadata": {},
   "outputs": [],
   "source": [
    "# Write you library imports here. E.g.:\n",
    "# library(ggplot2 )\n",
    "# ...\n"
   ]
  },
  {
   "cell_type": "markdown",
   "id": "9d1f436c",
   "metadata": {},
   "source": [
    "### Q.1\n",
    "\n",
    "* Write a function that manually computes the standard deviation.\n",
    "  * Call your function `sd_x`\n",
    "\n",
    "Recall that the standard deviation is computed as\n",
    "\n",
    "$$\n",
    "\\sigma = \\sqrt{\\frac{\\sum{(x_i - \\mu)^2}}{N-1}}\n",
    "$$\n",
    "\n",
    "* $\\mu$ is simply the mean of the vector of inputs\n",
    "  * it can be computed using the `mean` function\n",
    "\n",
    "\n",
    "For example, given:\n",
    "\n",
    "```x = c(1,2,3)```\n",
    "\n",
    "Since $\\mu = 2$, then $\\sigma = \\sqrt{\\frac{(1-2)^2 + (2-2)^2 + (3-2)^2}{3}} = 1$.\n",
    "\n",
    "* Important: What do you do if this function is called with a single element?\n",
    "  * Recall that we cannot compute the std deviation of a single value\n",
    "\n",
    "* Use `assertthat` to make sure that `sd_x` and `sd` return the same values for 3 test vectors of your choice."
   ]
  },
  {
   "cell_type": "code",
   "execution_count": 20,
   "id": "bbc13447",
   "metadata": {},
   "outputs": [
    {
     "data": {
      "text/html": [
       "2"
      ],
      "text/latex": [
       "2"
      ],
      "text/markdown": [
       "2"
      ],
      "text/plain": [
       "[1] 2"
      ]
     },
     "metadata": {},
     "output_type": "display_data"
    }
   ],
   "source": [
    "x = c(1,2,3)\n",
    "mean(x)"
   ]
  },
  {
   "cell_type": "code",
   "execution_count": 21,
   "id": "15c81b67",
   "metadata": {},
   "outputs": [
    {
     "data": {
      "text/html": [
       "1"
      ],
      "text/latex": [
       "1"
      ],
      "text/markdown": [
       "1"
      ],
      "text/plain": [
       "[1] 1"
      ]
     },
     "metadata": {},
     "output_type": "display_data"
    },
    {
     "data": {
      "text/html": [
       "1"
      ],
      "text/latex": [
       "1"
      ],
      "text/markdown": [
       "1"
      ],
      "text/plain": [
       "[1] 1"
      ]
     },
     "metadata": {},
     "output_type": "display_data"
    }
   ],
   "source": [
    "sd(x)\n",
    "sqrt(( (1-2)^2 + (2-2)^2 + (3-2)^2 )/2)"
   ]
  },
  {
   "cell_type": "code",
   "execution_count": 73,
   "id": "dd20c980",
   "metadata": {},
   "outputs": [
    {
     "data": {
      "text/html": [
       "1"
      ],
      "text/latex": [
       "1"
      ],
      "text/markdown": [
       "1"
      ],
      "text/plain": [
       "[1] 1"
      ]
     },
     "metadata": {},
     "output_type": "display_data"
    }
   ],
   "source": [
    "# vectorized version\n",
    "x = c(1,2,3)\n",
    "x_min_mean = x - mean(x)\n",
    "x_min_mean_squared = x_min_mean^2\n",
    "sum_x_min_mean_squared = sum(x_min_mean_squared)\n",
    "sqrt(sum_x_min_mean_squared / 2)"
   ]
  },
  {
   "cell_type": "code",
   "execution_count": 74,
   "id": "b65d2a8e",
   "metadata": {},
   "outputs": [],
   "source": [
    "sd_x = function(x){\n",
    "        if (length(x)< 2){\n",
    "            c(NA)\n",
    "        }else{\n",
    "            sqrt(sum((x-mean(x))^2)/(length(x)-1))\n",
    "\n",
    "        }\n",
    "}"
   ]
  },
  {
   "cell_type": "code",
   "execution_count": 75,
   "id": "41dba35a",
   "metadata": {},
   "outputs": [
    {
     "data": {
      "text/html": [
       "TRUE"
      ],
      "text/latex": [
       "TRUE"
      ],
      "text/markdown": [
       "TRUE"
      ],
      "text/plain": [
       "[1] TRUE"
      ]
     },
     "metadata": {},
     "output_type": "display_data"
    },
    {
     "data": {
      "text/html": [
       "TRUE"
      ],
      "text/latex": [
       "TRUE"
      ],
      "text/markdown": [
       "TRUE"
      ],
      "text/plain": [
       "[1] TRUE"
      ]
     },
     "metadata": {},
     "output_type": "display_data"
    },
    {
     "data": {
      "text/html": [
       "TRUE"
      ],
      "text/latex": [
       "TRUE"
      ],
      "text/markdown": [
       "TRUE"
      ],
      "text/plain": [
       "[1] TRUE"
      ]
     },
     "metadata": {},
     "output_type": "display_data"
    }
   ],
   "source": [
    "library(assertthat)\n",
    "\n",
    "assert_that(sd_x(c(1,2,3)) == sd(c(1,2,3)), msg=\"First test failed\")\n",
    "\n",
    "assert_that(sd_x(c(4,2,3,7,9,1)) == sd(c(4,2,3,7,9,1)), msg=\"Second test failed\")\n",
    "\n",
    "# we cannot test that NA are equal in programming languages\n",
    "# so we test that both functions return is.na \n",
    "assert_that(is.na(sd_x(c(9))) == is.na(sd(c(9))), msg=\"Third test failed\")"
   ]
  },
  {
   "cell_type": "markdown",
   "id": "dec09c62",
   "metadata": {},
   "source": [
    "### Q2\n",
    "\n",
    "* In this question, we will build a simulated dataset for healthy and diseased corals.  You will be creating a `tibble` called `coral_health_tbl` that contains 2 columns:\n",
    "\n",
    "1. A column called `coral`. Generate this column by sampling 100 coral species from the following values\n",
    "```\n",
    "coral_pop = c(\"Montipora capitata\",\n",
    "  \"Porites compressa\",\n",
    "  \"Porites lobata\")\n",
    "```\n",
    " * You can use the function `sample` to select 100 values from the vector `coral_pop`\n",
    " \n",
    "2. The second column is called `health_status`.\n",
    "    * it represents 100 randomly selected `TRUE` or `FALSE` values that represent whether the coral is healthy or diseased.\n",
    "    * Healthy corals (`health_status == FALSE`; not diseased) occur with a probability of 0.8 wheras diseased (`health_status == TRUE`) corals occur with a probability of 0.3.\n",
    "    * You can use sample again but modify the `prob` parameter to account for the differet probabilities\n"
   ]
  },
  {
   "cell_type": "code",
   "execution_count": 109,
   "id": "7bf3ae1b",
   "metadata": {},
   "outputs": [
    {
     "data": {
      "text/html": [
       "<style>\n",
       ".list-inline {list-style: none; margin:0; padding: 0}\n",
       ".list-inline>li {display: inline-block}\n",
       ".list-inline>li:not(:last-child)::after {content: \"\\00b7\"; padding: 0 .5ex}\n",
       "</style>\n",
       "<ol class=list-inline><li>FALSE</li><li>FALSE</li><li>FALSE</li><li>FALSE</li><li>FALSE</li><li>FALSE</li><li>FALSE</li><li>FALSE</li><li>FALSE</li><li>FALSE</li><li>FALSE</li><li>FALSE</li><li>FALSE</li><li>FALSE</li><li>FALSE</li><li>FALSE</li><li>FALSE</li><li>FALSE</li><li>FALSE</li><li>FALSE</li><li>TRUE</li><li>FALSE</li><li>TRUE</li><li>FALSE</li><li>TRUE</li><li>FALSE</li><li>FALSE</li><li>FALSE</li><li>FALSE</li><li>TRUE</li><li>FALSE</li><li>TRUE</li><li>FALSE</li><li>FALSE</li><li>FALSE</li><li>FALSE</li><li>TRUE</li><li>FALSE</li><li>TRUE</li><li>TRUE</li><li>FALSE</li><li>FALSE</li><li>FALSE</li><li>FALSE</li><li>FALSE</li><li>TRUE</li><li>TRUE</li><li>FALSE</li><li>TRUE</li><li>TRUE</li><li>TRUE</li><li>TRUE</li><li>FALSE</li><li>TRUE</li><li>FALSE</li><li>TRUE</li><li>FALSE</li><li>TRUE</li><li>FALSE</li><li>FALSE</li><li>FALSE</li><li>FALSE</li><li>FALSE</li><li>FALSE</li><li>FALSE</li><li>TRUE</li><li>FALSE</li><li>FALSE</li><li>FALSE</li><li>FALSE</li><li>FALSE</li><li>FALSE</li><li>FALSE</li><li>TRUE</li><li>FALSE</li><li>FALSE</li><li>TRUE</li><li>FALSE</li><li>FALSE</li><li>TRUE</li><li>FALSE</li><li>FALSE</li><li>FALSE</li><li>TRUE</li><li>FALSE</li><li>TRUE</li><li>TRUE</li><li>TRUE</li><li>FALSE</li><li>FALSE</li><li>TRUE</li><li>FALSE</li><li>FALSE</li><li>FALSE</li><li>TRUE</li><li>FALSE</li><li>TRUE</li><li>TRUE</li><li>TRUE</li><li>FALSE</li></ol>\n"
      ],
      "text/latex": [
       "\\begin{enumerate*}\n",
       "\\item FALSE\n",
       "\\item FALSE\n",
       "\\item FALSE\n",
       "\\item FALSE\n",
       "\\item FALSE\n",
       "\\item FALSE\n",
       "\\item FALSE\n",
       "\\item FALSE\n",
       "\\item FALSE\n",
       "\\item FALSE\n",
       "\\item FALSE\n",
       "\\item FALSE\n",
       "\\item FALSE\n",
       "\\item FALSE\n",
       "\\item FALSE\n",
       "\\item FALSE\n",
       "\\item FALSE\n",
       "\\item FALSE\n",
       "\\item FALSE\n",
       "\\item FALSE\n",
       "\\item TRUE\n",
       "\\item FALSE\n",
       "\\item TRUE\n",
       "\\item FALSE\n",
       "\\item TRUE\n",
       "\\item FALSE\n",
       "\\item FALSE\n",
       "\\item FALSE\n",
       "\\item FALSE\n",
       "\\item TRUE\n",
       "\\item FALSE\n",
       "\\item TRUE\n",
       "\\item FALSE\n",
       "\\item FALSE\n",
       "\\item FALSE\n",
       "\\item FALSE\n",
       "\\item TRUE\n",
       "\\item FALSE\n",
       "\\item TRUE\n",
       "\\item TRUE\n",
       "\\item FALSE\n",
       "\\item FALSE\n",
       "\\item FALSE\n",
       "\\item FALSE\n",
       "\\item FALSE\n",
       "\\item TRUE\n",
       "\\item TRUE\n",
       "\\item FALSE\n",
       "\\item TRUE\n",
       "\\item TRUE\n",
       "\\item TRUE\n",
       "\\item TRUE\n",
       "\\item FALSE\n",
       "\\item TRUE\n",
       "\\item FALSE\n",
       "\\item TRUE\n",
       "\\item FALSE\n",
       "\\item TRUE\n",
       "\\item FALSE\n",
       "\\item FALSE\n",
       "\\item FALSE\n",
       "\\item FALSE\n",
       "\\item FALSE\n",
       "\\item FALSE\n",
       "\\item FALSE\n",
       "\\item TRUE\n",
       "\\item FALSE\n",
       "\\item FALSE\n",
       "\\item FALSE\n",
       "\\item FALSE\n",
       "\\item FALSE\n",
       "\\item FALSE\n",
       "\\item FALSE\n",
       "\\item TRUE\n",
       "\\item FALSE\n",
       "\\item FALSE\n",
       "\\item TRUE\n",
       "\\item FALSE\n",
       "\\item FALSE\n",
       "\\item TRUE\n",
       "\\item FALSE\n",
       "\\item FALSE\n",
       "\\item FALSE\n",
       "\\item TRUE\n",
       "\\item FALSE\n",
       "\\item TRUE\n",
       "\\item TRUE\n",
       "\\item TRUE\n",
       "\\item FALSE\n",
       "\\item FALSE\n",
       "\\item TRUE\n",
       "\\item FALSE\n",
       "\\item FALSE\n",
       "\\item FALSE\n",
       "\\item TRUE\n",
       "\\item FALSE\n",
       "\\item TRUE\n",
       "\\item TRUE\n",
       "\\item TRUE\n",
       "\\item FALSE\n",
       "\\end{enumerate*}\n"
      ],
      "text/markdown": [
       "1. FALSE\n",
       "2. FALSE\n",
       "3. FALSE\n",
       "4. FALSE\n",
       "5. FALSE\n",
       "6. FALSE\n",
       "7. FALSE\n",
       "8. FALSE\n",
       "9. FALSE\n",
       "10. FALSE\n",
       "11. FALSE\n",
       "12. FALSE\n",
       "13. FALSE\n",
       "14. FALSE\n",
       "15. FALSE\n",
       "16. FALSE\n",
       "17. FALSE\n",
       "18. FALSE\n",
       "19. FALSE\n",
       "20. FALSE\n",
       "21. TRUE\n",
       "22. FALSE\n",
       "23. TRUE\n",
       "24. FALSE\n",
       "25. TRUE\n",
       "26. FALSE\n",
       "27. FALSE\n",
       "28. FALSE\n",
       "29. FALSE\n",
       "30. TRUE\n",
       "31. FALSE\n",
       "32. TRUE\n",
       "33. FALSE\n",
       "34. FALSE\n",
       "35. FALSE\n",
       "36. FALSE\n",
       "37. TRUE\n",
       "38. FALSE\n",
       "39. TRUE\n",
       "40. TRUE\n",
       "41. FALSE\n",
       "42. FALSE\n",
       "43. FALSE\n",
       "44. FALSE\n",
       "45. FALSE\n",
       "46. TRUE\n",
       "47. TRUE\n",
       "48. FALSE\n",
       "49. TRUE\n",
       "50. TRUE\n",
       "51. TRUE\n",
       "52. TRUE\n",
       "53. FALSE\n",
       "54. TRUE\n",
       "55. FALSE\n",
       "56. TRUE\n",
       "57. FALSE\n",
       "58. TRUE\n",
       "59. FALSE\n",
       "60. FALSE\n",
       "61. FALSE\n",
       "62. FALSE\n",
       "63. FALSE\n",
       "64. FALSE\n",
       "65. FALSE\n",
       "66. TRUE\n",
       "67. FALSE\n",
       "68. FALSE\n",
       "69. FALSE\n",
       "70. FALSE\n",
       "71. FALSE\n",
       "72. FALSE\n",
       "73. FALSE\n",
       "74. TRUE\n",
       "75. FALSE\n",
       "76. FALSE\n",
       "77. TRUE\n",
       "78. FALSE\n",
       "79. FALSE\n",
       "80. TRUE\n",
       "81. FALSE\n",
       "82. FALSE\n",
       "83. FALSE\n",
       "84. TRUE\n",
       "85. FALSE\n",
       "86. TRUE\n",
       "87. TRUE\n",
       "88. TRUE\n",
       "89. FALSE\n",
       "90. FALSE\n",
       "91. TRUE\n",
       "92. FALSE\n",
       "93. FALSE\n",
       "94. FALSE\n",
       "95. TRUE\n",
       "96. FALSE\n",
       "97. TRUE\n",
       "98. TRUE\n",
       "99. TRUE\n",
       "100. FALSE\n",
       "\n",
       "\n"
      ],
      "text/plain": [
       "  [1] FALSE FALSE FALSE FALSE FALSE FALSE FALSE FALSE FALSE FALSE FALSE FALSE\n",
       " [13] FALSE FALSE FALSE FALSE FALSE FALSE FALSE FALSE  TRUE FALSE  TRUE FALSE\n",
       " [25]  TRUE FALSE FALSE FALSE FALSE  TRUE FALSE  TRUE FALSE FALSE FALSE FALSE\n",
       " [37]  TRUE FALSE  TRUE  TRUE FALSE FALSE FALSE FALSE FALSE  TRUE  TRUE FALSE\n",
       " [49]  TRUE  TRUE  TRUE  TRUE FALSE  TRUE FALSE  TRUE FALSE  TRUE FALSE FALSE\n",
       " [61] FALSE FALSE FALSE FALSE FALSE  TRUE FALSE FALSE FALSE FALSE FALSE FALSE\n",
       " [73] FALSE  TRUE FALSE FALSE  TRUE FALSE FALSE  TRUE FALSE FALSE FALSE  TRUE\n",
       " [85] FALSE  TRUE  TRUE  TRUE FALSE FALSE  TRUE FALSE FALSE FALSE  TRUE FALSE\n",
       " [97]  TRUE  TRUE  TRUE FALSE"
      ]
     },
     "metadata": {},
     "output_type": "display_data"
    }
   ],
   "source": [
    "sample(c(TRUE, FALSE),10, prob = c(0.3, 0.7), replace = TRUE)"
   ]
  },
  {
   "cell_type": "code",
   "execution_count": 110,
   "id": "c32037de",
   "metadata": {},
   "outputs": [
    {
     "data": {
      "text/html": [
       "<table class=\"dataframe\">\n",
       "<caption>A tibble: 6 × 2</caption>\n",
       "<thead>\n",
       "\t<tr><th scope=col>coral</th><th scope=col>health_status</th></tr>\n",
       "\t<tr><th scope=col>&lt;chr&gt;</th><th scope=col>&lt;lgl&gt;</th></tr>\n",
       "</thead>\n",
       "<tbody>\n",
       "\t<tr><td>Montipora capitata</td><td>FALSE</td></tr>\n",
       "\t<tr><td>Montipora capitata</td><td>FALSE</td></tr>\n",
       "\t<tr><td>Montipora capitata</td><td>FALSE</td></tr>\n",
       "\t<tr><td>Porites compressa </td><td> TRUE</td></tr>\n",
       "\t<tr><td>Porites lobata    </td><td>FALSE</td></tr>\n",
       "\t<tr><td>Porites compressa </td><td>FALSE</td></tr>\n",
       "</tbody>\n",
       "</table>\n"
      ],
      "text/latex": [
       "A tibble: 6 × 2\n",
       "\\begin{tabular}{ll}\n",
       " coral & health\\_status\\\\\n",
       " <chr> & <lgl>\\\\\n",
       "\\hline\n",
       "\t Montipora capitata & FALSE\\\\\n",
       "\t Montipora capitata & FALSE\\\\\n",
       "\t Montipora capitata & FALSE\\\\\n",
       "\t Porites compressa  &  TRUE\\\\\n",
       "\t Porites lobata     & FALSE\\\\\n",
       "\t Porites compressa  & FALSE\\\\\n",
       "\\end{tabular}\n"
      ],
      "text/markdown": [
       "\n",
       "A tibble: 6 × 2\n",
       "\n",
       "| coral &lt;chr&gt; | health_status &lt;lgl&gt; |\n",
       "|---|---|\n",
       "| Montipora capitata | FALSE |\n",
       "| Montipora capitata | FALSE |\n",
       "| Montipora capitata | FALSE |\n",
       "| Porites compressa  |  TRUE |\n",
       "| Porites lobata     | FALSE |\n",
       "| Porites compressa  | FALSE |\n",
       "\n"
      ],
      "text/plain": [
       "  coral              health_status\n",
       "1 Montipora capitata FALSE        \n",
       "2 Montipora capitata FALSE        \n",
       "3 Montipora capitata FALSE        \n",
       "4 Porites compressa   TRUE        \n",
       "5 Porites lobata     FALSE        \n",
       "6 Porites compressa  FALSE        "
      ]
     },
     "metadata": {},
     "output_type": "display_data"
    }
   ],
   "source": [
    "coral_pop = c(\"Montipora capitata\", \n",
    "  \"Porites compressa\", \n",
    "  \"Porites lobata\")\n",
    "\n",
    "coral = sample(coral_pop, 100, replace=TRUE)\n",
    "health_status = sample(c(TRUE, FALSE),100, prob = c(0.3, 0.7), replace = TRUE)\n",
    "coral_health_tbl = tibble(coral, health_status)\n",
    "head(coral_health_tbl)"
   ]
  },
  {
   "cell_type": "markdown",
   "id": "dacc2558",
   "metadata": {},
   "source": [
    "### Q3\n",
    "\n",
    "* Create a new column in `coral_health_tbl` called `coral_cover`\n",
    "* This column represents coral cover values for the corals observed in your tibble\n",
    "\n",
    "* For the healthy coral (`health_status = TRUE`), sample the cover values from a normal with mean 9 and std of 2\n",
    "* For the diseased corals (`health_status = TRUE`), sample the cover values from a normal with mean 1 and std of 3\n",
    "* Note that this is a perfect scenario for using `mapply`"
   ]
  },
  {
   "cell_type": "code",
   "execution_count": 111,
   "id": "f6b58424",
   "metadata": {},
   "outputs": [
    {
     "data": {
      "text/html": [
       "-2.38471713443862"
      ],
      "text/latex": [
       "-2.38471713443862"
      ],
      "text/markdown": [
       "-2.38471713443862"
      ],
      "text/plain": [
       "[1] -2.384717"
      ]
     },
     "metadata": {},
     "output_type": "display_data"
    },
    {
     "data": {
      "text/html": [
       "11.7496419660285"
      ],
      "text/latex": [
       "11.7496419660285"
      ],
      "text/markdown": [
       "11.7496419660285"
      ],
      "text/plain": [
       "[1] 11.74964"
      ]
     },
     "metadata": {},
     "output_type": "display_data"
    }
   ],
   "source": [
    "generate_cover = function(x){\n",
    "    if (x == TRUE){\n",
    "        rnorm(1, mean=1, sd=3)\n",
    "    }else{\n",
    "        rnorm(1, mean=9, sd=2)\n",
    "    }\n",
    "}\n",
    "generate_cover(TRUE)\n",
    "generate_cover(FALSE)"
   ]
  },
  {
   "cell_type": "code",
   "execution_count": 128,
   "id": "770dacea",
   "metadata": {},
   "outputs": [
    {
     "data": {
      "text/html": [
       "<table class=\"dataframe\">\n",
       "<caption>A tibble: 6 × 3</caption>\n",
       "<thead>\n",
       "\t<tr><th scope=col>coral</th><th scope=col>health_status</th><th scope=col>coral_cover</th></tr>\n",
       "\t<tr><th scope=col>&lt;chr&gt;</th><th scope=col>&lt;lgl&gt;</th><th scope=col>&lt;dbl&gt;</th></tr>\n",
       "</thead>\n",
       "<tbody>\n",
       "\t<tr><td>Montipora capitata</td><td>FALSE</td><td> 6.273004</td></tr>\n",
       "\t<tr><td>Montipora capitata</td><td>FALSE</td><td> 8.158584</td></tr>\n",
       "\t<tr><td>Montipora capitata</td><td>FALSE</td><td> 7.437908</td></tr>\n",
       "\t<tr><td>Porites compressa </td><td> TRUE</td><td> 2.750252</td></tr>\n",
       "\t<tr><td>Porites lobata    </td><td>FALSE</td><td> 9.028485</td></tr>\n",
       "\t<tr><td>Porites compressa </td><td>FALSE</td><td>10.931241</td></tr>\n",
       "</tbody>\n",
       "</table>\n"
      ],
      "text/latex": [
       "A tibble: 6 × 3\n",
       "\\begin{tabular}{lll}\n",
       " coral & health\\_status & coral\\_cover\\\\\n",
       " <chr> & <lgl> & <dbl>\\\\\n",
       "\\hline\n",
       "\t Montipora capitata & FALSE &  6.273004\\\\\n",
       "\t Montipora capitata & FALSE &  8.158584\\\\\n",
       "\t Montipora capitata & FALSE &  7.437908\\\\\n",
       "\t Porites compressa  &  TRUE &  2.750252\\\\\n",
       "\t Porites lobata     & FALSE &  9.028485\\\\\n",
       "\t Porites compressa  & FALSE & 10.931241\\\\\n",
       "\\end{tabular}\n"
      ],
      "text/markdown": [
       "\n",
       "A tibble: 6 × 3\n",
       "\n",
       "| coral &lt;chr&gt; | health_status &lt;lgl&gt; | coral_cover &lt;dbl&gt; |\n",
       "|---|---|---|\n",
       "| Montipora capitata | FALSE |  6.273004 |\n",
       "| Montipora capitata | FALSE |  8.158584 |\n",
       "| Montipora capitata | FALSE |  7.437908 |\n",
       "| Porites compressa  |  TRUE |  2.750252 |\n",
       "| Porites lobata     | FALSE |  9.028485 |\n",
       "| Porites compressa  | FALSE | 10.931241 |\n",
       "\n"
      ],
      "text/plain": [
       "  coral              health_status coral_cover\n",
       "1 Montipora capitata FALSE          6.273004  \n",
       "2 Montipora capitata FALSE          8.158584  \n",
       "3 Montipora capitata FALSE          7.437908  \n",
       "4 Porites compressa   TRUE          2.750252  \n",
       "5 Porites lobata     FALSE          9.028485  \n",
       "6 Porites compressa  FALSE         10.931241  "
      ]
     },
     "metadata": {},
     "output_type": "display_data"
    }
   ],
   "source": [
    "coral_cover = mapply(generate_cover, x=coral_health_tbl$health_status)\n",
    "coral_health_tbl$coral_cover = coral_cover\n",
    "head(coral_health_tbl)"
   ]
  },
  {
   "cell_type": "markdown",
   "id": "fa18322d",
   "metadata": {},
   "source": [
    "### Q4\n",
    "\n",
    "* Add another column called `binary_health_status`.\n",
    " * set the column to 0 if `health_status == FALSE`\n",
    " * set the column to 1 if `health_status == TRUE`\n",
    "\n",
    "* A trick here is to remember that:\n",
    "  1. Corecing (converting) a logical can be done with `as.integer()`\n",
    "  2. `as.integer(TRUE)` returns 1\n",
    "  3. `as.integer(FALSE)` returns 0\n",
    "\n",
    "\n"
   ]
  },
  {
   "cell_type": "code",
   "execution_count": 180,
   "id": "c4fd6f28",
   "metadata": {},
   "outputs": [
    {
     "data": {
      "text/html": [
       "1"
      ],
      "text/latex": [
       "1"
      ],
      "text/markdown": [
       "1"
      ],
      "text/plain": [
       "[1] 1"
      ]
     },
     "metadata": {},
     "output_type": "display_data"
    },
    {
     "data": {
      "text/html": [
       "0"
      ],
      "text/latex": [
       "0"
      ],
      "text/markdown": [
       "0"
      ],
      "text/plain": [
       "[1] 0"
      ]
     },
     "metadata": {},
     "output_type": "display_data"
    }
   ],
   "source": [
    "as.integer(TRUE)\n",
    "as.integer(FALSE)"
   ]
  },
  {
   "cell_type": "code",
   "execution_count": 178,
   "id": "013461ec",
   "metadata": {},
   "outputs": [
    {
     "data": {
      "text/html": [
       "<table class=\"dataframe\">\n",
       "<caption>A tibble: 6 × 4</caption>\n",
       "<thead>\n",
       "\t<tr><th scope=col>coral</th><th scope=col>health_status</th><th scope=col>coral_cover</th><th scope=col>binary_health_status</th></tr>\n",
       "\t<tr><th scope=col>&lt;chr&gt;</th><th scope=col>&lt;lgl&gt;</th><th scope=col>&lt;dbl&gt;</th><th scope=col>&lt;int&gt;</th></tr>\n",
       "</thead>\n",
       "<tbody>\n",
       "\t<tr><td>Montipora capitata</td><td>FALSE</td><td> 6.273004</td><td>0</td></tr>\n",
       "\t<tr><td>Montipora capitata</td><td>FALSE</td><td> 8.158584</td><td>0</td></tr>\n",
       "\t<tr><td>Montipora capitata</td><td>FALSE</td><td> 7.437908</td><td>0</td></tr>\n",
       "\t<tr><td>Porites compressa </td><td> TRUE</td><td> 2.750252</td><td>1</td></tr>\n",
       "\t<tr><td>Porites lobata    </td><td>FALSE</td><td> 9.028485</td><td>0</td></tr>\n",
       "\t<tr><td>Porites compressa </td><td>FALSE</td><td>10.931241</td><td>0</td></tr>\n",
       "</tbody>\n",
       "</table>\n"
      ],
      "text/latex": [
       "A tibble: 6 × 4\n",
       "\\begin{tabular}{llll}\n",
       " coral & health\\_status & coral\\_cover & binary\\_health\\_status\\\\\n",
       " <chr> & <lgl> & <dbl> & <int>\\\\\n",
       "\\hline\n",
       "\t Montipora capitata & FALSE &  6.273004 & 0\\\\\n",
       "\t Montipora capitata & FALSE &  8.158584 & 0\\\\\n",
       "\t Montipora capitata & FALSE &  7.437908 & 0\\\\\n",
       "\t Porites compressa  &  TRUE &  2.750252 & 1\\\\\n",
       "\t Porites lobata     & FALSE &  9.028485 & 0\\\\\n",
       "\t Porites compressa  & FALSE & 10.931241 & 0\\\\\n",
       "\\end{tabular}\n"
      ],
      "text/markdown": [
       "\n",
       "A tibble: 6 × 4\n",
       "\n",
       "| coral &lt;chr&gt; | health_status &lt;lgl&gt; | coral_cover &lt;dbl&gt; | binary_health_status &lt;int&gt; |\n",
       "|---|---|---|---|\n",
       "| Montipora capitata | FALSE |  6.273004 | 0 |\n",
       "| Montipora capitata | FALSE |  8.158584 | 0 |\n",
       "| Montipora capitata | FALSE |  7.437908 | 0 |\n",
       "| Porites compressa  |  TRUE |  2.750252 | 1 |\n",
       "| Porites lobata     | FALSE |  9.028485 | 0 |\n",
       "| Porites compressa  | FALSE | 10.931241 | 0 |\n",
       "\n"
      ],
      "text/plain": [
       "  coral              health_status coral_cover binary_health_status\n",
       "1 Montipora capitata FALSE          6.273004   0                   \n",
       "2 Montipora capitata FALSE          8.158584   0                   \n",
       "3 Montipora capitata FALSE          7.437908   0                   \n",
       "4 Porites compressa   TRUE          2.750252   1                   \n",
       "5 Porites lobata     FALSE          9.028485   0                   \n",
       "6 Porites compressa  FALSE         10.931241   0                   "
      ]
     },
     "metadata": {},
     "output_type": "display_data"
    }
   ],
   "source": [
    "temp_column = sapply(coral_health_tbl$health_status, as.integer)\n",
    "coral_health_tbl$binary_health_status = temp_column\n",
    "head(coral_health_tbl)\n"
   ]
  },
  {
   "cell_type": "markdown",
   "id": "a6e28e80",
   "metadata": {},
   "source": [
    "### Q5\n",
    "\n",
    "* Plot the distribution of `coral_cover` for healthy versus diseased corals\n",
    "* Note that I am using a histogram `geom`\n",
    "  * Histograms need only a `x` axis because the `y` is computed (count)\n",
    "    * However, instead of a raw count, we want a normalized count. You can normalize the count by setting `y = stat(count / sum(count))`  \n",
    "  * I am coloring the bin outlines in black and filling in grey for disease and white for healthy\n",
    "  * I am using `binwidth=1'.\n",
    "* use the `labs` function to add a title and to change the labels for the `x` and `y` axes\n",
    "* The plot should look like the following\n",
    "![](https://www.dropbox.com/s/wdbdj05rd50vb0k/healthy-diseased.png?dl=1)"
   ]
  },
  {
   "cell_type": "code",
   "execution_count": 159,
   "id": "23a9adff",
   "metadata": {},
   "outputs": [
    {
     "data": {
      "image/png": "[encoded data removed]",
      "text/plain": [
       "plot without title"
      ]
     },
     "metadata": {
      "image/png": {
       "height": 420,
       "width": 420
      }
     },
     "output_type": "display_data"
    }
   ],
   "source": [
    "ggplot(coral_health_tbl) +\n",
    "  geom_histogram(aes(x=coral_cover, y=stat(count / sum(count)), fill=health_status), \n",
    "                 binwidth=0.8, colour=\"black\", alpha=0.2)+\n",
    " scale_fill_manual(values=c(\"white\", \"black\")) +\n",
    " labs(x=\"Coral Cover\", y=\"Normalized proportion\", title=\"Total Coral Coverage (Heathy vs. Diseased)\")\n",
    "\n",
    "\n"
   ]
  },
  {
   "cell_type": "markdown",
   "id": "5a9538df",
   "metadata": {},
   "source": [
    "### Q6.\n",
    "\n",
    "* Repeat the plot above by highlighting the distribution per species\n",
    "* I am using `geom_density`\n",
    "  * set the `adjust` param of `geom_density` to `2`\n",
    "* Change the `xlim` scale so that we can see the edges of the curves\n",
    "  * I.e., curves should not be cutoff\n"
   ]
  },
  {
   "cell_type": "code",
   "execution_count": 172,
   "id": "4839415e",
   "metadata": {},
   "outputs": [
    {
     "data": {
      "image/png": "[encoded data removed]",
      "text/plain": [
       "plot without title"
      ]
     },
     "metadata": {
      "image/png": {
       "height": 420,
       "width": 420
      }
     },
     "output_type": "display_data"
    }
   ],
   "source": [
    "ggplot(coral_health_tbl) +\n",
    "  geom_density(aes(x=coral_cover, y=stat(count / sum(count)), fill=coral), \n",
    "                  colour=\"black\", alpha=0.2, adjust=2)+\n",
    " scale_fill_manual(values=c(\"white\", \"Blue\", \"red\")) +\n",
    " labs(x=\"Coral Cover\", y=\"Density\", title=\"Total coral coverage per species\")+ \n",
    " xlim(-10, 20)\n",
    "\n"
   ]
  },
  {
   "cell_type": "markdown",
   "id": "784fa644",
   "metadata": {},
   "source": [
    "### Q6 -- Challenge\n",
    "\n",
    "\n",
    "Recall problem `8` in the airquality dataset.\n",
    "  * Remember that you can import that dataset using `data(airquality)`\n",
    "1. Convert the `airquality` dataframe to a tibble called `airq_tbl`\n",
    "2. Replace the missing values for Solar.R using that month's average.\n",
    "    * Example:\n",
    "        * The missing value for line 6 in `airq_tbl`should be replaced with the average for month 5.\n",
    "        * The missing value for line 97 in `airq_tbl` should be replaced with the average for month 8.\n",
    "\n",
    "* Strategy:\n",
    "  1. Compute the average values for months 5, 6, 7, 8, and 9 in a names vector called `monthly_avg_SolarR`\n",
    "      * monthly_avg_SolarR[5] should return the average for May.\n",
    "      * monthly_avg_SolarR[6] should return the average for June.\n",
    "      * etc.\n",
    "      * This is an ideal use case for `tapply` with `na.rm=TRUE` (ask me!)\n",
    "  2. for each line of airq_tbl check value of Solar.R and do:\n",
    "    * if value is not `na`, return the value\n",
    "    * if value if `na`; return avg associated with `Month`\n",
    "    * This is an ideal case for `apply`\n",
    "      * You need to write your own function (call it `fix_missing_solar_R`)\n",
    "      * Recall that the argument to that function is a complete row as a vector!\n",
    "    * test your function with the following line to make sure it's working\n",
    "    ```fix_missing_solar_R(airq_tbl[5,])```"
   ]
  },
  {
   "cell_type": "code",
   "execution_count": 185,
   "id": "37af68e4",
   "metadata": {},
   "outputs": [
    {
     "data": {
      "text/html": [
       "<table class=\"dataframe\">\n",
       "<caption>A tibble: 6 × 6</caption>\n",
       "<thead>\n",
       "\t<tr><th scope=col>Ozone</th><th scope=col>Solar.R</th><th scope=col>Wind</th><th scope=col>Temp</th><th scope=col>Month</th><th scope=col>Day</th></tr>\n",
       "\t<tr><th scope=col>&lt;int&gt;</th><th scope=col>&lt;int&gt;</th><th scope=col>&lt;dbl&gt;</th><th scope=col>&lt;int&gt;</th><th scope=col>&lt;int&gt;</th><th scope=col>&lt;int&gt;</th></tr>\n",
       "</thead>\n",
       "<tbody>\n",
       "\t<tr><td>41</td><td>190</td><td> 7.4</td><td>67</td><td>5</td><td>1</td></tr>\n",
       "\t<tr><td>36</td><td>118</td><td> 8.0</td><td>72</td><td>5</td><td>2</td></tr>\n",
       "\t<tr><td>12</td><td>149</td><td>12.6</td><td>74</td><td>5</td><td>3</td></tr>\n",
       "\t<tr><td>18</td><td>313</td><td>11.5</td><td>62</td><td>5</td><td>4</td></tr>\n",
       "\t<tr><td>NA</td><td> NA</td><td>14.3</td><td>56</td><td>5</td><td>5</td></tr>\n",
       "\t<tr><td>28</td><td> NA</td><td>14.9</td><td>66</td><td>5</td><td>6</td></tr>\n",
       "</tbody>\n",
       "</table>\n"
      ],
      "text/latex": [
       "A tibble: 6 × 6\n",
       "\\begin{tabular}{llllll}\n",
       " Ozone & Solar.R & Wind & Temp & Month & Day\\\\\n",
       " <int> & <int> & <dbl> & <int> & <int> & <int>\\\\\n",
       "\\hline\n",
       "\t 41 & 190 &  7.4 & 67 & 5 & 1\\\\\n",
       "\t 36 & 118 &  8.0 & 72 & 5 & 2\\\\\n",
       "\t 12 & 149 & 12.6 & 74 & 5 & 3\\\\\n",
       "\t 18 & 313 & 11.5 & 62 & 5 & 4\\\\\n",
       "\t NA &  NA & 14.3 & 56 & 5 & 5\\\\\n",
       "\t 28 &  NA & 14.9 & 66 & 5 & 6\\\\\n",
       "\\end{tabular}\n"
      ],
      "text/markdown": [
       "\n",
       "A tibble: 6 × 6\n",
       "\n",
       "| Ozone &lt;int&gt; | Solar.R &lt;int&gt; | Wind &lt;dbl&gt; | Temp &lt;int&gt; | Month &lt;int&gt; | Day &lt;int&gt; |\n",
       "|---|---|---|---|---|---|\n",
       "| 41 | 190 |  7.4 | 67 | 5 | 1 |\n",
       "| 36 | 118 |  8.0 | 72 | 5 | 2 |\n",
       "| 12 | 149 | 12.6 | 74 | 5 | 3 |\n",
       "| 18 | 313 | 11.5 | 62 | 5 | 4 |\n",
       "| NA |  NA | 14.3 | 56 | 5 | 5 |\n",
       "| 28 |  NA | 14.9 | 66 | 5 | 6 |\n",
       "\n"
      ],
      "text/plain": [
       "  Ozone Solar.R Wind Temp Month Day\n",
       "1 41    190      7.4 67   5     1  \n",
       "2 36    118      8.0 72   5     2  \n",
       "3 12    149     12.6 74   5     3  \n",
       "4 18    313     11.5 62   5     4  \n",
       "5 NA     NA     14.3 56   5     5  \n",
       "6 28     NA     14.9 66   5     6  "
      ]
     },
     "metadata": {},
     "output_type": "display_data"
    }
   ],
   "source": [
    "data(airquality)\n",
    "airq_tbl = as_tibble(airquality)\n",
    "head(airq_tbl)"
   ]
  },
  {
   "cell_type": "code",
   "execution_count": 195,
   "id": "bc77e9be",
   "metadata": {},
   "outputs": [
    {
     "data": {
      "text/html": [
       "<style>\n",
       ".dl-inline {width: auto; margin:0; padding: 0}\n",
       ".dl-inline>dt, .dl-inline>dd {float: none; width: auto; display: inline-block}\n",
       ".dl-inline>dt::after {content: \":\\0020\"; padding-right: .5ex}\n",
       ".dl-inline>dt:not(:first-of-type) {padding-left: .5ex}\n",
       "</style><dl class=dl-inline><dt>5</dt><dd>181.296296296296</dd><dt>6</dt><dd>190.166666666667</dd><dt>7</dt><dd>216.483870967742</dd><dt>8</dt><dd>171.857142857143</dd><dt>9</dt><dd>167.433333333333</dd></dl>\n"
      ],
      "text/latex": [
       "\\begin{description*}\n",
       "\\item[5] 181.296296296296\n",
       "\\item[6] 190.166666666667\n",
       "\\item[7] 216.483870967742\n",
       "\\item[8] 171.857142857143\n",
       "\\item[9] 167.433333333333\n",
       "\\end{description*}\n"
      ],
      "text/markdown": [
       "5\n",
       ":   181.2962962962966\n",
       ":   190.1666666666677\n",
       ":   216.4838709677428\n",
       ":   171.8571428571439\n",
       ":   167.433333333333\n",
       "\n"
      ],
      "text/plain": [
       "       5        6        7        8        9 \n",
       "181.2963 190.1667 216.4839 171.8571 167.4333 "
      ]
     },
     "metadata": {},
     "output_type": "display_data"
    },
    {
     "data": {
      "text/html": [
       "<strong>5:</strong> 181.296296296296"
      ],
      "text/latex": [
       "\\textbf{5:} 181.296296296296"
      ],
      "text/markdown": [
       "**5:** 181.296296296296"
      ],
      "text/plain": [
       "       5 \n",
       "181.2963 "
      ]
     },
     "metadata": {},
     "output_type": "display_data"
    }
   ],
   "source": [
    "monthly_avg_SolarR = tapply(airq_tbl$Solar.R, airq_tbl$Month, mean, na.rm=TRUE)\n",
    "monthly_avg_SolarR\n",
    "monthly_avg_SolarR[as.character(5)]"
   ]
  },
  {
   "cell_type": "code",
   "execution_count": 217,
   "id": "e289e64c",
   "metadata": {},
   "outputs": [
    {
     "data": {
      "text/html": [
       "<strong>5:</strong> 181.296296296296"
      ],
      "text/latex": [
       "\\textbf{5:} 181.296296296296"
      ],
      "text/markdown": [
       "**5:** 181.296296296296"
      ],
      "text/plain": [
       "       5 \n",
       "181.2963 "
      ]
     },
     "metadata": {},
     "output_type": "display_data"
    }
   ],
   "source": [
    "monthly_avg_SolarR = tapply(airq_tbl$Solar.R, airq_tbl$Month, mean, na.rm=TRUE)\n",
    "\n",
    "fix_missing_solar_R = function(x){\n",
    "    \n",
    "    if(is.na(x[\"Solar.R\"])){\n",
    "        monthly_avg_SolarR[as.character(x[\"Month\"])]\n",
    "    }else{\n",
    "        x[\"Solar.R\"]\n",
    "    }   \n",
    "}\n",
    "fix_missing_solar_R(airq_tbl[5,])"
   ]
  },
  {
   "cell_type": "code",
   "execution_count": 220,
   "id": "da887a50",
   "metadata": {},
   "outputs": [
    {
     "data": {
      "text/html": [
       "<style>\n",
       ".list-inline {list-style: none; margin:0; padding: 0}\n",
       ".list-inline>li {display: inline-block}\n",
       ".list-inline>li:not(:last-child)::after {content: \"\\00b7\"; padding: 0 .5ex}\n",
       "</style>\n",
       "<ol class=list-inline><li>190</li><li>118</li><li>149</li><li>313</li><li>181.296296296296</li><li>181.296296296296</li><li>299</li><li>99</li><li>19</li><li>194</li><li>181.296296296296</li><li>256</li><li>290</li><li>274</li><li>65</li><li>334</li><li>307</li><li>78</li><li>322</li><li>44</li><li>8</li><li>320</li><li>25</li><li>92</li><li>66</li><li>266</li><li>181.296296296296</li><li>13</li><li>252</li><li>223</li><li>279</li><li>286</li><li>287</li><li>242</li><li>186</li><li>220</li><li>264</li><li>127</li><li>273</li><li>291</li><li>323</li><li>259</li><li>250</li><li>148</li><li>332</li><li>322</li><li>191</li><li>284</li><li>37</li><li>120</li><li>137</li><li>150</li><li>59</li><li>91</li><li>250</li><li>135</li><li>127</li><li>47</li><li>98</li><li>31</li><li>138</li><li>269</li><li>248</li><li>236</li><li>101</li><li>175</li><li>314</li><li>276</li><li>267</li><li>272</li><li>175</li><li>139</li><li>264</li><li>175</li><li>291</li><li>48</li><li>260</li><li>274</li><li>285</li><li>187</li><li>220</li><li>7</li><li>258</li><li>295</li><li>294</li><li>223</li><li>81</li><li>82</li><li>213</li><li>275</li><li>253</li><li>254</li><li>83</li><li>24</li><li>77</li><li>171.857142857143</li><li>171.857142857143</li><li>171.857142857143</li><li>255</li><li>229</li><li>207</li><li>222</li><li>137</li><li>192</li><li>273</li><li>157</li><li>64</li><li>71</li><li>51</li><li>115</li><li>244</li><li>190</li><li>259</li><li>36</li><li>255</li><li>212</li><li>238</li><li>215</li><li>153</li><li>203</li><li>225</li><li>237</li><li>188</li><li>167</li><li>197</li><li>183</li><li>189</li><li>95</li><li>92</li><li>252</li><li>220</li><li>230</li><li>259</li><li>236</li><li>259</li><li>238</li><li>24</li><li>112</li><li>237</li><li>224</li><li>27</li><li>238</li><li>201</li><li>238</li><li>14</li><li>139</li><li>49</li><li>20</li><li>193</li><li>145</li><li>191</li><li>131</li><li>223</li></ol>\n"
      ],
      "text/latex": [
       "\\begin{enumerate*}\n",
       "\\item 190\n",
       "\\item 118\n",
       "\\item 149\n",
       "\\item 313\n",
       "\\item 181.296296296296\n",
       "\\item 181.296296296296\n",
       "\\item 299\n",
       "\\item 99\n",
       "\\item 19\n",
       "\\item 194\n",
       "\\item 181.296296296296\n",
       "\\item 256\n",
       "\\item 290\n",
       "\\item 274\n",
       "\\item 65\n",
       "\\item 334\n",
       "\\item 307\n",
       "\\item 78\n",
       "\\item 322\n",
       "\\item 44\n",
       "\\item 8\n",
       "\\item 320\n",
       "\\item 25\n",
       "\\item 92\n",
       "\\item 66\n",
       "\\item 266\n",
       "\\item 181.296296296296\n",
       "\\item 13\n",
       "\\item 252\n",
       "\\item 223\n",
       "\\item 279\n",
       "\\item 286\n",
       "\\item 287\n",
       "\\item 242\n",
       "\\item 186\n",
       "\\item 220\n",
       "\\item 264\n",
       "\\item 127\n",
       "\\item 273\n",
       "\\item 291\n",
       "\\item 323\n",
       "\\item 259\n",
       "\\item 250\n",
       "\\item 148\n",
       "\\item 332\n",
       "\\item 322\n",
       "\\item 191\n",
       "\\item 284\n",
       "\\item 37\n",
       "\\item 120\n",
       "\\item 137\n",
       "\\item 150\n",
       "\\item 59\n",
       "\\item 91\n",
       "\\item 250\n",
       "\\item 135\n",
       "\\item 127\n",
       "\\item 47\n",
       "\\item 98\n",
       "\\item 31\n",
       "\\item 138\n",
       "\\item 269\n",
       "\\item 248\n",
       "\\item 236\n",
       "\\item 101\n",
       "\\item 175\n",
       "\\item 314\n",
       "\\item 276\n",
       "\\item 267\n",
       "\\item 272\n",
       "\\item 175\n",
       "\\item 139\n",
       "\\item 264\n",
       "\\item 175\n",
       "\\item 291\n",
       "\\item 48\n",
       "\\item 260\n",
       "\\item 274\n",
       "\\item 285\n",
       "\\item 187\n",
       "\\item 220\n",
       "\\item 7\n",
       "\\item 258\n",
       "\\item 295\n",
       "\\item 294\n",
       "\\item 223\n",
       "\\item 81\n",
       "\\item 82\n",
       "\\item 213\n",
       "\\item 275\n",
       "\\item 253\n",
       "\\item 254\n",
       "\\item 83\n",
       "\\item 24\n",
       "\\item 77\n",
       "\\item 171.857142857143\n",
       "\\item 171.857142857143\n",
       "\\item 171.857142857143\n",
       "\\item 255\n",
       "\\item 229\n",
       "\\item 207\n",
       "\\item 222\n",
       "\\item 137\n",
       "\\item 192\n",
       "\\item 273\n",
       "\\item 157\n",
       "\\item 64\n",
       "\\item 71\n",
       "\\item 51\n",
       "\\item 115\n",
       "\\item 244\n",
       "\\item 190\n",
       "\\item 259\n",
       "\\item 36\n",
       "\\item 255\n",
       "\\item 212\n",
       "\\item 238\n",
       "\\item 215\n",
       "\\item 153\n",
       "\\item 203\n",
       "\\item 225\n",
       "\\item 237\n",
       "\\item 188\n",
       "\\item 167\n",
       "\\item 197\n",
       "\\item 183\n",
       "\\item 189\n",
       "\\item 95\n",
       "\\item 92\n",
       "\\item 252\n",
       "\\item 220\n",
       "\\item 230\n",
       "\\item 259\n",
       "\\item 236\n",
       "\\item 259\n",
       "\\item 238\n",
       "\\item 24\n",
       "\\item 112\n",
       "\\item 237\n",
       "\\item 224\n",
       "\\item 27\n",
       "\\item 238\n",
       "\\item 201\n",
       "\\item 238\n",
       "\\item 14\n",
       "\\item 139\n",
       "\\item 49\n",
       "\\item 20\n",
       "\\item 193\n",
       "\\item 145\n",
       "\\item 191\n",
       "\\item 131\n",
       "\\item 223\n",
       "\\end{enumerate*}\n"
      ],
      "text/markdown": [
       "1. 190\n",
       "2. 118\n",
       "3. 149\n",
       "4. 313\n",
       "5. 181.296296296296\n",
       "6. 181.296296296296\n",
       "7. 299\n",
       "8. 99\n",
       "9. 19\n",
       "10. 194\n",
       "11. 181.296296296296\n",
       "12. 256\n",
       "13. 290\n",
       "14. 274\n",
       "15. 65\n",
       "16. 334\n",
       "17. 307\n",
       "18. 78\n",
       "19. 322\n",
       "20. 44\n",
       "21. 8\n",
       "22. 320\n",
       "23. 25\n",
       "24. 92\n",
       "25. 66\n",
       "26. 266\n",
       "27. 181.296296296296\n",
       "28. 13\n",
       "29. 252\n",
       "30. 223\n",
       "31. 279\n",
       "32. 286\n",
       "33. 287\n",
       "34. 242\n",
       "35. 186\n",
       "36. 220\n",
       "37. 264\n",
       "38. 127\n",
       "39. 273\n",
       "40. 291\n",
       "41. 323\n",
       "42. 259\n",
       "43. 250\n",
       "44. 148\n",
       "45. 332\n",
       "46. 322\n",
       "47. 191\n",
       "48. 284\n",
       "49. 37\n",
       "50. 120\n",
       "51. 137\n",
       "52. 150\n",
       "53. 59\n",
       "54. 91\n",
       "55. 250\n",
       "56. 135\n",
       "57. 127\n",
       "58. 47\n",
       "59. 98\n",
       "60. 31\n",
       "61. 138\n",
       "62. 269\n",
       "63. 248\n",
       "64. 236\n",
       "65. 101\n",
       "66. 175\n",
       "67. 314\n",
       "68. 276\n",
       "69. 267\n",
       "70. 272\n",
       "71. 175\n",
       "72. 139\n",
       "73. 264\n",
       "74. 175\n",
       "75. 291\n",
       "76. 48\n",
       "77. 260\n",
       "78. 274\n",
       "79. 285\n",
       "80. 187\n",
       "81. 220\n",
       "82. 7\n",
       "83. 258\n",
       "84. 295\n",
       "85. 294\n",
       "86. 223\n",
       "87. 81\n",
       "88. 82\n",
       "89. 213\n",
       "90. 275\n",
       "91. 253\n",
       "92. 254\n",
       "93. 83\n",
       "94. 24\n",
       "95. 77\n",
       "96. 171.857142857143\n",
       "97. 171.857142857143\n",
       "98. 171.857142857143\n",
       "99. 255\n",
       "100. 229\n",
       "101. 207\n",
       "102. 222\n",
       "103. 137\n",
       "104. 192\n",
       "105. 273\n",
       "106. 157\n",
       "107. 64\n",
       "108. 71\n",
       "109. 51\n",
       "110. 115\n",
       "111. 244\n",
       "112. 190\n",
       "113. 259\n",
       "114. 36\n",
       "115. 255\n",
       "116. 212\n",
       "117. 238\n",
       "118. 215\n",
       "119. 153\n",
       "120. 203\n",
       "121. 225\n",
       "122. 237\n",
       "123. 188\n",
       "124. 167\n",
       "125. 197\n",
       "126. 183\n",
       "127. 189\n",
       "128. 95\n",
       "129. 92\n",
       "130. 252\n",
       "131. 220\n",
       "132. 230\n",
       "133. 259\n",
       "134. 236\n",
       "135. 259\n",
       "136. 238\n",
       "137. 24\n",
       "138. 112\n",
       "139. 237\n",
       "140. 224\n",
       "141. 27\n",
       "142. 238\n",
       "143. 201\n",
       "144. 238\n",
       "145. 14\n",
       "146. 139\n",
       "147. 49\n",
       "148. 20\n",
       "149. 193\n",
       "150. 145\n",
       "151. 191\n",
       "152. 131\n",
       "153. 223\n",
       "\n",
       "\n"
      ],
      "text/plain": [
       "  [1] 190.0000 118.0000 149.0000 313.0000 181.2963 181.2963 299.0000  99.0000\n",
       "  [9]  19.0000 194.0000 181.2963 256.0000 290.0000 274.0000  65.0000 334.0000\n",
       " [17] 307.0000  78.0000 322.0000  44.0000   8.0000 320.0000  25.0000  92.0000\n",
       " [25]  66.0000 266.0000 181.2963  13.0000 252.0000 223.0000 279.0000 286.0000\n",
       " [33] 287.0000 242.0000 186.0000 220.0000 264.0000 127.0000 273.0000 291.0000\n",
       " [41] 323.0000 259.0000 250.0000 148.0000 332.0000 322.0000 191.0000 284.0000\n",
       " [49]  37.0000 120.0000 137.0000 150.0000  59.0000  91.0000 250.0000 135.0000\n",
       " [57] 127.0000  47.0000  98.0000  31.0000 138.0000 269.0000 248.0000 236.0000\n",
       " [65] 101.0000 175.0000 314.0000 276.0000 267.0000 272.0000 175.0000 139.0000\n",
       " [73] 264.0000 175.0000 291.0000  48.0000 260.0000 274.0000 285.0000 187.0000\n",
       " [81] 220.0000   7.0000 258.0000 295.0000 294.0000 223.0000  81.0000  82.0000\n",
       " [89] 213.0000 275.0000 253.0000 254.0000  83.0000  24.0000  77.0000 171.8571\n",
       " [97] 171.8571 171.8571 255.0000 229.0000 207.0000 222.0000 137.0000 192.0000\n",
       "[105] 273.0000 157.0000  64.0000  71.0000  51.0000 115.0000 244.0000 190.0000\n",
       "[113] 259.0000  36.0000 255.0000 212.0000 238.0000 215.0000 153.0000 203.0000\n",
       "[121] 225.0000 237.0000 188.0000 167.0000 197.0000 183.0000 189.0000  95.0000\n",
       "[129]  92.0000 252.0000 220.0000 230.0000 259.0000 236.0000 259.0000 238.0000\n",
       "[137]  24.0000 112.0000 237.0000 224.0000  27.0000 238.0000 201.0000 238.0000\n",
       "[145]  14.0000 139.0000  49.0000  20.0000 193.0000 145.0000 191.0000 131.0000\n",
       "[153] 223.0000"
      ]
     },
     "metadata": {},
     "output_type": "display_data"
    }
   ],
   "source": [
    "SolarR_fixed = apply(airq_tbl, 1, fix_missing_solar_R)\n",
    "SolarR_fixed"
   ]
  },
  {
   "cell_type": "code",
   "execution_count": null,
   "id": "fb8d50ce",
   "metadata": {},
   "outputs": [],
   "source": []
  }
 ],
 "metadata": {
  "kernelspec": {
   "display_name": "R",
   "language": "R",
   "name": "ir"
  },
  "language_info": {
   "codemirror_mode": "r",
   "file_extension": ".r",
   "mimetype": "text/x-r-source",
   "name": "R",
   "pygments_lexer": "r",
   "version": "4.0.2"
  }
 },
 "nbformat": 4,
 "nbformat_minor": 5
}
