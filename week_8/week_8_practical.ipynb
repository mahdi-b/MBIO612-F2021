{
 "cells": [
  {
   "cell_type": "markdown",
   "id": "a8b2b601",
   "metadata": {},
   "source": [
    "The data in the file `RIKZ.txt` available in the `data` folder was collected to study the relationship between some abiotic aspects (e.g., sediment composition, slope of the beach) as these might affect benthic fauna. Mulder (2000) described the results of a pilot study that looked at the effects of differences in slope and grain size on fauna in the coastal zone. \n",
    "\n",
    "\n",
    "Janssen, G.M., Mulder, S., Zuur, A.F., Ieno, E.N. and Smith, G.M."
   ]
  },
  {
   "cell_type": "markdown",
   "id": "28f2e03c",
   "metadata": {},
   "source": [
    "Q1. Load the data into a variable called `survey_data`\n",
    "  * The `survey_data` should be a `tibble`\n",
    "  * The fileds in the file are delimited. You can change read_csv's behavior to split on tabs, rather that on comma (\",\"), which is the default behavior"
   ]
  },
  {
   "cell_type": "code",
   "execution_count": 11,
   "id": "88e6f261",
   "metadata": {},
   "outputs": [
    {
     "name": "stderr",
     "output_type": "stream",
     "text": [
      "Parsed with column specification:\n",
      "cols(\n",
      "  .default = col_double()\n",
      ")\n",
      "\n",
      "See spec(...) for full column specifications.\n",
      "\n"
     ]
    }
   ],
   "source": [
    "# write your code here\n",
    "library(tidyverse)\n",
    "survey_data = read_tsv(\"data/RIKZ.txt\")"
   ]
  },
  {
   "cell_type": "markdown",
   "id": "b38ffe9f",
   "metadata": {},
   "source": [
    "Q2. display the first 6 lines of the tables"
   ]
  },
  {
   "cell_type": "code",
   "execution_count": 12,
   "id": "3bfcc569",
   "metadata": {},
   "outputs": [
    {
     "data": {
      "text/html": [
       "<table class=\"dataframe\">\n",
       "<caption>A tibble: 6 × 89</caption>\n",
       "<thead>\n",
       "\t<tr><th scope=col>Sample</th><th scope=col>C1</th><th scope=col>P1</th><th scope=col>P2</th><th scope=col>P3</th><th scope=col>P4</th><th scope=col>P5</th><th scope=col>P6</th><th scope=col>P7</th><th scope=col>P8</th><th scope=col>⋯</th><th scope=col>exposure</th><th scope=col>salinity</th><th scope=col>temperature</th><th scope=col>NAP</th><th scope=col>penetrability</th><th scope=col>grainsize</th><th scope=col>humus</th><th scope=col>chalk</th><th scope=col>sorting1</th><th scope=col>Beach</th></tr>\n",
       "\t<tr><th scope=col>&lt;dbl&gt;</th><th scope=col>&lt;dbl&gt;</th><th scope=col>&lt;dbl&gt;</th><th scope=col>&lt;dbl&gt;</th><th scope=col>&lt;dbl&gt;</th><th scope=col>&lt;dbl&gt;</th><th scope=col>&lt;dbl&gt;</th><th scope=col>&lt;dbl&gt;</th><th scope=col>&lt;dbl&gt;</th><th scope=col>&lt;dbl&gt;</th><th scope=col>⋯</th><th scope=col>&lt;dbl&gt;</th><th scope=col>&lt;dbl&gt;</th><th scope=col>&lt;dbl&gt;</th><th scope=col>&lt;dbl&gt;</th><th scope=col>&lt;dbl&gt;</th><th scope=col>&lt;dbl&gt;</th><th scope=col>&lt;dbl&gt;</th><th scope=col>&lt;dbl&gt;</th><th scope=col>&lt;dbl&gt;</th><th scope=col>&lt;dbl&gt;</th></tr>\n",
       "</thead>\n",
       "<tbody>\n",
       "\t<tr><td>1</td><td>4</td><td>0</td><td>0</td><td>0</td><td>0</td><td>0</td><td>1</td><td>0</td><td>0</td><td>⋯</td><td>10</td><td>29.4</td><td>17.5</td><td> 0.045</td><td>253.9</td><td>222.5</td><td>0.05</td><td>2.05</td><td>69.830</td><td>1</td></tr>\n",
       "\t<tr><td>2</td><td>0</td><td>0</td><td>1</td><td>0</td><td>0</td><td>0</td><td>0</td><td>0</td><td>0</td><td>⋯</td><td>10</td><td>29.4</td><td>17.5</td><td>-1.036</td><td>226.9</td><td>200.0</td><td>0.30</td><td>2.50</td><td>59.000</td><td>1</td></tr>\n",
       "\t<tr><td>3</td><td>0</td><td>0</td><td>3</td><td>0</td><td>0</td><td>0</td><td>0</td><td>0</td><td>0</td><td>⋯</td><td>10</td><td>29.4</td><td>17.5</td><td>-1.336</td><td>237.1</td><td>194.5</td><td>0.10</td><td>3.45</td><td>59.220</td><td>1</td></tr>\n",
       "\t<tr><td>4</td><td>0</td><td>0</td><td>0</td><td>0</td><td>0</td><td>0</td><td>0</td><td>0</td><td>0</td><td>⋯</td><td>10</td><td>29.4</td><td>17.5</td><td> 0.616</td><td>248.6</td><td>221.0</td><td>0.15</td><td>1.60</td><td>67.750</td><td>1</td></tr>\n",
       "\t<tr><td>5</td><td>1</td><td>0</td><td>0</td><td>0</td><td>0</td><td>0</td><td>0</td><td>0</td><td>0</td><td>⋯</td><td>10</td><td>29.4</td><td>17.5</td><td>-0.684</td><td>251.9</td><td>202.0</td><td>0.05</td><td>2.45</td><td>57.760</td><td>1</td></tr>\n",
       "\t<tr><td>6</td><td>0</td><td>0</td><td>0</td><td>0</td><td>0</td><td>1</td><td>0</td><td>0</td><td>0</td><td>⋯</td><td> 8</td><td>29.6</td><td>20.8</td><td> 1.190</td><td>250.1</td><td>192.5</td><td>0.10</td><td>2.50</td><td>53.075</td><td>2</td></tr>\n",
       "</tbody>\n",
       "</table>\n"
      ],
      "text/latex": [
       "A tibble: 6 × 89\n",
       "\\begin{tabular}{lllllllllllllllllllll}\n",
       " Sample & C1 & P1 & P2 & P3 & P4 & P5 & P6 & P7 & P8 & ⋯ & exposure & salinity & temperature & NAP & penetrability & grainsize & humus & chalk & sorting1 & Beach\\\\\n",
       " <dbl> & <dbl> & <dbl> & <dbl> & <dbl> & <dbl> & <dbl> & <dbl> & <dbl> & <dbl> & ⋯ & <dbl> & <dbl> & <dbl> & <dbl> & <dbl> & <dbl> & <dbl> & <dbl> & <dbl> & <dbl>\\\\\n",
       "\\hline\n",
       "\t 1 & 4 & 0 & 0 & 0 & 0 & 0 & 1 & 0 & 0 & ⋯ & 10 & 29.4 & 17.5 &  0.045 & 253.9 & 222.5 & 0.05 & 2.05 & 69.830 & 1\\\\\n",
       "\t 2 & 0 & 0 & 1 & 0 & 0 & 0 & 0 & 0 & 0 & ⋯ & 10 & 29.4 & 17.5 & -1.036 & 226.9 & 200.0 & 0.30 & 2.50 & 59.000 & 1\\\\\n",
       "\t 3 & 0 & 0 & 3 & 0 & 0 & 0 & 0 & 0 & 0 & ⋯ & 10 & 29.4 & 17.5 & -1.336 & 237.1 & 194.5 & 0.10 & 3.45 & 59.220 & 1\\\\\n",
       "\t 4 & 0 & 0 & 0 & 0 & 0 & 0 & 0 & 0 & 0 & ⋯ & 10 & 29.4 & 17.5 &  0.616 & 248.6 & 221.0 & 0.15 & 1.60 & 67.750 & 1\\\\\n",
       "\t 5 & 1 & 0 & 0 & 0 & 0 & 0 & 0 & 0 & 0 & ⋯ & 10 & 29.4 & 17.5 & -0.684 & 251.9 & 202.0 & 0.05 & 2.45 & 57.760 & 1\\\\\n",
       "\t 6 & 0 & 0 & 0 & 0 & 0 & 1 & 0 & 0 & 0 & ⋯ &  8 & 29.6 & 20.8 &  1.190 & 250.1 & 192.5 & 0.10 & 2.50 & 53.075 & 2\\\\\n",
       "\\end{tabular}\n"
      ],
      "text/markdown": [
       "\n",
       "A tibble: 6 × 89\n",
       "\n",
       "| Sample &lt;dbl&gt; | C1 &lt;dbl&gt; | P1 &lt;dbl&gt; | P2 &lt;dbl&gt; | P3 &lt;dbl&gt; | P4 &lt;dbl&gt; | P5 &lt;dbl&gt; | P6 &lt;dbl&gt; | P7 &lt;dbl&gt; | P8 &lt;dbl&gt; | ⋯ ⋯ | exposure &lt;dbl&gt; | salinity &lt;dbl&gt; | temperature &lt;dbl&gt; | NAP &lt;dbl&gt; | penetrability &lt;dbl&gt; | grainsize &lt;dbl&gt; | humus &lt;dbl&gt; | chalk &lt;dbl&gt; | sorting1 &lt;dbl&gt; | Beach &lt;dbl&gt; |\n",
       "|---|---|---|---|---|---|---|---|---|---|---|---|---|---|---|---|---|---|---|---|---|\n",
       "| 1 | 4 | 0 | 0 | 0 | 0 | 0 | 1 | 0 | 0 | ⋯ | 10 | 29.4 | 17.5 |  0.045 | 253.9 | 222.5 | 0.05 | 2.05 | 69.830 | 1 |\n",
       "| 2 | 0 | 0 | 1 | 0 | 0 | 0 | 0 | 0 | 0 | ⋯ | 10 | 29.4 | 17.5 | -1.036 | 226.9 | 200.0 | 0.30 | 2.50 | 59.000 | 1 |\n",
       "| 3 | 0 | 0 | 3 | 0 | 0 | 0 | 0 | 0 | 0 | ⋯ | 10 | 29.4 | 17.5 | -1.336 | 237.1 | 194.5 | 0.10 | 3.45 | 59.220 | 1 |\n",
       "| 4 | 0 | 0 | 0 | 0 | 0 | 0 | 0 | 0 | 0 | ⋯ | 10 | 29.4 | 17.5 |  0.616 | 248.6 | 221.0 | 0.15 | 1.60 | 67.750 | 1 |\n",
       "| 5 | 1 | 0 | 0 | 0 | 0 | 0 | 0 | 0 | 0 | ⋯ | 10 | 29.4 | 17.5 | -0.684 | 251.9 | 202.0 | 0.05 | 2.45 | 57.760 | 1 |\n",
       "| 6 | 0 | 0 | 0 | 0 | 0 | 1 | 0 | 0 | 0 | ⋯ |  8 | 29.6 | 20.8 |  1.190 | 250.1 | 192.5 | 0.10 | 2.50 | 53.075 | 2 |\n",
       "\n"
      ],
      "text/plain": [
       "  Sample C1 P1 P2 P3 P4 P5 P6 P7 P8 ⋯ exposure salinity temperature NAP   \n",
       "1 1      4  0  0  0  0  0  1  0  0  ⋯ 10       29.4     17.5         0.045\n",
       "2 2      0  0  1  0  0  0  0  0  0  ⋯ 10       29.4     17.5        -1.036\n",
       "3 3      0  0  3  0  0  0  0  0  0  ⋯ 10       29.4     17.5        -1.336\n",
       "4 4      0  0  0  0  0  0  0  0  0  ⋯ 10       29.4     17.5         0.616\n",
       "5 5      1  0  0  0  0  0  0  0  0  ⋯ 10       29.4     17.5        -0.684\n",
       "6 6      0  0  0  0  0  1  0  0  0  ⋯  8       29.6     20.8         1.190\n",
       "  penetrability grainsize humus chalk sorting1 Beach\n",
       "1 253.9         222.5     0.05  2.05  69.830   1    \n",
       "2 226.9         200.0     0.30  2.50  59.000   1    \n",
       "3 237.1         194.5     0.10  3.45  59.220   1    \n",
       "4 248.6         221.0     0.15  1.60  67.750   1    \n",
       "5 251.9         202.0     0.05  2.45  57.760   1    \n",
       "6 250.1         192.5     0.10  2.50  53.075   2    "
      ]
     },
     "metadata": {},
     "output_type": "display_data"
    }
   ],
   "source": [
    "head(survey_data)"
   ]
  },
  {
   "cell_type": "markdown",
   "id": "7504d7cb",
   "metadata": {},
   "source": [
    "Q3 The columns C1 P1-P25, N1, CR1-28, M1-17 and I1-5 of the table represent the counts for 75 species grouped within five taxa: Chaetognatha (C), Polychaeta (P), Crustacea (CR), Mollusca (M), and Insecta (I). We're only interested in the richness, and we need to compute it as:\n",
    "* `1` if the group has a value `> 0`\n",
    "* `0` otherwise.\n",
    "\n",
    "* Create a new column, call it `richness`, which represents the richness in each sample. The richness of `sample 1` should be `11`, since sample has non-null values only for the following groups: \n",
    "```\n",
    "'C1''P6''P15''P16''P25''CR1''CR14''CR15''CR19''CR26''I3'\n",
    "```\n",
    "\n"
   ]
  },
  {
   "cell_type": "code",
   "execution_count": 36,
   "id": "cf24a458",
   "metadata": {},
   "outputs": [
    {
     "data": {
      "text/html": [
       "<style>\n",
       ".list-inline {list-style: none; margin:0; padding: 0}\n",
       ".list-inline>li {display: inline-block}\n",
       ".list-inline>li:not(:last-child)::after {content: \"\\00b7\"; padding: 0 .5ex}\n",
       "</style>\n",
       "<ol class=list-inline><li>'C1'</li><li>'P6'</li><li>'P15'</li><li>'P16'</li><li>'P25'</li><li>'CR1'</li><li>'CR14'</li><li>'CR15'</li><li>'CR19'</li><li>'CR26'</li><li>'I3'</li></ol>\n"
      ],
      "text/latex": [
       "\\begin{enumerate*}\n",
       "\\item 'C1'\n",
       "\\item 'P6'\n",
       "\\item 'P15'\n",
       "\\item 'P16'\n",
       "\\item 'P25'\n",
       "\\item 'CR1'\n",
       "\\item 'CR14'\n",
       "\\item 'CR15'\n",
       "\\item 'CR19'\n",
       "\\item 'CR26'\n",
       "\\item 'I3'\n",
       "\\end{enumerate*}\n"
      ],
      "text/markdown": [
       "1. 'C1'\n",
       "2. 'P6'\n",
       "3. 'P15'\n",
       "4. 'P16'\n",
       "5. 'P25'\n",
       "6. 'CR1'\n",
       "7. 'CR14'\n",
       "8. 'CR15'\n",
       "9. 'CR19'\n",
       "10. 'CR26'\n",
       "11. 'I3'\n",
       "\n",
       "\n"
      ],
      "text/plain": [
       " [1] \"C1\"   \"P6\"   \"P15\"  \"P16\"  \"P25\"  \"CR1\"  \"CR14\" \"CR15\" \"CR19\" \"CR26\"\n",
       "[11] \"I3\"  "
      ]
     },
     "metadata": {},
     "output_type": "display_data"
    }
   ],
   "source": [
    "idx = which (survey_data[1,2:76] != 0)\n",
    "colnames(survey_data[1,2:76][,idx])"
   ]
  },
  {
   "cell_type": "markdown",
   "id": "1f51b37a",
   "metadata": {},
   "source": [
    "Q4 Create a copy of the variable `survey_data` that does not have columns C1 P1-P25, N1, CR1-28, M1-17 and I1-5. Call this variable `survey_data_richness`\n"
   ]
  },
  {
   "cell_type": "code",
   "execution_count": null,
   "id": "ecb3b089",
   "metadata": {},
   "outputs": [],
   "source": [
    "# Write your code here"
   ]
  },
  {
   "cell_type": "markdown",
   "id": "1560369e",
   "metadata": {},
   "source": [
    "Q6. Use the `lm` function to model the richness as a function of the remaining variables but not including the variable `week`, which needs a special treatment we haven't covered yet!     \n"
   ]
  },
  {
   "cell_type": "code",
   "execution_count": null,
   "id": "6d598229",
   "metadata": {},
   "outputs": [],
   "source": [
    "# Write your code here"
   ]
  },
  {
   "cell_type": "markdown",
   "id": "9f0f0228",
   "metadata": {},
   "source": [
    "Q7. What do the various output of the `lm` mean? Interpret the results of your model. "
   ]
  },
  {
   "cell_type": "code",
   "execution_count": null,
   "id": "d747ba66",
   "metadata": {},
   "outputs": [],
   "source": [
    "# Write your Interpretation here"
   ]
  }
 ],
 "metadata": {
  "kernelspec": {
   "display_name": "R",
   "language": "R",
   "name": "ir"
  },
  "language_info": {
   "codemirror_mode": "r",
   "file_extension": ".r",
   "mimetype": "text/x-r-source",
   "name": "R",
   "pygments_lexer": "r",
   "version": "4.0.2"
  }
 },
 "nbformat": 4,
 "nbformat_minor": 5
}
