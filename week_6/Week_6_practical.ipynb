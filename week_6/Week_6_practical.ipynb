{
 "cells": [
  {
   "cell_type": "markdown",
   "id": "d299d70f",
   "metadata": {},
   "source": [
    "### Question 1.\n",
    "\n",
    "* You collected data about coral cover (number of coral heads from a species X) in 100 quadrats in 2018 in region Y.\n",
    " * Quadrat size in not relevant or important\n",
    "* You hypothesize that the environmental stressor that occurred earlier caused a deciline in species X's coverage in the region Y\n",
    "* You re-assessed the coral coverage in 25 of the quadrats you initially sampled in 2018 \n",
    "\n",
    "* Use sampling to conclude whether the average coverage has decrease between 2018 and after the stressor event.\n",
    "  * Plot your result and compute the p-value of the event.\n",
    "  * i.e., what does the null distrubution for averages look like and where does your actual observer value occur\n",
    "\n",
    "* Use the data is below. \n"
   ]
  },
  {
   "cell_type": "code",
   "execution_count": 2,
   "id": "82a685e1",
   "metadata": {},
   "outputs": [
    {
     "name": "stderr",
     "output_type": "stream",
     "text": [
      "── \u001b[1mAttaching packages\u001b[22m ─────────────────────────────────────── tidyverse 1.3.0 ──\n",
      "\n",
      "\u001b[32m✔\u001b[39m \u001b[34mggplot2\u001b[39m 3.3.2     \u001b[32m✔\u001b[39m \u001b[34mpurrr  \u001b[39m 0.3.4\n",
      "\u001b[32m✔\u001b[39m \u001b[34mtibble \u001b[39m 3.0.3     \u001b[32m✔\u001b[39m \u001b[34mdplyr  \u001b[39m 1.0.2\n",
      "\u001b[32m✔\u001b[39m \u001b[34mtidyr  \u001b[39m 1.1.2     \u001b[32m✔\u001b[39m \u001b[34mstringr\u001b[39m 1.4.0\n",
      "\u001b[32m✔\u001b[39m \u001b[34mreadr  \u001b[39m 1.3.1     \u001b[32m✔\u001b[39m \u001b[34mforcats\u001b[39m 0.5.0\n",
      "\n",
      "── \u001b[1mConflicts\u001b[22m ────────────────────────────────────────── tidyverse_conflicts() ──\n",
      "\u001b[31m✖\u001b[39m \u001b[34mdplyr\u001b[39m::\u001b[32mfilter()\u001b[39m masks \u001b[34mstats\u001b[39m::filter()\n",
      "\u001b[31m✖\u001b[39m \u001b[34mdplyr\u001b[39m::\u001b[32mlag()\u001b[39m    masks \u001b[34mstats\u001b[39m::lag()\n",
      "\n",
      "Parsed with column specification:\n",
      "cols(\n",
      "  transect_id = \u001b[32mcol_double()\u001b[39m,\n",
      "  coverage = \u001b[32mcol_double()\u001b[39m\n",
      ")\n",
      "\n"
     ]
    }
   ],
   "source": [
    "library(tidyverse)\n",
    "data = read_csv(\"data/survey_2018.csv\")"
   ]
  }
 ],
 "metadata": {
  "kernelspec": {
   "display_name": "R",
   "language": "R",
   "name": "ir"
  },
  "language_info": {
   "codemirror_mode": "r",
   "file_extension": ".r",
   "mimetype": "text/x-r-source",
   "name": "R",
   "pygments_lexer": "r",
   "version": "4.0.2"
  }
 },
 "nbformat": 4,
 "nbformat_minor": 5
}
