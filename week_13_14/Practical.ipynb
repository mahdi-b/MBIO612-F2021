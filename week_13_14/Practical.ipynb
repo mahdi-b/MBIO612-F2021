{
 "cells": [
  {
   "cell_type": "code",
   "execution_count": 1,
   "id": "fe8fb689",
   "metadata": {},
   "outputs": [
    {
     "name": "stderr",
     "output_type": "stream",
     "text": [
      "── \u001b[1mAttaching packages\u001b[22m ─────────────────────────────────────── tidyverse 1.3.0 ──\n",
      "\n",
      "\u001b[32m✔\u001b[39m \u001b[34mggplot2\u001b[39m 3.3.5     \u001b[32m✔\u001b[39m \u001b[34mpurrr  \u001b[39m 0.3.4\n",
      "\u001b[32m✔\u001b[39m \u001b[34mtibble \u001b[39m 3.0.3     \u001b[32m✔\u001b[39m \u001b[34mdplyr  \u001b[39m 1.0.2\n",
      "\u001b[32m✔\u001b[39m \u001b[34mtidyr  \u001b[39m 1.1.2     \u001b[32m✔\u001b[39m \u001b[34mstringr\u001b[39m 1.4.0\n",
      "\u001b[32m✔\u001b[39m \u001b[34mreadr  \u001b[39m 2.0.2     \u001b[32m✔\u001b[39m \u001b[34mforcats\u001b[39m 0.5.0\n",
      "\n",
      "── \u001b[1mConflicts\u001b[22m ────────────────────────────────────────── tidyverse_conflicts() ──\n",
      "\u001b[31m✖\u001b[39m \u001b[34mdplyr\u001b[39m::\u001b[32mfilter()\u001b[39m masks \u001b[34mstats\u001b[39m::filter()\n",
      "\u001b[31m✖\u001b[39m \u001b[34mdplyr\u001b[39m::\u001b[32mlag()\u001b[39m    masks \u001b[34mstats\u001b[39m::lag()\n",
      "\n"
     ]
    }
   ],
   "source": [
    "library(tidyverse)"
   ]
  },
  {
   "cell_type": "markdown",
   "id": "73150986",
   "metadata": {},
   "source": [
    "### The Dataset\n",
    "\n",
    "* YERockfish.csv contains measurements of fish collected from along the Oregon coast\n",
    "\n",
    "  * Yelloweye Rockfish (Sebastes rubberimus)\n",
    "  \n",
    "* Length (length; to the nearest cm),\n",
    "* Age (years)\n",
    "* Maturity (Immature and Mature) state of female  "
   ]
  },
  {
   "cell_type": "markdown",
   "id": "b973be77",
   "metadata": {},
   "source": [
    "* Read in the data as a tibble\n"
   ]
  },
  {
   "cell_type": "code",
   "execution_count": 2,
   "id": "6ecc744d",
   "metadata": {},
   "outputs": [],
   "source": [
    "# Write you code here\n"
   ]
  },
  {
   "cell_type": "markdown",
   "id": "2b64fef5",
   "metadata": {},
   "source": [
    "* This data contains a date column. R provides an easy way to manipulate dates.\n",
    "  * The field needs to be converted to a format that R will recognize as a date. \n",
    "    * The `as.POSIXct()` function does this conversion. The function takes two arguments\n",
    "      * The column to convert\n",
    "      * Format of the date. Since dates come in vairous shapes (ex. yyyy/m/d, mm/dd/yy, etc..)\n",
    "\n",
    "* Use the function `as.POSIXct()` to convert the date. The approach is exactly the same as converting to factor (`as.factor()`) or integer (`as.integer()`)\n",
    "  * Here you can pass the following format string for the parameter `format`\n",
    "    * `%m/%d/%Y`\n",
    "    \n",
    " * Bonus: use a `dplyr` pipeline to mutate the column"
   ]
  },
  {
   "cell_type": "code",
   "execution_count": null,
   "id": "30123ad5",
   "metadata": {},
   "outputs": [],
   "source": [
    "# Write your code here\n"
   ]
  },
  {
   "cell_type": "markdown",
   "id": "088339c9",
   "metadata": {},
   "source": [
    "* Use the function `head()` on your modified `tibble` to make sure the column is now of type `dttm` (date and time) instead of `char`"
   ]
  },
  {
   "cell_type": "code",
   "execution_count": null,
   "id": "b94d620c",
   "metadata": {},
   "outputs": [],
   "source": [
    "# answer question here\n"
   ]
  },
  {
   "cell_type": "markdown",
   "id": "a401416e",
   "metadata": {},
   "source": [
    "* Count the number of lines in your file"
   ]
  },
  {
   "cell_type": "code",
   "execution_count": null,
   "id": "30e1affb",
   "metadata": {},
   "outputs": [],
   "source": [
    "# answer question here\n"
   ]
  },
  {
   "cell_type": "markdown",
   "id": "36b919b6",
   "metadata": {},
   "source": [
    "* Plot the count of observations per year.\n",
    " * Note that you can easily parse the year from the data using the `year()` function, which takes a column of `dttm`  datatype\n",
    " * The function year is part of the `lubridate` package, which you may need to import \n",
    "* Hint 1: try the function `year()` on your date column\n",
    "* Hint 2: Use group by to group the data and `n()` to count the number of entries in each group\n",
    "\n",
    "* Bonus: use a `dplyr` pipeline to answer this question."
   ]
  },
  {
   "cell_type": "code",
   "execution_count": null,
   "id": "53577578",
   "metadata": {},
   "outputs": [],
   "source": [
    "# Try year() on the date colum\n"
   ]
  },
  {
   "cell_type": "code",
   "execution_count": null,
   "id": "ca91ed81",
   "metadata": {},
   "outputs": [],
   "source": [
    "# answer question here\n"
   ]
  },
  {
   "cell_type": "markdown",
   "id": "9f9ab75c",
   "metadata": {},
   "source": [
    "* Remove all entries that below to a year for which there are less than 5 entries\n",
    "  * E.g. there is only one entry for 2008, so we can remove it. \n",
    "* Save the data to a new tibble"
   ]
  },
  {
   "cell_type": "code",
   "execution_count": null,
   "id": "4ebe2e4c",
   "metadata": {},
   "outputs": [],
   "source": [
    "# write your code here here\n"
   ]
  },
  {
   "cell_type": "markdown",
   "id": "f1edf4ac",
   "metadata": {},
   "source": [
    "* Count the number of entries and make sure there are less observations "
   ]
  },
  {
   "cell_type": "code",
   "execution_count": 1,
   "id": "dbfe9ecb",
   "metadata": {},
   "outputs": [],
   "source": [
    "# answer question here\n"
   ]
  },
  {
   "cell_type": "markdown",
   "id": "bd0dade9",
   "metadata": {},
   "source": [
    "* Model the fish maturity using the fish length \n",
    "  * i.e. predict maturity from the lengh data\n",
    "\n",
    "* You can make any changes to the data needed to build this model"
   ]
  },
  {
   "cell_type": "code",
   "execution_count": null,
   "id": "d87d41a0",
   "metadata": {},
   "outputs": [],
   "source": [
    "### Write you code here"
   ]
  },
  {
   "cell_type": "markdown",
   "id": "a874e4c5",
   "metadata": {},
   "source": [
    "* Generate a plot to show the data and the fit of the model (sigmoid)"
   ]
  },
  {
   "cell_type": "code",
   "execution_count": null,
   "id": "46c8ae1f",
   "metadata": {},
   "outputs": [],
   "source": [
    "# Write you code here"
   ]
  },
  {
   "cell_type": "markdown",
   "id": "d13fc0a5",
   "metadata": {},
   "source": [
    "* What is the length at which the probability of picking a mature fish is 0.5? \n",
    "  * You can eyeball it or can you compute it formally from the logistic regression"
   ]
  },
  {
   "cell_type": "code",
   "execution_count": 65,
   "id": "e624ec1c",
   "metadata": {},
   "outputs": [],
   "source": [
    "# Write your answer here"
   ]
  },
  {
   "cell_type": "markdown",
   "id": "0de3149e",
   "metadata": {},
   "source": [
    "* Add an era column to your dataset such that\n",
    " * era has the value \"pre_2000\" if the year of the observation is pre 2002\n",
    " * era has the value \"era2002 and after\" otherwise\n",
    "\n",
    "* Hint: Check the `if_else` in dplyr\n",
    "  * https://dplyr.tidyverse.org/reference/if_else.html\n",
    "\n",
    "* Bonus: implement this operation using a `pipeline` and `mutate`"
   ]
  },
  {
   "cell_type": "code",
   "execution_count": null,
   "id": "7f8fca1e",
   "metadata": {},
   "outputs": [],
   "source": [
    "### Write your code here"
   ]
  },
  {
   "cell_type": "markdown",
   "id": "d230ee76",
   "metadata": {},
   "source": [
    "* You suspected that some major environmental stressor that occurred in 2002 had an impact on the fish length and maturity\n",
    "* Build a logistic regression for maturity as an outcome using `era` and `length` as predictive variables\n",
    "  * Make sure your formula accounts for interactions\n",
    "\n",
    "* Use an ANOVA to test whether maturity is a function of both length and era\n",
    "* Does the maturity differ between the two eras?\n",
    "  i.e. is the era model coefficient significant?"
   ]
  },
  {
   "cell_type": "markdown",
   "id": "6be86c0f",
   "metadata": {},
   "source": [
    "### Final note:\n",
    "\n",
    "This practical is inspired from:\n",
    "http://derekogle.com/IFAR/supplements/maturity/index.html#fitting-the-logistic-regression-model\n",
    "\n",
    "The link above contains most answers, so please do not read until you are done with this practical."
   ]
  }
 ],
 "metadata": {
  "kernelspec": {
   "display_name": "R",
   "language": "R",
   "name": "ir"
  },
  "language_info": {
   "codemirror_mode": "r",
   "file_extension": ".r",
   "mimetype": "text/x-r-source",
   "name": "R",
   "pygments_lexer": "r",
   "version": "4.0.2"
  }
 },
 "nbformat": 4,
 "nbformat_minor": 5
}
