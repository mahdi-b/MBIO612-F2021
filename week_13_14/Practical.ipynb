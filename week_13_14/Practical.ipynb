{
 "cells": [
  {
   "cell_type": "code",
   "execution_count": 1,
   "id": "8771f6b0",
   "metadata": {},
   "outputs": [
    {
     "name": "stderr",
     "output_type": "stream",
     "text": [
      "── \u001b[1mAttaching packages\u001b[22m ─────────────────────────────────────── tidyverse 1.3.0 ──\n",
      "\n",
      "\u001b[32m✔\u001b[39m \u001b[34mggplot2\u001b[39m 3.3.5     \u001b[32m✔\u001b[39m \u001b[34mpurrr  \u001b[39m 0.3.4\n",
      "\u001b[32m✔\u001b[39m \u001b[34mtibble \u001b[39m 3.0.3     \u001b[32m✔\u001b[39m \u001b[34mdplyr  \u001b[39m 1.0.2\n",
      "\u001b[32m✔\u001b[39m \u001b[34mtidyr  \u001b[39m 1.1.2     \u001b[32m✔\u001b[39m \u001b[34mstringr\u001b[39m 1.4.0\n",
      "\u001b[32m✔\u001b[39m \u001b[34mreadr  \u001b[39m 2.0.2     \u001b[32m✔\u001b[39m \u001b[34mforcats\u001b[39m 0.5.0\n",
      "\n",
      "── \u001b[1mConflicts\u001b[22m ────────────────────────────────────────── tidyverse_conflicts() ──\n",
      "\u001b[31m✖\u001b[39m \u001b[34mdplyr\u001b[39m::\u001b[32mfilter()\u001b[39m masks \u001b[34mstats\u001b[39m::filter()\n",
      "\u001b[31m✖\u001b[39m \u001b[34mdplyr\u001b[39m::\u001b[32mlag()\u001b[39m    masks \u001b[34mstats\u001b[39m::lag()\n",
      "\n"
     ]
    }
   ],
   "source": [
    "library(tidyverse)"
   ]
  },
  {
   "cell_type": "markdown",
   "id": "b7103656",
   "metadata": {},
   "source": [
    "### The Dataset\n",
    "\n",
    "* YERockfish.csv contains measurements of fish collected from along the Oregon coast\n",
    "\n",
    "  * Yelloweye Rockfish (Sebastes rubberimus)\n",
    "  \n",
    "* Length (length; to the nearest cm),\n",
    "* Age (years)\n",
    "* Maturity (Immature and Mature) state of female  "
   ]
  },
  {
   "cell_type": "markdown",
   "id": "757b54da",
   "metadata": {},
   "source": [
    "* Read in the data as a tibble\n"
   ]
  },
  {
   "cell_type": "code",
   "execution_count": 2,
   "id": "c190d693",
   "metadata": {},
   "outputs": [],
   "source": [
    "# Write you code here\n",
    "df = read_csv(\"data/YERockfish.csv\")"
   ]
  },
  {
   "cell_type": "markdown",
   "id": "b1e4e343",
   "metadata": {},
   "source": [
    "This data contains a date column. R provides an easy way to manipulate dates.\n",
    "  * The field needs to be converted to a format that R will recognize as a date. \n",
    "    * The `as.POSIXct()` function does this conversion. The function takes two arguments\n",
    "      * The column to convert\n",
    "      * Format of the date. Since dates come in vairous shapes (ex. yyyy/m/d, mm/dd/yy, etc..)\n",
    "\n",
    "* Use the function `as.POSIXct()` to convert the date. The approach is exactly the same as converting to factor (`as.factor()`) or integer (`as.integer()`)\n",
    "  * Here you can pass the following format string for the parameter `format`\n",
    "    * `%m/%d/%Y`\n",
    "    \n",
    " * Bonus: use a `dplyr` pipeline to mutate the column"
   ]
  },
  {
   "cell_type": "code",
   "execution_count": 4,
   "id": "5fd60733",
   "metadata": {},
   "outputs": [
    {
     "data": {
      "text/html": [
       "<table class=\"dataframe\">\n",
       "<caption>A tibble: 6 × 5</caption>\n",
       "<thead>\n",
       "\t<tr><th scope=col>date</th><th scope=col>length</th><th scope=col>age</th><th scope=col>maturity</th><th scope=col>stage</th></tr>\n",
       "\t<tr><th scope=col>&lt;chr&gt;</th><th scope=col>&lt;dbl&gt;</th><th scope=col>&lt;dbl&gt;</th><th scope=col>&lt;chr&gt;</th><th scope=col>&lt;chr&gt;</th></tr>\n",
       "</thead>\n",
       "<tbody>\n",
       "\t<tr><td>9/2/2003 </td><td>31</td><td>10</td><td>Immature</td><td>1</td></tr>\n",
       "\t<tr><td>10/7/2002</td><td>32</td><td> 6</td><td>Immature</td><td>1</td></tr>\n",
       "\t<tr><td>7/18/2000</td><td>32</td><td>11</td><td>Immature</td><td>1</td></tr>\n",
       "\t<tr><td>6/11/2001</td><td>32</td><td>11</td><td>Immature</td><td>2</td></tr>\n",
       "\t<tr><td>8/8/2000 </td><td>32</td><td>13</td><td>Immature</td><td>2</td></tr>\n",
       "\t<tr><td>10/4/2003</td><td>33</td><td> 9</td><td>Immature</td><td>1</td></tr>\n",
       "</tbody>\n",
       "</table>\n"
      ],
      "text/latex": [
       "A tibble: 6 × 5\n",
       "\\begin{tabular}{lllll}\n",
       " date & length & age & maturity & stage\\\\\n",
       " <chr> & <dbl> & <dbl> & <chr> & <chr>\\\\\n",
       "\\hline\n",
       "\t 9/2/2003  & 31 & 10 & Immature & 1\\\\\n",
       "\t 10/7/2002 & 32 &  6 & Immature & 1\\\\\n",
       "\t 7/18/2000 & 32 & 11 & Immature & 1\\\\\n",
       "\t 6/11/2001 & 32 & 11 & Immature & 2\\\\\n",
       "\t 8/8/2000  & 32 & 13 & Immature & 2\\\\\n",
       "\t 10/4/2003 & 33 &  9 & Immature & 1\\\\\n",
       "\\end{tabular}\n"
      ],
      "text/markdown": [
       "\n",
       "A tibble: 6 × 5\n",
       "\n",
       "| date &lt;chr&gt; | length &lt;dbl&gt; | age &lt;dbl&gt; | maturity &lt;chr&gt; | stage &lt;chr&gt; |\n",
       "|---|---|---|---|---|\n",
       "| 9/2/2003  | 31 | 10 | Immature | 1 |\n",
       "| 10/7/2002 | 32 |  6 | Immature | 1 |\n",
       "| 7/18/2000 | 32 | 11 | Immature | 1 |\n",
       "| 6/11/2001 | 32 | 11 | Immature | 2 |\n",
       "| 8/8/2000  | 32 | 13 | Immature | 2 |\n",
       "| 10/4/2003 | 33 |  9 | Immature | 1 |\n",
       "\n"
      ],
      "text/plain": [
       "  date      length age maturity stage\n",
       "1 9/2/2003  31     10  Immature 1    \n",
       "2 10/7/2002 32      6  Immature 1    \n",
       "3 7/18/2000 32     11  Immature 1    \n",
       "4 6/11/2001 32     11  Immature 2    \n",
       "5 8/8/2000  32     13  Immature 2    \n",
       "6 10/4/2003 33      9  Immature 1    "
      ]
     },
     "metadata": {},
     "output_type": "display_data"
    }
   ],
   "source": [
    "head(df)"
   ]
  },
  {
   "cell_type": "markdown",
   "id": "dd6ed13d",
   "metadata": {},
   "source": [
    "* USe the function head on your modified `tibble` to make sure the column is now of type `dttm` (date and time) instead of `char`"
   ]
  },
  {
   "cell_type": "raw",
   "id": "38ddd608",
   "metadata": {},
   "source": [
    "df = df %>% mutate(date=as.POSIXct(date,format=\"%m/%d/%Y\"))\n",
    "head(df)"
   ]
  },
  {
   "cell_type": "code",
   "execution_count": null,
   "id": "75ebda10",
   "metadata": {},
   "outputs": [],
   "source": [
    "* Count the number of lines in your file"
   ]
  },
  {
   "cell_type": "code",
   "execution_count": 18,
   "id": "c04afd50",
   "metadata": {},
   "outputs": [
    {
     "data": {
      "text/html": [
       "158"
      ],
      "text/latex": [
       "158"
      ],
      "text/markdown": [
       "158"
      ],
      "text/plain": [
       "[1] 158"
      ]
     },
     "metadata": {},
     "output_type": "display_data"
    }
   ],
   "source": [
    "nrow(df)"
   ]
  },
  {
   "cell_type": "markdown",
   "id": "9284ed94",
   "metadata": {},
   "source": [
    "* Plot the count of observations per year.\n",
    " * Note that you can easily parse the year from the data using the `year()` function, which takes a column of `dttm`  datatype\n",
    " * The function year is part of the `lubridate` package, which you may need to import \n",
    "* Hint 1: try the function `year()` on your date column\n",
    "* Hint 2: Use group by to group the data and `n()` to count the number of entries in each group\n",
    "\n",
    "* Bonus: use a `dplyr` pipeline to answer this question."
   ]
  },
  {
   "cell_type": "code",
   "execution_count": 21,
   "id": "34465e55",
   "metadata": {},
   "outputs": [
    {
     "data": {
      "text/html": [
       "<style>\n",
       ".list-inline {list-style: none; margin:0; padding: 0}\n",
       ".list-inline>li {display: inline-block}\n",
       ".list-inline>li:not(:last-child)::after {content: \"\\00b7\"; padding: 0 .5ex}\n",
       "</style>\n",
       "<ol class=list-inline><li>2003</li><li>2002</li><li>2000</li><li>2001</li><li>2000</li><li>2003</li><li>2000</li><li>2002</li><li>2000</li><li>2000</li><li>2000</li><li>2002</li><li>2000</li><li>2000</li><li>2003</li><li>2000</li><li>2003</li><li>2000</li><li>2000</li><li>2000</li><li>2002</li><li>2002</li><li>2000</li><li>2000</li><li>2002</li><li>2002</li><li>2003</li><li>2000</li><li>2000</li><li>2002</li><li>2002</li><li>2001</li><li>2003</li><li>2001</li><li>2002</li><li>2003</li><li>2002</li><li>2003</li><li>2000</li><li>2000</li><li>2000</li><li>2002</li><li>2001</li><li>2003</li><li>2002</li><li>2003</li><li>2003</li><li>2000</li><li>2000</li><li>2003</li><li>2002</li><li>2000</li><li>2003</li><li>2000</li><li>2001</li><li>2001</li><li>2002</li><li>2002</li><li>2002</li><li>2002</li><li>2003</li><li>2003</li><li>2002</li><li>2002</li><li>2002</li><li>2003</li><li>2001</li><li>2002</li><li>2001</li><li>2003</li><li>2002</li><li>2003</li><li>2000</li><li>2000</li><li>2003</li><li>2000</li><li>2000</li><li>2003</li><li>2003</li><li>2000</li><li>2003</li><li>2000</li><li>2000</li><li>2002</li><li>2003</li><li>2002</li><li>2002</li><li>2002</li><li>2002</li><li>2003</li><li>2003</li><li>2002</li><li>2002</li><li>2004</li><li>2003</li><li>2000</li><li>2001</li><li>2008</li><li>2002</li><li>2002</li><li>2002</li><li>2002</li><li>2001</li><li>2000</li><li>2003</li><li>2003</li><li>2002</li><li>2003</li><li>2002</li><li>2002</li><li>2000</li><li>2002</li><li>2000</li><li>2002</li><li>2002</li><li>2003</li><li>2003</li><li>2002</li><li>2002</li><li>2003</li><li>2003</li><li>2002</li><li>2002</li><li>2003</li><li>2002</li><li>2002</li><li>2001</li><li>2002</li><li>2002</li><li>2002</li><li>2004</li><li>2003</li><li>2000</li><li>2003</li><li>2004</li><li>2000</li><li>2002</li><li>2002</li><li>2002</li><li>2002</li><li>2003</li><li>2003</li><li>2002</li><li>2002</li><li>2003</li><li>2002</li><li>2003</li><li>2003</li><li>2002</li><li>2001</li><li>2000</li><li>2001</li><li>2003</li><li>2002</li><li>2002</li><li>2002</li><li>2002</li><li>2001</li></ol>\n"
      ],
      "text/latex": [
       "\\begin{enumerate*}\n",
       "\\item 2003\n",
       "\\item 2002\n",
       "\\item 2000\n",
       "\\item 2001\n",
       "\\item 2000\n",
       "\\item 2003\n",
       "\\item 2000\n",
       "\\item 2002\n",
       "\\item 2000\n",
       "\\item 2000\n",
       "\\item 2000\n",
       "\\item 2002\n",
       "\\item 2000\n",
       "\\item 2000\n",
       "\\item 2003\n",
       "\\item 2000\n",
       "\\item 2003\n",
       "\\item 2000\n",
       "\\item 2000\n",
       "\\item 2000\n",
       "\\item 2002\n",
       "\\item 2002\n",
       "\\item 2000\n",
       "\\item 2000\n",
       "\\item 2002\n",
       "\\item 2002\n",
       "\\item 2003\n",
       "\\item 2000\n",
       "\\item 2000\n",
       "\\item 2002\n",
       "\\item 2002\n",
       "\\item 2001\n",
       "\\item 2003\n",
       "\\item 2001\n",
       "\\item 2002\n",
       "\\item 2003\n",
       "\\item 2002\n",
       "\\item 2003\n",
       "\\item 2000\n",
       "\\item 2000\n",
       "\\item 2000\n",
       "\\item 2002\n",
       "\\item 2001\n",
       "\\item 2003\n",
       "\\item 2002\n",
       "\\item 2003\n",
       "\\item 2003\n",
       "\\item 2000\n",
       "\\item 2000\n",
       "\\item 2003\n",
       "\\item 2002\n",
       "\\item 2000\n",
       "\\item 2003\n",
       "\\item 2000\n",
       "\\item 2001\n",
       "\\item 2001\n",
       "\\item 2002\n",
       "\\item 2002\n",
       "\\item 2002\n",
       "\\item 2002\n",
       "\\item 2003\n",
       "\\item 2003\n",
       "\\item 2002\n",
       "\\item 2002\n",
       "\\item 2002\n",
       "\\item 2003\n",
       "\\item 2001\n",
       "\\item 2002\n",
       "\\item 2001\n",
       "\\item 2003\n",
       "\\item 2002\n",
       "\\item 2003\n",
       "\\item 2000\n",
       "\\item 2000\n",
       "\\item 2003\n",
       "\\item 2000\n",
       "\\item 2000\n",
       "\\item 2003\n",
       "\\item 2003\n",
       "\\item 2000\n",
       "\\item 2003\n",
       "\\item 2000\n",
       "\\item 2000\n",
       "\\item 2002\n",
       "\\item 2003\n",
       "\\item 2002\n",
       "\\item 2002\n",
       "\\item 2002\n",
       "\\item 2002\n",
       "\\item 2003\n",
       "\\item 2003\n",
       "\\item 2002\n",
       "\\item 2002\n",
       "\\item 2004\n",
       "\\item 2003\n",
       "\\item 2000\n",
       "\\item 2001\n",
       "\\item 2008\n",
       "\\item 2002\n",
       "\\item 2002\n",
       "\\item 2002\n",
       "\\item 2002\n",
       "\\item 2001\n",
       "\\item 2000\n",
       "\\item 2003\n",
       "\\item 2003\n",
       "\\item 2002\n",
       "\\item 2003\n",
       "\\item 2002\n",
       "\\item 2002\n",
       "\\item 2000\n",
       "\\item 2002\n",
       "\\item 2000\n",
       "\\item 2002\n",
       "\\item 2002\n",
       "\\item 2003\n",
       "\\item 2003\n",
       "\\item 2002\n",
       "\\item 2002\n",
       "\\item 2003\n",
       "\\item 2003\n",
       "\\item 2002\n",
       "\\item 2002\n",
       "\\item 2003\n",
       "\\item 2002\n",
       "\\item 2002\n",
       "\\item 2001\n",
       "\\item 2002\n",
       "\\item 2002\n",
       "\\item 2002\n",
       "\\item 2004\n",
       "\\item 2003\n",
       "\\item 2000\n",
       "\\item 2003\n",
       "\\item 2004\n",
       "\\item 2000\n",
       "\\item 2002\n",
       "\\item 2002\n",
       "\\item 2002\n",
       "\\item 2002\n",
       "\\item 2003\n",
       "\\item 2003\n",
       "\\item 2002\n",
       "\\item 2002\n",
       "\\item 2003\n",
       "\\item 2002\n",
       "\\item 2003\n",
       "\\item 2003\n",
       "\\item 2002\n",
       "\\item 2001\n",
       "\\item 2000\n",
       "\\item 2001\n",
       "\\item 2003\n",
       "\\item 2002\n",
       "\\item 2002\n",
       "\\item 2002\n",
       "\\item 2002\n",
       "\\item 2001\n",
       "\\end{enumerate*}\n"
      ],
      "text/markdown": [
       "1. 2003\n",
       "2. 2002\n",
       "3. 2000\n",
       "4. 2001\n",
       "5. 2000\n",
       "6. 2003\n",
       "7. 2000\n",
       "8. 2002\n",
       "9. 2000\n",
       "10. 2000\n",
       "11. 2000\n",
       "12. 2002\n",
       "13. 2000\n",
       "14. 2000\n",
       "15. 2003\n",
       "16. 2000\n",
       "17. 2003\n",
       "18. 2000\n",
       "19. 2000\n",
       "20. 2000\n",
       "21. 2002\n",
       "22. 2002\n",
       "23. 2000\n",
       "24. 2000\n",
       "25. 2002\n",
       "26. 2002\n",
       "27. 2003\n",
       "28. 2000\n",
       "29. 2000\n",
       "30. 2002\n",
       "31. 2002\n",
       "32. 2001\n",
       "33. 2003\n",
       "34. 2001\n",
       "35. 2002\n",
       "36. 2003\n",
       "37. 2002\n",
       "38. 2003\n",
       "39. 2000\n",
       "40. 2000\n",
       "41. 2000\n",
       "42. 2002\n",
       "43. 2001\n",
       "44. 2003\n",
       "45. 2002\n",
       "46. 2003\n",
       "47. 2003\n",
       "48. 2000\n",
       "49. 2000\n",
       "50. 2003\n",
       "51. 2002\n",
       "52. 2000\n",
       "53. 2003\n",
       "54. 2000\n",
       "55. 2001\n",
       "56. 2001\n",
       "57. 2002\n",
       "58. 2002\n",
       "59. 2002\n",
       "60. 2002\n",
       "61. 2003\n",
       "62. 2003\n",
       "63. 2002\n",
       "64. 2002\n",
       "65. 2002\n",
       "66. 2003\n",
       "67. 2001\n",
       "68. 2002\n",
       "69. 2001\n",
       "70. 2003\n",
       "71. 2002\n",
       "72. 2003\n",
       "73. 2000\n",
       "74. 2000\n",
       "75. 2003\n",
       "76. 2000\n",
       "77. 2000\n",
       "78. 2003\n",
       "79. 2003\n",
       "80. 2000\n",
       "81. 2003\n",
       "82. 2000\n",
       "83. 2000\n",
       "84. 2002\n",
       "85. 2003\n",
       "86. 2002\n",
       "87. 2002\n",
       "88. 2002\n",
       "89. 2002\n",
       "90. 2003\n",
       "91. 2003\n",
       "92. 2002\n",
       "93. 2002\n",
       "94. 2004\n",
       "95. 2003\n",
       "96. 2000\n",
       "97. 2001\n",
       "98. 2008\n",
       "99. 2002\n",
       "100. 2002\n",
       "101. 2002\n",
       "102. 2002\n",
       "103. 2001\n",
       "104. 2000\n",
       "105. 2003\n",
       "106. 2003\n",
       "107. 2002\n",
       "108. 2003\n",
       "109. 2002\n",
       "110. 2002\n",
       "111. 2000\n",
       "112. 2002\n",
       "113. 2000\n",
       "114. 2002\n",
       "115. 2002\n",
       "116. 2003\n",
       "117. 2003\n",
       "118. 2002\n",
       "119. 2002\n",
       "120. 2003\n",
       "121. 2003\n",
       "122. 2002\n",
       "123. 2002\n",
       "124. 2003\n",
       "125. 2002\n",
       "126. 2002\n",
       "127. 2001\n",
       "128. 2002\n",
       "129. 2002\n",
       "130. 2002\n",
       "131. 2004\n",
       "132. 2003\n",
       "133. 2000\n",
       "134. 2003\n",
       "135. 2004\n",
       "136. 2000\n",
       "137. 2002\n",
       "138. 2002\n",
       "139. 2002\n",
       "140. 2002\n",
       "141. 2003\n",
       "142. 2003\n",
       "143. 2002\n",
       "144. 2002\n",
       "145. 2003\n",
       "146. 2002\n",
       "147. 2003\n",
       "148. 2003\n",
       "149. 2002\n",
       "150. 2001\n",
       "151. 2000\n",
       "152. 2001\n",
       "153. 2003\n",
       "154. 2002\n",
       "155. 2002\n",
       "156. 2002\n",
       "157. 2002\n",
       "158. 2001\n",
       "\n",
       "\n"
      ],
      "text/plain": [
       "  [1] 2003 2002 2000 2001 2000 2003 2000 2002 2000 2000 2000 2002 2000 2000 2003\n",
       " [16] 2000 2003 2000 2000 2000 2002 2002 2000 2000 2002 2002 2003 2000 2000 2002\n",
       " [31] 2002 2001 2003 2001 2002 2003 2002 2003 2000 2000 2000 2002 2001 2003 2002\n",
       " [46] 2003 2003 2000 2000 2003 2002 2000 2003 2000 2001 2001 2002 2002 2002 2002\n",
       " [61] 2003 2003 2002 2002 2002 2003 2001 2002 2001 2003 2002 2003 2000 2000 2003\n",
       " [76] 2000 2000 2003 2003 2000 2003 2000 2000 2002 2003 2002 2002 2002 2002 2003\n",
       " [91] 2003 2002 2002 2004 2003 2000 2001 2008 2002 2002 2002 2002 2001 2000 2003\n",
       "[106] 2003 2002 2003 2002 2002 2000 2002 2000 2002 2002 2003 2003 2002 2002 2003\n",
       "[121] 2003 2002 2002 2003 2002 2002 2001 2002 2002 2002 2004 2003 2000 2003 2004\n",
       "[136] 2000 2002 2002 2002 2002 2003 2003 2002 2002 2003 2002 2003 2003 2002 2001\n",
       "[151] 2000 2001 2003 2002 2002 2002 2002 2001"
      ]
     },
     "metadata": {},
     "output_type": "display_data"
    }
   ],
   "source": [
    "# Try year() on the date colum\n",
    "library(lubridate)\n",
    "year(df$date)"
   ]
  },
  {
   "cell_type": "code",
   "execution_count": 23,
   "id": "2669bd53",
   "metadata": {},
   "outputs": [
    {
     "name": "stderr",
     "output_type": "stream",
     "text": [
      "`summarise()` ungrouping output (override with `.groups` argument)\n",
      "\n"
     ]
    },
    {
     "data": {
      "text/html": [
       "<table class=\"dataframe\">\n",
       "<caption>A tibble: 6 × 2</caption>\n",
       "<thead>\n",
       "\t<tr><th scope=col>year(date)</th><th scope=col>count</th></tr>\n",
       "\t<tr><th scope=col>&lt;dbl&gt;</th><th scope=col>&lt;int&gt;</th></tr>\n",
       "</thead>\n",
       "<tbody>\n",
       "\t<tr><td>2000</td><td>37</td></tr>\n",
       "\t<tr><td>2001</td><td>14</td></tr>\n",
       "\t<tr><td>2002</td><td>61</td></tr>\n",
       "\t<tr><td>2003</td><td>42</td></tr>\n",
       "\t<tr><td>2004</td><td> 3</td></tr>\n",
       "\t<tr><td>2008</td><td> 1</td></tr>\n",
       "</tbody>\n",
       "</table>\n"
      ],
      "text/latex": [
       "A tibble: 6 × 2\n",
       "\\begin{tabular}{ll}\n",
       " year(date) & count\\\\\n",
       " <dbl> & <int>\\\\\n",
       "\\hline\n",
       "\t 2000 & 37\\\\\n",
       "\t 2001 & 14\\\\\n",
       "\t 2002 & 61\\\\\n",
       "\t 2003 & 42\\\\\n",
       "\t 2004 &  3\\\\\n",
       "\t 2008 &  1\\\\\n",
       "\\end{tabular}\n"
      ],
      "text/markdown": [
       "\n",
       "A tibble: 6 × 2\n",
       "\n",
       "| year(date) &lt;dbl&gt; | count &lt;int&gt; |\n",
       "|---|---|\n",
       "| 2000 | 37 |\n",
       "| 2001 | 14 |\n",
       "| 2002 | 61 |\n",
       "| 2003 | 42 |\n",
       "| 2004 |  3 |\n",
       "| 2008 |  1 |\n",
       "\n"
      ],
      "text/plain": [
       "  year(date) count\n",
       "1 2000       37   \n",
       "2 2001       14   \n",
       "3 2002       61   \n",
       "4 2003       42   \n",
       "5 2004        3   \n",
       "6 2008        1   "
      ]
     },
     "metadata": {},
     "output_type": "display_data"
    }
   ],
   "source": [
    "# answer question here\n",
    "df %>% \n",
    "  group_by(year(date)) %>%\n",
    "    summarise(count=n())"
   ]
  },
  {
   "cell_type": "markdown",
   "id": "75b62570",
   "metadata": {},
   "source": [
    "* Remove all entries that below to a year for which there are less than 5 entries\n",
    "  * E.g. there is only one entry for 2008, so we can remove it. \n",
    "* Save the data to a new tibble"
   ]
  },
  {
   "cell_type": "code",
   "execution_count": 34,
   "id": "a6d2f5ea",
   "metadata": {},
   "outputs": [
    {
     "data": {
      "text/html": [
       "<style>\n",
       ".list-inline {list-style: none; margin:0; padding: 0}\n",
       ".list-inline>li {display: inline-block}\n",
       ".list-inline>li:not(:last-child)::after {content: \"\\00b7\"; padding: 0 .5ex}\n",
       "</style>\n",
       "<ol class=list-inline><li>FALSE</li><li>FALSE</li><li>FALSE</li><li>FALSE</li><li>TRUE</li><li>TRUE</li></ol>\n"
      ],
      "text/latex": [
       "\\begin{enumerate*}\n",
       "\\item FALSE\n",
       "\\item FALSE\n",
       "\\item FALSE\n",
       "\\item FALSE\n",
       "\\item TRUE\n",
       "\\item TRUE\n",
       "\\end{enumerate*}\n"
      ],
      "text/markdown": [
       "1. FALSE\n",
       "2. FALSE\n",
       "3. FALSE\n",
       "4. FALSE\n",
       "5. TRUE\n",
       "6. TRUE\n",
       "\n",
       "\n"
      ],
      "text/plain": [
       "[1] FALSE FALSE FALSE FALSE  TRUE  TRUE"
      ]
     },
     "metadata": {},
     "output_type": "display_data"
    }
   ],
   "source": [
    "(data[\"count\"] < 5)[,1]"
   ]
  },
  {
   "cell_type": "code",
   "execution_count": 50,
   "id": "1e75092d",
   "metadata": {},
   "outputs": [
    {
     "name": "stderr",
     "output_type": "stream",
     "text": [
      "`summarise()` ungrouping output (override with `.groups` argument)\n",
      "\n"
     ]
    }
   ],
   "source": [
    "data = df %>% \n",
    "  group_by(year(date)) %>%\n",
    "    summarise(count=n())\n",
    "bad_years = pull(data[(data[\"count\"] < 5),\"year(date)\"])"
   ]
  },
  {
   "cell_type": "code",
   "execution_count": 59,
   "id": "7d6efcdf",
   "metadata": {},
   "outputs": [
    {
     "data": {
      "text/html": [
       "<table class=\"dataframe\">\n",
       "<caption>A spec_tbl_df: 154 × 5</caption>\n",
       "<thead>\n",
       "\t<tr><th scope=col>date</th><th scope=col>length</th><th scope=col>age</th><th scope=col>maturity</th><th scope=col>stage</th></tr>\n",
       "\t<tr><th scope=col>&lt;dttm&gt;</th><th scope=col>&lt;dbl&gt;</th><th scope=col>&lt;dbl&gt;</th><th scope=col>&lt;chr&gt;</th><th scope=col>&lt;chr&gt;</th></tr>\n",
       "</thead>\n",
       "<tbody>\n",
       "\t<tr><td>2003-09-02</td><td>31</td><td>10</td><td>Immature</td><td>1</td></tr>\n",
       "\t<tr><td>2002-10-07</td><td>32</td><td> 6</td><td>Immature</td><td>1</td></tr>\n",
       "\t<tr><td>2000-07-18</td><td>32</td><td>11</td><td>Immature</td><td>1</td></tr>\n",
       "\t<tr><td>2001-06-11</td><td>32</td><td>11</td><td>Immature</td><td>2</td></tr>\n",
       "\t<tr><td>2000-08-08</td><td>32</td><td>13</td><td>Immature</td><td>2</td></tr>\n",
       "\t<tr><td>2003-10-04</td><td>33</td><td> 9</td><td>Immature</td><td>1</td></tr>\n",
       "\t<tr><td>2000-07-17</td><td>33</td><td>10</td><td>Immature</td><td>1</td></tr>\n",
       "\t<tr><td>2002-08-18</td><td>34</td><td> 8</td><td>Immature</td><td>1</td></tr>\n",
       "\t<tr><td>2000-07-12</td><td>34</td><td>10</td><td>Immature</td><td>1</td></tr>\n",
       "\t<tr><td>2000-07-25</td><td>34</td><td>11</td><td>Immature</td><td>1</td></tr>\n",
       "\t<tr><td>2000-07-17</td><td>35</td><td>11</td><td>Immature</td><td>1</td></tr>\n",
       "\t<tr><td>2002-07-13</td><td>35</td><td>12</td><td>Immature</td><td>1</td></tr>\n",
       "\t<tr><td>2000-07-17</td><td>36</td><td>10</td><td>Immature</td><td>1</td></tr>\n",
       "\t<tr><td>2000-08-06</td><td>36</td><td>10</td><td>Mature  </td><td>2</td></tr>\n",
       "\t<tr><td>2003-07-16</td><td>36</td><td>10</td><td>Mature  </td><td>1</td></tr>\n",
       "\t<tr><td>2000-07-25</td><td>36</td><td>12</td><td>Immature</td><td>1</td></tr>\n",
       "\t<tr><td>2003-08-27</td><td>37</td><td> 9</td><td>Immature</td><td>1</td></tr>\n",
       "\t<tr><td>2000-07-18</td><td>37</td><td> 9</td><td>Mature  </td><td>2</td></tr>\n",
       "\t<tr><td>2000-07-25</td><td>37</td><td>11</td><td>Immature</td><td>1</td></tr>\n",
       "\t<tr><td>2000-05-13</td><td>37</td><td>14</td><td>Immature</td><td>1</td></tr>\n",
       "\t<tr><td>2002-06-21</td><td>37</td><td>17</td><td>Mature  </td><td>1</td></tr>\n",
       "\t<tr><td>2002-06-03</td><td>38</td><td> 9</td><td>NA      </td><td>2</td></tr>\n",
       "\t<tr><td>2000-08-12</td><td>38</td><td>10</td><td>Immature</td><td>2</td></tr>\n",
       "\t<tr><td>2000-07-18</td><td>38</td><td>11</td><td>Immature</td><td>2</td></tr>\n",
       "\t<tr><td>2002-06-21</td><td>38</td><td>12</td><td>Immature</td><td>1</td></tr>\n",
       "\t<tr><td>2002-06-16</td><td>38</td><td>18</td><td>Mature  </td><td>2</td></tr>\n",
       "\t<tr><td>2003-10-03</td><td>39</td><td>11</td><td>Immature</td><td>2</td></tr>\n",
       "\t<tr><td>2000-08-06</td><td>39</td><td>11</td><td>Mature  </td><td>2</td></tr>\n",
       "\t<tr><td>2000-05-13</td><td>39</td><td>13</td><td>Immature</td><td>1</td></tr>\n",
       "\t<tr><td>2002-08-30</td><td>39</td><td>14</td><td>Mature  </td><td>6</td></tr>\n",
       "\t<tr><td>⋮</td><td>⋮</td><td>⋮</td><td>⋮</td><td>⋮</td></tr>\n",
       "\t<tr><td>2001-05-21</td><td>52</td><td>13</td><td>Mature</td><td>6</td></tr>\n",
       "\t<tr><td>2002-10-07</td><td>52</td><td>30</td><td>Mature</td><td>6</td></tr>\n",
       "\t<tr><td>2002-06-16</td><td>52</td><td>30</td><td>Mature</td><td>6</td></tr>\n",
       "\t<tr><td>2002-06-03</td><td>52</td><td>31</td><td>Mature</td><td>2</td></tr>\n",
       "\t<tr><td>2003-09-07</td><td>53</td><td>18</td><td>NA    </td><td>2</td></tr>\n",
       "\t<tr><td>2000-05-04</td><td>53</td><td>26</td><td>Mature</td><td>5</td></tr>\n",
       "\t<tr><td>2003-10-04</td><td>53</td><td>28</td><td>Mature</td><td>7</td></tr>\n",
       "\t<tr><td>2000-05-04</td><td>53</td><td>29</td><td>Mature</td><td>5</td></tr>\n",
       "\t<tr><td>2002-10-07</td><td>53</td><td>30</td><td>Mature</td><td>6</td></tr>\n",
       "\t<tr><td>2002-08-05</td><td>54</td><td>20</td><td>Mature</td><td>6</td></tr>\n",
       "\t<tr><td>2002-06-16</td><td>54</td><td>42</td><td>Mature</td><td>3</td></tr>\n",
       "\t<tr><td>2002-09-01</td><td>56</td><td>44</td><td>Mature</td><td>6</td></tr>\n",
       "\t<tr><td>2003-07-05</td><td>57</td><td>18</td><td>Mature</td><td>7</td></tr>\n",
       "\t<tr><td>2003-05-03</td><td>57</td><td>19</td><td>Mature</td><td>3</td></tr>\n",
       "\t<tr><td>2002-08-18</td><td>57</td><td>32</td><td>Mature</td><td>6</td></tr>\n",
       "\t<tr><td>2002-07-28</td><td>57</td><td>70</td><td>Mature</td><td>6</td></tr>\n",
       "\t<tr><td>2003-06-13</td><td>58</td><td>32</td><td>Mature</td><td>4</td></tr>\n",
       "\t<tr><td>2002-08-06</td><td>58</td><td>39</td><td>Mature</td><td>6</td></tr>\n",
       "\t<tr><td>2003-08-26</td><td>60</td><td>28</td><td>Mature</td><td>5</td></tr>\n",
       "\t<tr><td>2003-10-06</td><td>60</td><td>28</td><td>Mature</td><td>7</td></tr>\n",
       "\t<tr><td>2002-07-26</td><td>60</td><td>33</td><td>Mature</td><td>6</td></tr>\n",
       "\t<tr><td>2001-05-18</td><td>61</td><td>42</td><td>Mature</td><td>4</td></tr>\n",
       "\t<tr><td>2000-08-08</td><td>61</td><td>89</td><td>Mature</td><td>6</td></tr>\n",
       "\t<tr><td>2001-04-23</td><td>62</td><td>61</td><td>Mature</td><td>6</td></tr>\n",
       "\t<tr><td>2003-08-14</td><td>64</td><td>42</td><td>Mature</td><td>7</td></tr>\n",
       "\t<tr><td>2002-08-09</td><td>65</td><td>54</td><td>Mature</td><td>6</td></tr>\n",
       "\t<tr><td>2002-10-07</td><td>65</td><td>94</td><td>Mature</td><td>6</td></tr>\n",
       "\t<tr><td>2002-08-18</td><td>67</td><td>50</td><td>Mature</td><td>6</td></tr>\n",
       "\t<tr><td>2002-10-07</td><td>68</td><td>88</td><td>Mature</td><td>6</td></tr>\n",
       "\t<tr><td>2001-04-23</td><td>70</td><td>66</td><td>Mature</td><td>4</td></tr>\n",
       "</tbody>\n",
       "</table>\n"
      ],
      "text/latex": [
       "A spec\\_tbl\\_df: 154 × 5\n",
       "\\begin{tabular}{lllll}\n",
       " date & length & age & maturity & stage\\\\\n",
       " <dttm> & <dbl> & <dbl> & <chr> & <chr>\\\\\n",
       "\\hline\n",
       "\t 2003-09-02 & 31 & 10 & Immature & 1\\\\\n",
       "\t 2002-10-07 & 32 &  6 & Immature & 1\\\\\n",
       "\t 2000-07-18 & 32 & 11 & Immature & 1\\\\\n",
       "\t 2001-06-11 & 32 & 11 & Immature & 2\\\\\n",
       "\t 2000-08-08 & 32 & 13 & Immature & 2\\\\\n",
       "\t 2003-10-04 & 33 &  9 & Immature & 1\\\\\n",
       "\t 2000-07-17 & 33 & 10 & Immature & 1\\\\\n",
       "\t 2002-08-18 & 34 &  8 & Immature & 1\\\\\n",
       "\t 2000-07-12 & 34 & 10 & Immature & 1\\\\\n",
       "\t 2000-07-25 & 34 & 11 & Immature & 1\\\\\n",
       "\t 2000-07-17 & 35 & 11 & Immature & 1\\\\\n",
       "\t 2002-07-13 & 35 & 12 & Immature & 1\\\\\n",
       "\t 2000-07-17 & 36 & 10 & Immature & 1\\\\\n",
       "\t 2000-08-06 & 36 & 10 & Mature   & 2\\\\\n",
       "\t 2003-07-16 & 36 & 10 & Mature   & 1\\\\\n",
       "\t 2000-07-25 & 36 & 12 & Immature & 1\\\\\n",
       "\t 2003-08-27 & 37 &  9 & Immature & 1\\\\\n",
       "\t 2000-07-18 & 37 &  9 & Mature   & 2\\\\\n",
       "\t 2000-07-25 & 37 & 11 & Immature & 1\\\\\n",
       "\t 2000-05-13 & 37 & 14 & Immature & 1\\\\\n",
       "\t 2002-06-21 & 37 & 17 & Mature   & 1\\\\\n",
       "\t 2002-06-03 & 38 &  9 & NA       & 2\\\\\n",
       "\t 2000-08-12 & 38 & 10 & Immature & 2\\\\\n",
       "\t 2000-07-18 & 38 & 11 & Immature & 2\\\\\n",
       "\t 2002-06-21 & 38 & 12 & Immature & 1\\\\\n",
       "\t 2002-06-16 & 38 & 18 & Mature   & 2\\\\\n",
       "\t 2003-10-03 & 39 & 11 & Immature & 2\\\\\n",
       "\t 2000-08-06 & 39 & 11 & Mature   & 2\\\\\n",
       "\t 2000-05-13 & 39 & 13 & Immature & 1\\\\\n",
       "\t 2002-08-30 & 39 & 14 & Mature   & 6\\\\\n",
       "\t ⋮ & ⋮ & ⋮ & ⋮ & ⋮\\\\\n",
       "\t 2001-05-21 & 52 & 13 & Mature & 6\\\\\n",
       "\t 2002-10-07 & 52 & 30 & Mature & 6\\\\\n",
       "\t 2002-06-16 & 52 & 30 & Mature & 6\\\\\n",
       "\t 2002-06-03 & 52 & 31 & Mature & 2\\\\\n",
       "\t 2003-09-07 & 53 & 18 & NA     & 2\\\\\n",
       "\t 2000-05-04 & 53 & 26 & Mature & 5\\\\\n",
       "\t 2003-10-04 & 53 & 28 & Mature & 7\\\\\n",
       "\t 2000-05-04 & 53 & 29 & Mature & 5\\\\\n",
       "\t 2002-10-07 & 53 & 30 & Mature & 6\\\\\n",
       "\t 2002-08-05 & 54 & 20 & Mature & 6\\\\\n",
       "\t 2002-06-16 & 54 & 42 & Mature & 3\\\\\n",
       "\t 2002-09-01 & 56 & 44 & Mature & 6\\\\\n",
       "\t 2003-07-05 & 57 & 18 & Mature & 7\\\\\n",
       "\t 2003-05-03 & 57 & 19 & Mature & 3\\\\\n",
       "\t 2002-08-18 & 57 & 32 & Mature & 6\\\\\n",
       "\t 2002-07-28 & 57 & 70 & Mature & 6\\\\\n",
       "\t 2003-06-13 & 58 & 32 & Mature & 4\\\\\n",
       "\t 2002-08-06 & 58 & 39 & Mature & 6\\\\\n",
       "\t 2003-08-26 & 60 & 28 & Mature & 5\\\\\n",
       "\t 2003-10-06 & 60 & 28 & Mature & 7\\\\\n",
       "\t 2002-07-26 & 60 & 33 & Mature & 6\\\\\n",
       "\t 2001-05-18 & 61 & 42 & Mature & 4\\\\\n",
       "\t 2000-08-08 & 61 & 89 & Mature & 6\\\\\n",
       "\t 2001-04-23 & 62 & 61 & Mature & 6\\\\\n",
       "\t 2003-08-14 & 64 & 42 & Mature & 7\\\\\n",
       "\t 2002-08-09 & 65 & 54 & Mature & 6\\\\\n",
       "\t 2002-10-07 & 65 & 94 & Mature & 6\\\\\n",
       "\t 2002-08-18 & 67 & 50 & Mature & 6\\\\\n",
       "\t 2002-10-07 & 68 & 88 & Mature & 6\\\\\n",
       "\t 2001-04-23 & 70 & 66 & Mature & 4\\\\\n",
       "\\end{tabular}\n"
      ],
      "text/markdown": [
       "\n",
       "A spec_tbl_df: 154 × 5\n",
       "\n",
       "| date &lt;dttm&gt; | length &lt;dbl&gt; | age &lt;dbl&gt; | maturity &lt;chr&gt; | stage &lt;chr&gt; |\n",
       "|---|---|---|---|---|\n",
       "| 2003-09-02 | 31 | 10 | Immature | 1 |\n",
       "| 2002-10-07 | 32 |  6 | Immature | 1 |\n",
       "| 2000-07-18 | 32 | 11 | Immature | 1 |\n",
       "| 2001-06-11 | 32 | 11 | Immature | 2 |\n",
       "| 2000-08-08 | 32 | 13 | Immature | 2 |\n",
       "| 2003-10-04 | 33 |  9 | Immature | 1 |\n",
       "| 2000-07-17 | 33 | 10 | Immature | 1 |\n",
       "| 2002-08-18 | 34 |  8 | Immature | 1 |\n",
       "| 2000-07-12 | 34 | 10 | Immature | 1 |\n",
       "| 2000-07-25 | 34 | 11 | Immature | 1 |\n",
       "| 2000-07-17 | 35 | 11 | Immature | 1 |\n",
       "| 2002-07-13 | 35 | 12 | Immature | 1 |\n",
       "| 2000-07-17 | 36 | 10 | Immature | 1 |\n",
       "| 2000-08-06 | 36 | 10 | Mature   | 2 |\n",
       "| 2003-07-16 | 36 | 10 | Mature   | 1 |\n",
       "| 2000-07-25 | 36 | 12 | Immature | 1 |\n",
       "| 2003-08-27 | 37 |  9 | Immature | 1 |\n",
       "| 2000-07-18 | 37 |  9 | Mature   | 2 |\n",
       "| 2000-07-25 | 37 | 11 | Immature | 1 |\n",
       "| 2000-05-13 | 37 | 14 | Immature | 1 |\n",
       "| 2002-06-21 | 37 | 17 | Mature   | 1 |\n",
       "| 2002-06-03 | 38 |  9 | NA       | 2 |\n",
       "| 2000-08-12 | 38 | 10 | Immature | 2 |\n",
       "| 2000-07-18 | 38 | 11 | Immature | 2 |\n",
       "| 2002-06-21 | 38 | 12 | Immature | 1 |\n",
       "| 2002-06-16 | 38 | 18 | Mature   | 2 |\n",
       "| 2003-10-03 | 39 | 11 | Immature | 2 |\n",
       "| 2000-08-06 | 39 | 11 | Mature   | 2 |\n",
       "| 2000-05-13 | 39 | 13 | Immature | 1 |\n",
       "| 2002-08-30 | 39 | 14 | Mature   | 6 |\n",
       "| ⋮ | ⋮ | ⋮ | ⋮ | ⋮ |\n",
       "| 2001-05-21 | 52 | 13 | Mature | 6 |\n",
       "| 2002-10-07 | 52 | 30 | Mature | 6 |\n",
       "| 2002-06-16 | 52 | 30 | Mature | 6 |\n",
       "| 2002-06-03 | 52 | 31 | Mature | 2 |\n",
       "| 2003-09-07 | 53 | 18 | NA     | 2 |\n",
       "| 2000-05-04 | 53 | 26 | Mature | 5 |\n",
       "| 2003-10-04 | 53 | 28 | Mature | 7 |\n",
       "| 2000-05-04 | 53 | 29 | Mature | 5 |\n",
       "| 2002-10-07 | 53 | 30 | Mature | 6 |\n",
       "| 2002-08-05 | 54 | 20 | Mature | 6 |\n",
       "| 2002-06-16 | 54 | 42 | Mature | 3 |\n",
       "| 2002-09-01 | 56 | 44 | Mature | 6 |\n",
       "| 2003-07-05 | 57 | 18 | Mature | 7 |\n",
       "| 2003-05-03 | 57 | 19 | Mature | 3 |\n",
       "| 2002-08-18 | 57 | 32 | Mature | 6 |\n",
       "| 2002-07-28 | 57 | 70 | Mature | 6 |\n",
       "| 2003-06-13 | 58 | 32 | Mature | 4 |\n",
       "| 2002-08-06 | 58 | 39 | Mature | 6 |\n",
       "| 2003-08-26 | 60 | 28 | Mature | 5 |\n",
       "| 2003-10-06 | 60 | 28 | Mature | 7 |\n",
       "| 2002-07-26 | 60 | 33 | Mature | 6 |\n",
       "| 2001-05-18 | 61 | 42 | Mature | 4 |\n",
       "| 2000-08-08 | 61 | 89 | Mature | 6 |\n",
       "| 2001-04-23 | 62 | 61 | Mature | 6 |\n",
       "| 2003-08-14 | 64 | 42 | Mature | 7 |\n",
       "| 2002-08-09 | 65 | 54 | Mature | 6 |\n",
       "| 2002-10-07 | 65 | 94 | Mature | 6 |\n",
       "| 2002-08-18 | 67 | 50 | Mature | 6 |\n",
       "| 2002-10-07 | 68 | 88 | Mature | 6 |\n",
       "| 2001-04-23 | 70 | 66 | Mature | 4 |\n",
       "\n"
      ],
      "text/plain": [
       "    date       length age maturity stage\n",
       "1   2003-09-02 31     10  Immature 1    \n",
       "2   2002-10-07 32      6  Immature 1    \n",
       "3   2000-07-18 32     11  Immature 1    \n",
       "4   2001-06-11 32     11  Immature 2    \n",
       "5   2000-08-08 32     13  Immature 2    \n",
       "6   2003-10-04 33      9  Immature 1    \n",
       "7   2000-07-17 33     10  Immature 1    \n",
       "8   2002-08-18 34      8  Immature 1    \n",
       "9   2000-07-12 34     10  Immature 1    \n",
       "10  2000-07-25 34     11  Immature 1    \n",
       "11  2000-07-17 35     11  Immature 1    \n",
       "12  2002-07-13 35     12  Immature 1    \n",
       "13  2000-07-17 36     10  Immature 1    \n",
       "14  2000-08-06 36     10  Mature   2    \n",
       "15  2003-07-16 36     10  Mature   1    \n",
       "16  2000-07-25 36     12  Immature 1    \n",
       "17  2003-08-27 37      9  Immature 1    \n",
       "18  2000-07-18 37      9  Mature   2    \n",
       "19  2000-07-25 37     11  Immature 1    \n",
       "20  2000-05-13 37     14  Immature 1    \n",
       "21  2002-06-21 37     17  Mature   1    \n",
       "22  2002-06-03 38      9  NA       2    \n",
       "23  2000-08-12 38     10  Immature 2    \n",
       "24  2000-07-18 38     11  Immature 2    \n",
       "25  2002-06-21 38     12  Immature 1    \n",
       "26  2002-06-16 38     18  Mature   2    \n",
       "27  2003-10-03 39     11  Immature 2    \n",
       "28  2000-08-06 39     11  Mature   2    \n",
       "29  2000-05-13 39     13  Immature 1    \n",
       "30  2002-08-30 39     14  Mature   6    \n",
       "⋮   ⋮          ⋮      ⋮   ⋮        ⋮    \n",
       "125 2001-05-21 52     13  Mature   6    \n",
       "126 2002-10-07 52     30  Mature   6    \n",
       "127 2002-06-16 52     30  Mature   6    \n",
       "128 2002-06-03 52     31  Mature   2    \n",
       "129 2003-09-07 53     18  NA       2    \n",
       "130 2000-05-04 53     26  Mature   5    \n",
       "131 2003-10-04 53     28  Mature   7    \n",
       "132 2000-05-04 53     29  Mature   5    \n",
       "133 2002-10-07 53     30  Mature   6    \n",
       "134 2002-08-05 54     20  Mature   6    \n",
       "135 2002-06-16 54     42  Mature   3    \n",
       "136 2002-09-01 56     44  Mature   6    \n",
       "137 2003-07-05 57     18  Mature   7    \n",
       "138 2003-05-03 57     19  Mature   3    \n",
       "139 2002-08-18 57     32  Mature   6    \n",
       "140 2002-07-28 57     70  Mature   6    \n",
       "141 2003-06-13 58     32  Mature   4    \n",
       "142 2002-08-06 58     39  Mature   6    \n",
       "143 2003-08-26 60     28  Mature   5    \n",
       "144 2003-10-06 60     28  Mature   7    \n",
       "145 2002-07-26 60     33  Mature   6    \n",
       "146 2001-05-18 61     42  Mature   4    \n",
       "147 2000-08-08 61     89  Mature   6    \n",
       "148 2001-04-23 62     61  Mature   6    \n",
       "149 2003-08-14 64     42  Mature   7    \n",
       "150 2002-08-09 65     54  Mature   6    \n",
       "151 2002-10-07 65     94  Mature   6    \n",
       "152 2002-08-18 67     50  Mature   6    \n",
       "153 2002-10-07 68     88  Mature   6    \n",
       "154 2001-04-23 70     66  Mature   4    "
      ]
     },
     "metadata": {},
     "output_type": "display_data"
    }
   ],
   "source": [
    "df %>% \n",
    "  filter(!(year(date) %in% bad_years))"
   ]
  },
  {
   "cell_type": "markdown",
   "id": "fbd07555",
   "metadata": {},
   "source": [
    "* Count the number of entries and make sure there are less observations "
   ]
  },
  {
   "cell_type": "code",
   "execution_count": 67,
   "id": "db94f3ea",
   "metadata": {},
   "outputs": [
    {
     "data": {
      "text/html": [
       "158"
      ],
      "text/latex": [
       "158"
      ],
      "text/markdown": [
       "158"
      ],
      "text/plain": [
       "[1] 158"
      ]
     },
     "metadata": {},
     "output_type": "display_data"
    }
   ],
   "source": [
    "nrow(df)"
   ]
  },
  {
   "cell_type": "markdown",
   "id": "cfe4a54f",
   "metadata": {},
   "source": [
    "* Model the fish maturity using the fish length \n",
    "  * i.e. predict maturity from the lengh data\n",
    "\n",
    "* You can make any changes to the data needed to build this model"
   ]
  },
  {
   "cell_type": "code",
   "execution_count": null,
   "id": "153aa968",
   "metadata": {},
   "outputs": [],
   "source": [
    "### Write you code here"
   ]
  },
  {
   "cell_type": "code",
   "execution_count": 64,
   "id": "867c0dcc",
   "metadata": {},
   "outputs": [
    {
     "data": {
      "text/plain": [
       "\n",
       "Call:\n",
       "glm(formula = maturity ~ length, family = binomial, data = df)\n",
       "\n",
       "Deviance Residuals: \n",
       "     Min        1Q    Median        3Q       Max  \n",
       "-2.99494   0.01042   0.18713   0.35637   1.71514  \n",
       "\n",
       "Coefficients:\n",
       "             Estimate Std. Error z value Pr(>|z|)    \n",
       "(Intercept) -16.94826    3.23395  -5.241 1.60e-07 ***\n",
       "length        0.43718    0.07985   5.475 4.37e-08 ***\n",
       "---\n",
       "Signif. codes:  0 ‘***’ 0.001 ‘**’ 0.01 ‘*’ 0.05 ‘.’ 0.1 ‘ ’ 1\n",
       "\n",
       "(Dispersion parameter for binomial family taken to be 1)\n",
       "\n",
       "    Null deviance: 149.221  on 147  degrees of freedom\n",
       "Residual deviance:  74.001  on 146  degrees of freedom\n",
       "  (10 observations deleted due to missingness)\n",
       "AIC: 78.001\n",
       "\n",
       "Number of Fisher Scoring iterations: 7\n"
      ]
     },
     "metadata": {},
     "output_type": "display_data"
    }
   ],
   "source": [
    "df$maturity = as.factor(df$maturity)\n",
    "\n",
    "glm_model_1 = glm(maturity~length,data=df,family=binomial)\n",
    "summary(glm_model_1)"
   ]
  },
  {
   "cell_type": "code",
   "execution_count": null,
   "id": "70da1497",
   "metadata": {},
   "outputs": [],
   "source": [
    "* Generate a plot to show the data and the fit of the model (sigmoid)"
   ]
  },
  {
   "cell_type": "code",
   "execution_count": null,
   "id": "b0fed825",
   "metadata": {},
   "outputs": [],
   "source": [
    "# Write you code here"
   ]
  },
  {
   "cell_type": "markdown",
   "id": "c23a06bc",
   "metadata": {},
   "source": [
    "* What is the length at which the probability of picking a mature fish is 0.5? \n",
    "  * You can eyeball it or can you compute it formally from the logistic regression"
   ]
  },
  {
   "cell_type": "code",
   "execution_count": 65,
   "id": "85bf321a",
   "metadata": {},
   "outputs": [],
   "source": [
    "# Write your answer here"
   ]
  },
  {
   "cell_type": "markdown",
   "id": "f4681215",
   "metadata": {},
   "source": [
    "* Add an era column to your dataset such that\n",
    " * era has the value \"pre_2000\" if the year of the observation is pre 2002\n",
    " * era has the value \"era2002 and after\" otherwise\n",
    "\n",
    "* Hint: Check the `if_else` in dplyr\n",
    "  * https://dplyr.tidyverse.org/reference/if_else.html\n",
    "\n",
    "* Bonus: implement this operation using a `pipeline` and `mutate`"
   ]
  },
  {
   "cell_type": "code",
   "execution_count": null,
   "id": "71677be5",
   "metadata": {},
   "outputs": [],
   "source": [
    "### Write your code here"
   ]
  },
  {
   "cell_type": "markdown",
   "id": "317e357f",
   "metadata": {},
   "source": [
    "* You suspected that some major environmental stressor that occurred in 2002 had an impact on the fish length and maturity\n",
    "* Build a logistic regression for maturity as an outcome using `era` and `length` as predictive variables\n",
    "  * Make sure your formula accounts for interactions\n",
    "\n",
    "* Use an ANOVA to test whether maturity is a function of both length and era\n",
    "* Does the maturity differ between the two eras?\n",
    "  i.e. is the era model coefficient significant?"
   ]
  },
  {
   "cell_type": "markdown",
   "id": "fc79edb3",
   "metadata": {},
   "source": [
    "### Final note:\n",
    "\n",
    "This practical is inspired from:\n",
    "http://derekogle.com/IFAR/supplements/maturity/index.html#fitting-the-logistic-regression-model\n",
    "\n",
    "The link above contains most answers, so please do not read until you are done with this practical."
   ]
  },
  {
   "cell_type": "code",
   "execution_count": null,
   "id": "0c1bc994",
   "metadata": {},
   "outputs": [],
   "source": []
  }
 ],
 "metadata": {
  "kernelspec": {
   "display_name": "R",
   "language": "R",
   "name": "ir"
  },
  "language_info": {
   "codemirror_mode": "r",
   "file_extension": ".r",
   "mimetype": "text/x-r-source",
   "name": "R",
   "pygments_lexer": "r",
   "version": "4.0.2"
  }
 },
 "nbformat": 4,
 "nbformat_minor": 5
}
