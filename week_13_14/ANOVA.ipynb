{
 "cells": [
  {
   "cell_type": "code",
   "execution_count": 10,
   "id": "873b6d5b",
   "metadata": {},
   "outputs": [
    {
     "name": "stderr",
     "output_type": "stream",
     "text": [
      "── \u001b[1mAttaching packages\u001b[22m ─────────────────────────────────────── tidyverse 1.3.1 ──\n",
      "\n",
      "\u001b[32m✔\u001b[39m \u001b[34mggplot2\u001b[39m 3.3.5     \u001b[32m✔\u001b[39m \u001b[34mpurrr  \u001b[39m 0.3.4\n",
      "\u001b[32m✔\u001b[39m \u001b[34mtibble \u001b[39m 3.1.4     \u001b[32m✔\u001b[39m \u001b[34mdplyr  \u001b[39m 1.0.7\n",
      "\u001b[32m✔\u001b[39m \u001b[34mtidyr  \u001b[39m 1.1.3     \u001b[32m✔\u001b[39m \u001b[34mstringr\u001b[39m 1.4.0\n",
      "\u001b[32m✔\u001b[39m \u001b[34mreadr  \u001b[39m 2.0.1     \u001b[32m✔\u001b[39m \u001b[34mforcats\u001b[39m 0.5.1\n",
      "\n",
      "── \u001b[1mConflicts\u001b[22m ────────────────────────────────────────── tidyverse_conflicts() ──\n",
      "\u001b[31m✖\u001b[39m \u001b[34mdplyr\u001b[39m::\u001b[32mfilter()\u001b[39m masks \u001b[34mstats\u001b[39m::filter()\n",
      "\u001b[31m✖\u001b[39m \u001b[34mdplyr\u001b[39m::\u001b[32mlag()\u001b[39m    masks \u001b[34mstats\u001b[39m::lag()\n",
      "\n"
     ]
    }
   ],
   "source": [
    "library(tidyverse)"
   ]
  },
  {
   "cell_type": "markdown",
   "id": "5f23f7e2",
   "metadata": {},
   "source": [
    "### Analysis of variance (ANOVA)\n",
    "\n",
    "* Analysis of variance is one of the most used tests in Stats \n",
    "\n",
    "* Concerned with the differences in means.\n",
    " * `Sort of` generalization of t-test to multiple samples"
   ]
  },
  {
   "cell_type": "code",
   "execution_count": 19,
   "id": "ce042c69",
   "metadata": {},
   "outputs": [
    {
     "data": {
      "text/html": [
       "<table class=\"dataframe\">\n",
       "<caption>A data.frame: 18 × 3</caption>\n",
       "<thead>\n",
       "\t<tr><th scope=col>drug</th><th scope=col>therapy</th><th scope=col>mood.gain</th></tr>\n",
       "\t<tr><th scope=col>&lt;fct&gt;</th><th scope=col>&lt;fct&gt;</th><th scope=col>&lt;dbl&gt;</th></tr>\n",
       "</thead>\n",
       "<tbody>\n",
       "\t<tr><td>placebo </td><td>no.therapy</td><td>0.5</td></tr>\n",
       "\t<tr><td>placebo </td><td>no.therapy</td><td>0.3</td></tr>\n",
       "\t<tr><td>placebo </td><td>no.therapy</td><td>0.1</td></tr>\n",
       "\t<tr><td>anxifree</td><td>no.therapy</td><td>0.6</td></tr>\n",
       "\t<tr><td>anxifree</td><td>no.therapy</td><td>0.4</td></tr>\n",
       "\t<tr><td>anxifree</td><td>no.therapy</td><td>0.2</td></tr>\n",
       "\t<tr><td>joyzepam</td><td>no.therapy</td><td>1.4</td></tr>\n",
       "\t<tr><td>joyzepam</td><td>no.therapy</td><td>1.7</td></tr>\n",
       "\t<tr><td>joyzepam</td><td>no.therapy</td><td>1.3</td></tr>\n",
       "\t<tr><td>placebo </td><td>CBT       </td><td>0.6</td></tr>\n",
       "\t<tr><td>placebo </td><td>CBT       </td><td>0.9</td></tr>\n",
       "\t<tr><td>placebo </td><td>CBT       </td><td>0.3</td></tr>\n",
       "\t<tr><td>anxifree</td><td>CBT       </td><td>1.1</td></tr>\n",
       "\t<tr><td>anxifree</td><td>CBT       </td><td>0.8</td></tr>\n",
       "\t<tr><td>anxifree</td><td>CBT       </td><td>1.2</td></tr>\n",
       "\t<tr><td>joyzepam</td><td>CBT       </td><td>1.8</td></tr>\n",
       "\t<tr><td>joyzepam</td><td>CBT       </td><td>1.3</td></tr>\n",
       "\t<tr><td>joyzepam</td><td>CBT       </td><td>1.4</td></tr>\n",
       "</tbody>\n",
       "</table>\n"
      ],
      "text/latex": [
       "A data.frame: 18 × 3\n",
       "\\begin{tabular}{lll}\n",
       " drug & therapy & mood.gain\\\\\n",
       " <fct> & <fct> & <dbl>\\\\\n",
       "\\hline\n",
       "\t placebo  & no.therapy & 0.5\\\\\n",
       "\t placebo  & no.therapy & 0.3\\\\\n",
       "\t placebo  & no.therapy & 0.1\\\\\n",
       "\t anxifree & no.therapy & 0.6\\\\\n",
       "\t anxifree & no.therapy & 0.4\\\\\n",
       "\t anxifree & no.therapy & 0.2\\\\\n",
       "\t joyzepam & no.therapy & 1.4\\\\\n",
       "\t joyzepam & no.therapy & 1.7\\\\\n",
       "\t joyzepam & no.therapy & 1.3\\\\\n",
       "\t placebo  & CBT        & 0.6\\\\\n",
       "\t placebo  & CBT        & 0.9\\\\\n",
       "\t placebo  & CBT        & 0.3\\\\\n",
       "\t anxifree & CBT        & 1.1\\\\\n",
       "\t anxifree & CBT        & 0.8\\\\\n",
       "\t anxifree & CBT        & 1.2\\\\\n",
       "\t joyzepam & CBT        & 1.8\\\\\n",
       "\t joyzepam & CBT        & 1.3\\\\\n",
       "\t joyzepam & CBT        & 1.4\\\\\n",
       "\\end{tabular}\n"
      ],
      "text/markdown": [
       "\n",
       "A data.frame: 18 × 3\n",
       "\n",
       "| drug &lt;fct&gt; | therapy &lt;fct&gt; | mood.gain &lt;dbl&gt; |\n",
       "|---|---|---|\n",
       "| placebo  | no.therapy | 0.5 |\n",
       "| placebo  | no.therapy | 0.3 |\n",
       "| placebo  | no.therapy | 0.1 |\n",
       "| anxifree | no.therapy | 0.6 |\n",
       "| anxifree | no.therapy | 0.4 |\n",
       "| anxifree | no.therapy | 0.2 |\n",
       "| joyzepam | no.therapy | 1.4 |\n",
       "| joyzepam | no.therapy | 1.7 |\n",
       "| joyzepam | no.therapy | 1.3 |\n",
       "| placebo  | CBT        | 0.6 |\n",
       "| placebo  | CBT        | 0.9 |\n",
       "| placebo  | CBT        | 0.3 |\n",
       "| anxifree | CBT        | 1.1 |\n",
       "| anxifree | CBT        | 0.8 |\n",
       "| anxifree | CBT        | 1.2 |\n",
       "| joyzepam | CBT        | 1.8 |\n",
       "| joyzepam | CBT        | 1.3 |\n",
       "| joyzepam | CBT        | 1.4 |\n",
       "\n"
      ],
      "text/plain": [
       "   drug     therapy    mood.gain\n",
       "1  placebo  no.therapy 0.5      \n",
       "2  placebo  no.therapy 0.3      \n",
       "3  placebo  no.therapy 0.1      \n",
       "4  anxifree no.therapy 0.6      \n",
       "5  anxifree no.therapy 0.4      \n",
       "6  anxifree no.therapy 0.2      \n",
       "7  joyzepam no.therapy 1.4      \n",
       "8  joyzepam no.therapy 1.7      \n",
       "9  joyzepam no.therapy 1.3      \n",
       "10 placebo  CBT        0.6      \n",
       "11 placebo  CBT        0.9      \n",
       "12 placebo  CBT        0.3      \n",
       "13 anxifree CBT        1.1      \n",
       "14 anxifree CBT        0.8      \n",
       "15 anxifree CBT        1.2      \n",
       "16 joyzepam CBT        1.8      \n",
       "17 joyzepam CBT        1.3      \n",
       "18 joyzepam CBT        1.4      "
      ]
     },
     "metadata": {},
     "output_type": "display_data"
    }
   ],
   "source": [
    "load(\"data/clinicaltrial.Rdata\")\n",
    "clin.trial"
   ]
  },
  {
   "cell_type": "code",
   "execution_count": 8,
   "id": "5a85bcbd",
   "metadata": {},
   "outputs": [
    {
     "data": {
      "text/plain": [
       "drug\n",
       " placebo anxifree joyzepam \n",
       "       6        6        6 "
      ]
     },
     "metadata": {},
     "output_type": "display_data"
    },
    {
     "data": {
      "text/html": [
       "<table class=\"dataframe\">\n",
       "<caption>A data.frame: 3 × 2</caption>\n",
       "<thead>\n",
       "\t<tr><th scope=col>drug</th><th scope=col>mood.gain</th></tr>\n",
       "\t<tr><th scope=col>&lt;fct&gt;</th><th scope=col>&lt;dbl&gt;</th></tr>\n",
       "</thead>\n",
       "<tbody>\n",
       "\t<tr><td>placebo </td><td>0.4500000</td></tr>\n",
       "\t<tr><td>anxifree</td><td>0.7166667</td></tr>\n",
       "\t<tr><td>joyzepam</td><td>1.4833333</td></tr>\n",
       "</tbody>\n",
       "</table>\n"
      ],
      "text/latex": [
       "A data.frame: 3 × 2\n",
       "\\begin{tabular}{ll}\n",
       " drug & mood.gain\\\\\n",
       " <fct> & <dbl>\\\\\n",
       "\\hline\n",
       "\t placebo  & 0.4500000\\\\\n",
       "\t anxifree & 0.7166667\\\\\n",
       "\t joyzepam & 1.4833333\\\\\n",
       "\\end{tabular}\n"
      ],
      "text/markdown": [
       "\n",
       "A data.frame: 3 × 2\n",
       "\n",
       "| drug &lt;fct&gt; | mood.gain &lt;dbl&gt; |\n",
       "|---|---|\n",
       "| placebo  | 0.4500000 |\n",
       "| anxifree | 0.7166667 |\n",
       "| joyzepam | 1.4833333 |\n",
       "\n"
      ],
      "text/plain": [
       "  drug     mood.gain\n",
       "1 placebo  0.4500000\n",
       "2 anxifree 0.7166667\n",
       "3 joyzepam 1.4833333"
      ]
     },
     "metadata": {},
     "output_type": "display_data"
    }
   ],
   "source": [
    "xtabs( ~drug, clin.trial)\n"
   ]
  },
  {
   "cell_type": "code",
   "execution_count": 9,
   "id": "797bfa00",
   "metadata": {},
   "outputs": [
    {
     "data": {
      "text/html": [
       "<table class=\"dataframe\">\n",
       "<caption>A data.frame: 3 × 2</caption>\n",
       "<thead>\n",
       "\t<tr><th scope=col>drug</th><th scope=col>mood.gain</th></tr>\n",
       "\t<tr><th scope=col>&lt;fct&gt;</th><th scope=col>&lt;dbl&gt;</th></tr>\n",
       "</thead>\n",
       "<tbody>\n",
       "\t<tr><td>placebo </td><td>0.4500000</td></tr>\n",
       "\t<tr><td>anxifree</td><td>0.7166667</td></tr>\n",
       "\t<tr><td>joyzepam</td><td>1.4833333</td></tr>\n",
       "</tbody>\n",
       "</table>\n"
      ],
      "text/latex": [
       "A data.frame: 3 × 2\n",
       "\\begin{tabular}{ll}\n",
       " drug & mood.gain\\\\\n",
       " <fct> & <dbl>\\\\\n",
       "\\hline\n",
       "\t placebo  & 0.4500000\\\\\n",
       "\t anxifree & 0.7166667\\\\\n",
       "\t joyzepam & 1.4833333\\\\\n",
       "\\end{tabular}\n"
      ],
      "text/markdown": [
       "\n",
       "A data.frame: 3 × 2\n",
       "\n",
       "| drug &lt;fct&gt; | mood.gain &lt;dbl&gt; |\n",
       "|---|---|\n",
       "| placebo  | 0.4500000 |\n",
       "| anxifree | 0.7166667 |\n",
       "| joyzepam | 1.4833333 |\n",
       "\n"
      ],
      "text/plain": [
       "  drug     mood.gain\n",
       "1 placebo  0.4500000\n",
       "2 anxifree 0.7166667\n",
       "3 joyzepam 1.4833333"
      ]
     },
     "metadata": {},
     "output_type": "display_data"
    }
   ],
   "source": [
    "aggregate( mood.gain ~ drug, clin.trial, mean )"
   ]
  },
  {
   "cell_type": "code",
   "execution_count": 11,
   "id": "2b2bd94e",
   "metadata": {},
   "outputs": [
    {
     "data": {
      "text/html": [
       "<table class=\"dataframe\">\n",
       "<caption>A data.frame: 3 × 2</caption>\n",
       "<thead>\n",
       "\t<tr><th scope=col>drug</th><th scope=col>mood.gain</th></tr>\n",
       "\t<tr><th scope=col>&lt;fct&gt;</th><th scope=col>&lt;dbl&gt;</th></tr>\n",
       "</thead>\n",
       "<tbody>\n",
       "\t<tr><td>placebo </td><td>0.2810694</td></tr>\n",
       "\t<tr><td>anxifree</td><td>0.3920034</td></tr>\n",
       "\t<tr><td>joyzepam</td><td>0.2136976</td></tr>\n",
       "</tbody>\n",
       "</table>\n"
      ],
      "text/latex": [
       "A data.frame: 3 × 2\n",
       "\\begin{tabular}{ll}\n",
       " drug & mood.gain\\\\\n",
       " <fct> & <dbl>\\\\\n",
       "\\hline\n",
       "\t placebo  & 0.2810694\\\\\n",
       "\t anxifree & 0.3920034\\\\\n",
       "\t joyzepam & 0.2136976\\\\\n",
       "\\end{tabular}\n"
      ],
      "text/markdown": [
       "\n",
       "A data.frame: 3 × 2\n",
       "\n",
       "| drug &lt;fct&gt; | mood.gain &lt;dbl&gt; |\n",
       "|---|---|\n",
       "| placebo  | 0.2810694 |\n",
       "| anxifree | 0.3920034 |\n",
       "| joyzepam | 0.2136976 |\n",
       "\n"
      ],
      "text/plain": [
       "  drug     mood.gain\n",
       "1 placebo  0.2810694\n",
       "2 anxifree 0.3920034\n",
       "3 joyzepam 0.2136976"
      ]
     },
     "metadata": {},
     "output_type": "display_data"
    }
   ],
   "source": [
    "aggregate( mood.gain ~ drug, clin.trial, sd)"
   ]
  },
  {
   "cell_type": "markdown",
   "id": "576077d3",
   "metadata": {},
   "source": [
    "# Add plot here with SD\n"
   ]
  },
  {
   "cell_type": "markdown",
   "id": "a66aa3db",
   "metadata": {},
   "source": [
    "* The experimenter is interested in comparing the average change for more than two classes\n",
    "  * Here compere the mean mood change across three different groups\n",
    "\n",
    "\n",
    "* t-test (Chapter 13), but involving more than two groups. \n",
    "\n",
    "$\\mu_p$ for placebo, and let $\\mu_A$ Anxifree and $\\mu_j$ Joyzepam\n",
    "\n",
    "Null hypothesis: all means are identical\n",
    " * That is, neither of the two drugs is any more effective than a placebo. \n",
    "\n",
    "* $H_0 : \\mu_P = \\mu_A = \\mu_J$\n",
    "\n",
    "* $H_a: \\mu_P \\ne \\mu_A or P \\ne \\mu_J or \\mu_P ne \\mu_a$\n",
    "\n",
    "\n",
    "\n",
    "* Suppose G refers to the number of groups tested\n",
    "* $N$: total sample size\n",
    "* $N_k$ people in the kth group\n",
    "* $Y_ik$, mood change for ith member of the kth group\n",
    "\n"
   ]
  },
  {
   "cell_type": "markdown",
   "id": "08dd4cb3",
   "metadata": {},
   "source": [
    "* Variance is computed as:\n",
    "\n",
    "$$\n",
    "\\mbox{Var}(Y) = \\frac{1}{N} \\sum_{k=1}^G \\sum_{i=1}^{N_k} \\left(Y_{ik} - \\bar{Y} \\right)^2\n",
    "$$"
   ]
  },
  {
   "cell_type": "markdown",
   "id": "3c9b4554",
   "metadata": {},
   "source": [
    "### ANOVA  hypothesis\n",
    "* In the null, the between variance is small (or 0) \n",
    "  * Total variance is equal to variance within \n",
    "\n",
    "![](https://www.dropbox.com/s/2opvff2zro8fs50/variance.png?dl=1)"
   ]
  },
  {
   "cell_type": "markdown",
   "id": "45023f0d",
   "metadata": {},
   "source": [
    "### Total Sum of Squares and the Within Sum of Squares\n",
    "\n",
    "$$\n",
    "\\mbox{SS}_{tot} = \\sum_{k=1}^G \\sum_{i=1}^{N_k} \\left(Y_{ik} - \\bar{Y} \\right)^2\n",
    "$$ \n",
    "$$\n",
    "\\mbox{SS}_w = \\sum_{k=1}^G \\sum_{i=1}^{N_k} \\left( Y_{ik} - \\bar{Y}_k \\right)^2\n",
    "$$\n",
    "\n",
    "* $SS_w$ to be smaller than the total sum of squares, because it’s completely ignoring any group differences \n",
    " \n",
    "  * The fact that the drugs (if they work) will have different effects on people’s moods.\n",
    "\n",
    "\n",
    "\n"
   ]
  },
  {
   "cell_type": "markdown",
   "id": "6b817e77",
   "metadata": {},
   "source": [
    "### The Between Sum of Squares\n",
    "\n",
    "$$\n",
    "\\begin{array}{rcl}\n",
    "\\mbox{SS}_{b} &=& \\sum_{k=1}^G \\sum_{i=1}^{N_k} \\left( \\bar{Y}_k - \\bar{Y} \\right)^2\n",
    " \\\\\n",
    "&=& \\sum_{k=1}^G N_k \\left( \\bar{Y}_k - \\bar{Y} \\right)^2\n",
    "\\end{array}\n",
    "$$\n",
    "\n"
   ]
  },
  {
   "cell_type": "markdown",
   "id": "7962c774",
   "metadata": {},
   "source": [
    "### The Test Statistic\n",
    "\n",
    "* The idea behind ANOVA is to compare the two sums of squares values $SS_b$ and $SS-w$ to each other: \n",
    "   * If the between-group variation is $SS_b$ is large relative to the within-group variation $SS_w$ then we have reason to suspect that the population means for the different groups aren’t identical to each other.\n",
    "   \n",
    "* Compute the   F ratio\n",
    "$$\n",
    "F = \\frac{\\mbox{MS}_b }{ \\mbox{MS}_w } \n",
    "$$\n",
    "Where\n",
    "\n",
    "$$\n",
    "\\begin{array}{lcl}\n",
    "\\mbox{MS}_b &=& \\displaystyle\\frac{\\mbox{SS}_b }{ \\mbox{df}_b} \\\\\n",
    "\\mbox{MS}_w &=& \\displaystyle\\frac{\\mbox{SS}_w }{ \\mbox{df}_w} \n",
    "\\end{array}\n",
    "$$\n",
    "\n",
    "$$\n",
    "\\begin{array}{lcl}\n",
    "\\mbox{df}_b &=& G-1 \\\\\n",
    "\\mbox{df}_w &=& N-G \\\\\n",
    "\\end{array}\n",
    "$$\n",
    "\n",
    "\n",
    "\n",
    "\n"
   ]
  },
  {
   "cell_type": "markdown",
   "id": "453adeed",
   "metadata": {},
   "source": [
    "### The Test Statistic\n",
    "\n",
    "* Bigger values of F mean that the between-group variation is large, relative to the within-group variation. \n",
    "  * Larger the value of F, the more evidence we have against the null hypothesis\n",
    "\n",
    "* How large does F have to be in order to actually reject H0? \n",
    "\n",
    "* The sampling distribution for the F statistic under the null hypothesis is an F distribution."
   ]
  },
  {
   "cell_type": "markdown",
   "id": "be487c46",
   "metadata": {},
   "source": [
    "### The F-Distribution\n",
    "\n",
    "* Looks a bit like a $\\chi^2$ distribution\n",
    " * Arises whenever you need to compare two \\chi^2 distributions to one another\n",
    " * Example computing the ratio of two $\\chi^2$ quantities\n",
    "* Recall that the \\chi^2 is the key distribution when we’re taking a “sum of squares”\n",
    "   * Thus if we want to compare the “sums of squares” of two distributions then we need the F-distribution\n",
    "\n"
   ]
  },
  {
   "cell_type": "code",
   "execution_count": 15,
   "id": "47959f73",
   "metadata": {},
   "outputs": [
    {
     "data": {
      "text/html": [
       "<style>\n",
       ".list-inline {list-style: none; margin:0; padding: 0}\n",
       ".list-inline>li {display: inline-block}\n",
       ".list-inline>li:not(:last-child)::after {content: \"\\00b7\"; padding: 0 .5ex}\n",
       "</style>\n",
       "<ol class=list-inline><li>0</li><li>0.05</li><li>0.1</li><li>0.15</li><li>0.2</li><li>0.25</li><li>0.3</li><li>0.35</li><li>0.4</li><li>0.45</li><li>0.5</li><li>0.55</li><li>0.6</li><li>0.65</li><li>0.7</li><li>0.75</li><li>0.8</li><li>0.85</li><li>0.9</li><li>0.95</li><li>1</li><li>1.05</li><li>1.1</li><li>1.15</li><li>1.2</li><li>1.25</li><li>1.3</li><li>1.35</li><li>1.4</li><li>1.45</li><li>1.5</li><li>1.55</li><li>1.6</li><li>1.65</li><li>1.7</li><li>1.75</li><li>1.8</li><li>1.85</li><li>1.9</li><li>1.95</li><li>2</li><li>2.05</li><li>2.1</li><li>2.15</li><li>2.2</li><li>2.25</li><li>2.3</li><li>2.35</li><li>2.4</li><li>2.45</li><li>2.5</li><li>2.55</li><li>2.6</li><li>2.65</li><li>2.7</li><li>2.75</li><li>2.8</li><li>2.85</li><li>2.9</li><li>2.95</li><li>3</li><li>3.05</li><li>3.1</li><li>3.15</li><li>3.2</li><li>3.25</li><li>3.3</li><li>3.35</li><li>3.4</li><li>3.45</li><li>3.5</li><li>3.55</li><li>3.6</li><li>3.65</li><li>3.7</li><li>3.75</li><li>3.8</li><li>3.85</li><li>3.9</li><li>3.95</li><li>4</li><li>4.05</li><li>4.1</li><li>4.15</li><li>4.2</li><li>4.25</li><li>4.3</li><li>4.35</li><li>4.4</li><li>4.45</li><li>4.5</li><li>4.55</li><li>4.6</li><li>4.65</li><li>4.7</li><li>4.75</li><li>4.8</li><li>4.85</li><li>4.9</li><li>4.95</li><li>5</li><li>5.05</li><li>5.1</li><li>5.15</li><li>5.2</li><li>5.25</li><li>5.3</li><li>5.35</li><li>5.4</li><li>5.45</li><li>5.5</li><li>5.55</li><li>5.6</li><li>5.65</li><li>5.7</li><li>5.75</li><li>5.8</li><li>5.85</li><li>5.9</li><li>5.95</li><li>6</li><li>6.05</li><li>6.1</li><li>6.15</li><li>6.2</li><li>6.25</li><li>6.3</li><li>6.35</li><li>6.4</li><li>6.45</li><li>6.5</li><li>6.55</li><li>6.6</li><li>6.65</li><li>6.7</li><li>6.75</li><li>6.8</li><li>6.85</li><li>6.9</li><li>6.95</li><li>7</li><li>7.05</li><li>7.1</li><li>7.15</li><li>7.2</li><li>7.25</li><li>7.3</li><li>7.35</li><li>7.4</li><li>7.45</li><li>7.5</li><li>7.55</li><li>7.6</li><li>7.65</li><li>7.7</li><li>7.75</li><li>7.8</li><li>7.85</li><li>7.9</li><li>7.95</li><li>8</li><li>8.05</li><li>8.1</li><li>8.15</li><li>8.2</li><li>8.25</li><li>8.3</li><li>8.35</li><li>8.4</li><li>8.45</li><li>8.5</li><li>8.55</li><li>8.6</li><li>8.65</li><li>8.7</li><li>8.75</li><li>8.8</li><li>8.85</li><li>8.9</li><li>8.95</li><li>9</li><li>9.05</li><li>9.1</li><li>9.15</li><li>9.2</li><li>9.25</li><li>9.3</li><li>9.35</li><li>9.4</li><li>9.45</li><li>9.5</li><li>9.55</li><li>9.6</li><li>9.65</li><li>9.7</li><li>9.75</li><li>9.8</li><li>9.85</li><li>9.9</li><li>9.95</li><li>10</li></ol>\n"
      ],
      "text/latex": [
       "\\begin{enumerate*}\n",
       "\\item 0\n",
       "\\item 0.05\n",
       "\\item 0.1\n",
       "\\item 0.15\n",
       "\\item 0.2\n",
       "\\item 0.25\n",
       "\\item 0.3\n",
       "\\item 0.35\n",
       "\\item 0.4\n",
       "\\item 0.45\n",
       "\\item 0.5\n",
       "\\item 0.55\n",
       "\\item 0.6\n",
       "\\item 0.65\n",
       "\\item 0.7\n",
       "\\item 0.75\n",
       "\\item 0.8\n",
       "\\item 0.85\n",
       "\\item 0.9\n",
       "\\item 0.95\n",
       "\\item 1\n",
       "\\item 1.05\n",
       "\\item 1.1\n",
       "\\item 1.15\n",
       "\\item 1.2\n",
       "\\item 1.25\n",
       "\\item 1.3\n",
       "\\item 1.35\n",
       "\\item 1.4\n",
       "\\item 1.45\n",
       "\\item 1.5\n",
       "\\item 1.55\n",
       "\\item 1.6\n",
       "\\item 1.65\n",
       "\\item 1.7\n",
       "\\item 1.75\n",
       "\\item 1.8\n",
       "\\item 1.85\n",
       "\\item 1.9\n",
       "\\item 1.95\n",
       "\\item 2\n",
       "\\item 2.05\n",
       "\\item 2.1\n",
       "\\item 2.15\n",
       "\\item 2.2\n",
       "\\item 2.25\n",
       "\\item 2.3\n",
       "\\item 2.35\n",
       "\\item 2.4\n",
       "\\item 2.45\n",
       "\\item 2.5\n",
       "\\item 2.55\n",
       "\\item 2.6\n",
       "\\item 2.65\n",
       "\\item 2.7\n",
       "\\item 2.75\n",
       "\\item 2.8\n",
       "\\item 2.85\n",
       "\\item 2.9\n",
       "\\item 2.95\n",
       "\\item 3\n",
       "\\item 3.05\n",
       "\\item 3.1\n",
       "\\item 3.15\n",
       "\\item 3.2\n",
       "\\item 3.25\n",
       "\\item 3.3\n",
       "\\item 3.35\n",
       "\\item 3.4\n",
       "\\item 3.45\n",
       "\\item 3.5\n",
       "\\item 3.55\n",
       "\\item 3.6\n",
       "\\item 3.65\n",
       "\\item 3.7\n",
       "\\item 3.75\n",
       "\\item 3.8\n",
       "\\item 3.85\n",
       "\\item 3.9\n",
       "\\item 3.95\n",
       "\\item 4\n",
       "\\item 4.05\n",
       "\\item 4.1\n",
       "\\item 4.15\n",
       "\\item 4.2\n",
       "\\item 4.25\n",
       "\\item 4.3\n",
       "\\item 4.35\n",
       "\\item 4.4\n",
       "\\item 4.45\n",
       "\\item 4.5\n",
       "\\item 4.55\n",
       "\\item 4.6\n",
       "\\item 4.65\n",
       "\\item 4.7\n",
       "\\item 4.75\n",
       "\\item 4.8\n",
       "\\item 4.85\n",
       "\\item 4.9\n",
       "\\item 4.95\n",
       "\\item 5\n",
       "\\item 5.05\n",
       "\\item 5.1\n",
       "\\item 5.15\n",
       "\\item 5.2\n",
       "\\item 5.25\n",
       "\\item 5.3\n",
       "\\item 5.35\n",
       "\\item 5.4\n",
       "\\item 5.45\n",
       "\\item 5.5\n",
       "\\item 5.55\n",
       "\\item 5.6\n",
       "\\item 5.65\n",
       "\\item 5.7\n",
       "\\item 5.75\n",
       "\\item 5.8\n",
       "\\item 5.85\n",
       "\\item 5.9\n",
       "\\item 5.95\n",
       "\\item 6\n",
       "\\item 6.05\n",
       "\\item 6.1\n",
       "\\item 6.15\n",
       "\\item 6.2\n",
       "\\item 6.25\n",
       "\\item 6.3\n",
       "\\item 6.35\n",
       "\\item 6.4\n",
       "\\item 6.45\n",
       "\\item 6.5\n",
       "\\item 6.55\n",
       "\\item 6.6\n",
       "\\item 6.65\n",
       "\\item 6.7\n",
       "\\item 6.75\n",
       "\\item 6.8\n",
       "\\item 6.85\n",
       "\\item 6.9\n",
       "\\item 6.95\n",
       "\\item 7\n",
       "\\item 7.05\n",
       "\\item 7.1\n",
       "\\item 7.15\n",
       "\\item 7.2\n",
       "\\item 7.25\n",
       "\\item 7.3\n",
       "\\item 7.35\n",
       "\\item 7.4\n",
       "\\item 7.45\n",
       "\\item 7.5\n",
       "\\item 7.55\n",
       "\\item 7.6\n",
       "\\item 7.65\n",
       "\\item 7.7\n",
       "\\item 7.75\n",
       "\\item 7.8\n",
       "\\item 7.85\n",
       "\\item 7.9\n",
       "\\item 7.95\n",
       "\\item 8\n",
       "\\item 8.05\n",
       "\\item 8.1\n",
       "\\item 8.15\n",
       "\\item 8.2\n",
       "\\item 8.25\n",
       "\\item 8.3\n",
       "\\item 8.35\n",
       "\\item 8.4\n",
       "\\item 8.45\n",
       "\\item 8.5\n",
       "\\item 8.55\n",
       "\\item 8.6\n",
       "\\item 8.65\n",
       "\\item 8.7\n",
       "\\item 8.75\n",
       "\\item 8.8\n",
       "\\item 8.85\n",
       "\\item 8.9\n",
       "\\item 8.95\n",
       "\\item 9\n",
       "\\item 9.05\n",
       "\\item 9.1\n",
       "\\item 9.15\n",
       "\\item 9.2\n",
       "\\item 9.25\n",
       "\\item 9.3\n",
       "\\item 9.35\n",
       "\\item 9.4\n",
       "\\item 9.45\n",
       "\\item 9.5\n",
       "\\item 9.55\n",
       "\\item 9.6\n",
       "\\item 9.65\n",
       "\\item 9.7\n",
       "\\item 9.75\n",
       "\\item 9.8\n",
       "\\item 9.85\n",
       "\\item 9.9\n",
       "\\item 9.95\n",
       "\\item 10\n",
       "\\end{enumerate*}\n"
      ],
      "text/markdown": [
       "1. 0\n",
       "2. 0.05\n",
       "3. 0.1\n",
       "4. 0.15\n",
       "5. 0.2\n",
       "6. 0.25\n",
       "7. 0.3\n",
       "8. 0.35\n",
       "9. 0.4\n",
       "10. 0.45\n",
       "11. 0.5\n",
       "12. 0.55\n",
       "13. 0.6\n",
       "14. 0.65\n",
       "15. 0.7\n",
       "16. 0.75\n",
       "17. 0.8\n",
       "18. 0.85\n",
       "19. 0.9\n",
       "20. 0.95\n",
       "21. 1\n",
       "22. 1.05\n",
       "23. 1.1\n",
       "24. 1.15\n",
       "25. 1.2\n",
       "26. 1.25\n",
       "27. 1.3\n",
       "28. 1.35\n",
       "29. 1.4\n",
       "30. 1.45\n",
       "31. 1.5\n",
       "32. 1.55\n",
       "33. 1.6\n",
       "34. 1.65\n",
       "35. 1.7\n",
       "36. 1.75\n",
       "37. 1.8\n",
       "38. 1.85\n",
       "39. 1.9\n",
       "40. 1.95\n",
       "41. 2\n",
       "42. 2.05\n",
       "43. 2.1\n",
       "44. 2.15\n",
       "45. 2.2\n",
       "46. 2.25\n",
       "47. 2.3\n",
       "48. 2.35\n",
       "49. 2.4\n",
       "50. 2.45\n",
       "51. 2.5\n",
       "52. 2.55\n",
       "53. 2.6\n",
       "54. 2.65\n",
       "55. 2.7\n",
       "56. 2.75\n",
       "57. 2.8\n",
       "58. 2.85\n",
       "59. 2.9\n",
       "60. 2.95\n",
       "61. 3\n",
       "62. 3.05\n",
       "63. 3.1\n",
       "64. 3.15\n",
       "65. 3.2\n",
       "66. 3.25\n",
       "67. 3.3\n",
       "68. 3.35\n",
       "69. 3.4\n",
       "70. 3.45\n",
       "71. 3.5\n",
       "72. 3.55\n",
       "73. 3.6\n",
       "74. 3.65\n",
       "75. 3.7\n",
       "76. 3.75\n",
       "77. 3.8\n",
       "78. 3.85\n",
       "79. 3.9\n",
       "80. 3.95\n",
       "81. 4\n",
       "82. 4.05\n",
       "83. 4.1\n",
       "84. 4.15\n",
       "85. 4.2\n",
       "86. 4.25\n",
       "87. 4.3\n",
       "88. 4.35\n",
       "89. 4.4\n",
       "90. 4.45\n",
       "91. 4.5\n",
       "92. 4.55\n",
       "93. 4.6\n",
       "94. 4.65\n",
       "95. 4.7\n",
       "96. 4.75\n",
       "97. 4.8\n",
       "98. 4.85\n",
       "99. 4.9\n",
       "100. 4.95\n",
       "101. 5\n",
       "102. 5.05\n",
       "103. 5.1\n",
       "104. 5.15\n",
       "105. 5.2\n",
       "106. 5.25\n",
       "107. 5.3\n",
       "108. 5.35\n",
       "109. 5.4\n",
       "110. 5.45\n",
       "111. 5.5\n",
       "112. 5.55\n",
       "113. 5.6\n",
       "114. 5.65\n",
       "115. 5.7\n",
       "116. 5.75\n",
       "117. 5.8\n",
       "118. 5.85\n",
       "119. 5.9\n",
       "120. 5.95\n",
       "121. 6\n",
       "122. 6.05\n",
       "123. 6.1\n",
       "124. 6.15\n",
       "125. 6.2\n",
       "126. 6.25\n",
       "127. 6.3\n",
       "128. 6.35\n",
       "129. 6.4\n",
       "130. 6.45\n",
       "131. 6.5\n",
       "132. 6.55\n",
       "133. 6.6\n",
       "134. 6.65\n",
       "135. 6.7\n",
       "136. 6.75\n",
       "137. 6.8\n",
       "138. 6.85\n",
       "139. 6.9\n",
       "140. 6.95\n",
       "141. 7\n",
       "142. 7.05\n",
       "143. 7.1\n",
       "144. 7.15\n",
       "145. 7.2\n",
       "146. 7.25\n",
       "147. 7.3\n",
       "148. 7.35\n",
       "149. 7.4\n",
       "150. 7.45\n",
       "151. 7.5\n",
       "152. 7.55\n",
       "153. 7.6\n",
       "154. 7.65\n",
       "155. 7.7\n",
       "156. 7.75\n",
       "157. 7.8\n",
       "158. 7.85\n",
       "159. 7.9\n",
       "160. 7.95\n",
       "161. 8\n",
       "162. 8.05\n",
       "163. 8.1\n",
       "164. 8.15\n",
       "165. 8.2\n",
       "166. 8.25\n",
       "167. 8.3\n",
       "168. 8.35\n",
       "169. 8.4\n",
       "170. 8.45\n",
       "171. 8.5\n",
       "172. 8.55\n",
       "173. 8.6\n",
       "174. 8.65\n",
       "175. 8.7\n",
       "176. 8.75\n",
       "177. 8.8\n",
       "178. 8.85\n",
       "179. 8.9\n",
       "180. 8.95\n",
       "181. 9\n",
       "182. 9.05\n",
       "183. 9.1\n",
       "184. 9.15\n",
       "185. 9.2\n",
       "186. 9.25\n",
       "187. 9.3\n",
       "188. 9.35\n",
       "189. 9.4\n",
       "190. 9.45\n",
       "191. 9.5\n",
       "192. 9.55\n",
       "193. 9.6\n",
       "194. 9.65\n",
       "195. 9.7\n",
       "196. 9.75\n",
       "197. 9.8\n",
       "198. 9.85\n",
       "199. 9.9\n",
       "200. 9.95\n",
       "201. 10\n",
       "\n",
       "\n"
      ],
      "text/plain": [
       "  [1]  0.00  0.05  0.10  0.15  0.20  0.25  0.30  0.35  0.40  0.45  0.50  0.55\n",
       " [13]  0.60  0.65  0.70  0.75  0.80  0.85  0.90  0.95  1.00  1.05  1.10  1.15\n",
       " [25]  1.20  1.25  1.30  1.35  1.40  1.45  1.50  1.55  1.60  1.65  1.70  1.75\n",
       " [37]  1.80  1.85  1.90  1.95  2.00  2.05  2.10  2.15  2.20  2.25  2.30  2.35\n",
       " [49]  2.40  2.45  2.50  2.55  2.60  2.65  2.70  2.75  2.80  2.85  2.90  2.95\n",
       " [61]  3.00  3.05  3.10  3.15  3.20  3.25  3.30  3.35  3.40  3.45  3.50  3.55\n",
       " [73]  3.60  3.65  3.70  3.75  3.80  3.85  3.90  3.95  4.00  4.05  4.10  4.15\n",
       " [85]  4.20  4.25  4.30  4.35  4.40  4.45  4.50  4.55  4.60  4.65  4.70  4.75\n",
       " [97]  4.80  4.85  4.90  4.95  5.00  5.05  5.10  5.15  5.20  5.25  5.30  5.35\n",
       "[109]  5.40  5.45  5.50  5.55  5.60  5.65  5.70  5.75  5.80  5.85  5.90  5.95\n",
       "[121]  6.00  6.05  6.10  6.15  6.20  6.25  6.30  6.35  6.40  6.45  6.50  6.55\n",
       "[133]  6.60  6.65  6.70  6.75  6.80  6.85  6.90  6.95  7.00  7.05  7.10  7.15\n",
       "[145]  7.20  7.25  7.30  7.35  7.40  7.45  7.50  7.55  7.60  7.65  7.70  7.75\n",
       "[157]  7.80  7.85  7.90  7.95  8.00  8.05  8.10  8.15  8.20  8.25  8.30  8.35\n",
       "[169]  8.40  8.45  8.50  8.55  8.60  8.65  8.70  8.75  8.80  8.85  8.90  8.95\n",
       "[181]  9.00  9.05  9.10  9.15  9.20  9.25  9.30  9.35  9.40  9.45  9.50  9.55\n",
       "[193]  9.60  9.65  9.70  9.75  9.80  9.85  9.90  9.95 10.00"
      ]
     },
     "metadata": {},
     "output_type": "display_data"
    }
   ],
   "source": [
    "df_b = 3 \n",
    "df_w = 6\n",
    "x_axis = seq(0, 10, 0.05)\n",
    "\n",
    "x_axis"
   ]
  },
  {
   "cell_type": "code",
   "execution_count": 17,
   "id": "d603e16a",
   "metadata": {},
   "outputs": [
    {
     "data": {
      "image/png": "[encoded data removed]",
      "text/plain": [
       "plot without title"
      ]
     },
     "metadata": {
      "image/png": {
       "height": 360,
       "width": 720
      }
     },
     "output_type": "display_data"
    }
   ],
   "source": [
    "options(repr.plot.width=12, repr.plot.height=6)\n",
    "y_axis = df(x_axis, df_b, df_w)\n",
    "ggplot() + \n",
    "  geom_line(aes(x_axis, y_axis))\n"
   ]
  },
  {
   "cell_type": "markdown",
   "id": "ab2ed859",
   "metadata": {},
   "source": [
    "### The model for the Data\n",
    "\n",
    "For the null hypothesis, the assumption is:\n",
    "\n",
    "$$\n",
    "Y_{ik} = \\mu + \\epsilon_{ik}\n",
    "$$ \n",
    "\n",
    "where, \n",
    "$\n",
    "\\epsilon_{ik} \\sim \\mbox{Normal}(0, \\sigma^2)\n",
    "$$\n",
    "\n",
    "Where as for the alternative, the assumption is: \n",
    "$$\n",
    "Y_{ik} = \\mu_k + \\epsilon_{ik}\n",
    "$$\n"
   ]
  },
  {
   "cell_type": "markdown",
   "id": "6db71eaf",
   "metadata": {},
   "source": [
    "### The model for the Data - Cont'd\n",
    "\n",
    "The MS_w and MS_b as estimators of the variances\n",
    "\n",
    "\n",
    "The MSw is an esitmate of the residual variance \\sigma^2\n",
    "  * So it is $\\chi^2$ distributed\n",
    "The MSb is an estimtor of the resudulas variance plus a quantity that depends on the true differences among the group means.\n",
    "  * So it is $\\chi^2$ distributed\n",
    "\n",
    "Thus, the ratio of two $\\chi^2$ dstributed quantities follows and F-distribution\n",
    "\n",
    "\n",
    "\n"
   ]
  },
  {
   "cell_type": "code",
   "execution_count": 23,
   "id": "10565176",
   "metadata": {},
   "outputs": [
    {
     "data": {
      "text/html": [
       "<table class=\"dataframe\">\n",
       "<caption>A tibble: 6 × 2</caption>\n",
       "<thead>\n",
       "\t<tr><th scope=col>drug</th><th scope=col>mood.gain</th></tr>\n",
       "\t<tr><th scope=col>&lt;fct&gt;</th><th scope=col>&lt;dbl&gt;</th></tr>\n",
       "</thead>\n",
       "<tbody>\n",
       "\t<tr><td>placebo </td><td>0.5</td></tr>\n",
       "\t<tr><td>placebo </td><td>0.3</td></tr>\n",
       "\t<tr><td>placebo </td><td>0.1</td></tr>\n",
       "\t<tr><td>anxifree</td><td>0.6</td></tr>\n",
       "\t<tr><td>anxifree</td><td>0.4</td></tr>\n",
       "\t<tr><td>anxifree</td><td>0.2</td></tr>\n",
       "</tbody>\n",
       "</table>\n"
      ],
      "text/latex": [
       "A tibble: 6 × 2\n",
       "\\begin{tabular}{ll}\n",
       " drug & mood.gain\\\\\n",
       " <fct> & <dbl>\\\\\n",
       "\\hline\n",
       "\t placebo  & 0.5\\\\\n",
       "\t placebo  & 0.3\\\\\n",
       "\t placebo  & 0.1\\\\\n",
       "\t anxifree & 0.6\\\\\n",
       "\t anxifree & 0.4\\\\\n",
       "\t anxifree & 0.2\\\\\n",
       "\\end{tabular}\n"
      ],
      "text/markdown": [
       "\n",
       "A tibble: 6 × 2\n",
       "\n",
       "| drug &lt;fct&gt; | mood.gain &lt;dbl&gt; |\n",
       "|---|---|\n",
       "| placebo  | 0.5 |\n",
       "| placebo  | 0.3 |\n",
       "| placebo  | 0.1 |\n",
       "| anxifree | 0.6 |\n",
       "| anxifree | 0.4 |\n",
       "| anxifree | 0.2 |\n",
       "\n"
      ],
      "text/plain": [
       "  drug     mood.gain\n",
       "1 placebo  0.5      \n",
       "2 placebo  0.3      \n",
       "3 placebo  0.1      \n",
       "4 anxifree 0.6      \n",
       "5 anxifree 0.4      \n",
       "6 anxifree 0.2      "
      ]
     },
     "metadata": {},
     "output_type": "display_data"
    }
   ],
   "source": [
    "### For the practice\n",
    "\n",
    "temp_data = tibble(clin.trial[, c(1,3)])\n",
    "head(temp_data)\n",
    "\n"
   ]
  },
  {
   "cell_type": "code",
   "execution_count": 48,
   "id": "124fe60d",
   "metadata": {},
   "outputs": [
    {
     "data": {
      "text/html": [
       "<table class=\"dataframe\">\n",
       "<caption>A tibble: 3 × 2</caption>\n",
       "<thead>\n",
       "\t<tr><th scope=col>drug</th><th scope=col>group_mean</th></tr>\n",
       "\t<tr><th scope=col>&lt;fct&gt;</th><th scope=col>&lt;dbl&gt;</th></tr>\n",
       "</thead>\n",
       "<tbody>\n",
       "\t<tr><td>placebo </td><td>0.4500</td></tr>\n",
       "\t<tr><td>anxifree</td><td>0.7167</td></tr>\n",
       "\t<tr><td>joyzepam</td><td>1.4833</td></tr>\n",
       "</tbody>\n",
       "</table>\n"
      ],
      "text/latex": [
       "A tibble: 3 × 2\n",
       "\\begin{tabular}{ll}\n",
       " drug & group\\_mean\\\\\n",
       " <fct> & <dbl>\\\\\n",
       "\\hline\n",
       "\t placebo  & 0.4500\\\\\n",
       "\t anxifree & 0.7167\\\\\n",
       "\t joyzepam & 1.4833\\\\\n",
       "\\end{tabular}\n"
      ],
      "text/markdown": [
       "\n",
       "A tibble: 3 × 2\n",
       "\n",
       "| drug &lt;fct&gt; | group_mean &lt;dbl&gt; |\n",
       "|---|---|\n",
       "| placebo  | 0.4500 |\n",
       "| anxifree | 0.7167 |\n",
       "| joyzepam | 1.4833 |\n",
       "\n"
      ],
      "text/plain": [
       "  drug     group_mean\n",
       "1 placebo  0.4500    \n",
       "2 anxifree 0.7167    \n",
       "3 joyzepam 1.4833    "
      ]
     },
     "metadata": {},
     "output_type": "display_data"
    }
   ],
   "source": [
    "temp_data %>% \n",
    "  group_by(drug) %>% \n",
    "  summarise_at(vars(mood.gain), list(group_mean = mean))"
   ]
  },
  {
   "cell_type": "code",
   "execution_count": 49,
   "id": "afa40b12",
   "metadata": {},
   "outputs": [
    {
     "data": {
      "text/html": [
       "<table class=\"dataframe\">\n",
       "<caption>A grouped_df: 18 × 3</caption>\n",
       "<thead>\n",
       "\t<tr><th scope=col>drug</th><th scope=col>mood.gain</th><th scope=col>group_mean</th></tr>\n",
       "\t<tr><th scope=col>&lt;fct&gt;</th><th scope=col>&lt;dbl&gt;</th><th scope=col>&lt;dbl&gt;</th></tr>\n",
       "</thead>\n",
       "<tbody>\n",
       "\t<tr><td>placebo </td><td>0.5</td><td>0.4500</td></tr>\n",
       "\t<tr><td>placebo </td><td>0.3</td><td>0.4500</td></tr>\n",
       "\t<tr><td>placebo </td><td>0.1</td><td>0.4500</td></tr>\n",
       "\t<tr><td>anxifree</td><td>0.6</td><td>0.7167</td></tr>\n",
       "\t<tr><td>anxifree</td><td>0.4</td><td>0.7167</td></tr>\n",
       "\t<tr><td>anxifree</td><td>0.2</td><td>0.7167</td></tr>\n",
       "\t<tr><td>joyzepam</td><td>1.4</td><td>1.4833</td></tr>\n",
       "\t<tr><td>joyzepam</td><td>1.7</td><td>1.4833</td></tr>\n",
       "\t<tr><td>joyzepam</td><td>1.3</td><td>1.4833</td></tr>\n",
       "\t<tr><td>placebo </td><td>0.6</td><td>0.4500</td></tr>\n",
       "\t<tr><td>placebo </td><td>0.9</td><td>0.4500</td></tr>\n",
       "\t<tr><td>placebo </td><td>0.3</td><td>0.4500</td></tr>\n",
       "\t<tr><td>anxifree</td><td>1.1</td><td>0.7167</td></tr>\n",
       "\t<tr><td>anxifree</td><td>0.8</td><td>0.7167</td></tr>\n",
       "\t<tr><td>anxifree</td><td>1.2</td><td>0.7167</td></tr>\n",
       "\t<tr><td>joyzepam</td><td>1.8</td><td>1.4833</td></tr>\n",
       "\t<tr><td>joyzepam</td><td>1.3</td><td>1.4833</td></tr>\n",
       "\t<tr><td>joyzepam</td><td>1.4</td><td>1.4833</td></tr>\n",
       "</tbody>\n",
       "</table>\n"
      ],
      "text/latex": [
       "A grouped\\_df: 18 × 3\n",
       "\\begin{tabular}{lll}\n",
       " drug & mood.gain & group\\_mean\\\\\n",
       " <fct> & <dbl> & <dbl>\\\\\n",
       "\\hline\n",
       "\t placebo  & 0.5 & 0.4500\\\\\n",
       "\t placebo  & 0.3 & 0.4500\\\\\n",
       "\t placebo  & 0.1 & 0.4500\\\\\n",
       "\t anxifree & 0.6 & 0.7167\\\\\n",
       "\t anxifree & 0.4 & 0.7167\\\\\n",
       "\t anxifree & 0.2 & 0.7167\\\\\n",
       "\t joyzepam & 1.4 & 1.4833\\\\\n",
       "\t joyzepam & 1.7 & 1.4833\\\\\n",
       "\t joyzepam & 1.3 & 1.4833\\\\\n",
       "\t placebo  & 0.6 & 0.4500\\\\\n",
       "\t placebo  & 0.9 & 0.4500\\\\\n",
       "\t placebo  & 0.3 & 0.4500\\\\\n",
       "\t anxifree & 1.1 & 0.7167\\\\\n",
       "\t anxifree & 0.8 & 0.7167\\\\\n",
       "\t anxifree & 1.2 & 0.7167\\\\\n",
       "\t joyzepam & 1.8 & 1.4833\\\\\n",
       "\t joyzepam & 1.3 & 1.4833\\\\\n",
       "\t joyzepam & 1.4 & 1.4833\\\\\n",
       "\\end{tabular}\n"
      ],
      "text/markdown": [
       "\n",
       "A grouped_df: 18 × 3\n",
       "\n",
       "| drug &lt;fct&gt; | mood.gain &lt;dbl&gt; | group_mean &lt;dbl&gt; |\n",
       "|---|---|---|\n",
       "| placebo  | 0.5 | 0.4500 |\n",
       "| placebo  | 0.3 | 0.4500 |\n",
       "| placebo  | 0.1 | 0.4500 |\n",
       "| anxifree | 0.6 | 0.7167 |\n",
       "| anxifree | 0.4 | 0.7167 |\n",
       "| anxifree | 0.2 | 0.7167 |\n",
       "| joyzepam | 1.4 | 1.4833 |\n",
       "| joyzepam | 1.7 | 1.4833 |\n",
       "| joyzepam | 1.3 | 1.4833 |\n",
       "| placebo  | 0.6 | 0.4500 |\n",
       "| placebo  | 0.9 | 0.4500 |\n",
       "| placebo  | 0.3 | 0.4500 |\n",
       "| anxifree | 1.1 | 0.7167 |\n",
       "| anxifree | 0.8 | 0.7167 |\n",
       "| anxifree | 1.2 | 0.7167 |\n",
       "| joyzepam | 1.8 | 1.4833 |\n",
       "| joyzepam | 1.3 | 1.4833 |\n",
       "| joyzepam | 1.4 | 1.4833 |\n",
       "\n"
      ],
      "text/plain": [
       "   drug     mood.gain group_mean\n",
       "1  placebo  0.5       0.4500    \n",
       "2  placebo  0.3       0.4500    \n",
       "3  placebo  0.1       0.4500    \n",
       "4  anxifree 0.6       0.7167    \n",
       "5  anxifree 0.4       0.7167    \n",
       "6  anxifree 0.2       0.7167    \n",
       "7  joyzepam 1.4       1.4833    \n",
       "8  joyzepam 1.7       1.4833    \n",
       "9  joyzepam 1.3       1.4833    \n",
       "10 placebo  0.6       0.4500    \n",
       "11 placebo  0.9       0.4500    \n",
       "12 placebo  0.3       0.4500    \n",
       "13 anxifree 1.1       0.7167    \n",
       "14 anxifree 0.8       0.7167    \n",
       "15 anxifree 1.2       0.7167    \n",
       "16 joyzepam 1.8       1.4833    \n",
       "17 joyzepam 1.3       1.4833    \n",
       "18 joyzepam 1.4       1.4833    "
      ]
     },
     "metadata": {},
     "output_type": "display_data"
    }
   ],
   "source": [
    "temp_data_2 = temp_data %>% \n",
    "  group_by(drug) %>% \n",
    "  mutate(group_mean = mean(mood.gain))\n",
    "temp_data_2"
   ]
  },
  {
   "cell_type": "code",
   "execution_count": 50,
   "id": "a1557881",
   "metadata": {},
   "outputs": [
    {
     "data": {
      "text/html": [
       "<table class=\"dataframe\">\n",
       "<caption>A grouped_df: 18 × 4</caption>\n",
       "<thead>\n",
       "\t<tr><th scope=col>drug</th><th scope=col>mood.gain</th><th scope=col>group_mean</th><th scope=col>dev_from_mean</th></tr>\n",
       "\t<tr><th scope=col>&lt;fct&gt;</th><th scope=col>&lt;dbl&gt;</th><th scope=col>&lt;dbl&gt;</th><th scope=col>&lt;dbl&gt;</th></tr>\n",
       "</thead>\n",
       "<tbody>\n",
       "\t<tr><td>placebo </td><td>0.5</td><td>0.4500</td><td> 0.05000</td></tr>\n",
       "\t<tr><td>placebo </td><td>0.3</td><td>0.4500</td><td>-0.15000</td></tr>\n",
       "\t<tr><td>placebo </td><td>0.1</td><td>0.4500</td><td>-0.35000</td></tr>\n",
       "\t<tr><td>anxifree</td><td>0.6</td><td>0.7167</td><td>-0.11667</td></tr>\n",
       "\t<tr><td>anxifree</td><td>0.4</td><td>0.7167</td><td>-0.31667</td></tr>\n",
       "\t<tr><td>anxifree</td><td>0.2</td><td>0.7167</td><td>-0.51667</td></tr>\n",
       "\t<tr><td>joyzepam</td><td>1.4</td><td>1.4833</td><td>-0.08333</td></tr>\n",
       "\t<tr><td>joyzepam</td><td>1.7</td><td>1.4833</td><td> 0.21667</td></tr>\n",
       "\t<tr><td>joyzepam</td><td>1.3</td><td>1.4833</td><td>-0.18333</td></tr>\n",
       "\t<tr><td>placebo </td><td>0.6</td><td>0.4500</td><td> 0.15000</td></tr>\n",
       "\t<tr><td>placebo </td><td>0.9</td><td>0.4500</td><td> 0.45000</td></tr>\n",
       "\t<tr><td>placebo </td><td>0.3</td><td>0.4500</td><td>-0.15000</td></tr>\n",
       "\t<tr><td>anxifree</td><td>1.1</td><td>0.7167</td><td> 0.38333</td></tr>\n",
       "\t<tr><td>anxifree</td><td>0.8</td><td>0.7167</td><td> 0.08333</td></tr>\n",
       "\t<tr><td>anxifree</td><td>1.2</td><td>0.7167</td><td> 0.48333</td></tr>\n",
       "\t<tr><td>joyzepam</td><td>1.8</td><td>1.4833</td><td> 0.31667</td></tr>\n",
       "\t<tr><td>joyzepam</td><td>1.3</td><td>1.4833</td><td>-0.18333</td></tr>\n",
       "\t<tr><td>joyzepam</td><td>1.4</td><td>1.4833</td><td>-0.08333</td></tr>\n",
       "</tbody>\n",
       "</table>\n"
      ],
      "text/latex": [
       "A grouped\\_df: 18 × 4\n",
       "\\begin{tabular}{llll}\n",
       " drug & mood.gain & group\\_mean & dev\\_from\\_mean\\\\\n",
       " <fct> & <dbl> & <dbl> & <dbl>\\\\\n",
       "\\hline\n",
       "\t placebo  & 0.5 & 0.4500 &  0.05000\\\\\n",
       "\t placebo  & 0.3 & 0.4500 & -0.15000\\\\\n",
       "\t placebo  & 0.1 & 0.4500 & -0.35000\\\\\n",
       "\t anxifree & 0.6 & 0.7167 & -0.11667\\\\\n",
       "\t anxifree & 0.4 & 0.7167 & -0.31667\\\\\n",
       "\t anxifree & 0.2 & 0.7167 & -0.51667\\\\\n",
       "\t joyzepam & 1.4 & 1.4833 & -0.08333\\\\\n",
       "\t joyzepam & 1.7 & 1.4833 &  0.21667\\\\\n",
       "\t joyzepam & 1.3 & 1.4833 & -0.18333\\\\\n",
       "\t placebo  & 0.6 & 0.4500 &  0.15000\\\\\n",
       "\t placebo  & 0.9 & 0.4500 &  0.45000\\\\\n",
       "\t placebo  & 0.3 & 0.4500 & -0.15000\\\\\n",
       "\t anxifree & 1.1 & 0.7167 &  0.38333\\\\\n",
       "\t anxifree & 0.8 & 0.7167 &  0.08333\\\\\n",
       "\t anxifree & 1.2 & 0.7167 &  0.48333\\\\\n",
       "\t joyzepam & 1.8 & 1.4833 &  0.31667\\\\\n",
       "\t joyzepam & 1.3 & 1.4833 & -0.18333\\\\\n",
       "\t joyzepam & 1.4 & 1.4833 & -0.08333\\\\\n",
       "\\end{tabular}\n"
      ],
      "text/markdown": [
       "\n",
       "A grouped_df: 18 × 4\n",
       "\n",
       "| drug &lt;fct&gt; | mood.gain &lt;dbl&gt; | group_mean &lt;dbl&gt; | dev_from_mean &lt;dbl&gt; |\n",
       "|---|---|---|---|\n",
       "| placebo  | 0.5 | 0.4500 |  0.05000 |\n",
       "| placebo  | 0.3 | 0.4500 | -0.15000 |\n",
       "| placebo  | 0.1 | 0.4500 | -0.35000 |\n",
       "| anxifree | 0.6 | 0.7167 | -0.11667 |\n",
       "| anxifree | 0.4 | 0.7167 | -0.31667 |\n",
       "| anxifree | 0.2 | 0.7167 | -0.51667 |\n",
       "| joyzepam | 1.4 | 1.4833 | -0.08333 |\n",
       "| joyzepam | 1.7 | 1.4833 |  0.21667 |\n",
       "| joyzepam | 1.3 | 1.4833 | -0.18333 |\n",
       "| placebo  | 0.6 | 0.4500 |  0.15000 |\n",
       "| placebo  | 0.9 | 0.4500 |  0.45000 |\n",
       "| placebo  | 0.3 | 0.4500 | -0.15000 |\n",
       "| anxifree | 1.1 | 0.7167 |  0.38333 |\n",
       "| anxifree | 0.8 | 0.7167 |  0.08333 |\n",
       "| anxifree | 1.2 | 0.7167 |  0.48333 |\n",
       "| joyzepam | 1.8 | 1.4833 |  0.31667 |\n",
       "| joyzepam | 1.3 | 1.4833 | -0.18333 |\n",
       "| joyzepam | 1.4 | 1.4833 | -0.08333 |\n",
       "\n"
      ],
      "text/plain": [
       "   drug     mood.gain group_mean dev_from_mean\n",
       "1  placebo  0.5       0.4500      0.05000     \n",
       "2  placebo  0.3       0.4500     -0.15000     \n",
       "3  placebo  0.1       0.4500     -0.35000     \n",
       "4  anxifree 0.6       0.7167     -0.11667     \n",
       "5  anxifree 0.4       0.7167     -0.31667     \n",
       "6  anxifree 0.2       0.7167     -0.51667     \n",
       "7  joyzepam 1.4       1.4833     -0.08333     \n",
       "8  joyzepam 1.7       1.4833      0.21667     \n",
       "9  joyzepam 1.3       1.4833     -0.18333     \n",
       "10 placebo  0.6       0.4500      0.15000     \n",
       "11 placebo  0.9       0.4500      0.45000     \n",
       "12 placebo  0.3       0.4500     -0.15000     \n",
       "13 anxifree 1.1       0.7167      0.38333     \n",
       "14 anxifree 0.8       0.7167      0.08333     \n",
       "15 anxifree 1.2       0.7167      0.48333     \n",
       "16 joyzepam 1.8       1.4833      0.31667     \n",
       "17 joyzepam 1.3       1.4833     -0.18333     \n",
       "18 joyzepam 1.4       1.4833     -0.08333     "
      ]
     },
     "metadata": {},
     "output_type": "display_data"
    }
   ],
   "source": [
    "temp_data_3 = temp_data_2 %>%\n",
    "   mutate(dev_from_mean = mood.gain - group_mean)\n",
    "temp_data_3"
   ]
  },
  {
   "cell_type": "code",
   "execution_count": 51,
   "id": "1df15ce9",
   "metadata": {},
   "outputs": [
    {
     "data": {
      "text/html": [
       "<table class=\"dataframe\">\n",
       "<caption>A grouped_df: 6 × 5</caption>\n",
       "<thead>\n",
       "\t<tr><th scope=col>drug</th><th scope=col>mood.gain</th><th scope=col>group_mean</th><th scope=col>dev_from_mean</th><th scope=col>sq_dev_from_mean</th></tr>\n",
       "\t<tr><th scope=col>&lt;fct&gt;</th><th scope=col>&lt;dbl&gt;</th><th scope=col>&lt;dbl&gt;</th><th scope=col>&lt;dbl&gt;</th><th scope=col>&lt;dbl&gt;</th></tr>\n",
       "</thead>\n",
       "<tbody>\n",
       "\t<tr><td>placebo </td><td>0.5</td><td>0.4500</td><td> 0.0500</td><td>0.00250</td></tr>\n",
       "\t<tr><td>placebo </td><td>0.3</td><td>0.4500</td><td>-0.1500</td><td>0.02250</td></tr>\n",
       "\t<tr><td>placebo </td><td>0.1</td><td>0.4500</td><td>-0.3500</td><td>0.12250</td></tr>\n",
       "\t<tr><td>anxifree</td><td>0.6</td><td>0.7167</td><td>-0.1167</td><td>0.01361</td></tr>\n",
       "\t<tr><td>anxifree</td><td>0.4</td><td>0.7167</td><td>-0.3167</td><td>0.10028</td></tr>\n",
       "\t<tr><td>anxifree</td><td>0.2</td><td>0.7167</td><td>-0.5167</td><td>0.26694</td></tr>\n",
       "</tbody>\n",
       "</table>\n"
      ],
      "text/latex": [
       "A grouped\\_df: 6 × 5\n",
       "\\begin{tabular}{lllll}\n",
       " drug & mood.gain & group\\_mean & dev\\_from\\_mean & sq\\_dev\\_from\\_mean\\\\\n",
       " <fct> & <dbl> & <dbl> & <dbl> & <dbl>\\\\\n",
       "\\hline\n",
       "\t placebo  & 0.5 & 0.4500 &  0.0500 & 0.00250\\\\\n",
       "\t placebo  & 0.3 & 0.4500 & -0.1500 & 0.02250\\\\\n",
       "\t placebo  & 0.1 & 0.4500 & -0.3500 & 0.12250\\\\\n",
       "\t anxifree & 0.6 & 0.7167 & -0.1167 & 0.01361\\\\\n",
       "\t anxifree & 0.4 & 0.7167 & -0.3167 & 0.10028\\\\\n",
       "\t anxifree & 0.2 & 0.7167 & -0.5167 & 0.26694\\\\\n",
       "\\end{tabular}\n"
      ],
      "text/markdown": [
       "\n",
       "A grouped_df: 6 × 5\n",
       "\n",
       "| drug &lt;fct&gt; | mood.gain &lt;dbl&gt; | group_mean &lt;dbl&gt; | dev_from_mean &lt;dbl&gt; | sq_dev_from_mean &lt;dbl&gt; |\n",
       "|---|---|---|---|---|\n",
       "| placebo  | 0.5 | 0.4500 |  0.0500 | 0.00250 |\n",
       "| placebo  | 0.3 | 0.4500 | -0.1500 | 0.02250 |\n",
       "| placebo  | 0.1 | 0.4500 | -0.3500 | 0.12250 |\n",
       "| anxifree | 0.6 | 0.7167 | -0.1167 | 0.01361 |\n",
       "| anxifree | 0.4 | 0.7167 | -0.3167 | 0.10028 |\n",
       "| anxifree | 0.2 | 0.7167 | -0.5167 | 0.26694 |\n",
       "\n"
      ],
      "text/plain": [
       "  drug     mood.gain group_mean dev_from_mean sq_dev_from_mean\n",
       "1 placebo  0.5       0.4500      0.0500       0.00250         \n",
       "2 placebo  0.3       0.4500     -0.1500       0.02250         \n",
       "3 placebo  0.1       0.4500     -0.3500       0.12250         \n",
       "4 anxifree 0.6       0.7167     -0.1167       0.01361         \n",
       "5 anxifree 0.4       0.7167     -0.3167       0.10028         \n",
       "6 anxifree 0.2       0.7167     -0.5167       0.26694         "
      ]
     },
     "metadata": {},
     "output_type": "display_data"
    }
   ],
   "source": [
    "options(digits=4)\n",
    "temp_data_4 = temp_data_3 %>%\n",
    "  mutate(sq_dev_from_mean = dev_from_mean **2)\n",
    "head(temp_data_4, digits = 2)"
   ]
  },
  {
   "cell_type": "code",
   "execution_count": 52,
   "id": "df0494a7",
   "metadata": {},
   "outputs": [
    {
     "data": {
      "text/html": [
       "1.39166666666667"
      ],
      "text/latex": [
       "1.39166666666667"
      ],
      "text/markdown": [
       "1.39166666666667"
      ],
      "text/plain": [
       "[1] 1.392"
      ]
     },
     "metadata": {},
     "output_type": "display_data"
    }
   ],
   "source": [
    "SS_w = sum(temp_data_4[\"sq_dev_from_mean\"])\n",
    "SS_w"
   ]
  },
  {
   "cell_type": "code",
   "execution_count": 58,
   "id": "5f51f5b9",
   "metadata": {},
   "outputs": [
    {
     "data": {
      "text/html": [
       "<table class=\"dataframe\">\n",
       "<caption>A tibble: 3 × 5</caption>\n",
       "<thead>\n",
       "\t<tr><th scope=col>drug</th><th scope=col>group_mean</th><th scope=col>grand_mean</th><th scope=col>deviation</th><th scope=col>sq_deviation</th></tr>\n",
       "\t<tr><th scope=col>&lt;fct&gt;</th><th scope=col>&lt;dbl&gt;</th><th scope=col>&lt;dbl&gt;</th><th scope=col>&lt;dbl&gt;</th><th scope=col>&lt;dbl&gt;</th></tr>\n",
       "</thead>\n",
       "<tbody>\n",
       "\t<tr><td>placebo </td><td>0.4500</td><td>0.8833</td><td>-0.4333</td><td>0.18778</td></tr>\n",
       "\t<tr><td>anxifree</td><td>0.7167</td><td>0.8833</td><td>-0.1667</td><td>0.02778</td></tr>\n",
       "\t<tr><td>joyzepam</td><td>1.4833</td><td>0.8833</td><td> 0.6000</td><td>0.36000</td></tr>\n",
       "</tbody>\n",
       "</table>\n"
      ],
      "text/latex": [
       "A tibble: 3 × 5\n",
       "\\begin{tabular}{lllll}\n",
       " drug & group\\_mean & grand\\_mean & deviation & sq\\_deviation\\\\\n",
       " <fct> & <dbl> & <dbl> & <dbl> & <dbl>\\\\\n",
       "\\hline\n",
       "\t placebo  & 0.4500 & 0.8833 & -0.4333 & 0.18778\\\\\n",
       "\t anxifree & 0.7167 & 0.8833 & -0.1667 & 0.02778\\\\\n",
       "\t joyzepam & 1.4833 & 0.8833 &  0.6000 & 0.36000\\\\\n",
       "\\end{tabular}\n"
      ],
      "text/markdown": [
       "\n",
       "A tibble: 3 × 5\n",
       "\n",
       "| drug &lt;fct&gt; | group_mean &lt;dbl&gt; | grand_mean &lt;dbl&gt; | deviation &lt;dbl&gt; | sq_deviation &lt;dbl&gt; |\n",
       "|---|---|---|---|---|\n",
       "| placebo  | 0.4500 | 0.8833 | -0.4333 | 0.18778 |\n",
       "| anxifree | 0.7167 | 0.8833 | -0.1667 | 0.02778 |\n",
       "| joyzepam | 1.4833 | 0.8833 |  0.6000 | 0.36000 |\n",
       "\n"
      ],
      "text/plain": [
       "  drug     group_mean grand_mean deviation sq_deviation\n",
       "1 placebo  0.4500     0.8833     -0.4333   0.18778     \n",
       "2 anxifree 0.7167     0.8833     -0.1667   0.02778     \n",
       "3 joyzepam 1.4833     0.8833      0.6000   0.36000     "
      ]
     },
     "metadata": {},
     "output_type": "display_data"
    }
   ],
   "source": [
    "all_data_mean =  mean(clin.trial$mood.gain)\n",
    "between_mean_data = temp_data %>% \n",
    "  group_by(drug) %>% \n",
    "  summarise_at(vars(mood.gain), list(group_mean = mean)) %>%\n",
    "  mutate(grand_mean=all_data_mean) %>%\n",
    "  mutate(deviation=group_mean - grand_mean) %>%\n",
    "  mutate(sq_deviation=deviation **2)\n",
    "\n",
    "between_mean_data"
   ]
  },
  {
   "cell_type": "code",
   "execution_count": 69,
   "id": "869663e2",
   "metadata": {},
   "outputs": [
    {
     "data": {
      "text/html": [
       "<table class=\"dataframe\">\n",
       "<caption>A tibble: 3 × 2</caption>\n",
       "<thead>\n",
       "\t<tr><th scope=col>drug</th><th scope=col>group_sample_size</th></tr>\n",
       "\t<tr><th scope=col>&lt;fct&gt;</th><th scope=col>&lt;int&gt;</th></tr>\n",
       "</thead>\n",
       "<tbody>\n",
       "\t<tr><td>placebo </td><td>6</td></tr>\n",
       "\t<tr><td>anxifree</td><td>6</td></tr>\n",
       "\t<tr><td>joyzepam</td><td>6</td></tr>\n",
       "</tbody>\n",
       "</table>\n"
      ],
      "text/latex": [
       "A tibble: 3 × 2\n",
       "\\begin{tabular}{ll}\n",
       " drug & group\\_sample\\_size\\\\\n",
       " <fct> & <int>\\\\\n",
       "\\hline\n",
       "\t placebo  & 6\\\\\n",
       "\t anxifree & 6\\\\\n",
       "\t joyzepam & 6\\\\\n",
       "\\end{tabular}\n"
      ],
      "text/markdown": [
       "\n",
       "A tibble: 3 × 2\n",
       "\n",
       "| drug &lt;fct&gt; | group_sample_size &lt;int&gt; |\n",
       "|---|---|\n",
       "| placebo  | 6 |\n",
       "| anxifree | 6 |\n",
       "| joyzepam | 6 |\n",
       "\n"
      ],
      "text/plain": [
       "  drug     group_sample_size\n",
       "1 placebo  6                \n",
       "2 anxifree 6                \n",
       "3 joyzepam 6                "
      ]
     },
     "metadata": {},
     "output_type": "display_data"
    }
   ],
   "source": [
    "counts = temp_data %>% \n",
    "  group_by(drug) %>%\n",
    "  summarise(group_sample_size = n())\n",
    "counts"
   ]
  },
  {
   "cell_type": "code",
   "execution_count": 75,
   "id": "1f04c4ef",
   "metadata": {},
   "outputs": [
    {
     "data": {
      "text/html": [
       "<table class=\"dataframe\">\n",
       "<caption>A tibble: 3 × 6</caption>\n",
       "<thead>\n",
       "\t<tr><th scope=col>drug</th><th scope=col>group_mean</th><th scope=col>grand_mean</th><th scope=col>deviation</th><th scope=col>sq_deviation</th><th scope=col>group_sample_size</th></tr>\n",
       "\t<tr><th scope=col>&lt;fct&gt;</th><th scope=col>&lt;dbl&gt;</th><th scope=col>&lt;dbl&gt;</th><th scope=col>&lt;dbl&gt;</th><th scope=col>&lt;dbl&gt;</th><th scope=col>&lt;int&gt;</th></tr>\n",
       "</thead>\n",
       "<tbody>\n",
       "\t<tr><td>placebo </td><td>0.4500</td><td>0.8833</td><td>-0.4333</td><td>0.18778</td><td>6</td></tr>\n",
       "\t<tr><td>anxifree</td><td>0.7167</td><td>0.8833</td><td>-0.1667</td><td>0.02778</td><td>6</td></tr>\n",
       "\t<tr><td>joyzepam</td><td>1.4833</td><td>0.8833</td><td> 0.6000</td><td>0.36000</td><td>6</td></tr>\n",
       "</tbody>\n",
       "</table>\n"
      ],
      "text/latex": [
       "A tibble: 3 × 6\n",
       "\\begin{tabular}{llllll}\n",
       " drug & group\\_mean & grand\\_mean & deviation & sq\\_deviation & group\\_sample\\_size\\\\\n",
       " <fct> & <dbl> & <dbl> & <dbl> & <dbl> & <int>\\\\\n",
       "\\hline\n",
       "\t placebo  & 0.4500 & 0.8833 & -0.4333 & 0.18778 & 6\\\\\n",
       "\t anxifree & 0.7167 & 0.8833 & -0.1667 & 0.02778 & 6\\\\\n",
       "\t joyzepam & 1.4833 & 0.8833 &  0.6000 & 0.36000 & 6\\\\\n",
       "\\end{tabular}\n"
      ],
      "text/markdown": [
       "\n",
       "A tibble: 3 × 6\n",
       "\n",
       "| drug &lt;fct&gt; | group_mean &lt;dbl&gt; | grand_mean &lt;dbl&gt; | deviation &lt;dbl&gt; | sq_deviation &lt;dbl&gt; | group_sample_size &lt;int&gt; |\n",
       "|---|---|---|---|---|---|\n",
       "| placebo  | 0.4500 | 0.8833 | -0.4333 | 0.18778 | 6 |\n",
       "| anxifree | 0.7167 | 0.8833 | -0.1667 | 0.02778 | 6 |\n",
       "| joyzepam | 1.4833 | 0.8833 |  0.6000 | 0.36000 | 6 |\n",
       "\n"
      ],
      "text/plain": [
       "  drug     group_mean grand_mean deviation sq_deviation group_sample_size\n",
       "1 placebo  0.4500     0.8833     -0.4333   0.18778      6                \n",
       "2 anxifree 0.7167     0.8833     -0.1667   0.02778      6                \n",
       "3 joyzepam 1.4833     0.8833      0.6000   0.36000      6                "
      ]
     },
     "metadata": {},
     "output_type": "display_data"
    }
   ],
   "source": [
    "### Adding the source \"dplyr::\" to show the where the function\n",
    "### is from\n",
    "dplyr::inner_join(between_mean_data, counts, by=\"drug\")"
   ]
  },
  {
   "cell_type": "code",
   "execution_count": 79,
   "id": "deb5e9f3",
   "metadata": {},
   "outputs": [
    {
     "data": {
      "text/html": [
       "<table class=\"dataframe\">\n",
       "<caption>A tibble: 3 × 7</caption>\n",
       "<thead>\n",
       "\t<tr><th scope=col>drug</th><th scope=col>group_mean</th><th scope=col>grand_mean</th><th scope=col>deviation</th><th scope=col>sq_deviation</th><th scope=col>group_sample_size</th><th scope=col>scaled_sq_deviation</th></tr>\n",
       "\t<tr><th scope=col>&lt;fct&gt;</th><th scope=col>&lt;dbl&gt;</th><th scope=col>&lt;dbl&gt;</th><th scope=col>&lt;dbl&gt;</th><th scope=col>&lt;dbl&gt;</th><th scope=col>&lt;int&gt;</th><th scope=col>&lt;dbl&gt;</th></tr>\n",
       "</thead>\n",
       "<tbody>\n",
       "\t<tr><td>placebo </td><td>0.4500</td><td>0.8833</td><td>-0.4333</td><td>0.18778</td><td>6</td><td>1.1267</td></tr>\n",
       "\t<tr><td>anxifree</td><td>0.7167</td><td>0.8833</td><td>-0.1667</td><td>0.02778</td><td>6</td><td>0.1667</td></tr>\n",
       "\t<tr><td>joyzepam</td><td>1.4833</td><td>0.8833</td><td> 0.6000</td><td>0.36000</td><td>6</td><td>2.1600</td></tr>\n",
       "</tbody>\n",
       "</table>\n"
      ],
      "text/latex": [
       "A tibble: 3 × 7\n",
       "\\begin{tabular}{lllllll}\n",
       " drug & group\\_mean & grand\\_mean & deviation & sq\\_deviation & group\\_sample\\_size & scaled\\_sq\\_deviation\\\\\n",
       " <fct> & <dbl> & <dbl> & <dbl> & <dbl> & <int> & <dbl>\\\\\n",
       "\\hline\n",
       "\t placebo  & 0.4500 & 0.8833 & -0.4333 & 0.18778 & 6 & 1.1267\\\\\n",
       "\t anxifree & 0.7167 & 0.8833 & -0.1667 & 0.02778 & 6 & 0.1667\\\\\n",
       "\t joyzepam & 1.4833 & 0.8833 &  0.6000 & 0.36000 & 6 & 2.1600\\\\\n",
       "\\end{tabular}\n"
      ],
      "text/markdown": [
       "\n",
       "A tibble: 3 × 7\n",
       "\n",
       "| drug &lt;fct&gt; | group_mean &lt;dbl&gt; | grand_mean &lt;dbl&gt; | deviation &lt;dbl&gt; | sq_deviation &lt;dbl&gt; | group_sample_size &lt;int&gt; | scaled_sq_deviation &lt;dbl&gt; |\n",
       "|---|---|---|---|---|---|---|\n",
       "| placebo  | 0.4500 | 0.8833 | -0.4333 | 0.18778 | 6 | 1.1267 |\n",
       "| anxifree | 0.7167 | 0.8833 | -0.1667 | 0.02778 | 6 | 0.1667 |\n",
       "| joyzepam | 1.4833 | 0.8833 |  0.6000 | 0.36000 | 6 | 2.1600 |\n",
       "\n"
      ],
      "text/plain": [
       "  drug     group_mean grand_mean deviation sq_deviation group_sample_size\n",
       "1 placebo  0.4500     0.8833     -0.4333   0.18778      6                \n",
       "2 anxifree 0.7167     0.8833     -0.1667   0.02778      6                \n",
       "3 joyzepam 1.4833     0.8833      0.6000   0.36000      6                \n",
       "  scaled_sq_deviation\n",
       "1 1.1267             \n",
       "2 0.1667             \n",
       "3 2.1600             "
      ]
     },
     "metadata": {},
     "output_type": "display_data"
    }
   ],
   "source": [
    "\n",
    "between_mean_data = between_mean_data %>% \n",
    "  left_join(counts, by=\"drug\") %>%\n",
    "  mutate(\"scaled_sq_deviation\" = group_sample_size * sq_deviation) \n",
    "between_mean_data"
   ]
  },
  {
   "cell_type": "code",
   "execution_count": 80,
   "id": "969fc02a",
   "metadata": {},
   "outputs": [
    {
     "data": {
      "text/html": [
       "3.45333333333333"
      ],
      "text/latex": [
       "3.45333333333333"
      ],
      "text/markdown": [
       "3.45333333333333"
      ],
      "text/plain": [
       "[1] 3.453"
      ]
     },
     "metadata": {},
     "output_type": "display_data"
    }
   ],
   "source": [
    "SS_b = sum(between_mean_data$scaled_sq_deviation)\n",
    "SS_b"
   ]
  },
  {
   "cell_type": "code",
   "execution_count": 81,
   "id": "e998e6a1",
   "metadata": {},
   "outputs": [],
   "source": [
    "df_b = 2\n",
    "df_w = 15\n"
   ]
  },
  {
   "cell_type": "code",
   "execution_count": 83,
   "id": "0a1dd8c2",
   "metadata": {},
   "outputs": [
    {
     "data": {
      "text/html": [
       "1.72666666666667"
      ],
      "text/latex": [
       "1.72666666666667"
      ],
      "text/markdown": [
       "1.72666666666667"
      ],
      "text/plain": [
       "[1] 1.727"
      ]
     },
     "metadata": {},
     "output_type": "display_data"
    }
   ],
   "source": [
    "MS_b = SS_b / df_b\n",
    "MS_b"
   ]
  },
  {
   "cell_type": "code",
   "execution_count": 87,
   "id": "14a4a832",
   "metadata": {},
   "outputs": [
    {
     "data": {
      "text/html": [
       "18.6107784431138"
      ],
      "text/latex": [
       "18.6107784431138"
      ],
      "text/markdown": [
       "18.6107784431138"
      ],
      "text/plain": [
       "[1] 18.61"
      ]
     },
     "metadata": {},
     "output_type": "display_data"
    }
   ],
   "source": [
    "MS_w = SS_w / df_w\n",
    "F  = MS_b / MS_w\n",
    "F"
   ]
  },
  {
   "cell_type": "code",
   "execution_count": 113,
   "id": "e7e04b6e",
   "metadata": {},
   "outputs": [
    {
     "data": {
      "text/html": [
       "8.64784579341915e-05"
      ],
      "text/latex": [
       "8.64784579341915e-05"
      ],
      "text/markdown": [
       "8.64784579341915e-05"
      ],
      "text/plain": [
       "[1] 8.648e-05"
      ]
     },
     "metadata": {},
     "output_type": "display_data"
    }
   ],
   "source": [
    "1 - pf(18.610, df_b, df_w)"
   ]
  },
  {
   "cell_type": "markdown",
   "id": "3d3c6a57",
   "metadata": {},
   "source": [
    "### ANOVA In R \n",
    "* The function `aov()` in R automates the process\n",
    "```result = aov( formula = mood.gain ~ drug, data = clin.trial )```\n",
    "* Result parts of the list, so assign the results into a variable \n",
    "  * `results` here\n",
    "  * By default, aov compute both an `anov` and `lm` so the output is two independent objects"
   ]
  },
  {
   "cell_type": "code",
   "execution_count": 107,
   "id": "53f71bad",
   "metadata": {},
   "outputs": [
    {
     "data": {
      "text/html": [
       "<style>\n",
       ".list-inline {list-style: none; margin:0; padding: 0}\n",
       ".list-inline>li {display: inline-block}\n",
       ".list-inline>li:not(:last-child)::after {content: \"\\00b7\"; padding: 0 .5ex}\n",
       "</style>\n",
       "<ol class=list-inline><li>'aov'</li><li>'lm'</li></ol>\n"
      ],
      "text/latex": [
       "\\begin{enumerate*}\n",
       "\\item 'aov'\n",
       "\\item 'lm'\n",
       "\\end{enumerate*}\n"
      ],
      "text/markdown": [
       "1. 'aov'\n",
       "2. 'lm'\n",
       "\n",
       "\n"
      ],
      "text/plain": [
       "[1] \"aov\" \"lm\" "
      ]
     },
     "metadata": {},
     "output_type": "display_data"
    }
   ],
   "source": [
    "aov_results = aov( formula = mood.gain ~ drug, data = clin.trial )\n",
    "class(aov_results)"
   ]
  },
  {
   "cell_type": "code",
   "execution_count": 108,
   "id": "92036a96",
   "metadata": {},
   "outputs": [
    {
     "data": {
      "text/html": [
       "<style>\n",
       ".list-inline {list-style: none; margin:0; padding: 0}\n",
       ".list-inline>li {display: inline-block}\n",
       ".list-inline>li:not(:last-child)::after {content: \"\\00b7\"; padding: 0 .5ex}\n",
       "</style>\n",
       "<ol class=list-inline><li>'coefficients'</li><li>'residuals'</li><li>'effects'</li><li>'rank'</li><li>'fitted.values'</li><li>'assign'</li><li>'qr'</li><li>'df.residual'</li><li>'contrasts'</li><li>'xlevels'</li><li>'call'</li><li>'terms'</li><li>'model'</li></ol>\n"
      ],
      "text/latex": [
       "\\begin{enumerate*}\n",
       "\\item 'coefficients'\n",
       "\\item 'residuals'\n",
       "\\item 'effects'\n",
       "\\item 'rank'\n",
       "\\item 'fitted.values'\n",
       "\\item 'assign'\n",
       "\\item 'qr'\n",
       "\\item 'df.residual'\n",
       "\\item 'contrasts'\n",
       "\\item 'xlevels'\n",
       "\\item 'call'\n",
       "\\item 'terms'\n",
       "\\item 'model'\n",
       "\\end{enumerate*}\n"
      ],
      "text/markdown": [
       "1. 'coefficients'\n",
       "2. 'residuals'\n",
       "3. 'effects'\n",
       "4. 'rank'\n",
       "5. 'fitted.values'\n",
       "6. 'assign'\n",
       "7. 'qr'\n",
       "8. 'df.residual'\n",
       "9. 'contrasts'\n",
       "10. 'xlevels'\n",
       "11. 'call'\n",
       "12. 'terms'\n",
       "13. 'model'\n",
       "\n",
       "\n"
      ],
      "text/plain": [
       " [1] \"coefficients\"  \"residuals\"     \"effects\"       \"rank\"         \n",
       " [5] \"fitted.values\" \"assign\"        \"qr\"            \"df.residual\"  \n",
       " [9] \"contrasts\"     \"xlevels\"       \"call\"          \"terms\"        \n",
       "[13] \"model\"        "
      ]
     },
     "metadata": {},
     "output_type": "display_data"
    }
   ],
   "source": [
    "names(aov_results)"
   ]
  },
  {
   "cell_type": "code",
   "execution_count": 109,
   "id": "6018b341",
   "metadata": {},
   "outputs": [
    {
     "data": {
      "text/plain": [
       "Call:\n",
       "   aov(formula = mood.gain ~ drug, data = clin.trial)\n",
       "\n",
       "Terms:\n",
       "                 drug Residuals\n",
       "Sum of Squares  3.453     1.392\n",
       "Deg. of Freedom     2        15\n",
       "\n",
       "Residual standard error: 0.3046\n",
       "Estimated effects may be unbalanced"
      ]
     },
     "metadata": {},
     "output_type": "display_data"
    }
   ],
   "source": [
    "results"
   ]
  },
  {
   "cell_type": "code",
   "execution_count": 110,
   "id": "beee431d",
   "metadata": {},
   "outputs": [
    {
     "data": {
      "text/html": [
       "<style>\n",
       ".list-inline {list-style: none; margin:0; padding: 0}\n",
       ".list-inline>li {display: inline-block}\n",
       ".list-inline>li:not(:last-child)::after {content: \"\\00b7\"; padding: 0 .5ex}\n",
       "</style>\n",
       "<ol class=list-inline><li>3.45333333333333</li><li>1.39166666666667</li></ol>\n"
      ],
      "text/latex": [
       "\\begin{enumerate*}\n",
       "\\item 3.45333333333333\n",
       "\\item 1.39166666666667\n",
       "\\end{enumerate*}\n"
      ],
      "text/markdown": [
       "1. 3.45333333333333\n",
       "2. 1.39166666666667\n",
       "\n",
       "\n"
      ],
      "text/plain": [
       "[1] 3.453 1.392"
      ]
     },
     "metadata": {},
     "output_type": "display_data"
    }
   ],
   "source": [
    "# Drug: between the drugs\n",
    "# Within: the residuals\n",
    "c(SS_b, SS_w)"
   ]
  },
  {
   "cell_type": "code",
   "execution_count": 112,
   "id": "ce596ee5",
   "metadata": {},
   "outputs": [
    {
     "data": {
      "text/plain": [
       "            Df Sum Sq Mean Sq F value  Pr(>F)    \n",
       "drug         2   3.45   1.727    18.6 8.6e-05 ***\n",
       "Residuals   15   1.39   0.093                    \n",
       "---\n",
       "Signif. codes:  0 ‘***’ 0.001 ‘**’ 0.01 ‘*’ 0.05 ‘.’ 0.1 ‘ ’ 1"
      ]
     },
     "metadata": {},
     "output_type": "display_data"
    }
   ],
   "source": [
    "summary(aov_results)"
   ]
  },
  {
   "cell_type": "markdown",
   "id": "a1415f8e",
   "metadata": {},
   "source": [
    "### Effect Size\n",
    "* The most common way to measure the ANOVA effect size  is $\\eta^2$\n",
    "\n",
    "$$\n",
    "\\eta^2 = \\frac{\\mbox{SS}_b}{\\mbox{SS}_{tot}}\n",
    "$$\n",
    "\n",
    "* How lage the difference between the SS_b and SS_total.\n",
    " * Similar interpretation explained when we discuss linear regression ($R^2$)\n",
    " * how much of the variabiliy in the outcome can be explained by the predictor"
   ]
  },
  {
   "cell_type": "code",
   "execution_count": 154,
   "id": "32513357",
   "metadata": {},
   "outputs": [
    {
     "data": {
      "text/plain": [
       "            Df Sum Sq Mean Sq F value  Pr(>F)    \n",
       "drug         2   3.45   1.727    18.6 8.6e-05 ***\n",
       "Residuals   15   1.39   0.093                    \n",
       "---\n",
       "Signif. codes:  0 ‘***’ 0.001 ‘**’ 0.01 ‘*’ 0.05 ‘.’ 0.1 ‘ ’ 1"
      ]
     },
     "metadata": {},
     "output_type": "display_data"
    }
   ],
   "source": [
    "summary(aov_results)\n"
   ]
  },
  {
   "cell_type": "code",
   "execution_count": 155,
   "id": "d71a94d9",
   "metadata": {},
   "outputs": [
    {
     "name": "stdout",
     "output_type": "stream",
     "text": [
      "List of 1\n",
      " $ :Classes ‘anova’ and 'data.frame':\t2 obs. of  5 variables:\n",
      "  ..$ Df     : num [1:2] 2 15\n",
      "  ..$ Sum Sq : num [1:2] 3.45 1.39\n",
      "  ..$ Mean Sq: num [1:2] 1.7267 0.0928\n",
      "  ..$ F value: num [1:2] 18.6 NA\n",
      "  ..$ Pr(>F) : num [1:2] 8.65e-05 NA\n",
      " - attr(*, \"class\")= chr [1:2] \"summary.aov\" \"listof\"\n"
     ]
    }
   ],
   "source": [
    "str(summary(aov_results))"
   ]
  },
  {
   "cell_type": "code",
   "execution_count": 156,
   "id": "9205cf3d",
   "metadata": {},
   "outputs": [
    {
     "data": {
      "text/html": [
       "<table class=\"dataframe\">\n",
       "<caption>A anova: 2 × 5</caption>\n",
       "<thead>\n",
       "\t<tr><th></th><th scope=col>Df</th><th scope=col>Sum Sq</th><th scope=col>Mean Sq</th><th scope=col>F value</th><th scope=col>Pr(&gt;F)</th></tr>\n",
       "\t<tr><th></th><th scope=col>&lt;dbl&gt;</th><th scope=col>&lt;dbl&gt;</th><th scope=col>&lt;dbl&gt;</th><th scope=col>&lt;dbl&gt;</th><th scope=col>&lt;dbl&gt;</th></tr>\n",
       "</thead>\n",
       "<tbody>\n",
       "\t<tr><th scope=row>drug       </th><td> 2</td><td>3.453</td><td>1.72667</td><td>18.61</td><td>8.646e-05</td></tr>\n",
       "\t<tr><th scope=row>Residuals  </th><td>15</td><td>1.392</td><td>0.09278</td><td>   NA</td><td>       NA</td></tr>\n",
       "</tbody>\n",
       "</table>\n"
      ],
      "text/latex": [
       "A anova: 2 × 5\n",
       "\\begin{tabular}{r|lllll}\n",
       "  & Df & Sum Sq & Mean Sq & F value & Pr(>F)\\\\\n",
       "  & <dbl> & <dbl> & <dbl> & <dbl> & <dbl>\\\\\n",
       "\\hline\n",
       "\tdrug        &  2 & 3.453 & 1.72667 & 18.61 & 8.646e-05\\\\\n",
       "\tResiduals   & 15 & 1.392 & 0.09278 &    NA &        NA\\\\\n",
       "\\end{tabular}\n"
      ],
      "text/markdown": [
       "\n",
       "A anova: 2 × 5\n",
       "\n",
       "| <!--/--> | Df &lt;dbl&gt; | Sum Sq &lt;dbl&gt; | Mean Sq &lt;dbl&gt; | F value &lt;dbl&gt; | Pr(&gt;F) &lt;dbl&gt; |\n",
       "|---|---|---|---|---|---|\n",
       "| drug        |  2 | 3.453 | 1.72667 | 18.61 | 8.646e-05 |\n",
       "| Residuals   | 15 | 1.392 | 0.09278 |    NA |        NA |\n",
       "\n"
      ],
      "text/plain": [
       "            Df Sum Sq Mean Sq F value Pr(>F)   \n",
       "drug         2 3.453  1.72667 18.61   8.646e-05\n",
       "Residuals   15 1.392  0.09278    NA          NA"
      ]
     },
     "metadata": {},
     "output_type": "display_data"
    }
   ],
   "source": [
    "summary(aov_results)[[1]]"
   ]
  },
  {
   "cell_type": "code",
   "execution_count": 158,
   "id": "bf8c8fc2",
   "metadata": {},
   "outputs": [
    {
     "data": {
      "text/html": [
       "3.45333333333334"
      ],
      "text/latex": [
       "3.45333333333334"
      ],
      "text/markdown": [
       "3.45333333333334"
      ],
      "text/plain": [
       "[1] 3.453"
      ]
     },
     "metadata": {},
     "output_type": "display_data"
    }
   ],
   "source": [
    "summary(aov_results)[[1]][\"drug\", \"Sum Sq\"]"
   ]
  },
  {
   "cell_type": "code",
   "execution_count": 162,
   "id": "abb30ea8",
   "metadata": {},
   "outputs": [
    {
     "data": {
      "text/html": [
       "0.712762297901617"
      ],
      "text/latex": [
       "0.712762297901617"
      ],
      "text/markdown": [
       "0.712762297901617"
      ],
      "text/plain": [
       "[1] 0.7128"
      ]
     },
     "metadata": {},
     "output_type": "display_data"
    }
   ],
   "source": [
    "### The kinds of things you should automaate in your package.\n",
    "\n",
    "SS_total = summary(aov_results)[[1]][\"drug\", \"Sum Sq\"] + summary(aov_results)[[1]][\"Residuals\", \"Sum Sq\"]\n",
    "\n",
    "eta_sq = summary(aov_results)[[1]][\"drug\", \"Sum Sq\"] / SS_total\n",
    "eta_sq"
   ]
  },
  {
   "cell_type": "markdown",
   "id": "6e498f12",
   "metadata": {},
   "source": [
    "### Which Groups are different\n",
    "\n",
    "* Remever that the alternaive is claiming 3 things\n",
    "  * H_a: $\\mu_P \\ne \\mu_A$ or $\\mu_P \\ne \\mu_J$ or $\\mu_P \\ne \\mu_a$\n",
    "\n",
    "  * But which one of these applies?\n",
    "    * Actually which subset of these applies?\n",
    "  \n",
    "* Can be clear form the graphs with the effect is large\n",
    "* We cna run pair-wise t-tests to answer the question\n",
    "* instead of manully running all t-test, we can use the `pairwise.t.test` R funciton\n",
    "\n",
    "  * Requires specifying, \n",
    "    * the outcome (y), \n",
    "    * the grouping variable (here drug)\n",
    "    * the adjustment method (covered later)\n",
    "  * Produces a matrix of p-values\n"
   ]
  },
  {
   "cell_type": "code",
   "execution_count": 173,
   "id": "664655ea",
   "metadata": {},
   "outputs": [
    {
     "data": {
      "text/plain": [
       "\n",
       "\tPairwise comparisons using t tests with pooled SD \n",
       "\n",
       "data:  clin.trial$mood.gain and clin.trial$drug \n",
       "\n",
       "         placebo  anxifree\n",
       "anxifree 0.150213 -       \n",
       "joyzepam 3.05e-05 0.000561\n",
       "\n",
       "P value adjustment method: none "
      ]
     },
     "metadata": {},
     "output_type": "display_data"
    }
   ],
   "source": [
    "options(digits=8)\n",
    "\n",
    "pairwise.t.test( x = clin.trial$mood.gain,   # outcome variable\n",
    "                  g = clin.trial$drug,        # grouping variable\n",
    "                  p.adjust.method = \"none\"    # which correction to use?\n",
    " )"
   ]
  },
  {
   "cell_type": "markdown",
   "id": "02b55482",
   "metadata": {},
   "source": [
    "### Corrections for multiple testing\n",
    "* With a cutoff rate of 0.05, there is 5% chances of a Type I error\n",
    "  * Calling something statistically significant due purely to chance\n",
    "* If we have 10 group, then we're running 45 pairwise comparisons\n",
    "* we'll fine 2-3 due to chance alon\n",
    "\n",
    "* Solution: adjust the p-value to be more restrictive\n",
    "  * Multiple testing correction\n",
    "\n",
    "\n"
   ]
  },
  {
   "cell_type": "markdown",
   "id": "3db689d2",
   "metadata": {},
   "source": [
    "### Bonferroni corrections\n",
    "\n",
    "* You're conducting m test and you want at most $\\alpha$ error in all tests\n",
    "  * Adjust p accordingly\n",
    "  $$ p' = m \\times p $$\n",
    "\n"
   ]
  },
  {
   "cell_type": "code",
   "execution_count": 174,
   "id": "d28d1229",
   "metadata": {},
   "outputs": [
    {
     "data": {
      "text/plain": [
       "\n",
       "\tPairwise comparisons using t tests with pooled SD \n",
       "\n",
       "data:  clin.trial$mood.gain and clin.trial$drug \n",
       "\n",
       "         placebo  anxifree\n",
       "anxifree 0.45064  -       \n",
       "joyzepam 9.14e-05 0.00168 \n",
       "\n",
       "P value adjustment method: bonferroni "
      ]
     },
     "metadata": {},
     "output_type": "display_data"
    }
   ],
   "source": [
    "pairwise.t.test( x = clin.trial$mood.gain,   # outcome variable\n",
    "                  g = clin.trial$drug,        # grouping variable\n",
    "                  p.adjust.method = \"bonferroni\"    # which correction to use?\n",
    " )"
   ]
  },
  {
   "cell_type": "code",
   "execution_count": 175,
   "id": "90ec9997",
   "metadata": {},
   "outputs": [
    {
     "data": {
      "text/html": [
       "0.4506"
      ],
      "text/latex": [
       "0.4506"
      ],
      "text/markdown": [
       "0.4506"
      ],
      "text/plain": [
       "[1] 0.4506"
      ]
     },
     "metadata": {},
     "output_type": "display_data"
    }
   ],
   "source": [
    "0.1502 * 3"
   ]
  },
  {
   "cell_type": "code",
   "execution_count": null,
   "id": "6870dee5",
   "metadata": {},
   "outputs": [],
   "source": [
    "### FDR Method\n",
    "\n",
    "\n",
    "\n"
   ]
  },
  {
   "cell_type": "code",
   "execution_count": 178,
   "id": "cdd79305",
   "metadata": {},
   "outputs": [
    {
     "data": {
      "text/plain": [
       "\n",
       "\tPairwise comparisons using t tests with pooled SD \n",
       "\n",
       "data:  clin.trial$mood.gain and clin.trial$drug \n",
       "\n",
       "         placebo  anxifree\n",
       "anxifree 0.150213 -       \n",
       "joyzepam 9.14e-05 0.000841\n",
       "\n",
       "P value adjustment method: fdr "
      ]
     },
     "metadata": {},
     "output_type": "display_data"
    }
   ],
   "source": [
    "pairwise.t.test( x = clin.trial$mood.gain,   # outcome variable\n",
    "                  g = clin.trial$drug,        # grouping variable\n",
    "                  p.adjust.method = \"fdr\"    # which correction to use?\n",
    " )"
   ]
  },
  {
   "cell_type": "markdown",
   "id": "9209daf6",
   "metadata": {},
   "source": [
    "### Assumptions of one-way ANOVA\n",
    "\n",
    "\n",
    "The the statistical models underpinning ANOVA is:\n",
    "\n",
    "$$\n",
    "\\begin{array}{lrcl}\n",
    "H_0: & Y_{ik} &=& \\mu + \\epsilon_{ik} \\\\\n",
    "H_1: & Y_{ik} &=& \\mu_k + \\epsilon_{ik} \n",
    "\\end{array}\n",
    "$$\n",
    "\n",
    "where\n",
    "$$\n",
    "\\epsilon_{ik} \\sim \\mbox{Normal}(0, \\sigma^2)\n",
    "$$\n",
    "$\\mu$  the grand population mean\n",
    "$\\mu_k$ the population mean for the k-th group. \n",
    "* Is the data better described uisng a single mean or using group-specific means (the alternative hypothesis). \n",
    "\n"
   ]
  },
  {
   "cell_type": "code",
   "execution_count": null,
   "id": "824713ba",
   "metadata": {},
   "outputs": [],
   "source": [
    "### Assumptions of one-way ANOVA\n",
    "\n",
    "\n",
    "1. Normality. The residuals are assumed to be normally distributed. As we saw in Section 13.9, we\n",
    "can assess this by looking at QQ plots or running a Shapiro-Wilk test.\n",
    "2. Homogeneity of variance: there is one value for the population standard deviation (i.e., $\\sigma$), \n",
    "  * homoscedasticity assumption\n",
    "  * we are not considering $\\sigma_k$ \n",
    "* Independence: knowing one residual tells you nothing about any other residual.\n",
    "  * No trends in the residuals plot\n",
    "\n",
    "* Th  Kruskal-Wallis test is a non-paramteric test that is more robust to devitions from the above assumptions"
   ]
  },
  {
   "cell_type": "markdown",
   "id": "594c5c1d",
   "metadata": {},
   "source": [
    "### Hypothesis tests for regression model\n",
    "\n",
    "* The null hypothesis: relationship between the predictors and the outcome,\n",
    "* The alternative hypothesis is that the data are distributed in exactly the way that the regression model\n",
    "predicts. \n",
    "\n",
    "* $H_0: Y_i = b_0 + \\epsilon_i$\n",
    "* $ H_1: Y_i = \\left( \\sum_{k=1}^K b_{k} X_{ik} \\right) + b_0 + \\epsilon_i$\n",
    "   * Where $k$ is the number of predictors\n",
    "   \n",
    "How can we test these two hypotheses against each other?"
   ]
  },
  {
   "cell_type": "markdown",
   "id": "d261d3c7",
   "metadata": {},
   "source": [
    "Just like with ANOVA, divide up the total variance SStot into the sum of the residual variance SSres and the regression model variance SSmod. \n",
    "\n",
    "$$\n",
    "\\mbox{SS}_{mod} = \\mbox{SS}_{tot} - \\mbox{SS}_{res}\n",
    "$$\n",
    "\n",
    "Convert the sums of squares in to mean squares by dividing by the degrees of freedom. \n",
    "\n",
    "$$\n",
    "\\begin{array}{rcl}\n",
    "\\mbox{MS}_{mod} &=& \\displaystyle\\frac{\\mbox{SS}_{mod} }{df_{mod}} \\\\ \\\\\n",
    "\\mbox{MS}_{res} &=& \\displaystyle\\frac{\\mbox{SS}_{res} }{df_{res} }\n",
    "\\end{array}\n",
    "$$\n",
    "* where $df_{mod}=K$ and $df_{res} = N -K - 1$"
   ]
  },
  {
   "cell_type": "markdown",
   "id": "6ee8cb4e",
   "metadata": {},
   "source": [
    "### The Test Statistic \n",
    "\n",
    "* We compute the $F$-statistic the same way as in the ANOVA\n",
    "  * This $F$-statistic has exactly the same interpretation as with the ANOVA.\n",
    "     * Large $F$ values indicate that the null hypothesis is performing poorly in comparison to the alternative hypothesis. \n",
    "     \n",
    "$$\n",
    "F =  \\frac{\\mbox{MS}_{mod}}{\\mbox{MS}_{res}}\n",
    "$$\n",
    "\n",
    "\n"
   ]
  },
  {
   "cell_type": "code",
   "execution_count": 181,
   "id": "8ad46ce5",
   "metadata": {},
   "outputs": [
    {
     "data": {
      "image/png": "[encoded data removed]",
      "text/plain": [
       "plot without title"
      ]
     },
     "metadata": {
      "image/png": {
       "height": 360,
       "width": 720
      }
     },
     "output_type": "display_data"
    }
   ],
   "source": [
    "\n",
    "x_axis = seq(1, 10,0.2)\n",
    "y_axis = 3 + 1.2 * x_axis + rnorm(length(x_axis), 0, 2)\n",
    "\n",
    "ggplot()+\n",
    " geom_point(aes(x_axis, y_axis))\n",
    "\n"
   ]
  },
  {
   "cell_type": "code",
   "execution_count": 182,
   "id": "b7d9bad8",
   "metadata": {},
   "outputs": [
    {
     "data": {
      "text/plain": [
       "\n",
       "Call:\n",
       "lm(formula = y_axis ~ x_axis)\n",
       "\n",
       "Residuals:\n",
       "     Min       1Q   Median       3Q      Max \n",
       "-4.47260 -1.70362  0.12939  1.51441  6.95522 \n",
       "\n",
       "Coefficients:\n",
       "            Estimate Std. Error t value  Pr(>|t|)    \n",
       "(Intercept)  3.59031    0.84795  4.2341  0.000115 ***\n",
       "x_axis       1.09602    0.13884  7.8941 5.728e-10 ***\n",
       "---\n",
       "Signif. codes:  0 ‘***’ 0.001 ‘**’ 0.01 ‘*’ 0.05 ‘.’ 0.1 ‘ ’ 1\n",
       "\n",
       "Residual standard error: 2.5003 on 44 degrees of freedom\n",
       "Multiple R-squared:  0.58614,\tAdjusted R-squared:  0.57674 \n",
       "F-statistic: 62.317 on 1 and 44 DF,  p-value: 5.7285e-10\n"
      ]
     },
     "metadata": {},
     "output_type": "display_data"
    }
   ],
   "source": [
    "lm_model = lm(y_axis ~ x_axis)\n",
    "summary(lm_model)"
   ]
  },
  {
   "cell_type": "markdown",
   "id": "f5777e43",
   "metadata": {},
   "source": [
    "### Tests for individual coefficients\n",
    "\n",
    "* Does a vairbale contribute to the model?\n",
    "* Does the improvement in R2 obtained by adding a predictor due to chance and not because it’s a better model?\n",
    "\n",
    "\n",
    "* Null hypothesis, the contribution of the variable is null\n",
    "  * The values observed are simply due to chance\n",
    "* Alternative hypothesis, the contribution of the variable is null\n",
    "\n"
   ]
  },
  {
   "cell_type": "markdown",
   "id": "9cda0a4d",
   "metadata": {},
   "source": [
    "### Tests for individual Coefficients - cont'd\n",
    "\n",
    "\n",
    "Formally\n",
    "$$\n",
    "H0 : b = 0\n",
    "H1 : b \\ne 0 \n",
    "$$\n",
    "\n",
    "What doe this look (sound) like?\n",
    "\n",
    "That's *exactly* the assumption for the one-sample $t$ \n",
    "\n",
    "* let's define a $t$-statistic like this,\n",
    "\n",
    "$$\n",
    "t = \\frac{\\hat{b}}{\\mbox{SE}({\\hat{b})}}\n",
    "$$\n"
   ]
  },
  {
   "cell_type": "code",
   "execution_count": 183,
   "id": "28cf6117",
   "metadata": {},
   "outputs": [
    {
     "data": {
      "text/plain": [
       "\n",
       "Call:\n",
       "lm(formula = y_axis ~ x_axis + random_var)\n",
       "\n",
       "Residuals:\n",
       "    Min      1Q  Median      3Q     Max \n",
       "-4.5595 -1.6489  0.1124  1.4085  6.8217 \n",
       "\n",
       "Coefficients:\n",
       "            Estimate Std. Error t value  Pr(>|t|)    \n",
       "(Intercept)  3.62962    0.86334  4.2042 0.0001301 ***\n",
       "x_axis       1.09506    0.14026  7.8075 8.896e-10 ***\n",
       "random_var  -0.06586    0.18231 -0.3613 0.7196806    \n",
       "---\n",
       "Signif. codes:  0 ‘***’ 0.001 ‘**’ 0.01 ‘*’ 0.05 ‘.’ 0.1 ‘ ’ 1\n",
       "\n",
       "Residual standard error: 2.5254 on 43 degrees of freedom\n",
       "Multiple R-squared:  0.58739,\tAdjusted R-squared:  0.5682 \n",
       "F-statistic: 30.608 on 2 and 43 DF,  p-value: 5.4201e-09\n"
      ]
     },
     "metadata": {},
     "output_type": "display_data"
    }
   ],
   "source": [
    "random_var = rnorm(length(x_axis), 0, 2)\n",
    "lm_model_2 = lm(y_axis ~ x_axis + random_var)\n",
    "summary(lm_model_2)"
   ]
  },
  {
   "cell_type": "code",
   "execution_count": null,
   "id": "aad00798",
   "metadata": {},
   "outputs": [],
   "source": []
  }
 ],
 "metadata": {
  "kernelspec": {
   "display_name": "R",
   "language": "R",
   "name": "ir"
  },
  "language_info": {
   "codemirror_mode": "r",
   "file_extension": ".r",
   "mimetype": "text/x-r-source",
   "name": "R",
   "pygments_lexer": "r",
   "version": "4.0.2"
  }
 },
 "nbformat": 4,
 "nbformat_minor": 5
}
