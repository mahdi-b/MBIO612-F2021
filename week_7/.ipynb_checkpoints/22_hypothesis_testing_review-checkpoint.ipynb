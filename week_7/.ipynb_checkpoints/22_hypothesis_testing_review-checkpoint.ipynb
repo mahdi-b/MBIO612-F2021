{
 "cells": [
  {
   "cell_type": "code",
   "execution_count": 2,
   "metadata": {
    "slideshow": {
     "slide_type": "skip"
    }
   },
   "outputs": [],
   "source": [
    "import pandas as pd\n",
    "import matplotlib.pyplot as plt\n",
    "import numpy as np\n",
    "\n",
    "np.random.seed(129)\n",
    "\n",
    "%matplotlib inline"
   ]
  },
  {
   "cell_type": "markdown",
   "metadata": {
    "slideshow": {
     "slide_type": "slide"
    }
   },
   "source": [
    "### Hypothesis Testing\n",
    "\n",
    "* Definitions:\n",
    "   * The statistic is the piece of information computed directly on a sample\n",
    "   * The param is the opposite of the statistic and applies to the complete population \n",
    "\n",
    "* The goal of a hypothesis test is to select between two competing hypotheses\n",
    " * hypothesis is an assumption about a population parameter\n",
    "\n",
    "* The difference between parametric a non-parametric method:\n",
    "  * parametric methods make assumptions about the parameters and the underlying distributions\n",
    "  * non-parametric methods do not make any assumptions about underlying params and their distributions\n",
    "\n"
   ]
  },
  {
   "cell_type": "markdown",
   "metadata": {
    "collapsed": true,
    "slideshow": {
     "slide_type": "slide"
    }
   },
   "source": [
    "### Hypothesis Testing Questions\n",
    "\n",
    "* In Hypothesis testing, we tackle:\n",
    "    1. A measure of the difference between two hypothesis\n",
    "        * This is referred to as the `effect size.`\n",
    "        * Economists have shown that universal basic income makes people happier\n",
    "            * The results were statistically significant.\n",
    "            * But how much happier are they?  If participants are 1% happier, is it worth spending \\$43 billion (expected cost in Canada) on the universal basic income?\n",
    "    2. Probabilities associated with the measured difference \n",
    "        * How variable is the measured or inferred difference?\n",
    "        * How likely is it that the difference is due to chance alone?\n",
    "        * This is referred to as `p-value.`"
   ]
  },
  {
   "cell_type": "markdown",
   "metadata": {
    "slideshow": {
     "slide_type": "slide"
    }
   },
   "source": [
    "### Data In Hypothesis Testing\n",
    "\n",
    "\n",
    "* Can involve data from either one or two samples. For instance:\n",
    "    * Comparing a single sample to a population with a known mean.  \n",
    "\n",
    "        * E.g. You use a new math curriculum on a *sample* of randomly selected students and compare the results to the national average. \n",
    "        * Does your curriculum improve math exam scores (compared to the national average.)\n",
    " \n",
    "    * Comparing two samples to   determine whether there is a difference between both\n",
    "        * E.g. you teach your math curriculum to a group of students in the morning and another group of students in the afternoon\n",
    "        * Is there a difference between learning math in the morning or the afternoon?"
   ]
  },
  {
   "cell_type": "markdown",
   "metadata": {
    "slideshow": {
     "slide_type": "slide"
    }
   },
   "source": [
    "### Terminology\n",
    "\n",
    "* We are typically testing two hypotheses\n",
    "\n",
    "  * The first hypothesis assumes that there is no change in our system \n",
    "    * Any changes that we observe are merely due to natural variance in the population\n",
    "    * This is referred to as the null hypothesis ($H_0$)\n",
    "  * The second hypothesis assumes the differences we are observing are not likely to arise due to chance alone\n",
    "    * By \"not likely,\" we mean something that would probabilistically rare in occurrence\n",
    "    * This is referred to as the alternative hypothesis ($H_a$)\n"
   ]
  },
  {
   "cell_type": "markdown",
   "metadata": {
    "slideshow": {
     "slide_type": "slide"
    }
   },
   "source": [
    "### Terminology - Cont'd\n",
    "\n",
    "* The alternative hypothesis can be:\n",
    "\n",
    "\n",
    "1. Single-tailed\n",
    "  * Our new method improves the average score compared to the national average\n",
    "    $\\mu_{new\\_method} > \\mu_{national\\_score}$\n",
    "   \n",
    "  * a new medication decreases cholesterol levels  \n",
    "    $\\mu_{cholesterol\\_treatment} < \\mu_{cholesterol\\_control}$\n",
    "\n",
    "2. Two-tailed\n",
    "  * The vlaues must be diferent from a given value\n",
    "   * Ex. Rate of prescription of opiods in Hawaii is different fromt the national average. This implied\n",
    "   $\\mu_{opioids\\_hawaii} < \\mu_{opioids\\_natioanlly}$ or $\\mu_{opioids\\_hawaii} > \\mu_{opioids\\_natioanlly}$\n"
   ]
  },
  {
   "cell_type": "markdown",
   "metadata": {
    "slideshow": {
     "slide_type": "slide"
    }
   },
   "source": [
    "### About the Hypothesis tests\n",
    "\n",
    "* Hypotheses ($H_0$ and $H_a$) are mutually exclusive.\n",
    "  * Ex.: * There is a difference or there is no difference \n",
    "  * But not: the difference is greater than 0 or greater than 10. \n",
    "\n",
    "* A null hypothesis can never be proven to be true\n",
    "  * Failing to prove that the alternative is true only makes the null plausible. \n",
    "  *  We say that we fail to reject the null hypothesis or that the study did not find sufficient evidence to reject the null hypothesis.\n",
    "\n",
    "* We will say that the results are statistically significant when they are unlikely to be due to chance alone"
   ]
  },
  {
   "cell_type": "markdown",
   "metadata": {
    "slideshow": {
     "slide_type": "slide"
    }
   },
   "source": [
    "### Example: Data from a Theoretical Distribution\n",
    "\n",
    "* Suppose the data comes from two normal distributions\n",
    "  * The distributions have means $\\mu_1= 232$ and $\\mu_2 = 219$\n",
    "  * The standard deviations is the same for both distributions ($\\sigma = 12$)\n",
    "  \n",
    "* These could perhaps your app average ad time in minutes viewed daily on YouTube versus Vimeo\n",
    "   * We have 90 days worth of viewing data"
   ]
  },
  {
   "cell_type": "code",
   "execution_count": 3,
   "metadata": {
    "slideshow": {
     "slide_type": "slide"
    }
   },
   "outputs": [
    {
     "data": {
      "image/png": "[encoded data removed]",
      "text/plain": [
       "<Figure size 864x432 with 1 Axes>"
      ]
     },
     "metadata": {
      "needs_background": "light"
     },
     "output_type": "display_data"
    }
   ],
   "source": [
    "plt.figure(figsize=(12,6))\n",
    "youtube = np.random.normal(232, 2, 90)\n",
    "vimeo = np.random.normal(219, 2, 90)\n",
    "\n",
    "_ = plt.hist(youtube, edgecolor='k', linewidth=1.2, bins=12, color='r', alpha=0.5)\n",
    "_ = plt.hist(vimeo, edgecolor='k', linewidth=1.2, bins=12, color='b', alpha=0.5)\n",
    "\n",
    "\n"
   ]
  },
  {
   "cell_type": "markdown",
   "metadata": {
    "slideshow": {
     "slide_type": "slide"
    }
   },
   "source": [
    "### Assessing the variability of our statistic - Different Samples\n",
    "\n",
    "\n",
    "* The difference between the means is a useful statistic to assess the difference between both samples\n",
    "  * We call this our observed statistic\n",
    "  \n",
    "* We need a distribution of the difference between the two samples to compare our statistic.\n",
    "  * This is the distribution of the test statistic under the null hypothesis\n",
    "  \n"
   ]
  },
  {
   "cell_type": "code",
   "execution_count": 4,
   "metadata": {
    "slideshow": {
     "slide_type": "slide"
    }
   },
   "outputs": [
    {
     "data": {
      "text/plain": [
       "12.970384335616558"
      ]
     },
     "execution_count": 4,
     "metadata": {},
     "output_type": "execute_result"
    }
   ],
   "source": [
    "np.mean(youtube) - np.mean(vimeo)"
   ]
  },
  {
   "cell_type": "markdown",
   "metadata": {
    "slideshow": {
     "slide_type": "slide"
    }
   },
   "source": [
    "### Question\n",
    "\n",
    "What is the mean of the distriution of the difference between the means?\n",
    "\n",
    "```python\n",
    "youtube = np.random.normal(232, 2, 90)\n",
    "vimeo = np.random.normal(219, 2, 90)\n",
    "means_difference.append(np.mean(youtube) - np.mean(vimeo))\n",
    "```\n",
    "\n",
    "<img src=\"https://www.dropbox.com/s/ytq5x9itagt5c9w/what_is_the_mean.png?dl=1\" alt=\"drawing\" style=\"width:1200px;\"/>\n",
    "\n"
   ]
  },
  {
   "cell_type": "code",
   "execution_count": 5,
   "metadata": {
    "slideshow": {
     "slide_type": "slide"
    }
   },
   "outputs": [
    {
     "data": {
      "image/png": "[encoded data removed]",
      "text/plain": [
       "<Figure size 864x432 with 1 Axes>"
      ]
     },
     "metadata": {
      "needs_background": "light"
     },
     "output_type": "display_data"
    }
   ],
   "source": [
    "plt.figure(figsize=(12,6))\n",
    "means_difference = []\n",
    "for _ in range(1000):\n",
    "    youtube = np.random.normal(232, 2, 90)\n",
    "    vimeo = np.random.normal(219, 2, 90)\n",
    "\n",
    "    means_difference.append(np.mean(youtube) - np.mean(vimeo))\n",
    "    \n",
    "_ = plt.hist(means_difference, edgecolor='k', linewidth=1.2, bins=12)"
   ]
  },
  {
   "cell_type": "markdown",
   "metadata": {
    "slideshow": {
     "slide_type": "slide"
    }
   },
   "source": [
    "### Assessing the variability of our statistic - Similar Samples\n",
    "\n",
    "* What does the difference between two sample of the same distributions look like on average?\n",
    "\n",
    "  * here we choose data from Youtube's param but we can choose vemeo's\n",
    "  \n",
    "```python\n",
    "youtube_1 = np.random.normal(232, 2, 90)\n",
    "youtube_2 = np.random.normal(232, 2, 90)\n",
    "means_difference.append(np.mean(youtube_1) - np.mean(youtube_2))\n",
    "```\n"
   ]
  },
  {
   "cell_type": "markdown",
   "metadata": {
    "slideshow": {
     "slide_type": "slide"
    }
   },
   "source": [
    "### Question\n",
    "\n",
    "```python\n",
    "youtube_1 = np.random.normal(232, 2, 90)\n",
    "youtube_2 = np.random.normal(232, 2, 90)\n",
    "means_difference.append(np.mean(youtube_1) - np.mean(youtube_2))\n",
    "```\n",
    "\n",
    "* What do we expect the mean of that distribution to be?\n",
    "\n",
    "\n",
    "\n"
   ]
  },
  {
   "cell_type": "code",
   "execution_count": 6,
   "metadata": {
    "slideshow": {
     "slide_type": "slide"
    }
   },
   "outputs": [
    {
     "data": {
      "image/png": "[encoded data removed]",
      "text/plain": [
       "<Figure size 864x432 with 1 Axes>"
      ]
     },
     "metadata": {
      "needs_background": "light"
     },
     "output_type": "display_data"
    }
   ],
   "source": [
    "plt.figure(figsize=(12,6))\n",
    "means_difference = []\n",
    "for _ in range(1000):\n",
    "    youtube_1 = np.random.normal(232, 2, 90)\n",
    "    youtube_2 = np.random.normal(232, 2, 90)\n",
    "\n",
    "    means_difference.append(np.mean(youtube_1) - np.mean(youtube_2))\n",
    "    \n",
    "_ = plt.hist(means_difference, edgecolor='k', linewidth=1.2, bins=12,)"
   ]
  },
  {
   "cell_type": "markdown",
   "metadata": {
    "slideshow": {
     "slide_type": "slide"
    }
   },
   "source": [
    "### Assessing the variability of our statistic - Similar Samples - Cont'd\n",
    "\n",
    "* Data in `youtube_1` and `youtube_2` comes from the same distribution\n",
    "* Instead of generating new datasets, we can:\n",
    "  1. Generate the data in the same call to `np.random.normal` and then  split the data into `youtube_1` and `youtube_2`\n",
    "  2. We could even permute the data and split it randomly across `youtube_1` and `youtube_2`\n"
   ]
  },
  {
   "cell_type": "code",
   "execution_count": 7,
   "metadata": {
    "slideshow": {
     "slide_type": "slide"
    }
   },
   "outputs": [
    {
     "name": "stdout",
     "output_type": "stream",
     "text": [
      "Shuffled data is [5 3 4 1 2]\n",
      "Chunk 1 is [5 3]\n",
      "Chunk 2 is [4 1 2]\n"
     ]
    }
   ],
   "source": [
    "a = np.array([1,2,3,4,5])\n",
    "# shuffles the data in place\n",
    "np.random.shuffle(a)\n",
    "print(f\"Shuffled data is {a}\")\n",
    "\n",
    "print(f\"Chunk 1 is {a[:2]}\")\n",
    "print(f\"Chunk 2 is {a[2:]}\")\n"
   ]
  },
  {
   "cell_type": "code",
   "execution_count": 8,
   "metadata": {
    "slideshow": {
     "slide_type": "slide"
    }
   },
   "outputs": [
    {
     "data": {
      "image/png": "[encoded data removed]",
      "text/plain": [
       "<Figure size 864x432 with 1 Axes>"
      ]
     },
     "metadata": {
      "needs_background": "light"
     },
     "output_type": "display_data"
    }
   ],
   "source": [
    "# 1. Generating the data in the same call, splitting or shuffling the data does not change the results\n",
    "\n",
    "plt.figure(figsize=(12,6))\n",
    "means_difference = []\n",
    "\n",
    "\n",
    "for _ in range(1000):\n",
    "    # Generate 180 days worth of data in each iteration\n",
    "    all_data = np.random.normal(232, 2, 180)\n",
    "    # shuffle the data and then split it\n",
    "    # over youtube_1 and youtube_2\n",
    "    np.random.shuffle(all_data)\n",
    "    youtube_1 = all_data[0:90]\n",
    "    youtube_2 = all_data[90:]\n",
    "    means_difference.append(np.mean(youtube_1) - np.mean(youtube_2))\n",
    "    \n",
    "_ = plt.hist(means_difference, edgecolor='k', linewidth=1.2, bins=12)"
   ]
  },
  {
   "cell_type": "code",
   "execution_count": 9,
   "metadata": {
    "slideshow": {
     "slide_type": "slide"
    }
   },
   "outputs": [
    {
     "data": {
      "image/png": "[encoded data removed]",
      "text/plain": [
       "<Figure size 864x432 with 1 Axes>"
      ]
     },
     "metadata": {
      "needs_background": "light"
     },
     "output_type": "display_data"
    }
   ],
   "source": [
    "# 1. Generating the data in the same call, splitting or shuffling the data does not change the results\n",
    "\n",
    "plt.figure(figsize=(12,6))\n",
    "\n",
    "means_difference = []\n",
    "\n",
    "# Generate 180 days worth of data once\n",
    "all_data = np.random.normal(232, 2, 180)\n",
    "\n",
    "for _ in range(1000):\n",
    "\n",
    "    # shuffle the data and then split it\n",
    "    # over youtube_1 and youtube_2\n",
    "    np.random.shuffle(all_data)\n",
    "    youtube_1 = all_data[0:90]\n",
    "    youtube_2 = all_data[90:180]\n",
    "    means_difference.append(np.mean(youtube_1) - np.mean(youtube_2))\n",
    "    \n",
    "_ = plt.hist(means_difference, edgecolor='k', linewidth=1.2, bins=12)"
   ]
  },
  {
   "cell_type": "markdown",
   "metadata": {
    "slideshow": {
     "slide_type": "slide"
    }
   },
   "source": [
    "### Question\n",
    "\n",
    "* What would the distribution of differences between the means of concatenated (merged) and permutated (shuffled) Vimeo and YouTube looks like? \n",
    "\n",
    "```\n",
    "all_data = np.concatenate([youtube, vimeo])\n",
    "\n",
    "for _ in range(1000):\n",
    "    np.random.shuffle(all_data)\n",
    "    S1_ = all_data[:90]\n",
    "    S2 = all_data[90:]\n",
    "    means_difference.append(np.mean(S1) - np.mean(S2))\n",
    "```\n",
    "\n",
    "<img src=\"https://www.dropbox.com/s/6vvg176dgb964w4/unknown_mean.png?dl=1\" alt=\"drawing\" style=\"width:600px;\"/>\n",
    "\n"
   ]
  },
  {
   "cell_type": "markdown",
   "metadata": {
    "slideshow": {
     "slide_type": "slide"
    }
   },
   "source": [
    "###  Concatenated and Permutated Youtube and Vimeo Samples \n",
    "\n",
    "<img src=\"https://www.dropbox.com/s/5fgmggf1fwg53vg/permutation.png?dl=1\" alt=\"drawing\" style=\"width:1000px;\"/>\n"
   ]
  },
  {
   "cell_type": "code",
   "execution_count": 10,
   "metadata": {
    "slideshow": {
     "slide_type": "slide"
    }
   },
   "outputs": [
    {
     "data": {
      "image/png": "[encoded data removed]",
      "text/plain": [
       "<Figure size 864x432 with 1 Axes>"
      ]
     },
     "metadata": {
      "needs_background": "light"
     },
     "output_type": "display_data"
    }
   ],
   "source": [
    "plt.figure(figsize=(12,6))\n",
    "means_difference = []\n",
    "youtube = np.random.normal(232, 2, 90)\n",
    "vimeo = np.random.normal(219, 2, 90)\n",
    "all_data = np.concatenate([youtube, vimeo])\n",
    "for _ in range(1000):\n",
    "    np.random.shuffle(all_data)\n",
    "    youtube_s = all_data[:90]\n",
    "    vimeo_s = all_data[90:]\n",
    "    means_difference.append(np.mean(youtube_s) - np.mean(vimeo_s))\n",
    "    \n",
    "_ = plt.hist(means_difference, edgecolor='k', linewidth=1.2, bins=12)"
   ]
  },
  {
   "cell_type": "markdown",
   "metadata": {
    "slideshow": {
     "slide_type": "slide"
    }
   },
   "source": [
    "### Question 1\n",
    "\n",
    "* What would the distribution of differences between the means of permutated Vimeo and YouTube look like? \n",
    "\n",
    "### Answer \n",
    "\n",
    "* The mean of the distribution of differences is 0 since the experiment is equivalent to sampling from a single large population of both youtube and Vimeo viewers.\n",
    "\n",
    "\n",
    "### Question 2\n",
    "\n",
    "* What would the distribution of the shuffled difference between Vimeo and Youtube if the samples are not balanced?\n",
    " * Say, for instance, one sample has 100 and the second has four times more individuals\n"
   ]
  },
  {
   "cell_type": "code",
   "execution_count": 11,
   "metadata": {
    "slideshow": {
     "slide_type": "slide"
    }
   },
   "outputs": [
    {
     "data": {
      "image/png": "[encoded data removed]",
      "text/plain": [
       "<Figure size 864x432 with 1 Axes>"
      ]
     },
     "metadata": {
      "needs_background": "light"
     },
     "output_type": "display_data"
    }
   ],
   "source": [
    "\n",
    "plt.figure(figsize=(12,6))\n",
    "means_difference = []\n",
    "youtube = np.random.normal(232, 2, 90)\n",
    "vimeo = np.random.normal(219, 2, 400)\n",
    "all_data = np.concatenate([youtube, vimeo])\n",
    "for _ in range(1000):\n",
    "    np.random.shuffle(all_data)\n",
    "    youtube_s = all_data[:90]\n",
    "    vimeo_s = all_data[90:]\n",
    "    means_difference.append(np.mean(youtube_s) - np.mean(vimeo_s))\n",
    "    \n",
    "_ = plt.hist(means_difference, edgecolor='k', linewidth=1.2, bins=12)"
   ]
  },
  {
   "cell_type": "markdown",
   "metadata": {
    "slideshow": {
     "slide_type": "slide"
    }
   },
   "source": [
    "### Original Observation Vs. Distribution Under the Null\n",
    "\n",
    "\n",
    "<img src=\"https://www.dropbox.com/s/0biskkm8qmc379z/youtube_vimeo_difference.png?dl=1\" alt=\"drawing\" style=\"width:800px;\"/>"
   ]
  },
  {
   "cell_type": "code",
   "execution_count": 12,
   "metadata": {
    "slideshow": {
     "slide_type": "slide"
    }
   },
   "outputs": [
    {
     "data": {
      "text/plain": [
       "<matplotlib.collections.PathCollection at 0x115a69a60>"
      ]
     },
     "execution_count": 12,
     "metadata": {},
     "output_type": "execute_result"
    },
    {
     "data": {
      "image/png": "[encoded data removed]",
      "text/plain": [
       "<Figure size 864x432 with 1 Axes>"
      ]
     },
     "metadata": {
      "needs_background": "light"
     },
     "output_type": "display_data"
    }
   ],
   "source": [
    "plt.figure(figsize=(12,6))\n",
    "means_difference = []\n",
    "youtube = np.random.normal(232, 2, 90)\n",
    "vimeo = np.random.normal(219, 2, 400)\n",
    "all_data = np.concatenate([youtube, vimeo])\n",
    "for _ in range(1000):\n",
    "    np.random.shuffle(all_data)\n",
    "    youtube_s = all_data[:90]\n",
    "    vimeo_s = all_data[90:]\n",
    "    means_difference.append(np.mean(youtube_s) - np.mean(vimeo_s))\n",
    "    \n",
    "_ = plt.hist(means_difference, edgecolor='k', linewidth=1.2, bins=12)\n",
    "\n",
    "plt.scatter(np.mean(youtube) - np.mean(vimeo), 0, color = \"red\", s=40)"
   ]
  },
  {
   "cell_type": "markdown",
   "metadata": {
    "slideshow": {
     "slide_type": "slide"
    }
   },
   "source": [
    "### Using the Above to Compare Samples  \n",
    "\n",
    "* What have we learned?\n",
    "\n",
    "* The difference between the means of samples from the same distribution has a mean of 0\n",
    "\n",
    "* This is very useful for testing the null hypothesis\n",
    "  * Under the null hypothesis, we assume that the difference between the values observed across two samples is attributed to chance alone \n",
    "\n",
    "* Comparing the observed difference between the means of two samples to that obtained if samples are from the same distribution shows how similar/dissimilar the samples while accounting for sampling variability\n"
   ]
  },
  {
   "cell_type": "markdown",
   "metadata": {
    "slideshow": {
     "slide_type": "slide"
    }
   },
   "source": [
    "### Comparing Samples from Similar Distributions\n",
    "\n",
    "* What does a plausible observed difference of means look like?\n",
    "\n",
    "* Is there a difference between the spending of males and females on your e-commerce platform?\n",
    "\n",
    "* Again we will generate the data form two distributions \n",
    " * We will simulate spending for 450 males and 456 females\n",
    " * The distributions are different but close ($\\mu_{male} = 450$ and $\\mu_{female} = 456$)\n",
    " * The standard deviation is the same for both populations but relatively large ($\\sigma = 89$)  \n",
    "\n"
   ]
  },
  {
   "cell_type": "code",
   "execution_count": 15,
   "metadata": {
    "slideshow": {
     "slide_type": "slide"
    }
   },
   "outputs": [
    {
     "name": "stdout",
     "output_type": "stream",
     "text": [
      "Difference between means is -14.887342649070092\n"
     ]
    }
   ],
   "source": [
    "male_spending = np.random.normal(450, 89, 230)\n",
    "female_spending = np.random.normal(456, 89, 190)\n",
    "diff_of_means = np.mean(male_spending) - np.mean(female_spending)\n",
    "print(f\"Difference between means is {diff_of_means}\")"
   ]
  },
  {
   "cell_type": "code",
   "execution_count": 16,
   "metadata": {
    "slideshow": {
     "slide_type": "slide"
    }
   },
   "outputs": [
    {
     "data": {
      "text/plain": [
       "<matplotlib.collections.PathCollection at 0x115629f10>"
      ]
     },
     "execution_count": 16,
     "metadata": {},
     "output_type": "execute_result"
    },
    {
     "data": {
      "image/png": "[encoded data removed]",
      "text/plain": [
       "<Figure size 432x288 with 1 Axes>"
      ]
     },
     "metadata": {
      "needs_background": "light"
     },
     "output_type": "display_data"
    }
   ],
   "source": [
    "all_data = np.concatenate([male_spending, female_spending])\n",
    "means_difference = []\n",
    "\n",
    "for _ in range(1000):\n",
    "    np.random.shuffle(all_data)\n",
    "    male_s = all_data[:230]\n",
    "    female_s = all_data[230:]\n",
    "    means_difference.append(np.mean(female_s) - np.mean(male_s))\n",
    "    \n",
    "_ = plt.hist(means_difference, edgecolor='k', linewidth=1.2, bins=12)\n",
    "\n",
    "plt.scatter(np.mean(female_spending) - np.mean(male_spending), 0, color = \"red\", s=40)"
   ]
  },
  {
   "cell_type": "markdown",
   "metadata": {
    "slideshow": {
     "slide_type": "slide"
    }
   },
   "source": [
    "### How Surprising is an Observed Statistic?\n",
    "\n",
    "* Out of the 1000 permutations generated, how many were equal to or larger than the observed statistic?\n",
    "  * We can count the number of simulated statistics that were equal to or larger than $14.27.\n",
    "\n",
    "* The larger that number, the less \"surprised\" we are by the observed statistic.\n",
    "\n",
    "* The smaller that numer, the less likely that the spending of males and females are from the same distribution.\n"
   ]
  },
  {
   "cell_type": "code",
   "execution_count": 26,
   "metadata": {
    "slideshow": {
     "slide_type": "slide"
    }
   },
   "outputs": [
    {
     "data": {
      "text/plain": [
       "21"
      ]
     },
     "execution_count": 26,
     "metadata": {},
     "output_type": "execute_result"
    }
   ],
   "source": [
    "sum(np.array(means_difference) >= diff_of_means)"
   ]
  },
  {
   "cell_type": "markdown",
   "metadata": {
    "slideshow": {
     "slide_type": "slide"
    }
   },
   "source": [
    "### The P-Value\n",
    "\n",
    "\n",
    "The p-value is a convention used to estimate how far out into the tails is considered \"surprising\"\n",
    "  * Based on the area in the tail, either upper, lower or both.\n",
    "     * Since we are working on the empirical distribution, it's easy to compute"
   ]
  },
  {
   "cell_type": "markdown",
   "metadata": {
    "slideshow": {
     "slide_type": "slide"
    }
   },
   "source": [
    "### The P-value - Cont'd\n",
    "\n",
    "The P-value is the chance, based on the model in the null hypothesis, that the test statistic is equal to the value that was observed in the data or is even further in the direction of the alternative.\n",
    "\n",
    "* If a P-value is small, then the observed statistic is far away from what the null predicts.\n",
    "  * The null is unlikely and the data supports the alternative\n",
    "  * Typically, P-value is less than 5%,  “statistically significant.”\n",
    "    * Reasonable to consider that occur in a frequency of 1/20 to be surprising \n",
    "\n",
    "* The significance level ($\\alpha$) is the probability of rejecting the null hypothesis when it is true. \n",
    "  * A significance level of 0.05 indicates a 5% risk of concluding that a difference exists when there is no actual difference.\n",
    "  \n",
    "* The concept here is very similar to that of confidence interval seen before."
   ]
  },
  {
   "cell_type": "markdown",
   "metadata": {
    "slideshow": {
     "slide_type": "slide"
    }
   },
   "source": [
    "### Hypothesis Testing Approach (General Algorithm)\n",
    "\n",
    "* Strategy used for testing hypotheses will consist of the following steps:\n",
    "\n",
    "1. We will assume that the null hypothesis is true and will compute some test statistic between the samples, or between the sample and population param.\n",
    "  * Identifying the appropriate statistic is critical \n",
    "    * This is the observed statistic under the null hypothesis\n",
    "\n",
    "2. Use permutations or bootstrapping to build a distribution of the statistic under the null hypothesis\n",
    "  \n",
    "3. Use the inferred distribution of the statistic to infer whether the observed statistic is plausible under the null hypothesis\n",
    "  * How likely are we to observe a value as extreme or more extreme than the observed statistic\n",
    "  \n",
    "  "
   ]
  },
  {
   "cell_type": "markdown",
   "metadata": {
    "slideshow": {
     "slide_type": "slide"
    }
   },
   "source": [
    "### Comparing a Sample to a Distribution Param\n",
    "\n",
    "* We already covered a method for achieving this when we generated the confidence intervals.\n",
    " * Ex. The national average for the math subscore of the SAT is 525, with a standard deviation of 20. Does a sample of 100 students who followed your curriculum fare better than the national average?\n",
    "\n",
    "1. We can generate bootstrap samples and bootstrap statistics (replicates) and infer the 95% confidence interval for the national SAT Scores\n",
    "2. If the sample mean is included in the 95% confidence, then we don't have enough evidence to discard the null hypothesis\n",
    "  * I.e., The scores obtained by our 100 students are from the theoretical distribution with $\\mu = 525$ and $\\sigma = 20$\n"
   ]
  },
  {
   "cell_type": "code",
   "execution_count": 29,
   "metadata": {
    "slideshow": {
     "slide_type": "slide"
    }
   },
   "outputs": [
    {
     "data": {
      "text/plain": [
       "array([480.94406752, 565.01303647])"
      ]
     },
     "execution_count": 29,
     "metadata": {},
     "output_type": "execute_result"
    }
   ],
   "source": [
    "sample_students = np.random.normal(525, 20, 100)\n",
    "\n",
    "observed_means = []\n",
    "\n",
    "for i in range(1000):\n",
    "    bootstrap_sample = np.random.choice(sample_students, len(sample_students))\n",
    "    observed_means.append(np.mean(bootstrap_sample))\n",
    "\n",
    "conf_interval_95 = np.percentile(sample_students, (2.5, 97.5))\n",
    "conf_interval_95"
   ]
  },
  {
   "cell_type": "code",
   "execution_count": 30,
   "metadata": {
    "slideshow": {
     "slide_type": "slide"
    }
   },
   "outputs": [
    {
     "data": {
      "text/plain": [
       "<matplotlib.legend.Legend at 0x11bdc25e0>"
      ]
     },
     "execution_count": 30,
     "metadata": {},
     "output_type": "execute_result"
    },
    {
     "data": {
      "image/png": "[encoded data removed]",
      "text/plain": [
       "<Figure size 864x432 with 1 Axes>"
      ]
     },
     "metadata": {
      "needs_background": "light"
     },
     "output_type": "display_data"
    }
   ],
   "source": [
    "plt.figure(figsize=(12,6))\n",
    "\n",
    "_ = plt.hist(sample_students, edgecolor='k', linewidth=1.2, bins=12, alpha=0.3, label=\"distribution of the mean\", density=True)\n",
    "\n",
    "plt.hlines(0, conf_interval_95[0], conf_interval_95[1], linewidth=4, color='blue', label=\"conf_interval\")\n",
    "plt.scatter(525, 0.001,  s=400, color='r', marker=\"*\", label=\"population_mean\")\n",
    "plt.legend()\n",
    "\n"
   ]
  },
  {
   "cell_type": "markdown",
   "metadata": {
    "collapsed": true,
    "slideshow": {
     "slide_type": "slide"
    }
   },
   "source": [
    "### Comparing a Sample to a Distribution Param\n",
    "\n",
    "* Note that above we used the mean of the sample\n",
    "  * We made at least one assumption about the underlying distribution\n",
    "\n",
    "* What if the underlying distribution is not normal\n",
    "\n",
    "* What if the data contains outliers that can bias our estimate of the mean?\n",
    "\n",
    "* We can compute a statistic using a modified version of the two-sample method above"
   ]
  }
 ],
 "metadata": {
  "celltoolbar": "Slideshow",
  "colab": {
   "collapsed_sections": [],
   "name": "PP_1_Introduction.ipynb",
   "provenance": [],
   "version": "0.3.2"
  },
  "hide_input": false,
  "kernelspec": {
   "display_name": "Python 3 (ipykernel)",
   "language": "python",
   "name": "python3"
  },
  "language_info": {
   "codemirror_mode": {
    "name": "ipython",
    "version": 3
   },
   "file_extension": ".py",
   "mimetype": "text/x-python",
   "name": "python",
   "nbconvert_exporter": "python",
   "pygments_lexer": "ipython3",
   "version": "3.8.3"
  }
 },
 "nbformat": 4,
 "nbformat_minor": 1
}
