{
 "cells": [
  {
   "cell_type": "markdown",
   "id": "13d131c9",
   "metadata": {},
   "source": [
    "### Question 1\n",
    "\n",
    "* Use the approach described in Chapter 6.5.3 of Introduction to Statistical Learning to select the best subset of explanatory variables to predict richness\n",
    "  * Note that the approach uses cross-validation\n",
    "  * You do not need to include interaction, "
   ]
  },
  {
   "cell_type": "code",
   "execution_count": null,
   "id": "ef9672de",
   "metadata": {},
   "outputs": [],
   "source": [
    "### Write you code here"
   ]
  }
 ],
 "metadata": {
  "kernelspec": {
   "display_name": "R",
   "language": "R",
   "name": "ir"
  },
  "language_info": {
   "codemirror_mode": "r",
   "file_extension": ".r",
   "mimetype": "text/x-r-source",
   "name": "R",
   "pygments_lexer": "r",
   "version": "4.0.2"
  }
 },
 "nbformat": 4,
 "nbformat_minor": 5
}
