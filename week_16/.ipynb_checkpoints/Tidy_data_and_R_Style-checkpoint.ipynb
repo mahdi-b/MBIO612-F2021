{
 "cells": [
  {
   "cell_type": "markdown",
   "id": "7b3ff73b",
   "metadata": {},
   "source": [
    "### Tidy Data\n",
    "\n",
    "* Some data formats are hard to analyze in R\n",
    "  * Data is often organised to facilitate data entry or search (web or other) not data entry \n",
    "\n",
    "* Tidy data is a consistent format to organise data in R\n",
    " *  Makes it easy to wrangle data across different representations required for data analysis\n",
    "\n",
    "* Non-redundant structure makes it easy to maintain data\n",
    "* Consider the following dataset, which describes:\n",
    "  * Number of TB cases documented (1) by the World Health Organization in (2) Afghanistan, Brazil, and China between 1999 (3) and 2000 (4).\n",
    "\n",
    "  * The data is structured in 4 different ways"
   ]
  },
  {
   "cell_type": "markdown",
   "id": "059e6256",
   "metadata": {},
   "source": [
    "### Orgnaizing Data: Intuition\n",
    "\n",
    "* How would you organize the following dataset? \n",
    "\n",
    "\n",
    "![](https://www.dropbox.com/s/l8ibvzf67yx2vaw/table_3.png?dl=1)"
   ]
  },
  {
   "cell_type": "markdown",
   "id": "ea44978f",
   "metadata": {},
   "source": [
    "### Orgnaizing Data: Intuition - Cont'd\n",
    "\n",
    "* How would you organize the following dataset? \n",
    "\n",
    "\n",
    "![](https://www.dropbox.com/s/8buyoskg6uqnzr2/table_4a.png?dl=1)"
   ]
  },
  {
   "cell_type": "code",
   "execution_count": 5,
   "id": "d5e49857",
   "metadata": {},
   "outputs": [
    {
     "name": "stderr",
     "output_type": "stream",
     "text": [
      "── \u001b[1mAttaching packages\u001b[22m ─────────────────────────────────────── tidyverse 1.3.0 ──\n",
      "\n",
      "\u001b[32m✔\u001b[39m \u001b[34mggplot2\u001b[39m 3.3.5     \u001b[32m✔\u001b[39m \u001b[34mpurrr  \u001b[39m 0.3.4\n",
      "\u001b[32m✔\u001b[39m \u001b[34mtibble \u001b[39m 3.0.3     \u001b[32m✔\u001b[39m \u001b[34mdplyr  \u001b[39m 1.0.2\n",
      "\u001b[32m✔\u001b[39m \u001b[34mtidyr  \u001b[39m 1.1.2     \u001b[32m✔\u001b[39m \u001b[34mstringr\u001b[39m 1.4.0\n",
      "\u001b[32m✔\u001b[39m \u001b[34mreadr  \u001b[39m 2.0.2     \u001b[32m✔\u001b[39m \u001b[34mforcats\u001b[39m 0.5.0\n",
      "\n",
      "── \u001b[1mConflicts\u001b[22m ────────────────────────────────────────── tidyverse_conflicts() ──\n",
      "\u001b[31m✖\u001b[39m \u001b[34mdplyr\u001b[39m::\u001b[32mfilter()\u001b[39m masks \u001b[34mstats\u001b[39m::filter()\n",
      "\u001b[31m✖\u001b[39m \u001b[34mdplyr\u001b[39m::\u001b[32mlag()\u001b[39m    masks \u001b[34mstats\u001b[39m::lag()\n",
      "\n"
     ]
    }
   ],
   "source": [
    "library(tidyverse)\n"
   ]
  },
  {
   "cell_type": "code",
   "execution_count": 6,
   "id": "f1293f6f",
   "metadata": {},
   "outputs": [
    {
     "data": {
      "text/html": [
       "<table class=\"dataframe\">\n",
       "<caption>A tibble: 6 × 4</caption>\n",
       "<thead>\n",
       "\t<tr><th scope=col>country</th><th scope=col>year</th><th scope=col>cases</th><th scope=col>population</th></tr>\n",
       "\t<tr><th scope=col>&lt;chr&gt;</th><th scope=col>&lt;int&gt;</th><th scope=col>&lt;int&gt;</th><th scope=col>&lt;int&gt;</th></tr>\n",
       "</thead>\n",
       "<tbody>\n",
       "\t<tr><td>Afghanistan</td><td>1999</td><td>   745</td><td>  19987071</td></tr>\n",
       "\t<tr><td>Afghanistan</td><td>2000</td><td>  2666</td><td>  20595360</td></tr>\n",
       "\t<tr><td>Brazil     </td><td>1999</td><td> 37737</td><td> 172006362</td></tr>\n",
       "\t<tr><td>Brazil     </td><td>2000</td><td> 80488</td><td> 174504898</td></tr>\n",
       "\t<tr><td>China      </td><td>1999</td><td>212258</td><td>1272915272</td></tr>\n",
       "\t<tr><td>China      </td><td>2000</td><td>213766</td><td>1280428583</td></tr>\n",
       "</tbody>\n",
       "</table>\n"
      ],
      "text/latex": [
       "A tibble: 6 × 4\n",
       "\\begin{tabular}{llll}\n",
       " country & year & cases & population\\\\\n",
       " <chr> & <int> & <int> & <int>\\\\\n",
       "\\hline\n",
       "\t Afghanistan & 1999 &    745 &   19987071\\\\\n",
       "\t Afghanistan & 2000 &   2666 &   20595360\\\\\n",
       "\t Brazil      & 1999 &  37737 &  172006362\\\\\n",
       "\t Brazil      & 2000 &  80488 &  174504898\\\\\n",
       "\t China       & 1999 & 212258 & 1272915272\\\\\n",
       "\t China       & 2000 & 213766 & 1280428583\\\\\n",
       "\\end{tabular}\n"
      ],
      "text/markdown": [
       "\n",
       "A tibble: 6 × 4\n",
       "\n",
       "| country &lt;chr&gt; | year &lt;int&gt; | cases &lt;int&gt; | population &lt;int&gt; |\n",
       "|---|---|---|---|\n",
       "| Afghanistan | 1999 |    745 |   19987071 |\n",
       "| Afghanistan | 2000 |   2666 |   20595360 |\n",
       "| Brazil      | 1999 |  37737 |  172006362 |\n",
       "| Brazil      | 2000 |  80488 |  174504898 |\n",
       "| China       | 1999 | 212258 | 1272915272 |\n",
       "| China       | 2000 | 213766 | 1280428583 |\n",
       "\n"
      ],
      "text/plain": [
       "  country     year cases  population\n",
       "1 Afghanistan 1999    745   19987071\n",
       "2 Afghanistan 2000   2666   20595360\n",
       "3 Brazil      1999  37737  172006362\n",
       "4 Brazil      2000  80488  174504898\n",
       "5 China       1999 212258 1272915272\n",
       "6 China       2000 213766 1280428583"
      ]
     },
     "metadata": {},
     "output_type": "display_data"
    }
   ],
   "source": [
    "table1"
   ]
  },
  {
   "cell_type": "code",
   "execution_count": 7,
   "id": "ba2439f6",
   "metadata": {},
   "outputs": [
    {
     "data": {
      "text/html": [
       "<table class=\"dataframe\">\n",
       "<caption>A tibble: 12 × 4</caption>\n",
       "<thead>\n",
       "\t<tr><th scope=col>country</th><th scope=col>year</th><th scope=col>type</th><th scope=col>count</th></tr>\n",
       "\t<tr><th scope=col>&lt;chr&gt;</th><th scope=col>&lt;int&gt;</th><th scope=col>&lt;chr&gt;</th><th scope=col>&lt;int&gt;</th></tr>\n",
       "</thead>\n",
       "<tbody>\n",
       "\t<tr><td>Afghanistan</td><td>1999</td><td>cases     </td><td>       745</td></tr>\n",
       "\t<tr><td>Afghanistan</td><td>1999</td><td>population</td><td>  19987071</td></tr>\n",
       "\t<tr><td>Afghanistan</td><td>2000</td><td>cases     </td><td>      2666</td></tr>\n",
       "\t<tr><td>Afghanistan</td><td>2000</td><td>population</td><td>  20595360</td></tr>\n",
       "\t<tr><td>Brazil     </td><td>1999</td><td>cases     </td><td>     37737</td></tr>\n",
       "\t<tr><td>Brazil     </td><td>1999</td><td>population</td><td> 172006362</td></tr>\n",
       "\t<tr><td>Brazil     </td><td>2000</td><td>cases     </td><td>     80488</td></tr>\n",
       "\t<tr><td>Brazil     </td><td>2000</td><td>population</td><td> 174504898</td></tr>\n",
       "\t<tr><td>China      </td><td>1999</td><td>cases     </td><td>    212258</td></tr>\n",
       "\t<tr><td>China      </td><td>1999</td><td>population</td><td>1272915272</td></tr>\n",
       "\t<tr><td>China      </td><td>2000</td><td>cases     </td><td>    213766</td></tr>\n",
       "\t<tr><td>China      </td><td>2000</td><td>population</td><td>1280428583</td></tr>\n",
       "</tbody>\n",
       "</table>\n"
      ],
      "text/latex": [
       "A tibble: 12 × 4\n",
       "\\begin{tabular}{llll}\n",
       " country & year & type & count\\\\\n",
       " <chr> & <int> & <chr> & <int>\\\\\n",
       "\\hline\n",
       "\t Afghanistan & 1999 & cases      &        745\\\\\n",
       "\t Afghanistan & 1999 & population &   19987071\\\\\n",
       "\t Afghanistan & 2000 & cases      &       2666\\\\\n",
       "\t Afghanistan & 2000 & population &   20595360\\\\\n",
       "\t Brazil      & 1999 & cases      &      37737\\\\\n",
       "\t Brazil      & 1999 & population &  172006362\\\\\n",
       "\t Brazil      & 2000 & cases      &      80488\\\\\n",
       "\t Brazil      & 2000 & population &  174504898\\\\\n",
       "\t China       & 1999 & cases      &     212258\\\\\n",
       "\t China       & 1999 & population & 1272915272\\\\\n",
       "\t China       & 2000 & cases      &     213766\\\\\n",
       "\t China       & 2000 & population & 1280428583\\\\\n",
       "\\end{tabular}\n"
      ],
      "text/markdown": [
       "\n",
       "A tibble: 12 × 4\n",
       "\n",
       "| country &lt;chr&gt; | year &lt;int&gt; | type &lt;chr&gt; | count &lt;int&gt; |\n",
       "|---|---|---|---|\n",
       "| Afghanistan | 1999 | cases      |        745 |\n",
       "| Afghanistan | 1999 | population |   19987071 |\n",
       "| Afghanistan | 2000 | cases      |       2666 |\n",
       "| Afghanistan | 2000 | population |   20595360 |\n",
       "| Brazil      | 1999 | cases      |      37737 |\n",
       "| Brazil      | 1999 | population |  172006362 |\n",
       "| Brazil      | 2000 | cases      |      80488 |\n",
       "| Brazil      | 2000 | population |  174504898 |\n",
       "| China       | 1999 | cases      |     212258 |\n",
       "| China       | 1999 | population | 1272915272 |\n",
       "| China       | 2000 | cases      |     213766 |\n",
       "| China       | 2000 | population | 1280428583 |\n",
       "\n"
      ],
      "text/plain": [
       "   country     year type       count     \n",
       "1  Afghanistan 1999 cases             745\n",
       "2  Afghanistan 1999 population   19987071\n",
       "3  Afghanistan 2000 cases            2666\n",
       "4  Afghanistan 2000 population   20595360\n",
       "5  Brazil      1999 cases           37737\n",
       "6  Brazil      1999 population  172006362\n",
       "7  Brazil      2000 cases           80488\n",
       "8  Brazil      2000 population  174504898\n",
       "9  China       1999 cases          212258\n",
       "10 China       1999 population 1272915272\n",
       "11 China       2000 cases          213766\n",
       "12 China       2000 population 1280428583"
      ]
     },
     "metadata": {},
     "output_type": "display_data"
    }
   ],
   "source": [
    "table2"
   ]
  },
  {
   "cell_type": "code",
   "execution_count": 8,
   "id": "00b9f4d1",
   "metadata": {},
   "outputs": [
    {
     "data": {
      "text/html": [
       "<table class=\"dataframe\">\n",
       "<caption>A tibble: 6 × 3</caption>\n",
       "<thead>\n",
       "\t<tr><th></th><th scope=col>country</th><th scope=col>year</th><th scope=col>rate</th></tr>\n",
       "\t<tr><th></th><th scope=col>&lt;chr&gt;</th><th scope=col>&lt;int&gt;</th><th scope=col>&lt;chr&gt;</th></tr>\n",
       "</thead>\n",
       "<tbody>\n",
       "\t<tr><th scope=row>1</th><td>Afghanistan</td><td>1999</td><td>745/19987071     </td></tr>\n",
       "\t<tr><th scope=row>2</th><td>Afghanistan</td><td>2000</td><td>2666/20595360    </td></tr>\n",
       "\t<tr><th scope=row>3</th><td>Brazil     </td><td>1999</td><td>37737/172006362  </td></tr>\n",
       "\t<tr><th scope=row>4</th><td>Brazil     </td><td>2000</td><td>80488/174504898  </td></tr>\n",
       "\t<tr><th scope=row>5</th><td>China      </td><td>1999</td><td>212258/1272915272</td></tr>\n",
       "\t<tr><th scope=row>6</th><td>China      </td><td>2000</td><td>213766/1280428583</td></tr>\n",
       "</tbody>\n",
       "</table>\n"
      ],
      "text/latex": [
       "A tibble: 6 × 3\n",
       "\\begin{tabular}{r|lll}\n",
       "  & country & year & rate\\\\\n",
       "  & <chr> & <int> & <chr>\\\\\n",
       "\\hline\n",
       "\t1 & Afghanistan & 1999 & 745/19987071     \\\\\n",
       "\t2 & Afghanistan & 2000 & 2666/20595360    \\\\\n",
       "\t3 & Brazil      & 1999 & 37737/172006362  \\\\\n",
       "\t4 & Brazil      & 2000 & 80488/174504898  \\\\\n",
       "\t5 & China       & 1999 & 212258/1272915272\\\\\n",
       "\t6 & China       & 2000 & 213766/1280428583\\\\\n",
       "\\end{tabular}\n"
      ],
      "text/markdown": [
       "\n",
       "A tibble: 6 × 3\n",
       "\n",
       "| <!--/--> | country &lt;chr&gt; | year &lt;int&gt; | rate &lt;chr&gt; |\n",
       "|---|---|---|---|\n",
       "| 1 | Afghanistan | 1999 | 745/19987071      |\n",
       "| 2 | Afghanistan | 2000 | 2666/20595360     |\n",
       "| 3 | Brazil      | 1999 | 37737/172006362   |\n",
       "| 4 | Brazil      | 2000 | 80488/174504898   |\n",
       "| 5 | China       | 1999 | 212258/1272915272 |\n",
       "| 6 | China       | 2000 | 213766/1280428583 |\n",
       "\n"
      ],
      "text/plain": [
       "  country     year rate             \n",
       "1 Afghanistan 1999 745/19987071     \n",
       "2 Afghanistan 2000 2666/20595360    \n",
       "3 Brazil      1999 37737/172006362  \n",
       "4 Brazil      2000 80488/174504898  \n",
       "5 China       1999 212258/1272915272\n",
       "6 China       2000 213766/1280428583"
      ]
     },
     "metadata": {},
     "output_type": "display_data"
    }
   ],
   "source": [
    "table3"
   ]
  },
  {
   "cell_type": "code",
   "execution_count": 9,
   "id": "6e58d4be",
   "metadata": {},
   "outputs": [
    {
     "data": {
      "text/html": [
       "<table class=\"dataframe\">\n",
       "<caption>A tibble: 3 × 3</caption>\n",
       "<thead>\n",
       "\t<tr><th></th><th scope=col>country</th><th scope=col>1999</th><th scope=col>2000</th></tr>\n",
       "\t<tr><th></th><th scope=col>&lt;chr&gt;</th><th scope=col>&lt;int&gt;</th><th scope=col>&lt;int&gt;</th></tr>\n",
       "</thead>\n",
       "<tbody>\n",
       "\t<tr><th scope=row>1</th><td>Afghanistan</td><td>   745</td><td>  2666</td></tr>\n",
       "\t<tr><th scope=row>2</th><td>Brazil     </td><td> 37737</td><td> 80488</td></tr>\n",
       "\t<tr><th scope=row>3</th><td>China      </td><td>212258</td><td>213766</td></tr>\n",
       "</tbody>\n",
       "</table>\n"
      ],
      "text/latex": [
       "A tibble: 3 × 3\n",
       "\\begin{tabular}{r|lll}\n",
       "  & country & 1999 & 2000\\\\\n",
       "  & <chr> & <int> & <int>\\\\\n",
       "\\hline\n",
       "\t1 & Afghanistan &    745 &   2666\\\\\n",
       "\t2 & Brazil      &  37737 &  80488\\\\\n",
       "\t3 & China       & 212258 & 213766\\\\\n",
       "\\end{tabular}\n"
      ],
      "text/markdown": [
       "\n",
       "A tibble: 3 × 3\n",
       "\n",
       "| <!--/--> | country &lt;chr&gt; | 1999 &lt;int&gt; | 2000 &lt;int&gt; |\n",
       "|---|---|---|---|\n",
       "| 1 | Afghanistan |    745 |   2666 |\n",
       "| 2 | Brazil      |  37737 |  80488 |\n",
       "| 3 | China       | 212258 | 213766 |\n",
       "\n"
      ],
      "text/plain": [
       "  country     1999   2000  \n",
       "1 Afghanistan    745   2666\n",
       "2 Brazil       37737  80488\n",
       "3 China       212258 213766"
      ]
     },
     "metadata": {},
     "output_type": "display_data"
    }
   ],
   "source": [
    "table4a\n"
   ]
  },
  {
   "cell_type": "code",
   "execution_count": 10,
   "id": "69399b95",
   "metadata": {},
   "outputs": [
    {
     "data": {
      "text/html": [
       "<table class=\"dataframe\">\n",
       "<caption>A tibble: 3 × 3</caption>\n",
       "<thead>\n",
       "\t<tr><th></th><th scope=col>country</th><th scope=col>1999</th><th scope=col>2000</th></tr>\n",
       "\t<tr><th></th><th scope=col>&lt;chr&gt;</th><th scope=col>&lt;int&gt;</th><th scope=col>&lt;int&gt;</th></tr>\n",
       "</thead>\n",
       "<tbody>\n",
       "\t<tr><th scope=row>1</th><td>Afghanistan</td><td>  19987071</td><td>  20595360</td></tr>\n",
       "\t<tr><th scope=row>2</th><td>Brazil     </td><td> 172006362</td><td> 174504898</td></tr>\n",
       "\t<tr><th scope=row>3</th><td>China      </td><td>1272915272</td><td>1280428583</td></tr>\n",
       "</tbody>\n",
       "</table>\n"
      ],
      "text/latex": [
       "A tibble: 3 × 3\n",
       "\\begin{tabular}{r|lll}\n",
       "  & country & 1999 & 2000\\\\\n",
       "  & <chr> & <int> & <int>\\\\\n",
       "\\hline\n",
       "\t1 & Afghanistan &   19987071 &   20595360\\\\\n",
       "\t2 & Brazil      &  172006362 &  174504898\\\\\n",
       "\t3 & China       & 1272915272 & 1280428583\\\\\n",
       "\\end{tabular}\n"
      ],
      "text/markdown": [
       "\n",
       "A tibble: 3 × 3\n",
       "\n",
       "| <!--/--> | country &lt;chr&gt; | 1999 &lt;int&gt; | 2000 &lt;int&gt; |\n",
       "|---|---|---|---|\n",
       "| 1 | Afghanistan |   19987071 |   20595360 |\n",
       "| 2 | Brazil      |  172006362 |  174504898 |\n",
       "| 3 | China       | 1272915272 | 1280428583 |\n",
       "\n"
      ],
      "text/plain": [
       "  country     1999       2000      \n",
       "1 Afghanistan   19987071   20595360\n",
       "2 Brazil       172006362  174504898\n",
       "3 China       1272915272 1280428583"
      ]
     },
     "metadata": {},
     "output_type": "display_data"
    }
   ],
   "source": [
    "table4b\n"
   ]
  },
  {
   "cell_type": "markdown",
   "id": "1525bfc7",
   "metadata": {},
   "source": [
    "### Question Related to Final Project\n",
    "\n",
    "* How did we manage to get access to the tables without explicitly reading them?\n"
   ]
  },
  {
   "cell_type": "markdown",
   "id": "c71949f4",
   "metadata": {},
   "source": [
    "### Rules for Tidy Data\n",
    "\n",
    "\n",
    "* There are three interrelated rules which make a dataset tidy:\n",
    "  * Each variable must have its own column.\n",
    "    * Don't merge variables in a single column.\n",
    "    * Decouple if in doubt\n",
    "    * A variable is something that we measure. The name of the column is the description of that *thing* we measure.\n",
    "  * Each observation must have its own row.\n",
    "    * It may seem elegant to have an observation split across multiple rows to avoid long complicated observations\n",
    "  * Each value must have its own cell.\n",
    "\n",
    "![](https://www.dropbox.com/s/cowy26mbc2hc27q/Fig_12._1.png?dl=1)\n",
    "\n",
    "\n"
   ]
  },
  {
   "cell_type": "markdown",
   "id": "aa6f0279",
   "metadata": {},
   "source": [
    "### Rules for Tidy Data - Cont 'd\n",
    "\n",
    "* Put each dataset in a table (data.frame or tibble)\n",
    "\n",
    "* A compact dataset is not always the solution\n",
    "  * Acceptable to havesome minimal level of redundancy if it facilitates the analysis or plotting\n"
   ]
  },
  {
   "cell_type": "markdown",
   "id": "40a2c46e",
   "metadata": {},
   "source": [
    "### Pivot a Dataset\n",
    "* Data pivoting rearranges the columns and rows in a different way.\n",
    "* Pivoting a dataset is commonly used to group observations spread across multiple columns or multiple rows\n",
    "* Issue: Merging more than one observation in one leads to a wide data set.\n",
    "  * Solution: Convert the wide dataset to a long dataset using `pivot_longer()`\n",
    "  * Split a row using a couple of variables\n",
    "* Issue: Splitting an observation leads to an unnecessarily long dataset\n",
    "  * Solution: Convert the long dataset to a wide dataset using `pivot_longer()`\n",
    "  * I.e., merge rows using some common variable value"
   ]
  },
  {
   "cell_type": "code",
   "execution_count": 11,
   "id": "83f2310c",
   "metadata": {},
   "outputs": [
    {
     "data": {
      "text/html": [
       "<table class=\"dataframe\">\n",
       "<caption>A tibble: 3 × 3</caption>\n",
       "<thead>\n",
       "\t<tr><th></th><th scope=col>country</th><th scope=col>1999</th><th scope=col>2000</th></tr>\n",
       "\t<tr><th></th><th scope=col>&lt;chr&gt;</th><th scope=col>&lt;int&gt;</th><th scope=col>&lt;int&gt;</th></tr>\n",
       "</thead>\n",
       "<tbody>\n",
       "\t<tr><th scope=row>1</th><td>Afghanistan</td><td>   745</td><td>  2666</td></tr>\n",
       "\t<tr><th scope=row>2</th><td>Brazil     </td><td> 37737</td><td> 80488</td></tr>\n",
       "\t<tr><th scope=row>3</th><td>China      </td><td>212258</td><td>213766</td></tr>\n",
       "</tbody>\n",
       "</table>\n"
      ],
      "text/latex": [
       "A tibble: 3 × 3\n",
       "\\begin{tabular}{r|lll}\n",
       "  & country & 1999 & 2000\\\\\n",
       "  & <chr> & <int> & <int>\\\\\n",
       "\\hline\n",
       "\t1 & Afghanistan &    745 &   2666\\\\\n",
       "\t2 & Brazil      &  37737 &  80488\\\\\n",
       "\t3 & China       & 212258 & 213766\\\\\n",
       "\\end{tabular}\n"
      ],
      "text/markdown": [
       "\n",
       "A tibble: 3 × 3\n",
       "\n",
       "| <!--/--> | country &lt;chr&gt; | 1999 &lt;int&gt; | 2000 &lt;int&gt; |\n",
       "|---|---|---|---|\n",
       "| 1 | Afghanistan |    745 |   2666 |\n",
       "| 2 | Brazil      |  37737 |  80488 |\n",
       "| 3 | China       | 212258 | 213766 |\n",
       "\n"
      ],
      "text/plain": [
       "  country     1999   2000  \n",
       "1 Afghanistan    745   2666\n",
       "2 Brazil       37737  80488\n",
       "3 China       212258 213766"
      ]
     },
     "metadata": {},
     "output_type": "display_data"
    }
   ],
   "source": [
    "# What is the issue with this dataset?\n",
    "\n",
    "table4a\n"
   ]
  },
  {
   "cell_type": "markdown",
   "id": "e875a3fd",
   "metadata": {},
   "source": [
    "### Convert data from wide to long\n",
    "\n",
    "* We need to:\n",
    "  * Convert `1999` and `2000` to actual values of a column, say `year`\n",
    "  * Store values held in the column 1999 and 2000 into a new variable, say cases \n",
    "* Note how that converts a wide data to a long data  \n",
    "  * Increases the number of rows and decreases the number of columns."
   ]
  },
  {
   "cell_type": "code",
   "execution_count": 10,
   "id": "12db6e6d",
   "metadata": {},
   "outputs": [
    {
     "data": {
      "text/html": [
       "<table class=\"dataframe\">\n",
       "<caption>A tibble: 6 × 3</caption>\n",
       "<thead>\n",
       "\t<tr><th scope=col>country</th><th scope=col>year</th><th scope=col>cases</th></tr>\n",
       "\t<tr><th scope=col>&lt;chr&gt;</th><th scope=col>&lt;chr&gt;</th><th scope=col>&lt;int&gt;</th></tr>\n",
       "</thead>\n",
       "<tbody>\n",
       "\t<tr><td>Afghanistan</td><td>1999</td><td>   745</td></tr>\n",
       "\t<tr><td>Afghanistan</td><td>2000</td><td>  2666</td></tr>\n",
       "\t<tr><td>Brazil     </td><td>1999</td><td> 37737</td></tr>\n",
       "\t<tr><td>Brazil     </td><td>2000</td><td> 80488</td></tr>\n",
       "\t<tr><td>China      </td><td>1999</td><td>212258</td></tr>\n",
       "\t<tr><td>China      </td><td>2000</td><td>213766</td></tr>\n",
       "</tbody>\n",
       "</table>\n"
      ],
      "text/latex": [
       "A tibble: 6 × 3\n",
       "\\begin{tabular}{lll}\n",
       " country & year & cases\\\\\n",
       " <chr> & <chr> & <int>\\\\\n",
       "\\hline\n",
       "\t Afghanistan & 1999 &    745\\\\\n",
       "\t Afghanistan & 2000 &   2666\\\\\n",
       "\t Brazil      & 1999 &  37737\\\\\n",
       "\t Brazil      & 2000 &  80488\\\\\n",
       "\t China       & 1999 & 212258\\\\\n",
       "\t China       & 2000 & 213766\\\\\n",
       "\\end{tabular}\n"
      ],
      "text/markdown": [
       "\n",
       "A tibble: 6 × 3\n",
       "\n",
       "| country &lt;chr&gt; | year &lt;chr&gt; | cases &lt;int&gt; |\n",
       "|---|---|---|\n",
       "| Afghanistan | 1999 |    745 |\n",
       "| Afghanistan | 2000 |   2666 |\n",
       "| Brazil      | 1999 |  37737 |\n",
       "| Brazil      | 2000 |  80488 |\n",
       "| China       | 1999 | 212258 |\n",
       "| China       | 2000 | 213766 |\n",
       "\n"
      ],
      "text/plain": [
       "  country     year cases \n",
       "1 Afghanistan 1999    745\n",
       "2 Afghanistan 2000   2666\n",
       "3 Brazil      1999  37737\n",
       "4 Brazil      2000  80488\n",
       "5 China       1999 212258\n",
       "6 China       2000 213766"
      ]
     },
     "metadata": {},
     "output_type": "display_data"
    }
   ],
   "source": [
    "table4a %>% \n",
    "  pivot_longer(c(`1999`, `2000`), names_to = \"year\", values_to = \"cases\")"
   ]
  },
  {
   "cell_type": "code",
   "execution_count": 11,
   "id": "5fcec91c",
   "metadata": {},
   "outputs": [
    {
     "data": {
      "text/html": [
       "<table class=\"dataframe\">\n",
       "<caption>A tibble: 3 × 3</caption>\n",
       "<thead>\n",
       "\t<tr><th></th><th scope=col>country</th><th scope=col>1999</th><th scope=col>2000</th></tr>\n",
       "\t<tr><th></th><th scope=col>&lt;chr&gt;</th><th scope=col>&lt;int&gt;</th><th scope=col>&lt;int&gt;</th></tr>\n",
       "</thead>\n",
       "<tbody>\n",
       "\t<tr><th scope=row>1</th><td>Afghanistan</td><td>  19987071</td><td>  20595360</td></tr>\n",
       "\t<tr><th scope=row>2</th><td>Brazil     </td><td> 172006362</td><td> 174504898</td></tr>\n",
       "\t<tr><th scope=row>3</th><td>China      </td><td>1272915272</td><td>1280428583</td></tr>\n",
       "</tbody>\n",
       "</table>\n"
      ],
      "text/latex": [
       "A tibble: 3 × 3\n",
       "\\begin{tabular}{r|lll}\n",
       "  & country & 1999 & 2000\\\\\n",
       "  & <chr> & <int> & <int>\\\\\n",
       "\\hline\n",
       "\t1 & Afghanistan &   19987071 &   20595360\\\\\n",
       "\t2 & Brazil      &  172006362 &  174504898\\\\\n",
       "\t3 & China       & 1272915272 & 1280428583\\\\\n",
       "\\end{tabular}\n"
      ],
      "text/markdown": [
       "\n",
       "A tibble: 3 × 3\n",
       "\n",
       "| <!--/--> | country &lt;chr&gt; | 1999 &lt;int&gt; | 2000 &lt;int&gt; |\n",
       "|---|---|---|---|\n",
       "| 1 | Afghanistan |   19987071 |   20595360 |\n",
       "| 2 | Brazil      |  172006362 |  174504898 |\n",
       "| 3 | China       | 1272915272 | 1280428583 |\n",
       "\n"
      ],
      "text/plain": [
       "  country     1999       2000      \n",
       "1 Afghanistan   19987071   20595360\n",
       "2 Brazil       172006362  174504898\n",
       "3 China       1272915272 1280428583"
      ]
     },
     "metadata": {},
     "output_type": "display_data"
    }
   ],
   "source": [
    "table4b"
   ]
  },
  {
   "cell_type": "code",
   "execution_count": 12,
   "id": "e502627b",
   "metadata": {},
   "outputs": [
    {
     "data": {
      "text/html": [
       "<table class=\"dataframe\">\n",
       "<caption>A tibble: 6 × 3</caption>\n",
       "<thead>\n",
       "\t<tr><th scope=col>country</th><th scope=col>year</th><th scope=col>population</th></tr>\n",
       "\t<tr><th scope=col>&lt;chr&gt;</th><th scope=col>&lt;chr&gt;</th><th scope=col>&lt;int&gt;</th></tr>\n",
       "</thead>\n",
       "<tbody>\n",
       "\t<tr><td>Afghanistan</td><td>1999</td><td>  19987071</td></tr>\n",
       "\t<tr><td>Afghanistan</td><td>2000</td><td>  20595360</td></tr>\n",
       "\t<tr><td>Brazil     </td><td>1999</td><td> 172006362</td></tr>\n",
       "\t<tr><td>Brazil     </td><td>2000</td><td> 174504898</td></tr>\n",
       "\t<tr><td>China      </td><td>1999</td><td>1272915272</td></tr>\n",
       "\t<tr><td>China      </td><td>2000</td><td>1280428583</td></tr>\n",
       "</tbody>\n",
       "</table>\n"
      ],
      "text/latex": [
       "A tibble: 6 × 3\n",
       "\\begin{tabular}{lll}\n",
       " country & year & population\\\\\n",
       " <chr> & <chr> & <int>\\\\\n",
       "\\hline\n",
       "\t Afghanistan & 1999 &   19987071\\\\\n",
       "\t Afghanistan & 2000 &   20595360\\\\\n",
       "\t Brazil      & 1999 &  172006362\\\\\n",
       "\t Brazil      & 2000 &  174504898\\\\\n",
       "\t China       & 1999 & 1272915272\\\\\n",
       "\t China       & 2000 & 1280428583\\\\\n",
       "\\end{tabular}\n"
      ],
      "text/markdown": [
       "\n",
       "A tibble: 6 × 3\n",
       "\n",
       "| country &lt;chr&gt; | year &lt;chr&gt; | population &lt;int&gt; |\n",
       "|---|---|---|\n",
       "| Afghanistan | 1999 |   19987071 |\n",
       "| Afghanistan | 2000 |   20595360 |\n",
       "| Brazil      | 1999 |  172006362 |\n",
       "| Brazil      | 2000 |  174504898 |\n",
       "| China       | 1999 | 1272915272 |\n",
       "| China       | 2000 | 1280428583 |\n",
       "\n"
      ],
      "text/plain": [
       "  country     year population\n",
       "1 Afghanistan 1999   19987071\n",
       "2 Afghanistan 2000   20595360\n",
       "3 Brazil      1999  172006362\n",
       "4 Brazil      2000  174504898\n",
       "5 China       1999 1272915272\n",
       "6 China       2000 1280428583"
      ]
     },
     "metadata": {},
     "output_type": "display_data"
    }
   ],
   "source": [
    "table4b %>% \n",
    "  pivot_longer(c(`1999`, `2000`), names_to = \"year\", values_to = \"population\")"
   ]
  },
  {
   "cell_type": "code",
   "execution_count": null,
   "id": "959ead82",
   "metadata": {},
   "outputs": [],
   "source": [
    "### Joining data\n",
    "* Data should be joined when it's a single observation\n",
    "* Join won't lead to unecessary redundancy\n",
    "\n",
    "left_join(tidy4a, tidy4b)\n"
   ]
  },
  {
   "cell_type": "code",
   "execution_count": 16,
   "id": "9f578a23",
   "metadata": {},
   "outputs": [],
   "source": [
    "tidy4a = table4a %>% \n",
    "  pivot_longer(c(`1999`, `2000`), names_to = \"year\", values_to = \"cases\")\n",
    "tidy4b = table4b %>% \n",
    "  pivot_longer(c(`1999`, `2000`), names_to = \"year\", values_to = \"population\")\n"
   ]
  },
  {
   "cell_type": "code",
   "execution_count": 20,
   "id": "efd5904e",
   "metadata": {},
   "outputs": [
    {
     "data": {
      "text/html": [
       "<table class=\"dataframe\">\n",
       "<caption>A tibble: 6 × 4</caption>\n",
       "<thead>\n",
       "\t<tr><th scope=col>country</th><th scope=col>year</th><th scope=col>cases</th><th scope=col>population</th></tr>\n",
       "\t<tr><th scope=col>&lt;chr&gt;</th><th scope=col>&lt;chr&gt;</th><th scope=col>&lt;int&gt;</th><th scope=col>&lt;int&gt;</th></tr>\n",
       "</thead>\n",
       "<tbody>\n",
       "\t<tr><td>Afghanistan</td><td>1999</td><td>   745</td><td>  19987071</td></tr>\n",
       "\t<tr><td>Afghanistan</td><td>2000</td><td>  2666</td><td>  20595360</td></tr>\n",
       "\t<tr><td>Brazil     </td><td>1999</td><td> 37737</td><td> 172006362</td></tr>\n",
       "\t<tr><td>Brazil     </td><td>2000</td><td> 80488</td><td> 174504898</td></tr>\n",
       "\t<tr><td>China      </td><td>1999</td><td>212258</td><td>1272915272</td></tr>\n",
       "\t<tr><td>China      </td><td>2000</td><td>213766</td><td>1280428583</td></tr>\n",
       "</tbody>\n",
       "</table>\n"
      ],
      "text/latex": [
       "A tibble: 6 × 4\n",
       "\\begin{tabular}{llll}\n",
       " country & year & cases & population\\\\\n",
       " <chr> & <chr> & <int> & <int>\\\\\n",
       "\\hline\n",
       "\t Afghanistan & 1999 &    745 &   19987071\\\\\n",
       "\t Afghanistan & 2000 &   2666 &   20595360\\\\\n",
       "\t Brazil      & 1999 &  37737 &  172006362\\\\\n",
       "\t Brazil      & 2000 &  80488 &  174504898\\\\\n",
       "\t China       & 1999 & 212258 & 1272915272\\\\\n",
       "\t China       & 2000 & 213766 & 1280428583\\\\\n",
       "\\end{tabular}\n"
      ],
      "text/markdown": [
       "\n",
       "A tibble: 6 × 4\n",
       "\n",
       "| country &lt;chr&gt; | year &lt;chr&gt; | cases &lt;int&gt; | population &lt;int&gt; |\n",
       "|---|---|---|---|\n",
       "| Afghanistan | 1999 |    745 |   19987071 |\n",
       "| Afghanistan | 2000 |   2666 |   20595360 |\n",
       "| Brazil      | 1999 |  37737 |  172006362 |\n",
       "| Brazil      | 2000 |  80488 |  174504898 |\n",
       "| China       | 1999 | 212258 | 1272915272 |\n",
       "| China       | 2000 | 213766 | 1280428583 |\n",
       "\n"
      ],
      "text/plain": [
       "  country     year cases  population\n",
       "1 Afghanistan 1999    745   19987071\n",
       "2 Afghanistan 2000   2666   20595360\n",
       "3 Brazil      1999  37737  172006362\n",
       "4 Brazil      2000  80488  174504898\n",
       "5 China       1999 212258 1272915272\n",
       "6 China       2000 213766 1280428583"
      ]
     },
     "metadata": {},
     "output_type": "display_data"
    }
   ],
   "source": [
    "left_join(tidy4a, tidy4b, by=c('country', 'year'))"
   ]
  },
  {
   "cell_type": "code",
   "execution_count": null,
   "id": "cb78168b",
   "metadata": {},
   "outputs": [],
   "source": [
    "### Convert a data from long to wide\n",
    "\n",
    "* Use it when an observation is scattered across multiple rows\n",
    "\n",
    "* Needs the column whose values will be converted into variables\n",
    "* Name of the column to assign values to\n",
    "\n",
    "* make table wider \n",
    " * less rows and more columns than the original\n",
    "\n",
    "Add column Figure 12.3: "
   ]
  },
  {
   "cell_type": "code",
   "execution_count": 21,
   "id": "f0eb0ee9",
   "metadata": {},
   "outputs": [
    {
     "data": {
      "text/html": [
       "<table class=\"dataframe\">\n",
       "<caption>A tibble: 12 × 4</caption>\n",
       "<thead>\n",
       "\t<tr><th scope=col>country</th><th scope=col>year</th><th scope=col>type</th><th scope=col>count</th></tr>\n",
       "\t<tr><th scope=col>&lt;chr&gt;</th><th scope=col>&lt;int&gt;</th><th scope=col>&lt;chr&gt;</th><th scope=col>&lt;int&gt;</th></tr>\n",
       "</thead>\n",
       "<tbody>\n",
       "\t<tr><td>Afghanistan</td><td>1999</td><td>cases     </td><td>       745</td></tr>\n",
       "\t<tr><td>Afghanistan</td><td>1999</td><td>population</td><td>  19987071</td></tr>\n",
       "\t<tr><td>Afghanistan</td><td>2000</td><td>cases     </td><td>      2666</td></tr>\n",
       "\t<tr><td>Afghanistan</td><td>2000</td><td>population</td><td>  20595360</td></tr>\n",
       "\t<tr><td>Brazil     </td><td>1999</td><td>cases     </td><td>     37737</td></tr>\n",
       "\t<tr><td>Brazil     </td><td>1999</td><td>population</td><td> 172006362</td></tr>\n",
       "\t<tr><td>Brazil     </td><td>2000</td><td>cases     </td><td>     80488</td></tr>\n",
       "\t<tr><td>Brazil     </td><td>2000</td><td>population</td><td> 174504898</td></tr>\n",
       "\t<tr><td>China      </td><td>1999</td><td>cases     </td><td>    212258</td></tr>\n",
       "\t<tr><td>China      </td><td>1999</td><td>population</td><td>1272915272</td></tr>\n",
       "\t<tr><td>China      </td><td>2000</td><td>cases     </td><td>    213766</td></tr>\n",
       "\t<tr><td>China      </td><td>2000</td><td>population</td><td>1280428583</td></tr>\n",
       "</tbody>\n",
       "</table>\n"
      ],
      "text/latex": [
       "A tibble: 12 × 4\n",
       "\\begin{tabular}{llll}\n",
       " country & year & type & count\\\\\n",
       " <chr> & <int> & <chr> & <int>\\\\\n",
       "\\hline\n",
       "\t Afghanistan & 1999 & cases      &        745\\\\\n",
       "\t Afghanistan & 1999 & population &   19987071\\\\\n",
       "\t Afghanistan & 2000 & cases      &       2666\\\\\n",
       "\t Afghanistan & 2000 & population &   20595360\\\\\n",
       "\t Brazil      & 1999 & cases      &      37737\\\\\n",
       "\t Brazil      & 1999 & population &  172006362\\\\\n",
       "\t Brazil      & 2000 & cases      &      80488\\\\\n",
       "\t Brazil      & 2000 & population &  174504898\\\\\n",
       "\t China       & 1999 & cases      &     212258\\\\\n",
       "\t China       & 1999 & population & 1272915272\\\\\n",
       "\t China       & 2000 & cases      &     213766\\\\\n",
       "\t China       & 2000 & population & 1280428583\\\\\n",
       "\\end{tabular}\n"
      ],
      "text/markdown": [
       "\n",
       "A tibble: 12 × 4\n",
       "\n",
       "| country &lt;chr&gt; | year &lt;int&gt; | type &lt;chr&gt; | count &lt;int&gt; |\n",
       "|---|---|---|---|\n",
       "| Afghanistan | 1999 | cases      |        745 |\n",
       "| Afghanistan | 1999 | population |   19987071 |\n",
       "| Afghanistan | 2000 | cases      |       2666 |\n",
       "| Afghanistan | 2000 | population |   20595360 |\n",
       "| Brazil      | 1999 | cases      |      37737 |\n",
       "| Brazil      | 1999 | population |  172006362 |\n",
       "| Brazil      | 2000 | cases      |      80488 |\n",
       "| Brazil      | 2000 | population |  174504898 |\n",
       "| China       | 1999 | cases      |     212258 |\n",
       "| China       | 1999 | population | 1272915272 |\n",
       "| China       | 2000 | cases      |     213766 |\n",
       "| China       | 2000 | population | 1280428583 |\n",
       "\n"
      ],
      "text/plain": [
       "   country     year type       count     \n",
       "1  Afghanistan 1999 cases             745\n",
       "2  Afghanistan 1999 population   19987071\n",
       "3  Afghanistan 2000 cases            2666\n",
       "4  Afghanistan 2000 population   20595360\n",
       "5  Brazil      1999 cases           37737\n",
       "6  Brazil      1999 population  172006362\n",
       "7  Brazil      2000 cases           80488\n",
       "8  Brazil      2000 population  174504898\n",
       "9  China       1999 cases          212258\n",
       "10 China       1999 population 1272915272\n",
       "11 China       2000 cases          213766\n",
       "12 China       2000 population 1280428583"
      ]
     },
     "metadata": {},
     "output_type": "display_data"
    }
   ],
   "source": [
    "table2"
   ]
  },
  {
   "cell_type": "code",
   "execution_count": null,
   "id": "b19815cb",
   "metadata": {},
   "outputs": [],
   "source": [
    "# One variable, one column\n",
    "\n",
    "* often, vairables are joined using some special character\n",
    "  * FirstName/LastName\n",
    "  * Lat/Long\n",
    "  * City, state\n",
    "* the value used is often non-alpha numeric\n",
    "* All these combine dataset should be separated\n",
    "* There a function `function` that simplify separating values\n",
    "  * splits by default non-alpha numeric characters\n",
    "  * resulting cols are of type char\n"
   ]
  },
  {
   "cell_type": "code",
   "execution_count": 22,
   "id": "0525acff",
   "metadata": {},
   "outputs": [
    {
     "data": {
      "text/html": [
       "<table class=\"dataframe\">\n",
       "<caption>A tibble: 6 × 3</caption>\n",
       "<thead>\n",
       "\t<tr><th></th><th scope=col>country</th><th scope=col>year</th><th scope=col>rate</th></tr>\n",
       "\t<tr><th></th><th scope=col>&lt;chr&gt;</th><th scope=col>&lt;int&gt;</th><th scope=col>&lt;chr&gt;</th></tr>\n",
       "</thead>\n",
       "<tbody>\n",
       "\t<tr><th scope=row>1</th><td>Afghanistan</td><td>1999</td><td>745/19987071     </td></tr>\n",
       "\t<tr><th scope=row>2</th><td>Afghanistan</td><td>2000</td><td>2666/20595360    </td></tr>\n",
       "\t<tr><th scope=row>3</th><td>Brazil     </td><td>1999</td><td>37737/172006362  </td></tr>\n",
       "\t<tr><th scope=row>4</th><td>Brazil     </td><td>2000</td><td>80488/174504898  </td></tr>\n",
       "\t<tr><th scope=row>5</th><td>China      </td><td>1999</td><td>212258/1272915272</td></tr>\n",
       "\t<tr><th scope=row>6</th><td>China      </td><td>2000</td><td>213766/1280428583</td></tr>\n",
       "</tbody>\n",
       "</table>\n"
      ],
      "text/latex": [
       "A tibble: 6 × 3\n",
       "\\begin{tabular}{r|lll}\n",
       "  & country & year & rate\\\\\n",
       "  & <chr> & <int> & <chr>\\\\\n",
       "\\hline\n",
       "\t1 & Afghanistan & 1999 & 745/19987071     \\\\\n",
       "\t2 & Afghanistan & 2000 & 2666/20595360    \\\\\n",
       "\t3 & Brazil      & 1999 & 37737/172006362  \\\\\n",
       "\t4 & Brazil      & 2000 & 80488/174504898  \\\\\n",
       "\t5 & China       & 1999 & 212258/1272915272\\\\\n",
       "\t6 & China       & 2000 & 213766/1280428583\\\\\n",
       "\\end{tabular}\n"
      ],
      "text/markdown": [
       "\n",
       "A tibble: 6 × 3\n",
       "\n",
       "| <!--/--> | country &lt;chr&gt; | year &lt;int&gt; | rate &lt;chr&gt; |\n",
       "|---|---|---|---|\n",
       "| 1 | Afghanistan | 1999 | 745/19987071      |\n",
       "| 2 | Afghanistan | 2000 | 2666/20595360     |\n",
       "| 3 | Brazil      | 1999 | 37737/172006362   |\n",
       "| 4 | Brazil      | 2000 | 80488/174504898   |\n",
       "| 5 | China       | 1999 | 212258/1272915272 |\n",
       "| 6 | China       | 2000 | 213766/1280428583 |\n",
       "\n"
      ],
      "text/plain": [
       "  country     year rate             \n",
       "1 Afghanistan 1999 745/19987071     \n",
       "2 Afghanistan 2000 2666/20595360    \n",
       "3 Brazil      1999 37737/172006362  \n",
       "4 Brazil      2000 80488/174504898  \n",
       "5 China       1999 212258/1272915272\n",
       "6 China       2000 213766/1280428583"
      ]
     },
     "metadata": {},
     "output_type": "display_data"
    }
   ],
   "source": [
    "table3"
   ]
  },
  {
   "cell_type": "code",
   "execution_count": 23,
   "id": "ab61a7cb",
   "metadata": {},
   "outputs": [
    {
     "data": {
      "text/html": [
       "<table class=\"dataframe\">\n",
       "<caption>A tibble: 6 × 4</caption>\n",
       "<thead>\n",
       "\t<tr><th scope=col>country</th><th scope=col>year</th><th scope=col>cases</th><th scope=col>population</th></tr>\n",
       "\t<tr><th scope=col>&lt;chr&gt;</th><th scope=col>&lt;int&gt;</th><th scope=col>&lt;chr&gt;</th><th scope=col>&lt;chr&gt;</th></tr>\n",
       "</thead>\n",
       "<tbody>\n",
       "\t<tr><td>Afghanistan</td><td>1999</td><td>745   </td><td>19987071  </td></tr>\n",
       "\t<tr><td>Afghanistan</td><td>2000</td><td>2666  </td><td>20595360  </td></tr>\n",
       "\t<tr><td>Brazil     </td><td>1999</td><td>37737 </td><td>172006362 </td></tr>\n",
       "\t<tr><td>Brazil     </td><td>2000</td><td>80488 </td><td>174504898 </td></tr>\n",
       "\t<tr><td>China      </td><td>1999</td><td>212258</td><td>1272915272</td></tr>\n",
       "\t<tr><td>China      </td><td>2000</td><td>213766</td><td>1280428583</td></tr>\n",
       "</tbody>\n",
       "</table>\n"
      ],
      "text/latex": [
       "A tibble: 6 × 4\n",
       "\\begin{tabular}{llll}\n",
       " country & year & cases & population\\\\\n",
       " <chr> & <int> & <chr> & <chr>\\\\\n",
       "\\hline\n",
       "\t Afghanistan & 1999 & 745    & 19987071  \\\\\n",
       "\t Afghanistan & 2000 & 2666   & 20595360  \\\\\n",
       "\t Brazil      & 1999 & 37737  & 172006362 \\\\\n",
       "\t Brazil      & 2000 & 80488  & 174504898 \\\\\n",
       "\t China       & 1999 & 212258 & 1272915272\\\\\n",
       "\t China       & 2000 & 213766 & 1280428583\\\\\n",
       "\\end{tabular}\n"
      ],
      "text/markdown": [
       "\n",
       "A tibble: 6 × 4\n",
       "\n",
       "| country &lt;chr&gt; | year &lt;int&gt; | cases &lt;chr&gt; | population &lt;chr&gt; |\n",
       "|---|---|---|---|\n",
       "| Afghanistan | 1999 | 745    | 19987071   |\n",
       "| Afghanistan | 2000 | 2666   | 20595360   |\n",
       "| Brazil      | 1999 | 37737  | 172006362  |\n",
       "| Brazil      | 2000 | 80488  | 174504898  |\n",
       "| China       | 1999 | 212258 | 1272915272 |\n",
       "| China       | 2000 | 213766 | 1280428583 |\n",
       "\n"
      ],
      "text/plain": [
       "  country     year cases  population\n",
       "1 Afghanistan 1999 745    19987071  \n",
       "2 Afghanistan 2000 2666   20595360  \n",
       "3 Brazil      1999 37737  172006362 \n",
       "4 Brazil      2000 80488  174504898 \n",
       "5 China       1999 212258 1272915272\n",
       "6 China       2000 213766 1280428583"
      ]
     },
     "metadata": {},
     "output_type": "display_data"
    }
   ],
   "source": [
    "table3 %>% \n",
    "  separate(rate, into = c(\"cases\", \"population\"))"
   ]
  },
  {
   "cell_type": "code",
   "execution_count": 28,
   "id": "05588828",
   "metadata": {},
   "outputs": [
    {
     "data": {
      "text/html": [
       "<table class=\"dataframe\">\n",
       "<caption>A tibble: 2 × 2</caption>\n",
       "<thead>\n",
       "\t<tr><th scope=col>city</th><th scope=col>state</th></tr>\n",
       "\t<tr><th scope=col>&lt;chr&gt;</th><th scope=col>&lt;chr&gt;</th></tr>\n",
       "</thead>\n",
       "<tbody>\n",
       "\t<tr><td>Honolulu   </td><td> HI        </td></tr>\n",
       "\t<tr><td>Los Angeles</td><td> California</td></tr>\n",
       "</tbody>\n",
       "</table>\n"
      ],
      "text/latex": [
       "A tibble: 2 × 2\n",
       "\\begin{tabular}{ll}\n",
       " city & state\\\\\n",
       " <chr> & <chr>\\\\\n",
       "\\hline\n",
       "\t Honolulu    &  HI        \\\\\n",
       "\t Los Angeles &  California\\\\\n",
       "\\end{tabular}\n"
      ],
      "text/markdown": [
       "\n",
       "A tibble: 2 × 2\n",
       "\n",
       "| city &lt;chr&gt; | state &lt;chr&gt; |\n",
       "|---|---|\n",
       "| Honolulu    |  HI         |\n",
       "| Los Angeles |  California |\n",
       "\n"
      ],
      "text/plain": [
       "  city        state      \n",
       "1 Honolulu     HI        \n",
       "2 Los Angeles  California"
      ]
     },
     "metadata": {},
     "output_type": "display_data"
    }
   ],
   "source": [
    "test=tibble(\"city/state\"= c(\"Honolulu, HI\", \"Los Angeles, California\") )\n",
    "test %>% \n",
    " separate(\"city/state\", into = c(\"city\", \"state\"), sep = \",\")\n"
   ]
  },
  {
   "cell_type": "code",
   "execution_count": 29,
   "id": "5e3658b6",
   "metadata": {},
   "outputs": [
    {
     "data": {
      "text/html": [
       "<table class=\"dataframe\">\n",
       "<caption>A tibble: 6 × 4</caption>\n",
       "<thead>\n",
       "\t<tr><th scope=col>country</th><th scope=col>year</th><th scope=col>cases</th><th scope=col>population</th></tr>\n",
       "\t<tr><th scope=col>&lt;chr&gt;</th><th scope=col>&lt;int&gt;</th><th scope=col>&lt;int&gt;</th><th scope=col>&lt;int&gt;</th></tr>\n",
       "</thead>\n",
       "<tbody>\n",
       "\t<tr><td>Afghanistan</td><td>1999</td><td>   745</td><td>  19987071</td></tr>\n",
       "\t<tr><td>Afghanistan</td><td>2000</td><td>  2666</td><td>  20595360</td></tr>\n",
       "\t<tr><td>Brazil     </td><td>1999</td><td> 37737</td><td> 172006362</td></tr>\n",
       "\t<tr><td>Brazil     </td><td>2000</td><td> 80488</td><td> 174504898</td></tr>\n",
       "\t<tr><td>China      </td><td>1999</td><td>212258</td><td>1272915272</td></tr>\n",
       "\t<tr><td>China      </td><td>2000</td><td>213766</td><td>1280428583</td></tr>\n",
       "</tbody>\n",
       "</table>\n"
      ],
      "text/latex": [
       "A tibble: 6 × 4\n",
       "\\begin{tabular}{llll}\n",
       " country & year & cases & population\\\\\n",
       " <chr> & <int> & <int> & <int>\\\\\n",
       "\\hline\n",
       "\t Afghanistan & 1999 &    745 &   19987071\\\\\n",
       "\t Afghanistan & 2000 &   2666 &   20595360\\\\\n",
       "\t Brazil      & 1999 &  37737 &  172006362\\\\\n",
       "\t Brazil      & 2000 &  80488 &  174504898\\\\\n",
       "\t China       & 1999 & 212258 & 1272915272\\\\\n",
       "\t China       & 2000 & 213766 & 1280428583\\\\\n",
       "\\end{tabular}\n"
      ],
      "text/markdown": [
       "\n",
       "A tibble: 6 × 4\n",
       "\n",
       "| country &lt;chr&gt; | year &lt;int&gt; | cases &lt;int&gt; | population &lt;int&gt; |\n",
       "|---|---|---|---|\n",
       "| Afghanistan | 1999 |    745 |   19987071 |\n",
       "| Afghanistan | 2000 |   2666 |   20595360 |\n",
       "| Brazil      | 1999 |  37737 |  172006362 |\n",
       "| Brazil      | 2000 |  80488 |  174504898 |\n",
       "| China       | 1999 | 212258 | 1272915272 |\n",
       "| China       | 2000 | 213766 | 1280428583 |\n",
       "\n"
      ],
      "text/plain": [
       "  country     year cases  population\n",
       "1 Afghanistan 1999    745   19987071\n",
       "2 Afghanistan 2000   2666   20595360\n",
       "3 Brazil      1999  37737  172006362\n",
       "4 Brazil      2000  80488  174504898\n",
       "5 China       1999 212258 1272915272\n",
       "6 China       2000 213766 1280428583"
      ]
     },
     "metadata": {},
     "output_type": "display_data"
    }
   ],
   "source": [
    "table3 %>% \n",
    "  separate(rate, into = c(\"cases\", \"population\"), convert = TRUE)"
   ]
  },
  {
   "cell_type": "code",
   "execution_count": null,
   "id": "68b1dfc0",
   "metadata": {},
   "outputs": [],
   "source": [
    "### Combining Columns \n",
    "* Unite is the oppositve of separate\n",
    " * commonly used to combine dates\n",
    " * uses the separator provide to combine vlaues from two columns"
   ]
  },
  {
   "cell_type": "code",
   "execution_count": 30,
   "id": "32bc9d7e",
   "metadata": {},
   "outputs": [
    {
     "data": {
      "text/html": [
       "<table class=\"dataframe\">\n",
       "<caption>A tibble: 6 × 4</caption>\n",
       "<thead>\n",
       "\t<tr><th scope=col>country</th><th scope=col>century</th><th scope=col>year</th><th scope=col>rate</th></tr>\n",
       "\t<tr><th scope=col>&lt;chr&gt;</th><th scope=col>&lt;chr&gt;</th><th scope=col>&lt;chr&gt;</th><th scope=col>&lt;chr&gt;</th></tr>\n",
       "</thead>\n",
       "<tbody>\n",
       "\t<tr><td>Afghanistan</td><td>19</td><td>99</td><td>745/19987071     </td></tr>\n",
       "\t<tr><td>Afghanistan</td><td>20</td><td>00</td><td>2666/20595360    </td></tr>\n",
       "\t<tr><td>Brazil     </td><td>19</td><td>99</td><td>37737/172006362  </td></tr>\n",
       "\t<tr><td>Brazil     </td><td>20</td><td>00</td><td>80488/174504898  </td></tr>\n",
       "\t<tr><td>China      </td><td>19</td><td>99</td><td>212258/1272915272</td></tr>\n",
       "\t<tr><td>China      </td><td>20</td><td>00</td><td>213766/1280428583</td></tr>\n",
       "</tbody>\n",
       "</table>\n"
      ],
      "text/latex": [
       "A tibble: 6 × 4\n",
       "\\begin{tabular}{llll}\n",
       " country & century & year & rate\\\\\n",
       " <chr> & <chr> & <chr> & <chr>\\\\\n",
       "\\hline\n",
       "\t Afghanistan & 19 & 99 & 745/19987071     \\\\\n",
       "\t Afghanistan & 20 & 00 & 2666/20595360    \\\\\n",
       "\t Brazil      & 19 & 99 & 37737/172006362  \\\\\n",
       "\t Brazil      & 20 & 00 & 80488/174504898  \\\\\n",
       "\t China       & 19 & 99 & 212258/1272915272\\\\\n",
       "\t China       & 20 & 00 & 213766/1280428583\\\\\n",
       "\\end{tabular}\n"
      ],
      "text/markdown": [
       "\n",
       "A tibble: 6 × 4\n",
       "\n",
       "| country &lt;chr&gt; | century &lt;chr&gt; | year &lt;chr&gt; | rate &lt;chr&gt; |\n",
       "|---|---|---|---|\n",
       "| Afghanistan | 19 | 99 | 745/19987071      |\n",
       "| Afghanistan | 20 | 00 | 2666/20595360     |\n",
       "| Brazil      | 19 | 99 | 37737/172006362   |\n",
       "| Brazil      | 20 | 00 | 80488/174504898   |\n",
       "| China       | 19 | 99 | 212258/1272915272 |\n",
       "| China       | 20 | 00 | 213766/1280428583 |\n",
       "\n"
      ],
      "text/plain": [
       "  country     century year rate             \n",
       "1 Afghanistan 19      99   745/19987071     \n",
       "2 Afghanistan 20      00   2666/20595360    \n",
       "3 Brazil      19      99   37737/172006362  \n",
       "4 Brazil      20      00   80488/174504898  \n",
       "5 China       19      99   212258/1272915272\n",
       "6 China       20      00   213766/1280428583"
      ]
     },
     "metadata": {},
     "output_type": "display_data"
    }
   ],
   "source": [
    "# split on each two digits\n",
    "table3 %>% \n",
    "  separate(year, into = c(\"century\", \"year\"), sep=2)"
   ]
  },
  {
   "cell_type": "code",
   "execution_count": 31,
   "id": "6bb8a00e",
   "metadata": {},
   "outputs": [
    {
     "data": {
      "text/html": [
       "<table class=\"dataframe\">\n",
       "<caption>A tibble: 6 × 2</caption>\n",
       "<thead>\n",
       "\t<tr><th scope=col>new</th><th scope=col>rate</th></tr>\n",
       "\t<tr><th scope=col>&lt;chr&gt;</th><th scope=col>&lt;chr&gt;</th></tr>\n",
       "</thead>\n",
       "<tbody>\n",
       "\t<tr><td>19_99_Afghanistan</td><td>745/19987071     </td></tr>\n",
       "\t<tr><td>20_00_Afghanistan</td><td>2666/20595360    </td></tr>\n",
       "\t<tr><td>19_99_Brazil     </td><td>37737/172006362  </td></tr>\n",
       "\t<tr><td>20_00_Brazil     </td><td>80488/174504898  </td></tr>\n",
       "\t<tr><td>19_99_China      </td><td>212258/1272915272</td></tr>\n",
       "\t<tr><td>20_00_China      </td><td>213766/1280428583</td></tr>\n",
       "</tbody>\n",
       "</table>\n"
      ],
      "text/latex": [
       "A tibble: 6 × 2\n",
       "\\begin{tabular}{ll}\n",
       " new & rate\\\\\n",
       " <chr> & <chr>\\\\\n",
       "\\hline\n",
       "\t 19\\_99\\_Afghanistan & 745/19987071     \\\\\n",
       "\t 20\\_00\\_Afghanistan & 2666/20595360    \\\\\n",
       "\t 19\\_99\\_Brazil      & 37737/172006362  \\\\\n",
       "\t 20\\_00\\_Brazil      & 80488/174504898  \\\\\n",
       "\t 19\\_99\\_China       & 212258/1272915272\\\\\n",
       "\t 20\\_00\\_China       & 213766/1280428583\\\\\n",
       "\\end{tabular}\n"
      ],
      "text/markdown": [
       "\n",
       "A tibble: 6 × 2\n",
       "\n",
       "| new &lt;chr&gt; | rate &lt;chr&gt; |\n",
       "|---|---|\n",
       "| 19_99_Afghanistan | 745/19987071      |\n",
       "| 20_00_Afghanistan | 2666/20595360     |\n",
       "| 19_99_Brazil      | 37737/172006362   |\n",
       "| 20_00_Brazil      | 80488/174504898   |\n",
       "| 19_99_China       | 212258/1272915272 |\n",
       "| 20_00_China       | 213766/1280428583 |\n",
       "\n"
      ],
      "text/plain": [
       "  new               rate             \n",
       "1 19_99_Afghanistan 745/19987071     \n",
       "2 20_00_Afghanistan 2666/20595360    \n",
       "3 19_99_Brazil      37737/172006362  \n",
       "4 20_00_Brazil      80488/174504898  \n",
       "5 19_99_China       212258/1272915272\n",
       "6 20_00_China       213766/1280428583"
      ]
     },
     "metadata": {},
     "output_type": "display_data"
    }
   ],
   "source": [
    "# split on each two digits\n",
    "table3 %>% \n",
    "  separate(year, into = c(\"century\", \"year\"), sep=2) %>%\n",
    "  unite(new, century, year, country, sep=\"_\")\n"
   ]
  },
  {
   "cell_type": "markdown",
   "id": "2d33bfb7",
   "metadata": {},
   "source": [
    "### Relational Data\n",
    "\n",
    "* Data is often distributed actoss mutliple files\n",
    "  * You often must combine them to answer research questions\n",
    "  * collections of data related to the sampe problem are called relational \n",
    "    * The relation enrich the data and add more information.\n",
    "\n",
    "Some of the most important operations on pairs of table are:\n",
    "\n",
    "1- Mutating joins, which add new variables to one data frame from matching observations in another.\n",
    "2- Filtering joins, which filter observations from one data frame based on whether or not they match an observation in the other table.\n",
    "3- Set operations, which treat observations as if they were set elements.\n",
    "\n",
    "* These are the same concepts used with databases\n"
   ]
  },
  {
   "cell_type": "code",
   "execution_count": null,
   "id": "64ddffcf",
   "metadata": {},
   "outputs": [],
   "source": [
    "https://www.researchgate.net/profile/Herodotos-Herodotou/publication/51753974/figure/fig2/AS:305691270107169@1449893886977/Database-Schema-Geno-Single-database-schema-for-the-Affymetrix-platform-In-this.png"
   ]
  },
  {
   "cell_type": "markdown",
   "id": "b89213df",
   "metadata": {},
   "source": [
    "### Mutating Joins \n",
    "\n",
    "* useful for combining a pair of tables\n",
    "  * first matches observations by their keys, then copies across variables from one table to the other.\n",
    "\n",
    "* Like mutate(), the join functions add variables to the right, \n",
    "* Different types of joins:\n",
    "  * Inner join. An inner join matches pairs of observations whenever their keys are equal:"
   ]
  },
  {
   "cell_type": "code",
   "execution_count": null,
   "id": "b8f4e1dc",
   "metadata": {},
   "outputs": [],
   "source": [
    "### Add Figures from: https://r4ds.had.co.nz/relational-data.html"
   ]
  },
  {
   "cell_type": "code",
   "execution_count": 42,
   "id": "833dd389",
   "metadata": {},
   "outputs": [],
   "source": [
    "x <- tribble(\n",
    "  ~key, ~val_x,\n",
    "     1, \"x1\",\n",
    "     2, \"x2\",\n",
    "     3, \"x3\"\n",
    ")\n",
    "y <- tribble(\n",
    "  ~key, ~val_y,\n",
    "     1, \"y1\",\n",
    "     2, \"y2\",\n",
    "     4, \"y3\"\n",
    ")"
   ]
  },
  {
   "cell_type": "code",
   "execution_count": 43,
   "id": "9187b24c",
   "metadata": {},
   "outputs": [
    {
     "data": {
      "text/html": [
       "<table class=\"dataframe\">\n",
       "<caption>A tibble: 3 × 2</caption>\n",
       "<thead>\n",
       "\t<tr><th scope=col>key</th><th scope=col>val_x</th></tr>\n",
       "\t<tr><th scope=col>&lt;dbl&gt;</th><th scope=col>&lt;chr&gt;</th></tr>\n",
       "</thead>\n",
       "<tbody>\n",
       "\t<tr><td>1</td><td>x1</td></tr>\n",
       "\t<tr><td>2</td><td>x2</td></tr>\n",
       "\t<tr><td>3</td><td>x3</td></tr>\n",
       "</tbody>\n",
       "</table>\n"
      ],
      "text/latex": [
       "A tibble: 3 × 2\n",
       "\\begin{tabular}{ll}\n",
       " key & val\\_x\\\\\n",
       " <dbl> & <chr>\\\\\n",
       "\\hline\n",
       "\t 1 & x1\\\\\n",
       "\t 2 & x2\\\\\n",
       "\t 3 & x3\\\\\n",
       "\\end{tabular}\n"
      ],
      "text/markdown": [
       "\n",
       "A tibble: 3 × 2\n",
       "\n",
       "| key &lt;dbl&gt; | val_x &lt;chr&gt; |\n",
       "|---|---|\n",
       "| 1 | x1 |\n",
       "| 2 | x2 |\n",
       "| 3 | x3 |\n",
       "\n"
      ],
      "text/plain": [
       "  key val_x\n",
       "1 1   x1   \n",
       "2 2   x2   \n",
       "3 3   x3   "
      ]
     },
     "metadata": {},
     "output_type": "display_data"
    },
    {
     "data": {
      "text/html": [
       "<table class=\"dataframe\">\n",
       "<caption>A tibble: 3 × 2</caption>\n",
       "<thead>\n",
       "\t<tr><th scope=col>key</th><th scope=col>val_y</th></tr>\n",
       "\t<tr><th scope=col>&lt;dbl&gt;</th><th scope=col>&lt;chr&gt;</th></tr>\n",
       "</thead>\n",
       "<tbody>\n",
       "\t<tr><td>1</td><td>y1</td></tr>\n",
       "\t<tr><td>2</td><td>y2</td></tr>\n",
       "\t<tr><td>4</td><td>y3</td></tr>\n",
       "</tbody>\n",
       "</table>\n"
      ],
      "text/latex": [
       "A tibble: 3 × 2\n",
       "\\begin{tabular}{ll}\n",
       " key & val\\_y\\\\\n",
       " <dbl> & <chr>\\\\\n",
       "\\hline\n",
       "\t 1 & y1\\\\\n",
       "\t 2 & y2\\\\\n",
       "\t 4 & y3\\\\\n",
       "\\end{tabular}\n"
      ],
      "text/markdown": [
       "\n",
       "A tibble: 3 × 2\n",
       "\n",
       "| key &lt;dbl&gt; | val_y &lt;chr&gt; |\n",
       "|---|---|\n",
       "| 1 | y1 |\n",
       "| 2 | y2 |\n",
       "| 4 | y3 |\n",
       "\n"
      ],
      "text/plain": [
       "  key val_y\n",
       "1 1   y1   \n",
       "2 2   y2   \n",
       "3 4   y3   "
      ]
     },
     "metadata": {},
     "output_type": "display_data"
    }
   ],
   "source": [
    "x\n",
    "y"
   ]
  },
  {
   "cell_type": "code",
   "execution_count": 44,
   "id": "9fc034d4",
   "metadata": {},
   "outputs": [
    {
     "data": {
      "text/html": [
       "<table class=\"dataframe\">\n",
       "<caption>A tibble: 2 × 3</caption>\n",
       "<thead>\n",
       "\t<tr><th scope=col>key</th><th scope=col>val_x</th><th scope=col>val_y</th></tr>\n",
       "\t<tr><th scope=col>&lt;dbl&gt;</th><th scope=col>&lt;chr&gt;</th><th scope=col>&lt;chr&gt;</th></tr>\n",
       "</thead>\n",
       "<tbody>\n",
       "\t<tr><td>1</td><td>x1</td><td>y1</td></tr>\n",
       "\t<tr><td>2</td><td>x2</td><td>y2</td></tr>\n",
       "</tbody>\n",
       "</table>\n"
      ],
      "text/latex": [
       "A tibble: 2 × 3\n",
       "\\begin{tabular}{lll}\n",
       " key & val\\_x & val\\_y\\\\\n",
       " <dbl> & <chr> & <chr>\\\\\n",
       "\\hline\n",
       "\t 1 & x1 & y1\\\\\n",
       "\t 2 & x2 & y2\\\\\n",
       "\\end{tabular}\n"
      ],
      "text/markdown": [
       "\n",
       "A tibble: 2 × 3\n",
       "\n",
       "| key &lt;dbl&gt; | val_x &lt;chr&gt; | val_y &lt;chr&gt; |\n",
       "|---|---|---|\n",
       "| 1 | x1 | y1 |\n",
       "| 2 | x2 | y2 |\n",
       "\n"
      ],
      "text/plain": [
       "  key val_x val_y\n",
       "1 1   x1    y1   \n",
       "2 2   x2    y2   "
      ]
     },
     "metadata": {},
     "output_type": "display_data"
    }
   ],
   "source": [
    "x %>% \n",
    "  inner_join(y, by = \"key\")"
   ]
  },
  {
   "cell_type": "markdown",
   "id": "f6c600be",
   "metadata": {},
   "source": [
    "###  Outer joins\n",
    "*   outer joins keep observations that appear in at least one of the tables. \n",
    "  * as opposed to inner join, wchih keeps observations that appear in both tables.\n",
    "\n",
    "There are three types of outer joins:\n",
    "\n",
    "* A left join keeps all observations in x.\n",
    "* A right join keeps all observations in y.\n",
    "* A full join keeps all observations in x and y."
   ]
  },
  {
   "cell_type": "code",
   "execution_count": null,
   "id": "806d2850",
   "metadata": {},
   "outputs": [],
   "source": [
    "### Add Figures from: https://r4ds.had.co.nz/relational-data.html"
   ]
  },
  {
   "cell_type": "code",
   "execution_count": null,
   "id": "f26995e9",
   "metadata": {},
   "outputs": [],
   "source": [
    "### Filtering Joins\n",
    "\n",
    "* Filtering joins match observations in the same way as mutating joins\n",
    "  * affect the observations, not the variables\n",
    "\n",
    "* the are two types of filtering joins:\n",
    "`semi_join(x, y)` keeps all observations in x that have a match in y.\n",
    "`anti_join(x, y)` drops all observations in x that have a match in y."
   ]
  },
  {
   "cell_type": "code",
   "execution_count": null,
   "id": "61e762ef",
   "metadata": {},
   "outputs": [],
   "source": [
    "### Add Figures from: https://r4ds.had.co.nz/relational-data.html"
   ]
  },
  {
   "cell_type": "markdown",
   "id": "37041938",
   "metadata": {},
   "source": [
    "### R Style Guide\n",
    "\n",
    "* Like text, you should remember that you're writing code for others to read.\n",
    "\n",
    "* Good coding style is like using correct punctuation. \n",
    "\n",
    "* Makes code easier to read and less ambiguous.\n",
    "\n",
    "* There are many possible variations, some somewhat more popular than others.\n",
    "\n",
    "* Before packaing your it's a good idea to use the formatR package\n",
    "  * Makes it easier to clean up poorly formatted code. \n",
    "  \n",
    "* It can’t do everything, but it can quickly get your code from terrible to pretty good. \n",
    "  * Looks only at format\n",
    "  \n",
    "For the rest, see http://adv-r.had.co.nz/Style.html"
   ]
  }
 ],
 "metadata": {
  "kernelspec": {
   "display_name": "R",
   "language": "R",
   "name": "ir"
  },
  "language_info": {
   "codemirror_mode": "r",
   "file_extension": ".r",
   "mimetype": "text/x-r-source",
   "name": "R",
   "pygments_lexer": "r",
   "version": "4.0.2"
  }
 },
 "nbformat": 4,
 "nbformat_minor": 5
}
