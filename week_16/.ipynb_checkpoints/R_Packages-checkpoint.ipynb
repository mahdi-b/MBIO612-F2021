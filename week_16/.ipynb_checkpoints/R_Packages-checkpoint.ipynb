{
 "cells": [
  {
   "cell_type": "markdown",
   "id": "b58ada9b",
   "metadata": {},
   "source": [
    "### R packages\n",
    "\n",
    "A clean way to build reusable code\n",
    "* Allows us to share  \n",
    "  * Data: information stored in a table or variables\n",
    "  * Functions\n",
    "  * Documentation: vignettes about how to use your code\n",
    "  * much more  "
   ]
  },
  {
   "cell_type": "markdown",
   "id": "223ead19",
   "metadata": {},
   "source": [
    "### Mandatory components\n",
    "\n",
    "An `R` package requires\n",
    "  * An R directory: a folder that contains your R files\n",
    "  * A MAN directory: a folder that contains the documentaiton \n",
    "  * A NAMESPACE file: info about the functions you use from other packages and functions you make available to the users\n",
    "  * a description file: Author's name, version, summary description, etc.\n",
    "\n"
   ]
  },
  {
   "cell_type": "code",
   "execution_count": null,
   "id": "c81c3dbb",
   "metadata": {},
   "outputs": [],
   "source": [
    "### Support for writing Packages\n",
    "\n",
    "You can use two libraries to help build a packge\n",
    "\n",
    "* `devtools`: generates package structure templates\n",
    "  * `create()`: takes name of package and creates the needed structure\n",
    "    * NAMESPACE file, description file and R directory\n",
    "      No Map diretory\n",
    "* `roxygen2`: facilitates creation of documentaiton and manage NAMESPACE file"
   ]
  },
  {
   "cell_type": "code",
   "execution_count": 1,
   "id": "32ed1a1e",
   "metadata": {},
   "outputs": [
    {
     "ename": "ERROR",
     "evalue": "Error in library(\"devtools\"): there is no package called ‘devtools’\n",
     "output_type": "error",
     "traceback": [
      "Error in library(\"devtools\"): there is no package called ‘devtools’\nTraceback:\n",
      "1. library(\"devtools\")"
     ]
    }
   ],
   "source": [
    "library('devtools')"
   ]
  },
  {
   "cell_type": "code",
   "execution_count": null,
   "id": "1039c5be",
   "metadata": {},
   "outputs": [],
   "source": [
    "### The description File\n",
    "* Contains basic info about the package\n",
    "  * Authors names\n",
    "  * dependencies\n",
    "  * License"
   ]
  },
  {
   "cell_type": "code",
   "execution_count": null,
   "id": "811a5617",
   "metadata": {},
   "outputs": [],
   "source": [
    "```\n",
    "Package: mypackage\n",
    "Title: What The Package Does (one line, title case required)\n",
    "Version: 1.0.1\n",
    "Authors@R: c(\n",
    "    person(\"First1\", \"Last1\", email = \"email1@domain.com\", role = \"cre\"),\n",
    "    person(\"First2\", \"Last2\", email = \"email2@domain.com\", role = \"aut\"))\n",
    "Description: What the package does (one paragraph)\n",
    "Depends: R (>= 3.1.0)\n",
    "License: What license is it under?\n",
    "LazyData: true\n",
    "Imports:\n",
    "    dplyr,\n",
    "    ggvis\n",
    "Suggests:\n",
    "    dplyr,\n",
    "    ggvis\n",
    "```"
   ]
  },
  {
   "cell_type": "code",
   "execution_count": null,
   "id": "f389ac29",
   "metadata": {},
   "outputs": [],
   "source": [
    "### About semantic versioning in Software\n",
    "\n",
    "Given a version number MAJOR.MINOR.PATCH, increment the:\n",
    "\n",
    "MAJOR version when you make changes that to function that break previous code\n",
    "MINOR version when you add functionality in a backwards compatible manner, and\n",
    "PATCH version when you make backwards compatible bug fixes.\n",
    "\n",
    "\n",
    "see: \n",
    "1- https://medium.com/bb-tutorials-and-thoughts/understanding-semantic-versioning-spec-635b87397eec\n",
    "2- https://en.wikipedia.org/wiki/Software_versioning\n"
   ]
  },
  {
   "cell_type": "code",
   "execution_count": null,
   "id": "6d9b811a",
   "metadata": {},
   "outputs": [],
   "source": [
    "### About Software Licenses\n",
    "\n",
    "* many different licenses that let your users freely copy and reuse the code\n",
    "* Can they reuse it commercially?\n",
    "* Can they change it and include it in their code?\n",
    "* can they publish your data?\n",
    "* etc.\n",
    "\n",
    "My favorites in academic (research) code:\n",
    "MIT License: permissive software license. Basically, you can do whatever you want as long as you include the original copyright and license notice in any copy of the software/source.  There are many variations of this license in use.\n",
    "\n",
    "\n",
    "https://tldrlegal.com/"
   ]
  },
  {
   "cell_type": "code",
   "execution_count": null,
   "id": "bc290e35",
   "metadata": {},
   "outputs": [],
   "source": [
    "### The NAMESPACE file\n",
    "describes functions and packages imported by our package\n",
    "Function exported by the packages\n",
    "  * those the function that people will be able to use after they import your package\n",
    "* file does not  need to be edited manually\n",
    "  * updated by other packges\n"
   ]
  },
  {
   "cell_type": "code",
   "execution_count": null,
   "id": "0292218b",
   "metadata": {},
   "outputs": [],
   "source": [
    "export(count_cats)\n",
    "export(filter_dogs)\n",
    "import(tidyverse)"
   ]
  },
  {
   "cell_type": "code",
   "execution_count": null,
   "id": "a1024c6c",
   "metadata": {},
   "outputs": [],
   "source": [
    "### Using data\n",
    "\n",
    "* Create your data and save it to your package using `use_data`\n",
    "* Data will be stored in the R directory\n",
    "  * Data will be in the Rdata format\n",
    "\n"
   ]
  },
  {
   "cell_type": "code",
   "execution_count": 3,
   "id": "6eb044a3",
   "metadata": {},
   "outputs": [
    {
     "ename": "ERROR",
     "evalue": "Error in tibble(\"animal\":c(\"fish\", \"cat\", \"cat\", \"fish\", \"dog\"), \"weight\":c(1.1, : could not find function \"tibble\"\n",
     "output_type": "error",
     "traceback": [
      "Error in tibble(\"animal\":c(\"fish\", \"cat\", \"cat\", \"fish\", \"dog\"), \"weight\":c(1.1, : could not find function \"tibble\"\nTraceback:\n"
     ]
    }
   ],
   "source": [
    "animals = tibble(\n",
    "    \"animal\"= c(\"fish\", \"cat\", \"cat\", \"fish\", \"dog\"),\n",
    "    \"weight\"= c(1.1, 5.2, 4.6, 0.3, 10.4)\n",
    ")\n",
    "use_data(animals, pkg=\"PaRkageFun\")"
   ]
  },
  {
   "cell_type": "code",
   "execution_count": null,
   "id": "2fe18d2d",
   "metadata": {},
   "outputs": [],
   "source": [
    "### Creating R Vignettes\n",
    "* \n",
    "use_vignette"
   ]
  },
  {
   "cell_type": "code",
   "execution_count": null,
   "id": "2fb31731",
   "metadata": {},
   "outputs": [],
   "source": [
    "### R Code Structure\n",
    "* For small projects like your final project, put one function per file\n",
    "* For larger projects, group similar (or related) function in the same file\n",
    "  * cleaning file, modeling file, etc.."
   ]
  },
  {
   "cell_type": "markdown",
   "id": "2a7c5a5f",
   "metadata": {},
   "source": [
    "### Documenting Functions\n",
    "\n",
    "* Done with roxygen2\n",
    "* You add a header (annotation to your function code)\n",
    "* Building the code then automatically generates the documentation                    \n",
    "* header contains `#'` with some additional specific param that descrives some aspect of your code\n",
    "* Function with roxygen  `export` header are automatically exported\n",
    "  `@export`\n",
    "* Minimum doc for a function is:\n",
    "  * Title\n",
    "  * descrption\n",
    "  * Arguments\n",
    "  * imports and export (if applicable"
   ]
  },
  {
   "cell_type": "code",
   "execution_count": null,
   "id": "91ef0e5c",
   "metadata": {},
   "outputs": [],
   "source": [
    "#' Add together two numbers\n",
    "#'\n",
    "#' Slighly longer description\n",
    "#'\n",
    "#' Some longer description about your package and what it does goes here.\n",
    "#' this descption can be as detialed as you need it to be\n",
    "#'\n",
    "#' @param x A number\n",
    "#' @param y A number\n",
    "#' @return The sum of \\code{x} and \\code{y} as a tibble\n",
    "#' @import dplyr\n",
    "#' @export\n",
    "#' @examples\n",
    "#' add(1, 1)\n",
    "#' add(10, 1)\n",
    "add <- function(x, y) {\n",
    "  tibble(result = x + y)\n",
    "}"
   ]
  },
  {
   "cell_type": "code",
   "execution_count": null,
   "id": "4eef0668",
   "metadata": {},
   "outputs": [],
   "source": [
    "### Documenting Datasets\n",
    "* Just like functions, it's considered good practice to document your data\n",
    "```\n",
    "#' The toy animals file\n",
    "#'\n",
    "#' A dataset containing randomly selected animal files\n",
    "#'\n",
    "#' @format A tibble with 5 rows and 2 columns\n",
    "#' \\describe{\n",
    "#'  \\item{animal}{Character values. Either cat, dog or fish}\n",
    "#'  \\item{weight}{Numeric values representing the animal weight in Kg.}\n",
    "#' }\n",
    "#' @source Randomly generated data\n",
    "\"animal\"\n",
    "```\n"
   ]
  },
  {
   "cell_type": "markdown",
   "id": "5dafcbfd",
   "metadata": {},
   "source": [
    "### Creating the man file\n",
    "*  Time to build (or automtically generate) your documentation. \n",
    "\n",
    "* USe the document() function from the devtools package to generate your documentation, \n",
    "\n",
    "* takes as input the path to the package as the first argument.\n",
    "\n",
    "* Doc will be saved to the  man directory. \n",
    "\n",
    "* Can be invoked the same way as any of your existing package or function\n"
   ]
  },
  {
   "cell_type": "code",
   "execution_count": null,
   "id": "fea720ce",
   "metadata": {},
   "outputs": [],
   "source": [
    "# Generate package documentation\n",
    "document(\"PaRkageFun\")\n",
    "\n",
    "# Examine the contents of the man directory\n",
    "dir(\"datasummary/man\")\n",
    "\n",
    "\n",
    "# View the documentation for the weather dataset\n",
    "help(\"animals\")\n"
   ]
  },
  {
   "cell_type": "code",
   "execution_count": null,
   "id": "edb4271f",
   "metadata": {},
   "outputs": [],
   "source": [
    "### Building and sharing\n",
    "* You everything you need to build you package\n",
    "Check that you haven't made any errors when creating the files \n",
    "check()\n",
    "* check early, check often.\n",
    "* If checks Pass, you can `build`\n",
    "  * Build as source or binary\n",
    "    * binary=TRUE"
   ]
  },
  {
   "cell_type": "code",
   "execution_count": null,
   "id": "fd36a7f5",
   "metadata": {},
   "outputs": [],
   "source": []
  },
  {
   "cell_type": "code",
   "execution_count": null,
   "id": "3c64d9df",
   "metadata": {},
   "outputs": [],
   "source": []
  },
  {
   "cell_type": "code",
   "execution_count": null,
   "id": "61ad044e",
   "metadata": {},
   "outputs": [],
   "source": []
  },
  {
   "cell_type": "code",
   "execution_count": null,
   "id": "f874b31a",
   "metadata": {},
   "outputs": [],
   "source": []
  },
  {
   "cell_type": "code",
   "execution_count": null,
   "id": "5b2ef40c",
   "metadata": {},
   "outputs": [],
   "source": []
  },
  {
   "cell_type": "code",
   "execution_count": null,
   "id": "032bd18a",
   "metadata": {},
   "outputs": [],
   "source": []
  },
  {
   "cell_type": "code",
   "execution_count": null,
   "id": "a16d154f",
   "metadata": {},
   "outputs": [],
   "source": []
  },
  {
   "cell_type": "code",
   "execution_count": null,
   "id": "9ae34816",
   "metadata": {},
   "outputs": [],
   "source": []
  },
  {
   "cell_type": "code",
   "execution_count": null,
   "id": "50c00cdd",
   "metadata": {},
   "outputs": [],
   "source": []
  },
  {
   "cell_type": "code",
   "execution_count": null,
   "id": "3eb58d6f",
   "metadata": {},
   "outputs": [],
   "source": [
    " library('tidyverse')\n",
    " \n",
    "library(devtools)\n",
    "create(\"PaRckageFun\")\n",
    "\n",
    "setwd(\"PaRckageFun\")\n",
    "\n",
    "animals = tibble(\n",
    "    \"animal\"= c(\"fish\", \"cat\", \"cat\", \"fish\", \"dog\"),\n",
    "    \"weight\"= c(1.1, 5.2, 4.6, 0.3, 10.4)\n",
    ")\n",
    "use_data(animals)\n",
    "\n",
    "\n",
    "Put the following in R/animals.R\n",
    "\n",
    "#' The toy animals file\n",
    "#'\n",
    "#' A dataset containing randomly selected animals\n",
    "#'\n",
    "#' @format A tibble with 5 rows and 2 columns\n",
    "#' \\describe{\n",
    "#'  \\item{animal}{Character values. Either cat, dog or fish}\n",
    "#'  \\item{weight}{Numeric values representing the animal weight in Kg.}\n",
    "#' }\n",
    "#' @source Randomly generated data\n",
    "\"animals\"\n",
    "\n",
    "\n",
    "document()\n",
    "\n",
    "data(animals)\n",
    "?animals\n",
    "\t\n",
    "\t\n",
    "corals = tibble(\n",
    "    \"coral\"= c(\"C1\", \"C2\", \"C3\"),\n",
    "    \"healthy\"= c(TRUE , TRUE , FALSE)\n",
    "    )\n",
    "use_data(corals)\n",
    "\n",
    "\n",
    "\n",
    "Put the following in R/animals.R\n",
    "\n",
    "#' The toy corals file\n",
    "#'\n",
    "#' A dataset containing randomly selected coral\n",
    "#'\n",
    "#' @format A tibble with 3 rows and 2 columns\n",
    "#' \\describe{\n",
    "#'  \\item{coral}{Character id of the coral}\n",
    "#'  \\item{healthy}{Logical value representing whether the coral is healthy or not}\n",
    "#' }\n",
    "#' @source Randomly generated data\n",
    "\"corals\"\n",
    "\n",
    "\n",
    "document()\n",
    "data(corals)\n",
    "?corals\n",
    "\n",
    "\t\n",
    "\t\n",
    "#' Add together two numbers\n",
    "#'\n",
    "#' Slighly longer description\n",
    "#'\n",
    "#' Some longer description about your package and what it does goes here.\n",
    "#' this descption can be as detialed as you need it to be\n",
    "#'\n",
    "#' @param x A number\n",
    "#' @param y A number\n",
    "#' @return The sum of \\code{x} and \\code{y} as a tibble\n",
    "#' @import dplyr\n",
    "#' @export\n",
    "#' @examples\n",
    "#' add(1, 1)\n",
    "#' add(10, 1)\n",
    "add <- function(x, y) {\n",
    "  tibble(result = x + y)\n",
    "}\n",
    "dump(\"add\", file = \"R/add.R\")\n"
   ]
  }
 ],
 "metadata": {
  "kernelspec": {
   "display_name": "R",
   "language": "R",
   "name": "ir"
  },
  "language_info": {
   "codemirror_mode": "r",
   "file_extension": ".r",
   "mimetype": "text/x-r-source",
   "name": "R",
   "pygments_lexer": "r",
   "version": "4.0.2"
  }
 },
 "nbformat": 4,
 "nbformat_minor": 5
}
