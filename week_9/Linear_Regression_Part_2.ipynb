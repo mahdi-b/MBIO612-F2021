{
 "cells": [
  {
   "cell_type": "code",
   "execution_count": 2,
   "id": "c984556a",
   "metadata": {},
   "outputs": [
    {
     "name": "stderr",
     "output_type": "stream",
     "text": [
      "── \u001b[1mAttaching packages\u001b[22m ─────────────────────────────────────── tidyverse 1.3.0 ──\n",
      "\n",
      "\u001b[32m✔\u001b[39m \u001b[34mggplot2\u001b[39m 3.3.2     \u001b[32m✔\u001b[39m \u001b[34mpurrr  \u001b[39m 0.3.4\n",
      "\u001b[32m✔\u001b[39m \u001b[34mtibble \u001b[39m 3.0.3     \u001b[32m✔\u001b[39m \u001b[34mdplyr  \u001b[39m 1.0.2\n",
      "\u001b[32m✔\u001b[39m \u001b[34mtidyr  \u001b[39m 1.1.2     \u001b[32m✔\u001b[39m \u001b[34mstringr\u001b[39m 1.4.0\n",
      "\u001b[32m✔\u001b[39m \u001b[34mreadr  \u001b[39m 1.3.1     \u001b[32m✔\u001b[39m \u001b[34mforcats\u001b[39m 0.5.0\n",
      "\n",
      "── \u001b[1mConflicts\u001b[22m ────────────────────────────────────────── tidyverse_conflicts() ──\n",
      "\u001b[31m✖\u001b[39m \u001b[34mdplyr\u001b[39m::\u001b[32mfilter()\u001b[39m masks \u001b[34mstats\u001b[39m::filter()\n",
      "\u001b[31m✖\u001b[39m \u001b[34mdplyr\u001b[39m::\u001b[32mlag()\u001b[39m    masks \u001b[34mstats\u001b[39m::lag()\n",
      "\n"
     ]
    }
   ],
   "source": [
    "library(tidyverse)"
   ]
  },
  {
   "cell_type": "markdown",
   "id": "00a0b1ec",
   "metadata": {},
   "source": [
    "# Linear Regression Part 2\n",
    "\n",
    "* What's we'll cover\n",
    "  * Predicting Values\n",
    "  * Linear regression for categorical explanaroty vairables\n",
    "  * Linear regression for non-linear data\n",
    "    * Transforming variables\n",
    "  * Logistic Regression\n",
    "\n",
    "\n"
   ]
  },
  {
   "cell_type": "code",
   "execution_count": 152,
   "id": "b072479f",
   "metadata": {},
   "outputs": [
    {
     "name": "stderr",
     "output_type": "stream",
     "text": [
      "Parsed with column specification:\n",
      "cols(\n",
      "  Species = \u001b[31mcol_character()\u001b[39m,\n",
      "  Weight = \u001b[32mcol_double()\u001b[39m,\n",
      "  Length = \u001b[32mcol_double()\u001b[39m,\n",
      "  Height = \u001b[32mcol_double()\u001b[39m,\n",
      "  Width = \u001b[32mcol_double()\u001b[39m\n",
      ")\n",
      "\n"
     ]
    },
    {
     "data": {
      "text/html": [
       "<table class=\"dataframe\">\n",
       "<caption>A tibble: 6 × 5</caption>\n",
       "<thead>\n",
       "\t<tr><th scope=col>Species</th><th scope=col>Weight</th><th scope=col>Length</th><th scope=col>Height</th><th scope=col>Width</th></tr>\n",
       "\t<tr><th scope=col>&lt;chr&gt;</th><th scope=col>&lt;dbl&gt;</th><th scope=col>&lt;dbl&gt;</th><th scope=col>&lt;dbl&gt;</th><th scope=col>&lt;dbl&gt;</th></tr>\n",
       "</thead>\n",
       "<tbody>\n",
       "\t<tr><td>Bream</td><td>242</td><td>23.2</td><td>11.5200</td><td>4.0200</td></tr>\n",
       "\t<tr><td>Bream</td><td>290</td><td>24.0</td><td>12.4800</td><td>4.3056</td></tr>\n",
       "\t<tr><td>Bream</td><td>340</td><td>23.9</td><td>12.3778</td><td>4.6961</td></tr>\n",
       "\t<tr><td>Bream</td><td>363</td><td>26.3</td><td>12.7300</td><td>4.4555</td></tr>\n",
       "\t<tr><td>Bream</td><td>430</td><td>26.5</td><td>12.4440</td><td>5.1340</td></tr>\n",
       "\t<tr><td>Bream</td><td>450</td><td>26.8</td><td>13.6024</td><td>4.9274</td></tr>\n",
       "</tbody>\n",
       "</table>\n"
      ],
      "text/latex": [
       "A tibble: 6 × 5\n",
       "\\begin{tabular}{lllll}\n",
       " Species & Weight & Length & Height & Width\\\\\n",
       " <chr> & <dbl> & <dbl> & <dbl> & <dbl>\\\\\n",
       "\\hline\n",
       "\t Bream & 242 & 23.2 & 11.5200 & 4.0200\\\\\n",
       "\t Bream & 290 & 24.0 & 12.4800 & 4.3056\\\\\n",
       "\t Bream & 340 & 23.9 & 12.3778 & 4.6961\\\\\n",
       "\t Bream & 363 & 26.3 & 12.7300 & 4.4555\\\\\n",
       "\t Bream & 430 & 26.5 & 12.4440 & 5.1340\\\\\n",
       "\t Bream & 450 & 26.8 & 13.6024 & 4.9274\\\\\n",
       "\\end{tabular}\n"
      ],
      "text/markdown": [
       "\n",
       "A tibble: 6 × 5\n",
       "\n",
       "| Species &lt;chr&gt; | Weight &lt;dbl&gt; | Length &lt;dbl&gt; | Height &lt;dbl&gt; | Width &lt;dbl&gt; |\n",
       "|---|---|---|---|---|\n",
       "| Bream | 242 | 23.2 | 11.5200 | 4.0200 |\n",
       "| Bream | 290 | 24.0 | 12.4800 | 4.3056 |\n",
       "| Bream | 340 | 23.9 | 12.3778 | 4.6961 |\n",
       "| Bream | 363 | 26.3 | 12.7300 | 4.4555 |\n",
       "| Bream | 430 | 26.5 | 12.4440 | 5.1340 |\n",
       "| Bream | 450 | 26.8 | 13.6024 | 4.9274 |\n",
       "\n"
      ],
      "text/plain": [
       "  Species Weight Length Height  Width \n",
       "1 Bream   242    23.2   11.5200 4.0200\n",
       "2 Bream   290    24.0   12.4800 4.3056\n",
       "3 Bream   340    23.9   12.3778 4.6961\n",
       "4 Bream   363    26.3   12.7300 4.4555\n",
       "5 Bream   430    26.5   12.4440 5.1340\n",
       "6 Bream   450    26.8   13.6024 4.9274"
      ]
     },
     "metadata": {},
     "output_type": "display_data"
    }
   ],
   "source": [
    "# Data obtained here: https://www.kaggle.com/aungpyaeap/fish-market\n",
    "\n",
    "fish_data = read_csv(\"./data/fish_info.csv\")\n",
    "head(fish_data)"
   ]
  },
  {
   "cell_type": "markdown",
   "id": "648c247f",
   "metadata": {},
   "source": [
    "### Usign `dplyr`'s' `filter`\n",
    "\n",
    "* `dplyr` provides some very useful function to wrangle data.\n",
    "* `filer` is a useful function to subset data\n",
    "  * take a condition on which to filter\n",
    "    * Condition should evaluate to True or False\n",
    "  * Return a line if its conditin evaluates to True\n",
    "* For example:\n",
    "\n",
    "```R\n",
    "fish_data %>% filter(Species== \"Bream\")\n",
    "```\n",
    "* Note the `conditional` operator `==`, which tests for equality"
   ]
  },
  {
   "cell_type": "code",
   "execution_count": 136,
   "id": "64811057",
   "metadata": {},
   "outputs": [
    {
     "data": {
      "text/html": [
       "<table class=\"dataframe\">\n",
       "<caption>A spec_tbl_df: 4 × 5</caption>\n",
       "<thead>\n",
       "\t<tr><th scope=col>Species</th><th scope=col>Weight</th><th scope=col>Length</th><th scope=col>Height</th><th scope=col>Width</th></tr>\n",
       "\t<tr><th scope=col>&lt;chr&gt;</th><th scope=col>&lt;dbl&gt;</th><th scope=col>&lt;dbl&gt;</th><th scope=col>&lt;dbl&gt;</th><th scope=col>&lt;dbl&gt;</th></tr>\n",
       "</thead>\n",
       "<tbody>\n",
       "\t<tr><td>Pike</td><td>1250</td><td>52</td><td>10.6863</td><td>6.9849</td></tr>\n",
       "\t<tr><td>Pike</td><td>1600</td><td>56</td><td> 9.6000</td><td>6.1440</td></tr>\n",
       "\t<tr><td>Pike</td><td>1550</td><td>56</td><td> 9.6000</td><td>6.1440</td></tr>\n",
       "\t<tr><td>Pike</td><td>1650</td><td>59</td><td>10.8120</td><td>7.4800</td></tr>\n",
       "</tbody>\n",
       "</table>\n"
      ],
      "text/latex": [
       "A spec\\_tbl\\_df: 4 × 5\n",
       "\\begin{tabular}{lllll}\n",
       " Species & Weight & Length & Height & Width\\\\\n",
       " <chr> & <dbl> & <dbl> & <dbl> & <dbl>\\\\\n",
       "\\hline\n",
       "\t Pike & 1250 & 52 & 10.6863 & 6.9849\\\\\n",
       "\t Pike & 1600 & 56 &  9.6000 & 6.1440\\\\\n",
       "\t Pike & 1550 & 56 &  9.6000 & 6.1440\\\\\n",
       "\t Pike & 1650 & 59 & 10.8120 & 7.4800\\\\\n",
       "\\end{tabular}\n"
      ],
      "text/markdown": [
       "\n",
       "A spec_tbl_df: 4 × 5\n",
       "\n",
       "| Species &lt;chr&gt; | Weight &lt;dbl&gt; | Length &lt;dbl&gt; | Height &lt;dbl&gt; | Width &lt;dbl&gt; |\n",
       "|---|---|---|---|---|\n",
       "| Pike | 1250 | 52 | 10.6863 | 6.9849 |\n",
       "| Pike | 1600 | 56 |  9.6000 | 6.1440 |\n",
       "| Pike | 1550 | 56 |  9.6000 | 6.1440 |\n",
       "| Pike | 1650 | 59 | 10.8120 | 7.4800 |\n",
       "\n"
      ],
      "text/plain": [
       "  Species Weight Length Height  Width \n",
       "1 Pike    1250   52     10.6863 6.9849\n",
       "2 Pike    1600   56      9.6000 6.1440\n",
       "3 Pike    1550   56      9.6000 6.1440\n",
       "4 Pike    1650   59     10.8120 7.4800"
      ]
     },
     "metadata": {},
     "output_type": "display_data"
    }
   ],
   "source": [
    "fish_data %>% filter(Length > 50)"
   ]
  },
  {
   "cell_type": "code",
   "execution_count": 109,
   "id": "989e0430",
   "metadata": {},
   "outputs": [
    {
     "data": {
      "text/html": [
       "<table class=\"dataframe\">\n",
       "<caption>A spec_tbl_df: 35 × 5</caption>\n",
       "<thead>\n",
       "\t<tr><th scope=col>Species</th><th scope=col>Weight</th><th scope=col>Length</th><th scope=col>Height</th><th scope=col>Width</th></tr>\n",
       "\t<tr><th scope=col>&lt;chr&gt;</th><th scope=col>&lt;dbl&gt;</th><th scope=col>&lt;dbl&gt;</th><th scope=col>&lt;dbl&gt;</th><th scope=col>&lt;dbl&gt;</th></tr>\n",
       "</thead>\n",
       "<tbody>\n",
       "\t<tr><td>Bream</td><td> 242</td><td>23.2</td><td>11.5200</td><td>4.0200</td></tr>\n",
       "\t<tr><td>Bream</td><td> 290</td><td>24.0</td><td>12.4800</td><td>4.3056</td></tr>\n",
       "\t<tr><td>Bream</td><td> 340</td><td>23.9</td><td>12.3778</td><td>4.6961</td></tr>\n",
       "\t<tr><td>Bream</td><td> 363</td><td>26.3</td><td>12.7300</td><td>4.4555</td></tr>\n",
       "\t<tr><td>Bream</td><td> 430</td><td>26.5</td><td>12.4440</td><td>5.1340</td></tr>\n",
       "\t<tr><td>Bream</td><td> 450</td><td>26.8</td><td>13.6024</td><td>4.9274</td></tr>\n",
       "\t<tr><td>Bream</td><td> 500</td><td>26.8</td><td>14.1795</td><td>5.2785</td></tr>\n",
       "\t<tr><td>Bream</td><td> 390</td><td>27.6</td><td>12.6700</td><td>4.6900</td></tr>\n",
       "\t<tr><td>Bream</td><td> 450</td><td>27.6</td><td>14.0049</td><td>4.8438</td></tr>\n",
       "\t<tr><td>Bream</td><td> 500</td><td>28.5</td><td>14.2266</td><td>4.9594</td></tr>\n",
       "\t<tr><td>Bream</td><td> 475</td><td>28.4</td><td>14.2628</td><td>5.1042</td></tr>\n",
       "\t<tr><td>Bream</td><td> 500</td><td>28.7</td><td>14.3714</td><td>4.8146</td></tr>\n",
       "\t<tr><td>Bream</td><td> 500</td><td>29.1</td><td>13.7592</td><td>4.3680</td></tr>\n",
       "\t<tr><td>Bream</td><td> 340</td><td>29.5</td><td>13.9129</td><td>5.0728</td></tr>\n",
       "\t<tr><td>Bream</td><td> 600</td><td>29.4</td><td>14.9544</td><td>5.1708</td></tr>\n",
       "\t<tr><td>Bream</td><td> 600</td><td>29.4</td><td>15.4380</td><td>5.5800</td></tr>\n",
       "\t<tr><td>Bream</td><td> 700</td><td>30.4</td><td>14.8604</td><td>5.2854</td></tr>\n",
       "\t<tr><td>Bream</td><td> 700</td><td>30.4</td><td>14.9380</td><td>5.1975</td></tr>\n",
       "\t<tr><td>Bream</td><td> 610</td><td>30.9</td><td>15.6330</td><td>5.1338</td></tr>\n",
       "\t<tr><td>Bream</td><td> 650</td><td>31.0</td><td>14.4738</td><td>5.7276</td></tr>\n",
       "\t<tr><td>Bream</td><td> 575</td><td>31.3</td><td>15.1285</td><td>5.5695</td></tr>\n",
       "\t<tr><td>Bream</td><td> 685</td><td>31.4</td><td>15.9936</td><td>5.3704</td></tr>\n",
       "\t<tr><td>Bream</td><td> 620</td><td>31.5</td><td>15.5227</td><td>5.2801</td></tr>\n",
       "\t<tr><td>Bream</td><td> 680</td><td>31.8</td><td>15.4686</td><td>6.1306</td></tr>\n",
       "\t<tr><td>Bream</td><td> 700</td><td>31.9</td><td>16.2405</td><td>5.5890</td></tr>\n",
       "\t<tr><td>Bream</td><td> 725</td><td>31.8</td><td>16.3600</td><td>6.0532</td></tr>\n",
       "\t<tr><td>Bream</td><td> 720</td><td>32.0</td><td>16.3618</td><td>6.0900</td></tr>\n",
       "\t<tr><td>Bream</td><td> 714</td><td>32.7</td><td>16.5170</td><td>5.8515</td></tr>\n",
       "\t<tr><td>Bream</td><td> 850</td><td>32.8</td><td>16.8896</td><td>6.1984</td></tr>\n",
       "\t<tr><td>Bream</td><td>1000</td><td>33.5</td><td>18.9570</td><td>6.6030</td></tr>\n",
       "\t<tr><td>Bream</td><td> 920</td><td>35.0</td><td>18.0369</td><td>6.3063</td></tr>\n",
       "\t<tr><td>Bream</td><td> 955</td><td>35.0</td><td>18.0840</td><td>6.2920</td></tr>\n",
       "\t<tr><td>Bream</td><td> 925</td><td>36.2</td><td>18.7542</td><td>6.7497</td></tr>\n",
       "\t<tr><td>Bream</td><td> 975</td><td>37.4</td><td>18.6354</td><td>6.7473</td></tr>\n",
       "\t<tr><td>Bream</td><td> 950</td><td>38.0</td><td>17.6235</td><td>6.3705</td></tr>\n",
       "</tbody>\n",
       "</table>\n"
      ],
      "text/latex": [
       "A spec\\_tbl\\_df: 35 × 5\n",
       "\\begin{tabular}{lllll}\n",
       " Species & Weight & Length & Height & Width\\\\\n",
       " <chr> & <dbl> & <dbl> & <dbl> & <dbl>\\\\\n",
       "\\hline\n",
       "\t Bream &  242 & 23.2 & 11.5200 & 4.0200\\\\\n",
       "\t Bream &  290 & 24.0 & 12.4800 & 4.3056\\\\\n",
       "\t Bream &  340 & 23.9 & 12.3778 & 4.6961\\\\\n",
       "\t Bream &  363 & 26.3 & 12.7300 & 4.4555\\\\\n",
       "\t Bream &  430 & 26.5 & 12.4440 & 5.1340\\\\\n",
       "\t Bream &  450 & 26.8 & 13.6024 & 4.9274\\\\\n",
       "\t Bream &  500 & 26.8 & 14.1795 & 5.2785\\\\\n",
       "\t Bream &  390 & 27.6 & 12.6700 & 4.6900\\\\\n",
       "\t Bream &  450 & 27.6 & 14.0049 & 4.8438\\\\\n",
       "\t Bream &  500 & 28.5 & 14.2266 & 4.9594\\\\\n",
       "\t Bream &  475 & 28.4 & 14.2628 & 5.1042\\\\\n",
       "\t Bream &  500 & 28.7 & 14.3714 & 4.8146\\\\\n",
       "\t Bream &  500 & 29.1 & 13.7592 & 4.3680\\\\\n",
       "\t Bream &  340 & 29.5 & 13.9129 & 5.0728\\\\\n",
       "\t Bream &  600 & 29.4 & 14.9544 & 5.1708\\\\\n",
       "\t Bream &  600 & 29.4 & 15.4380 & 5.5800\\\\\n",
       "\t Bream &  700 & 30.4 & 14.8604 & 5.2854\\\\\n",
       "\t Bream &  700 & 30.4 & 14.9380 & 5.1975\\\\\n",
       "\t Bream &  610 & 30.9 & 15.6330 & 5.1338\\\\\n",
       "\t Bream &  650 & 31.0 & 14.4738 & 5.7276\\\\\n",
       "\t Bream &  575 & 31.3 & 15.1285 & 5.5695\\\\\n",
       "\t Bream &  685 & 31.4 & 15.9936 & 5.3704\\\\\n",
       "\t Bream &  620 & 31.5 & 15.5227 & 5.2801\\\\\n",
       "\t Bream &  680 & 31.8 & 15.4686 & 6.1306\\\\\n",
       "\t Bream &  700 & 31.9 & 16.2405 & 5.5890\\\\\n",
       "\t Bream &  725 & 31.8 & 16.3600 & 6.0532\\\\\n",
       "\t Bream &  720 & 32.0 & 16.3618 & 6.0900\\\\\n",
       "\t Bream &  714 & 32.7 & 16.5170 & 5.8515\\\\\n",
       "\t Bream &  850 & 32.8 & 16.8896 & 6.1984\\\\\n",
       "\t Bream & 1000 & 33.5 & 18.9570 & 6.6030\\\\\n",
       "\t Bream &  920 & 35.0 & 18.0369 & 6.3063\\\\\n",
       "\t Bream &  955 & 35.0 & 18.0840 & 6.2920\\\\\n",
       "\t Bream &  925 & 36.2 & 18.7542 & 6.7497\\\\\n",
       "\t Bream &  975 & 37.4 & 18.6354 & 6.7473\\\\\n",
       "\t Bream &  950 & 38.0 & 17.6235 & 6.3705\\\\\n",
       "\\end{tabular}\n"
      ],
      "text/markdown": [
       "\n",
       "A spec_tbl_df: 35 × 5\n",
       "\n",
       "| Species &lt;chr&gt; | Weight &lt;dbl&gt; | Length &lt;dbl&gt; | Height &lt;dbl&gt; | Width &lt;dbl&gt; |\n",
       "|---|---|---|---|---|\n",
       "| Bream |  242 | 23.2 | 11.5200 | 4.0200 |\n",
       "| Bream |  290 | 24.0 | 12.4800 | 4.3056 |\n",
       "| Bream |  340 | 23.9 | 12.3778 | 4.6961 |\n",
       "| Bream |  363 | 26.3 | 12.7300 | 4.4555 |\n",
       "| Bream |  430 | 26.5 | 12.4440 | 5.1340 |\n",
       "| Bream |  450 | 26.8 | 13.6024 | 4.9274 |\n",
       "| Bream |  500 | 26.8 | 14.1795 | 5.2785 |\n",
       "| Bream |  390 | 27.6 | 12.6700 | 4.6900 |\n",
       "| Bream |  450 | 27.6 | 14.0049 | 4.8438 |\n",
       "| Bream |  500 | 28.5 | 14.2266 | 4.9594 |\n",
       "| Bream |  475 | 28.4 | 14.2628 | 5.1042 |\n",
       "| Bream |  500 | 28.7 | 14.3714 | 4.8146 |\n",
       "| Bream |  500 | 29.1 | 13.7592 | 4.3680 |\n",
       "| Bream |  340 | 29.5 | 13.9129 | 5.0728 |\n",
       "| Bream |  600 | 29.4 | 14.9544 | 5.1708 |\n",
       "| Bream |  600 | 29.4 | 15.4380 | 5.5800 |\n",
       "| Bream |  700 | 30.4 | 14.8604 | 5.2854 |\n",
       "| Bream |  700 | 30.4 | 14.9380 | 5.1975 |\n",
       "| Bream |  610 | 30.9 | 15.6330 | 5.1338 |\n",
       "| Bream |  650 | 31.0 | 14.4738 | 5.7276 |\n",
       "| Bream |  575 | 31.3 | 15.1285 | 5.5695 |\n",
       "| Bream |  685 | 31.4 | 15.9936 | 5.3704 |\n",
       "| Bream |  620 | 31.5 | 15.5227 | 5.2801 |\n",
       "| Bream |  680 | 31.8 | 15.4686 | 6.1306 |\n",
       "| Bream |  700 | 31.9 | 16.2405 | 5.5890 |\n",
       "| Bream |  725 | 31.8 | 16.3600 | 6.0532 |\n",
       "| Bream |  720 | 32.0 | 16.3618 | 6.0900 |\n",
       "| Bream |  714 | 32.7 | 16.5170 | 5.8515 |\n",
       "| Bream |  850 | 32.8 | 16.8896 | 6.1984 |\n",
       "| Bream | 1000 | 33.5 | 18.9570 | 6.6030 |\n",
       "| Bream |  920 | 35.0 | 18.0369 | 6.3063 |\n",
       "| Bream |  955 | 35.0 | 18.0840 | 6.2920 |\n",
       "| Bream |  925 | 36.2 | 18.7542 | 6.7497 |\n",
       "| Bream |  975 | 37.4 | 18.6354 | 6.7473 |\n",
       "| Bream |  950 | 38.0 | 17.6235 | 6.3705 |\n",
       "\n"
      ],
      "text/plain": [
       "   Species Weight Length Height  Width \n",
       "1  Bream    242   23.2   11.5200 4.0200\n",
       "2  Bream    290   24.0   12.4800 4.3056\n",
       "3  Bream    340   23.9   12.3778 4.6961\n",
       "4  Bream    363   26.3   12.7300 4.4555\n",
       "5  Bream    430   26.5   12.4440 5.1340\n",
       "6  Bream    450   26.8   13.6024 4.9274\n",
       "7  Bream    500   26.8   14.1795 5.2785\n",
       "8  Bream    390   27.6   12.6700 4.6900\n",
       "9  Bream    450   27.6   14.0049 4.8438\n",
       "10 Bream    500   28.5   14.2266 4.9594\n",
       "11 Bream    475   28.4   14.2628 5.1042\n",
       "12 Bream    500   28.7   14.3714 4.8146\n",
       "13 Bream    500   29.1   13.7592 4.3680\n",
       "14 Bream    340   29.5   13.9129 5.0728\n",
       "15 Bream    600   29.4   14.9544 5.1708\n",
       "16 Bream    600   29.4   15.4380 5.5800\n",
       "17 Bream    700   30.4   14.8604 5.2854\n",
       "18 Bream    700   30.4   14.9380 5.1975\n",
       "19 Bream    610   30.9   15.6330 5.1338\n",
       "20 Bream    650   31.0   14.4738 5.7276\n",
       "21 Bream    575   31.3   15.1285 5.5695\n",
       "22 Bream    685   31.4   15.9936 5.3704\n",
       "23 Bream    620   31.5   15.5227 5.2801\n",
       "24 Bream    680   31.8   15.4686 6.1306\n",
       "25 Bream    700   31.9   16.2405 5.5890\n",
       "26 Bream    725   31.8   16.3600 6.0532\n",
       "27 Bream    720   32.0   16.3618 6.0900\n",
       "28 Bream    714   32.7   16.5170 5.8515\n",
       "29 Bream    850   32.8   16.8896 6.1984\n",
       "30 Bream   1000   33.5   18.9570 6.6030\n",
       "31 Bream    920   35.0   18.0369 6.3063\n",
       "32 Bream    955   35.0   18.0840 6.2920\n",
       "33 Bream    925   36.2   18.7542 6.7497\n",
       "34 Bream    975   37.4   18.6354 6.7473\n",
       "35 Bream    950   38.0   17.6235 6.3705"
      ]
     },
     "metadata": {},
     "output_type": "display_data"
    }
   ],
   "source": [
    "fish_data %>% filter(Species== \"Bream\")"
   ]
  },
  {
   "cell_type": "code",
   "execution_count": 122,
   "id": "7fb1fbc4",
   "metadata": {},
   "outputs": [
    {
     "data": {
      "text/plain": [
       "\n",
       "Call:\n",
       "lm(formula = Weight ~ Length, data = Bream_weight)\n",
       "\n",
       "Coefficients:\n",
       "(Intercept)       Length  \n",
       "   -1035.35        54.55  \n"
      ]
     },
     "metadata": {},
     "output_type": "display_data"
    }
   ],
   "source": [
    "Bream_weight = fish_data %>% filter(Species== \"Bream\")\n",
    "lm_weight_breamer = lm(Weight ~ Length, Bream_weight)\n",
    "lm_weight"
   ]
  },
  {
   "cell_type": "code",
   "execution_count": 117,
   "id": "c721f60f",
   "metadata": {},
   "outputs": [
    {
     "data": {
      "image/png": "[encoded data removed]",
      "text/plain": [
       "plot without title"
      ]
     },
     "metadata": {
      "image/png": {
       "height": 420,
       "width": 420
      }
     },
     "output_type": "display_data"
    }
   ],
   "source": [
    "ggplot(Bream_weight, aes(x=Length, y=Weight))+\n",
    "  geom_point() + \n",
    "  geom_smooth(formula = y ~ x,method=\"lm\", se=FALSE) \n",
    "  "
   ]
  },
  {
   "cell_type": "code",
   "execution_count": 128,
   "id": "ec618c85",
   "metadata": {},
   "outputs": [
    {
     "data": {
      "text/html": [
       "<table class=\"dataframe\">\n",
       "<caption>A tibble: 5 × 1</caption>\n",
       "<thead>\n",
       "\t<tr><th scope=col>Length</th></tr>\n",
       "\t<tr><th scope=col>&lt;dbl&gt;</th></tr>\n",
       "</thead>\n",
       "<tbody>\n",
       "\t<tr><td>20</td></tr>\n",
       "\t<tr><td>25</td></tr>\n",
       "\t<tr><td>30</td></tr>\n",
       "\t<tr><td>35</td></tr>\n",
       "\t<tr><td>40</td></tr>\n",
       "</tbody>\n",
       "</table>\n"
      ],
      "text/latex": [
       "A tibble: 5 × 1\n",
       "\\begin{tabular}{l}\n",
       " Length\\\\\n",
       " <dbl>\\\\\n",
       "\\hline\n",
       "\t 20\\\\\n",
       "\t 25\\\\\n",
       "\t 30\\\\\n",
       "\t 35\\\\\n",
       "\t 40\\\\\n",
       "\\end{tabular}\n"
      ],
      "text/markdown": [
       "\n",
       "A tibble: 5 × 1\n",
       "\n",
       "| Length &lt;dbl&gt; |\n",
       "|---|\n",
       "| 20 |\n",
       "| 25 |\n",
       "| 30 |\n",
       "| 35 |\n",
       "| 40 |\n",
       "\n"
      ],
      "text/plain": [
       "  Length\n",
       "1 20    \n",
       "2 25    \n",
       "3 30    \n",
       "4 35    \n",
       "5 40    "
      ]
     },
     "metadata": {},
     "output_type": "display_data"
    }
   ],
   "source": [
    "new_weight_data = tibble(Length= seq(20,40, 5))\n",
    "new_weight_data "
   ]
  },
  {
   "cell_type": "code",
   "execution_count": 142,
   "id": "033b3dba",
   "metadata": {},
   "outputs": [
    {
     "data": {
      "text/html": [
       "<style>\n",
       ".dl-inline {width: auto; margin:0; padding: 0}\n",
       ".dl-inline>dt, .dl-inline>dd {float: none; width: auto; display: inline-block}\n",
       ".dl-inline>dt::after {content: \":\\0020\"; padding-right: .5ex}\n",
       ".dl-inline>dt:not(:first-of-type) {padding-left: .5ex}\n",
       "</style><dl class=dl-inline><dt>1</dt><dd>55.6520536215082</dd><dt>2</dt><dd>328.401958296407</dd><dt>3</dt><dd>601.151862971306</dd><dt>4</dt><dd>873.901767646205</dd><dt>5</dt><dd>1146.6516723211</dd></dl>\n"
      ],
      "text/latex": [
       "\\begin{description*}\n",
       "\\item[1] 55.6520536215082\n",
       "\\item[2] 328.401958296407\n",
       "\\item[3] 601.151862971306\n",
       "\\item[4] 873.901767646205\n",
       "\\item[5] 1146.6516723211\n",
       "\\end{description*}\n"
      ],
      "text/markdown": [
       "1\n",
       ":   55.65205362150822\n",
       ":   328.4019582964073\n",
       ":   601.1518629713064\n",
       ":   873.9017676462055\n",
       ":   1146.6516723211\n",
       "\n"
      ],
      "text/plain": [
       "         1          2          3          4          5 \n",
       "  55.65205  328.40196  601.15186  873.90177 1146.65167 "
      ]
     },
     "metadata": {},
     "output_type": "display_data"
    }
   ],
   "source": [
    "predictions = predict(lm_weight_breamer, new_weight_data)\n",
    "predictions"
   ]
  },
  {
   "cell_type": "code",
   "execution_count": 144,
   "id": "1027db0d",
   "metadata": {},
   "outputs": [
    {
     "data": {
      "text/html": [
       "<table class=\"dataframe\">\n",
       "<caption>A data.frame: 5 × 2</caption>\n",
       "<thead>\n",
       "\t<tr><th></th><th scope=col>Length</th><th scope=col>Weight</th></tr>\n",
       "\t<tr><th></th><th scope=col>&lt;dbl&gt;</th><th scope=col>&lt;dbl&gt;</th></tr>\n",
       "</thead>\n",
       "<tbody>\n",
       "\t<tr><th scope=row>1</th><td>20</td><td>  55.65205</td></tr>\n",
       "\t<tr><th scope=row>2</th><td>25</td><td> 328.40196</td></tr>\n",
       "\t<tr><th scope=row>3</th><td>30</td><td> 601.15186</td></tr>\n",
       "\t<tr><th scope=row>4</th><td>35</td><td> 873.90177</td></tr>\n",
       "\t<tr><th scope=row>5</th><td>40</td><td>1146.65167</td></tr>\n",
       "</tbody>\n",
       "</table>\n"
      ],
      "text/latex": [
       "A data.frame: 5 × 2\n",
       "\\begin{tabular}{r|ll}\n",
       "  & Length & Weight\\\\\n",
       "  & <dbl> & <dbl>\\\\\n",
       "\\hline\n",
       "\t1 & 20 &   55.65205\\\\\n",
       "\t2 & 25 &  328.40196\\\\\n",
       "\t3 & 30 &  601.15186\\\\\n",
       "\t4 & 35 &  873.90177\\\\\n",
       "\t5 & 40 & 1146.65167\\\\\n",
       "\\end{tabular}\n"
      ],
      "text/markdown": [
       "\n",
       "A data.frame: 5 × 2\n",
       "\n",
       "| <!--/--> | Length &lt;dbl&gt; | Weight &lt;dbl&gt; |\n",
       "|---|---|---|\n",
       "| 1 | 20 |   55.65205 |\n",
       "| 2 | 25 |  328.40196 |\n",
       "| 3 | 30 |  601.15186 |\n",
       "| 4 | 35 |  873.90177 |\n",
       "| 5 | 40 | 1146.65167 |\n",
       "\n"
      ],
      "text/plain": [
       "  Length Weight    \n",
       "1 20       55.65205\n",
       "2 25      328.40196\n",
       "3 30      601.15186\n",
       "4 35      873.90177\n",
       "5 40     1146.65167"
      ]
     },
     "metadata": {},
     "output_type": "display_data"
    }
   ],
   "source": [
    "cbind(new_weight_data, Weight=predictions)"
   ]
  },
  {
   "cell_type": "code",
   "execution_count": 145,
   "id": "9c0b2ba4",
   "metadata": {},
   "outputs": [
    {
     "data": {
      "text/html": [
       "<table class=\"dataframe\">\n",
       "<caption>A data.frame: 5 × 2</caption>\n",
       "<thead>\n",
       "\t<tr><th></th><th scope=col>Length</th><th scope=col>Weight</th></tr>\n",
       "\t<tr><th></th><th scope=col>&lt;dbl&gt;</th><th scope=col>&lt;dbl&gt;</th></tr>\n",
       "</thead>\n",
       "<tbody>\n",
       "\t<tr><th scope=row>1</th><td>20</td><td>  55.65205</td></tr>\n",
       "\t<tr><th scope=row>2</th><td>25</td><td> 328.40196</td></tr>\n",
       "\t<tr><th scope=row>3</th><td>30</td><td> 601.15186</td></tr>\n",
       "\t<tr><th scope=row>4</th><td>35</td><td> 873.90177</td></tr>\n",
       "\t<tr><th scope=row>5</th><td>40</td><td>1146.65167</td></tr>\n",
       "</tbody>\n",
       "</table>\n"
      ],
      "text/latex": [
       "A data.frame: 5 × 2\n",
       "\\begin{tabular}{r|ll}\n",
       "  & Length & Weight\\\\\n",
       "  & <dbl> & <dbl>\\\\\n",
       "\\hline\n",
       "\t1 & 20 &   55.65205\\\\\n",
       "\t2 & 25 &  328.40196\\\\\n",
       "\t3 & 30 &  601.15186\\\\\n",
       "\t4 & 35 &  873.90177\\\\\n",
       "\t5 & 40 & 1146.65167\\\\\n",
       "\\end{tabular}\n"
      ],
      "text/markdown": [
       "\n",
       "A data.frame: 5 × 2\n",
       "\n",
       "| <!--/--> | Length &lt;dbl&gt; | Weight &lt;dbl&gt; |\n",
       "|---|---|---|\n",
       "| 1 | 20 |   55.65205 |\n",
       "| 2 | 25 |  328.40196 |\n",
       "| 3 | 30 |  601.15186 |\n",
       "| 4 | 35 |  873.90177 |\n",
       "| 5 | 40 | 1146.65167 |\n",
       "\n"
      ],
      "text/plain": [
       "  Length Weight    \n",
       "1 20       55.65205\n",
       "2 25      328.40196\n",
       "3 30      601.15186\n",
       "4 35      873.90177\n",
       "5 40     1146.65167"
      ]
     },
     "metadata": {},
     "output_type": "display_data"
    }
   ],
   "source": [
    "prediction_data = cbind(new_weight_data, Weight=predictions)\n",
    "prediction_data "
   ]
  },
  {
   "cell_type": "code",
   "execution_count": 150,
   "id": "ce9f561e",
   "metadata": {},
   "outputs": [
    {
     "data": {
      "image/png": "[encoded data removed]",
      "text/plain": [
       "plot without title"
      ]
     },
     "metadata": {
      "image/png": {
       "height": 420,
       "width": 420
      }
     },
     "output_type": "display_data"
    }
   ],
   "source": [
    "ggplot(Bream_weight, aes(x=Length, y=Weight))+\n",
    "  geom_point() + \n",
    "  geom_smooth(formula = y ~ x,method=\"lm\", se=FALSE) + \n",
    "  geom_point(data=prediction_data, color=\"red\", size = 3)\n",
    "# note the aes will be inherited by all layouts so no need to include it gain.  "
   ]
  },
  {
   "cell_type": "markdown",
   "id": "5c9f141a",
   "metadata": {},
   "source": [
    "### Why did we subset the data?\n",
    "\n",
    "\n",
    "\n",
    "* Why not models the complete dataset? \n",
    "\n",
    "```R \n",
    "lm(Weight~ Length, fish_data)\n",
    "```"
   ]
  },
  {
   "cell_type": "code",
   "execution_count": 183,
   "id": "675ee473",
   "metadata": {},
   "outputs": [
    {
     "data": {
      "text/plain": [
       "\n",
       "Call:\n",
       "lm(formula = Weight ~ Length, data = fish_data)\n",
       "\n",
       "Residuals:\n",
       "    Min      1Q  Median      3Q     Max \n",
       "-414.90  -71.26    6.08   98.31  363.84 \n",
       "\n",
       "Coefficients:\n",
       "            Estimate Std. Error t value Pr(>|t|)    \n",
       "(Intercept) -462.375     32.243  -14.34   <2e-16 ***\n",
       "Length        32.792      1.148   28.55   <2e-16 ***\n",
       "---\n",
       "Signif. codes:  0 ‘***’ 0.001 ‘**’ 0.01 ‘*’ 0.05 ‘.’ 0.1 ‘ ’ 1\n",
       "\n",
       "Residual standard error: 144.3 on 157 degrees of freedom\n",
       "Multiple R-squared:  0.8385,\tAdjusted R-squared:  0.8375 \n",
       "F-statistic: 815.3 on 1 and 157 DF,  p-value: < 2.2e-16\n"
      ]
     },
     "metadata": {},
     "output_type": "display_data"
    }
   ],
   "source": [
    "erroneous_lm = lm(Weight~ Length, fish_data)\n",
    "summary(erroneous_lm)\n",
    "# notice that R-squared and the p-value are significantant. Does it mean that the model is good?"
   ]
  },
  {
   "cell_type": "markdown",
   "id": "819044bc",
   "metadata": {},
   "source": [
    "### Why did we subset the data?\n",
    "\n",
    "\n",
    "\n",
    "* The data contains three populations\n",
    "  * Bream, Pike and Smelt\n",
    "* Three varianances, therefore data will exhibit heteroscedasticity, which vialates one of the conditions of linear regression\n",
    "\n"
   ]
  },
  {
   "cell_type": "code",
   "execution_count": 161,
   "id": "ad47534c",
   "metadata": {},
   "outputs": [
    {
     "data": {
      "text/html": [
       "3.59369896748567"
      ],
      "text/latex": [
       "3.59369896748567"
      ],
      "text/markdown": [
       "3.59369896748567"
      ],
      "text/plain": [
       "[1] 3.593699"
      ]
     },
     "metadata": {},
     "output_type": "display_data"
    },
    {
     "data": {
      "text/html": [
       "9.02908698400375"
      ],
      "text/latex": [
       "9.02908698400375"
      ],
      "text/markdown": [
       "9.02908698400375"
      ],
      "text/plain": [
       "[1] 9.029087"
      ]
     },
     "metadata": {},
     "output_type": "display_data"
    },
    {
     "data": {
      "text/html": [
       "1.21637183441596"
      ],
      "text/latex": [
       "1.21637183441596"
      ],
      "text/markdown": [
       "1.21637183441596"
      ],
      "text/plain": [
       "[1] 1.216372"
      ]
     },
     "metadata": {},
     "output_type": "display_data"
    }
   ],
   "source": [
    "sd((fish_data %>% filter(Species== \"Bream\"))$Length)\n",
    "\n",
    "sd((fish_data %>% filter(Species== \"Pike\"))$Length)\n",
    "\n",
    "sd((fish_data %>% filter(Species== \"Smelt\"))$Length)"
   ]
  },
  {
   "cell_type": "markdown",
   "id": "166df476",
   "metadata": {},
   "source": [
    "### Inspecting the Residuals\n",
    "\n",
    "* Note that the residuals summary does not point uniformly distributed residuals\n",
    "\n",
    "```\n",
    "Residuals:\n",
    "    Min      1Q  Median      3Q     Max \n",
    "-414.90  -71.26    6.08   98.31  363.84 \n",
    "```"
   ]
  },
  {
   "cell_type": "code",
   "execution_count": 184,
   "id": "33afc692",
   "metadata": {},
   "outputs": [
    {
     "data": {
      "text/html": [
       "<style>\n",
       ".dl-inline {width: auto; margin:0; padding: 0}\n",
       ".dl-inline>dt, .dl-inline>dd {float: none; width: auto; display: inline-block}\n",
       ".dl-inline>dt::after {content: \":\\0020\"; padding-right: .5ex}\n",
       ".dl-inline>dt:not(:first-of-type) {padding-left: .5ex}\n",
       "</style><dl class=dl-inline><dt>1</dt><dd>-56.4031232232957</dd><dt>2</dt><dd>-34.6368543399081</dd><dt>3</dt><dd>18.6423620496688</dd><dt>4</dt><dd>-37.0588313001534</dd><dt>5</dt><dd>23.3827359206948</dd><dt>6</dt><dd>33.545086751967</dd><dt>7</dt><dd>83.545086751967</dd><dt>8</dt><dd>-52.6886443646404</dd><dt>9</dt><dd>7.31135563535964</dd><dt>10</dt><dd>27.7984081291764</dd><dt>11</dt><dd>6.07762451875236</dd><dt>12</dt><dd>21.2399753500246</dd><dt>13</dt><dd>8.12310979172083</dd><dt>14</dt><dd>-164.993755766583</dd><dt>15</dt><dd>98.2854606229932</dd><dt>16</dt><dd>98.2854606229932</dd><dt>17</dt><dd>165.493296727234</dd><dt>18</dt><dd>165.493296727234</dd><dt>19</dt><dd>59.0972147793543</dd><dt>20</dt><dd>95.8179983897784</dd><dt>21</dt><dd>10.9803492210506</dd><dt>22</dt><dd>117.701132831475</dd><dt>23</dt><dd>49.4219164418988</dd><dt>24</dt><dd>99.584267273171</dd><dt>25</dt><dd>116.305050883595</dd><dt>26</dt><dd>144.584267273171</dd><dt>27</dt><dd>133.025834494019</dd><dt>28</dt><dd>104.071319766988</dd><dt>29</dt><dd>236.792103377412</dd><dt>30</dt><dd>363.83758865038</dd><dt>31</dt><dd>234.649342806742</dd><dt>32</dt><dd>269.649342806742</dd><dt>33</dt><dd>200.29874613183</dd><dt>34</dt><dd>210.94814945692</dd><dt>35</dt><dd>166.272851119464</dd><dt>36</dt><dd>79.3561649030201</dd><dt>37</dt><dd>-9.69562512171307</dd><dt>38</dt><dd>-33.4877890174723</dd><dt>39</dt><dd>-47.4423037445037</dd><dt>40</dt><dd>-27.5591693028075</dd><dt>41</dt><dd>-160.676034861111</dd><dt>42</dt><dd>-53.9552512506871</dd><dt>43</dt><dd>-53.7929004194147</dd><dt>44</dt><dd>-56.585064315174</dd><dt>45</dt><dd>-64.8642807047499</dd><dt>46</dt><dd>-49.8642807047499</dd><dt>47</dt><dd>-86.2603626526295</dd><dt>48</dt><dd>-69.5395790422055</dd><dt>49</dt><dd>-90.0525265483887</dd><dt>50</dt><dd>-98.0525265483887</dd><dt>51</dt><dd>-62.3317429379647</dd><dt>52</dt><dd>-131.519988781604</dd><dt>53</dt><dd>-34.6368543399072</dd><dt>54</dt><dd>-85.4290182356664</dd><dt>55</dt><dd>-114.993755766583</dd><dt>56</dt><dd>-41.5199887816035</dd><dt>57</dt><dd>-57.9160707294831</dd><dt>58</dt><dd>-71.1043165731219</dd><dt>59</dt><dd>67.7984081291764</dd><dt>60</dt><dd>157.279155871228</dd><dt>61</dt><dd>239.227365846495</dd><dt>62</dt><dd>74.6808665655645</dd><dt>63</dt><dd>53.4471354489571</dd><dt>64</dt><dd>17.8628076574387</dd><dt>65</dt><dd>8.51221098252771</dd><dt>66</dt><dd>8.99926347634445</dd><dt>67</dt><dd>-20.6760348611111</dd><dt>68</dt><dd>9.32396513888891</dd><dt>69</dt><dd>-41.9097659777185</dd><dt>70</dt><dd>-32.8187954317813</dd><dt>71</dt><dd>-18.8446904441479</dd><dt>72</dt><dd>-24.6368543399072</dd><dt>73</dt><dd>222.33384994012</dd><dt>74</dt><dd>84.4730304613238</dd><dt>75</dt><dd>49.8432173968368</dd><dt>76</dt><dd>21.9926207219257</dd><dt>77</dt><dd>17.5381059948943</dd><dt>78</dt><dd>31.1420240470147</dd><dt>79</dt><dd>-10.5332742904409</dd><dt>80</dt><dd>-21.6501398487445</dd><dt>81</dt><dd>-36.3254381862001</dd><dt>82</dt><dd>-49.4423037445037</dd><dt>83</dt><dd>-50.6760348611111</dd><dt>84</dt><dd>-45.6760348611111</dd><dt>85</dt><dd>-35.6760348611111</dd><dt>86</dt><dd>-40.5136840298389</dd><dt>87</dt><dd>-73.4681987568703</dd><dt>88</dt><dd>-73.4681987568703</dd><dt>89</dt><dd>-63.4681987568703</dd><dt>90</dt><dd>-58.4681987568703</dd><dt>91</dt><dd>-83.4681987568703</dd><dt>92</dt><dd>-79.8642807047499</dd><dt>93</dt><dd>-59.8642807047499</dd><dt>94</dt><dd>-71.4227134839017</dd><dt>95</dt><dd>-76.2603626526295</dd><dt>96</dt><dd>-72.6564446005091</dd><dt>97</dt><dd>-34.0525265483887</dd><dt>98</dt><dd>-114.052526548389</dd><dt>99</dt><dd>-90.7278248858443</dd><dt>100</dt><dd>-111.844690444148</dd><dt>101</dt><dd>-111.240772392028</dd><dt>102</dt><dd>-139.429018235666</dd><dt>103</dt><dd>-63.9874510148182</dd><dt>104</dt><dd>-110.54588379397</dd><dt>105</dt><dd>-105.54588379397</dd><dt>106</dt><dd>-120.54588379397</dd><dt>107</dt><dd>-136.94196574185</dd><dt>108</dt><dd>-119.734129637609</dd><dt>109</dt><dd>-129.247077143792</dd><dt>110</dt><dd>-23.785919662342</dd><dt>111</dt><dd>-30.9741655059808</dd><dt>112</dt><dd>236.62975254614</dd><dt>113</dt><dd>32.4415067025008</dd><dt>114</dt><dd>47.4415067025008</dd><dt>115</dt><dd>31.0454247546211</dd><dt>116</dt><dd>17.7662083650452</dd><dt>117</dt><dd>165.461096963103</dd><dt>118</dt><dd>-84.5389030368973</dd><dt>119</dt><dd>82.1818805735268</dd><dt>120</dt><dd>102.344231404799</dd><dt>121</dt><dd>149.065015015223</dd><dt>122</dt><dd>264.065015015223</dd><dt>123</dt><dd>65.7857986256471</dd><dt>124</dt><dd>283.480687223705</dd><dt>125</dt><dd>157.246956107097</dd><dt>126</dt><dd>247.40930693837</dd><dt>127</dt><dd>144.130090548794</dd><dt>128</dt><dd>114.61714304261</dd><dt>129</dt><dd>-321.389837714462</dd><dt>130</dt><dd>-277.136516337253</dd><dt>131</dt><dd>-309.928680233012</dd><dt>132</dt><dd>-378.792224414107</dd><dt>133</dt><dd>-271.746739141138</dd><dt>134</dt><dd>-373.142821089018</dd><dt>135</dt><dd>-393.311476672054</dd><dt>136</dt><dd>-339.311476672054</dd><dt>137</dt><dd>-312.59069306163</dd><dt>138</dt><dd>-414.895804463573</dd><dt>139</dt><dd>-387.246401138484</dd><dt>140</dt><dd>-236.713863371699</dd><dt>141</dt><dd>-171.486437006856</dd><dt>142</dt><dd>7.18255657883487</dd><dt>143</dt><dd>226.013900995798</dd><dt>144</dt><dd>176.013900995798</dd><dt>145</dt><dd>177.637409308521</dd><dt>146</dt><dd>164.107954927753</dd><dt>147</dt><dd>141.953440200722</dd><dt>148</dt><dd>138.174223811146</dd><dt>149</dt><dd>131.036574642418</dd><dt>150</dt><dd>121.29892547369</dd><dt>151</dt><dd>116.919709084114</dd><dt>152</dt><dd>101.823627136235</dd><dt>153</dt><dd>101.723627136235</dd><dt>154</dt><dd>98.3444107466589</dd><dt>155</dt><dd>97.465194357083</dd><dt>156</dt><dd>92.1067615779311</dd><dt>157</dt><dd>77.7898960196275</dd><dt>158</dt><dd>49.2185157342923</dd><dt>159</dt><dd>29.7432173968367</dd></dl>\n"
      ],
      "text/latex": [
       "\\begin{description*}\n",
       "\\item[1] -56.4031232232957\n",
       "\\item[2] -34.6368543399081\n",
       "\\item[3] 18.6423620496688\n",
       "\\item[4] -37.0588313001534\n",
       "\\item[5] 23.3827359206948\n",
       "\\item[6] 33.545086751967\n",
       "\\item[7] 83.545086751967\n",
       "\\item[8] -52.6886443646404\n",
       "\\item[9] 7.31135563535964\n",
       "\\item[10] 27.7984081291764\n",
       "\\item[11] 6.07762451875236\n",
       "\\item[12] 21.2399753500246\n",
       "\\item[13] 8.12310979172083\n",
       "\\item[14] -164.993755766583\n",
       "\\item[15] 98.2854606229932\n",
       "\\item[16] 98.2854606229932\n",
       "\\item[17] 165.493296727234\n",
       "\\item[18] 165.493296727234\n",
       "\\item[19] 59.0972147793543\n",
       "\\item[20] 95.8179983897784\n",
       "\\item[21] 10.9803492210506\n",
       "\\item[22] 117.701132831475\n",
       "\\item[23] 49.4219164418988\n",
       "\\item[24] 99.584267273171\n",
       "\\item[25] 116.305050883595\n",
       "\\item[26] 144.584267273171\n",
       "\\item[27] 133.025834494019\n",
       "\\item[28] 104.071319766988\n",
       "\\item[29] 236.792103377412\n",
       "\\item[30] 363.83758865038\n",
       "\\item[31] 234.649342806742\n",
       "\\item[32] 269.649342806742\n",
       "\\item[33] 200.29874613183\n",
       "\\item[34] 210.94814945692\n",
       "\\item[35] 166.272851119464\n",
       "\\item[36] 79.3561649030201\n",
       "\\item[37] -9.69562512171307\n",
       "\\item[38] -33.4877890174723\n",
       "\\item[39] -47.4423037445037\n",
       "\\item[40] -27.5591693028075\n",
       "\\item[41] -160.676034861111\n",
       "\\item[42] -53.9552512506871\n",
       "\\item[43] -53.7929004194147\n",
       "\\item[44] -56.585064315174\n",
       "\\item[45] -64.8642807047499\n",
       "\\item[46] -49.8642807047499\n",
       "\\item[47] -86.2603626526295\n",
       "\\item[48] -69.5395790422055\n",
       "\\item[49] -90.0525265483887\n",
       "\\item[50] -98.0525265483887\n",
       "\\item[51] -62.3317429379647\n",
       "\\item[52] -131.519988781604\n",
       "\\item[53] -34.6368543399072\n",
       "\\item[54] -85.4290182356664\n",
       "\\item[55] -114.993755766583\n",
       "\\item[56] -41.5199887816035\n",
       "\\item[57] -57.9160707294831\n",
       "\\item[58] -71.1043165731219\n",
       "\\item[59] 67.7984081291764\n",
       "\\item[60] 157.279155871228\n",
       "\\item[61] 239.227365846495\n",
       "\\item[62] 74.6808665655645\n",
       "\\item[63] 53.4471354489571\n",
       "\\item[64] 17.8628076574387\n",
       "\\item[65] 8.51221098252771\n",
       "\\item[66] 8.99926347634445\n",
       "\\item[67] -20.6760348611111\n",
       "\\item[68] 9.32396513888891\n",
       "\\item[69] -41.9097659777185\n",
       "\\item[70] -32.8187954317813\n",
       "\\item[71] -18.8446904441479\n",
       "\\item[72] -24.6368543399072\n",
       "\\item[73] 222.33384994012\n",
       "\\item[74] 84.4730304613238\n",
       "\\item[75] 49.8432173968368\n",
       "\\item[76] 21.9926207219257\n",
       "\\item[77] 17.5381059948943\n",
       "\\item[78] 31.1420240470147\n",
       "\\item[79] -10.5332742904409\n",
       "\\item[80] -21.6501398487445\n",
       "\\item[81] -36.3254381862001\n",
       "\\item[82] -49.4423037445037\n",
       "\\item[83] -50.6760348611111\n",
       "\\item[84] -45.6760348611111\n",
       "\\item[85] -35.6760348611111\n",
       "\\item[86] -40.5136840298389\n",
       "\\item[87] -73.4681987568703\n",
       "\\item[88] -73.4681987568703\n",
       "\\item[89] -63.4681987568703\n",
       "\\item[90] -58.4681987568703\n",
       "\\item[91] -83.4681987568703\n",
       "\\item[92] -79.8642807047499\n",
       "\\item[93] -59.8642807047499\n",
       "\\item[94] -71.4227134839017\n",
       "\\item[95] -76.2603626526295\n",
       "\\item[96] -72.6564446005091\n",
       "\\item[97] -34.0525265483887\n",
       "\\item[98] -114.052526548389\n",
       "\\item[99] -90.7278248858443\n",
       "\\item[100] -111.844690444148\n",
       "\\item[101] -111.240772392028\n",
       "\\item[102] -139.429018235666\n",
       "\\item[103] -63.9874510148182\n",
       "\\item[104] -110.54588379397\n",
       "\\item[105] -105.54588379397\n",
       "\\item[106] -120.54588379397\n",
       "\\item[107] -136.94196574185\n",
       "\\item[108] -119.734129637609\n",
       "\\item[109] -129.247077143792\n",
       "\\item[110] -23.785919662342\n",
       "\\item[111] -30.9741655059808\n",
       "\\item[112] 236.62975254614\n",
       "\\item[113] 32.4415067025008\n",
       "\\item[114] 47.4415067025008\n",
       "\\item[115] 31.0454247546211\n",
       "\\item[116] 17.7662083650452\n",
       "\\item[117] 165.461096963103\n",
       "\\item[118] -84.5389030368973\n",
       "\\item[119] 82.1818805735268\n",
       "\\item[120] 102.344231404799\n",
       "\\item[121] 149.065015015223\n",
       "\\item[122] 264.065015015223\n",
       "\\item[123] 65.7857986256471\n",
       "\\item[124] 283.480687223705\n",
       "\\item[125] 157.246956107097\n",
       "\\item[126] 247.40930693837\n",
       "\\item[127] 144.130090548794\n",
       "\\item[128] 114.61714304261\n",
       "\\item[129] -321.389837714462\n",
       "\\item[130] -277.136516337253\n",
       "\\item[131] -309.928680233012\n",
       "\\item[132] -378.792224414107\n",
       "\\item[133] -271.746739141138\n",
       "\\item[134] -373.142821089018\n",
       "\\item[135] -393.311476672054\n",
       "\\item[136] -339.311476672054\n",
       "\\item[137] -312.59069306163\n",
       "\\item[138] -414.895804463573\n",
       "\\item[139] -387.246401138484\n",
       "\\item[140] -236.713863371699\n",
       "\\item[141] -171.486437006856\n",
       "\\item[142] 7.18255657883487\n",
       "\\item[143] 226.013900995798\n",
       "\\item[144] 176.013900995798\n",
       "\\item[145] 177.637409308521\n",
       "\\item[146] 164.107954927753\n",
       "\\item[147] 141.953440200722\n",
       "\\item[148] 138.174223811146\n",
       "\\item[149] 131.036574642418\n",
       "\\item[150] 121.29892547369\n",
       "\\item[151] 116.919709084114\n",
       "\\item[152] 101.823627136235\n",
       "\\item[153] 101.723627136235\n",
       "\\item[154] 98.3444107466589\n",
       "\\item[155] 97.465194357083\n",
       "\\item[156] 92.1067615779311\n",
       "\\item[157] 77.7898960196275\n",
       "\\item[158] 49.2185157342923\n",
       "\\item[159] 29.7432173968367\n",
       "\\end{description*}\n"
      ],
      "text/markdown": [
       "1\n",
       ":   -56.40312322329572\n",
       ":   -34.63685433990813\n",
       ":   18.64236204966884\n",
       ":   -37.05883130015345\n",
       ":   23.38273592069486\n",
       ":   33.5450867519677\n",
       ":   83.5450867519678\n",
       ":   -52.68864436464049\n",
       ":   7.3113556353596410\n",
       ":   27.798408129176411\n",
       ":   6.0776245187523612\n",
       ":   21.239975350024613\n",
       ":   8.1231097917208314\n",
       ":   -164.99375576658315\n",
       ":   98.285460622993216\n",
       ":   98.285460622993217\n",
       ":   165.49329672723418\n",
       ":   165.49329672723419\n",
       ":   59.097214779354320\n",
       ":   95.817998389778421\n",
       ":   10.980349221050622\n",
       ":   117.70113283147523\n",
       ":   49.421916441898824\n",
       ":   99.58426727317125\n",
       ":   116.30505088359526\n",
       ":   144.58426727317127\n",
       ":   133.02583449401928\n",
       ":   104.07131976698829\n",
       ":   236.79210337741230\n",
       ":   363.8375886503831\n",
       ":   234.64934280674232\n",
       ":   269.64934280674233\n",
       ":   200.2987461318334\n",
       ":   210.9481494569235\n",
       ":   166.27285111946436\n",
       ":   79.356164903020137\n",
       ":   -9.6956251217130738\n",
       ":   -33.487789017472339\n",
       ":   -47.442303744503740\n",
       ":   -27.559169302807541\n",
       ":   -160.67603486111142\n",
       ":   -53.955251250687143\n",
       ":   -53.792900419414744\n",
       ":   -56.58506431517445\n",
       ":   -64.864280704749946\n",
       ":   -49.864280704749947\n",
       ":   -86.260362652629548\n",
       ":   -69.539579042205549\n",
       ":   -90.052526548388750\n",
       ":   -98.052526548388751\n",
       ":   -62.331742937964752\n",
       ":   -131.51998878160453\n",
       ":   -34.636854339907254\n",
       ":   -85.429018235666455\n",
       ":   -114.99375576658356\n",
       ":   -41.519988781603557\n",
       ":   -57.916070729483158\n",
       ":   -71.104316573121959\n",
       ":   67.798408129176460\n",
       ":   157.27915587122861\n",
       ":   239.22736584649562\n",
       ":   74.680866565564563\n",
       ":   53.447135448957164\n",
       ":   17.862807657438765\n",
       ":   8.5122109825277166\n",
       ":   8.9992634763444567\n",
       ":   -20.676034861111168\n",
       ":   9.3239651388889169\n",
       ":   -41.909765977718570\n",
       ":   -32.818795431781371\n",
       ":   -18.844690444147972\n",
       ":   -24.636854339907273\n",
       ":   222.3338499401274\n",
       ":   84.473030461323875\n",
       ":   49.843217396836876\n",
       ":   21.992620721925777\n",
       ":   17.538105994894378\n",
       ":   31.142024047014779\n",
       ":   -10.533274290440980\n",
       ":   -21.650139848744581\n",
       ":   -36.325438186200182\n",
       ":   -49.442303744503783\n",
       ":   -50.676034861111184\n",
       ":   -45.676034861111185\n",
       ":   -35.676034861111186\n",
       ":   -40.513684029838987\n",
       ":   -73.468198756870388\n",
       ":   -73.468198756870389\n",
       ":   -63.468198756870390\n",
       ":   -58.468198756870391\n",
       ":   -83.468198756870392\n",
       ":   -79.864280704749993\n",
       ":   -59.864280704749994\n",
       ":   -71.422713483901795\n",
       ":   -76.260362652629596\n",
       ":   -72.656444600509197\n",
       ":   -34.052526548388798\n",
       ":   -114.05252654838999\n",
       ":   -90.7278248858443100\n",
       ":   -111.844690444148101\n",
       ":   -111.240772392028102\n",
       ":   -139.429018235666103\n",
       ":   -63.9874510148182104\n",
       ":   -110.54588379397105\n",
       ":   -105.54588379397106\n",
       ":   -120.54588379397107\n",
       ":   -136.94196574185108\n",
       ":   -119.734129637609109\n",
       ":   -129.247077143792110\n",
       ":   -23.785919662342111\n",
       ":   -30.9741655059808112\n",
       ":   236.62975254614113\n",
       ":   32.4415067025008114\n",
       ":   47.4415067025008115\n",
       ":   31.0454247546211116\n",
       ":   17.7662083650452117\n",
       ":   165.461096963103118\n",
       ":   -84.5389030368973119\n",
       ":   82.1818805735268120\n",
       ":   102.344231404799121\n",
       ":   149.065015015223122\n",
       ":   264.065015015223123\n",
       ":   65.7857986256471124\n",
       ":   283.480687223705125\n",
       ":   157.246956107097126\n",
       ":   247.40930693837127\n",
       ":   144.130090548794128\n",
       ":   114.61714304261129\n",
       ":   -321.389837714462130\n",
       ":   -277.136516337253131\n",
       ":   -309.928680233012132\n",
       ":   -378.792224414107133\n",
       ":   -271.746739141138134\n",
       ":   -373.142821089018135\n",
       ":   -393.311476672054136\n",
       ":   -339.311476672054137\n",
       ":   -312.59069306163138\n",
       ":   -414.895804463573139\n",
       ":   -387.246401138484140\n",
       ":   -236.713863371699141\n",
       ":   -171.486437006856142\n",
       ":   7.18255657883487143\n",
       ":   226.013900995798144\n",
       ":   176.013900995798145\n",
       ":   177.637409308521146\n",
       ":   164.107954927753147\n",
       ":   141.953440200722148\n",
       ":   138.174223811146149\n",
       ":   131.036574642418150\n",
       ":   121.29892547369151\n",
       ":   116.919709084114152\n",
       ":   101.823627136235153\n",
       ":   101.723627136235154\n",
       ":   98.3444107466589155\n",
       ":   97.465194357083156\n",
       ":   92.1067615779311157\n",
       ":   77.7898960196275158\n",
       ":   49.2185157342923159\n",
       ":   29.7432173968367\n",
       "\n"
      ],
      "text/plain": [
       "          1           2           3           4           5           6 \n",
       " -56.403123  -34.636854   18.642362  -37.058831   23.382736   33.545087 \n",
       "          7           8           9          10          11          12 \n",
       "  83.545087  -52.688644    7.311356   27.798408    6.077625   21.239975 \n",
       "         13          14          15          16          17          18 \n",
       "   8.123110 -164.993756   98.285461   98.285461  165.493297  165.493297 \n",
       "         19          20          21          22          23          24 \n",
       "  59.097215   95.817998   10.980349  117.701133   49.421916   99.584267 \n",
       "         25          26          27          28          29          30 \n",
       " 116.305051  144.584267  133.025834  104.071320  236.792103  363.837589 \n",
       "         31          32          33          34          35          36 \n",
       " 234.649343  269.649343  200.298746  210.948149  166.272851   79.356165 \n",
       "         37          38          39          40          41          42 \n",
       "  -9.695625  -33.487789  -47.442304  -27.559169 -160.676035  -53.955251 \n",
       "         43          44          45          46          47          48 \n",
       " -53.792900  -56.585064  -64.864281  -49.864281  -86.260363  -69.539579 \n",
       "         49          50          51          52          53          54 \n",
       " -90.052527  -98.052527  -62.331743 -131.519989  -34.636854  -85.429018 \n",
       "         55          56          57          58          59          60 \n",
       "-114.993756  -41.519989  -57.916071  -71.104317   67.798408  157.279156 \n",
       "         61          62          63          64          65          66 \n",
       " 239.227366   74.680867   53.447135   17.862808    8.512211    8.999263 \n",
       "         67          68          69          70          71          72 \n",
       " -20.676035    9.323965  -41.909766  -32.818795  -18.844690  -24.636854 \n",
       "         73          74          75          76          77          78 \n",
       " 222.333850   84.473030   49.843217   21.992621   17.538106   31.142024 \n",
       "         79          80          81          82          83          84 \n",
       " -10.533274  -21.650140  -36.325438  -49.442304  -50.676035  -45.676035 \n",
       "         85          86          87          88          89          90 \n",
       " -35.676035  -40.513684  -73.468199  -73.468199  -63.468199  -58.468199 \n",
       "         91          92          93          94          95          96 \n",
       " -83.468199  -79.864281  -59.864281  -71.422713  -76.260363  -72.656445 \n",
       "         97          98          99         100         101         102 \n",
       " -34.052527 -114.052527  -90.727825 -111.844690 -111.240772 -139.429018 \n",
       "        103         104         105         106         107         108 \n",
       " -63.987451 -110.545884 -105.545884 -120.545884 -136.941966 -119.734130 \n",
       "        109         110         111         112         113         114 \n",
       "-129.247077  -23.785920  -30.974166  236.629753   32.441507   47.441507 \n",
       "        115         116         117         118         119         120 \n",
       "  31.045425   17.766208  165.461097  -84.538903   82.181881  102.344231 \n",
       "        121         122         123         124         125         126 \n",
       " 149.065015  264.065015   65.785799  283.480687  157.246956  247.409307 \n",
       "        127         128         129         130         131         132 \n",
       " 144.130091  114.617143 -321.389838 -277.136516 -309.928680 -378.792224 \n",
       "        133         134         135         136         137         138 \n",
       "-271.746739 -373.142821 -393.311477 -339.311477 -312.590693 -414.895804 \n",
       "        139         140         141         142         143         144 \n",
       "-387.246401 -236.713863 -171.486437    7.182557  226.013901  176.013901 \n",
       "        145         146         147         148         149         150 \n",
       " 177.637409  164.107955  141.953440  138.174224  131.036575  121.298925 \n",
       "        151         152         153         154         155         156 \n",
       " 116.919709  101.823627  101.723627   98.344411   97.465194   92.106762 \n",
       "        157         158         159 \n",
       "  77.789896   49.218516   29.743217 "
      ]
     },
     "metadata": {},
     "output_type": "display_data"
    }
   ],
   "source": [
    "# residulas of all the points in the dataset\n",
    "residuals(erroneous_lm)"
   ]
  },
  {
   "cell_type": "code",
   "execution_count": 182,
   "id": "ee79e296",
   "metadata": {},
   "outputs": [
    {
     "data": {
      "image/png": "[encoded data removed]",
      "text/plain": [
       "plot without title"
      ]
     },
     "metadata": {
      "image/png": {
       "height": 420,
       "width": 420
      }
     },
     "output_type": "display_data"
    }
   ],
   "source": [
    "ggplot()+\n",
    "   geom_density(aes(x=residuals(erroneous_lm)), bw=55) +\n",
    "   xlim(-600, 600)\n"
   ]
  },
  {
   "cell_type": "markdown",
   "id": "4c8b2d1c",
   "metadata": {},
   "source": [
    "### Why did we Subset the Data?\n",
    "\n",
    "* If you suspect that you data contains populations, then using a linear regression without accounting for the population structure is poor idea\n",
    "  * Add the population (here Species) as an explanatory variable would adjust for the the observed differences.\n",
    "  * How we do include the species, or any other categorical variable in our Model?\n",
    "\n"
   ]
  },
  {
   "cell_type": "markdown",
   "id": "b246ba7d",
   "metadata": {},
   "source": [
    "### Modeling with Categorical Variables\n",
    "* Also called qualitative variables \n",
    "  * Represent a collection of two or more categories\n",
    "* The values are not readily useable in a regression\n",
    "  * even when the categorical encoding in numeric\n"
   ]
  },
  {
   "cell_type": "markdown",
   "id": "69dbff67",
   "metadata": {},
   "source": [
    "### Encoding of a Categorical Variable in R: Factors\n",
    "\n",
    "* Factors are used to represent categorical data. \n",
    "  * Factors in R are integers but provide special behavior\n",
    "  * Not equivalent to an integer encoding\n",
    "\n",
    "* The factor's values are called levels\n"
   ]
  },
  {
   "cell_type": "code",
   "execution_count": 5,
   "id": "96d55721",
   "metadata": {},
   "outputs": [
    {
     "data": {
      "text/html": [
       "<table class=\"dataframe\">\n",
       "<caption>A tibble: 4 × 2</caption>\n",
       "<thead>\n",
       "\t<tr><th scope=col>sex</th><th scope=col>weight</th></tr>\n",
       "\t<tr><th scope=col>&lt;chr&gt;</th><th scope=col>&lt;dbl&gt;</th></tr>\n",
       "</thead>\n",
       "<tbody>\n",
       "\t<tr><td>male  </td><td>12.2</td></tr>\n",
       "\t<tr><td>female</td><td> 9.5</td></tr>\n",
       "\t<tr><td>female</td><td>11.1</td></tr>\n",
       "\t<tr><td>male  </td><td>14.0</td></tr>\n",
       "</tbody>\n",
       "</table>\n"
      ],
      "text/latex": [
       "A tibble: 4 × 2\n",
       "\\begin{tabular}{ll}\n",
       " sex & weight\\\\\n",
       " <chr> & <dbl>\\\\\n",
       "\\hline\n",
       "\t male   & 12.2\\\\\n",
       "\t female &  9.5\\\\\n",
       "\t female & 11.1\\\\\n",
       "\t male   & 14.0\\\\\n",
       "\\end{tabular}\n"
      ],
      "text/markdown": [
       "\n",
       "A tibble: 4 × 2\n",
       "\n",
       "| sex &lt;chr&gt; | weight &lt;dbl&gt; |\n",
       "|---|---|\n",
       "| male   | 12.2 |\n",
       "| female |  9.5 |\n",
       "| female | 11.1 |\n",
       "| male   | 14.0 |\n",
       "\n"
      ],
      "text/plain": [
       "  sex    weight\n",
       "1 male   12.2  \n",
       "2 female  9.5  \n",
       "3 female 11.1  \n",
       "4 male   14.0  "
      ]
     },
     "metadata": {},
     "output_type": "display_data"
    }
   ],
   "source": [
    "sex  = c(\"male\", \"female\", \"female\", \"male\")\n",
    "weight = c(12.2, 9.5, 11.1, 14)\n",
    "data = tibble(sex, weight)\n",
    "data\n"
   ]
  },
  {
   "cell_type": "code",
   "execution_count": 6,
   "id": "787a2ff9",
   "metadata": {},
   "outputs": [
    {
     "data": {
      "text/html": [
       "<table class=\"dataframe\">\n",
       "<caption>A tibble: 4 × 2</caption>\n",
       "<thead>\n",
       "\t<tr><th scope=col>sex</th><th scope=col>weight</th></tr>\n",
       "\t<tr><th scope=col>&lt;fct&gt;</th><th scope=col>&lt;dbl&gt;</th></tr>\n",
       "</thead>\n",
       "<tbody>\n",
       "\t<tr><td>male  </td><td>12.2</td></tr>\n",
       "\t<tr><td>female</td><td> 9.5</td></tr>\n",
       "\t<tr><td>female</td><td>11.1</td></tr>\n",
       "\t<tr><td>male  </td><td>14.0</td></tr>\n",
       "</tbody>\n",
       "</table>\n"
      ],
      "text/latex": [
       "A tibble: 4 × 2\n",
       "\\begin{tabular}{ll}\n",
       " sex & weight\\\\\n",
       " <fct> & <dbl>\\\\\n",
       "\\hline\n",
       "\t male   & 12.2\\\\\n",
       "\t female &  9.5\\\\\n",
       "\t female & 11.1\\\\\n",
       "\t male   & 14.0\\\\\n",
       "\\end{tabular}\n"
      ],
      "text/markdown": [
       "\n",
       "A tibble: 4 × 2\n",
       "\n",
       "| sex &lt;fct&gt; | weight &lt;dbl&gt; |\n",
       "|---|---|\n",
       "| male   | 12.2 |\n",
       "| female |  9.5 |\n",
       "| female | 11.1 |\n",
       "| male   | 14.0 |\n",
       "\n"
      ],
      "text/plain": [
       "  sex    weight\n",
       "1 male   12.2  \n",
       "2 female  9.5  \n",
       "3 female 11.1  \n",
       "4 male   14.0  "
      ]
     },
     "metadata": {},
     "output_type": "display_data"
    }
   ],
   "source": [
    "sex  = factor(c(\"male\", \"female\", \"female\", \"male\"))\n",
    "weight = c(12.2, 9.5, 11.1, 14)\n",
    "data = tibble(sex, weight)\n",
    "data\n"
   ]
  },
  {
   "cell_type": "code",
   "execution_count": 7,
   "id": "600fd665",
   "metadata": {},
   "outputs": [
    {
     "data": {
      "text/html": [
       "<style>\n",
       ".list-inline {list-style: none; margin:0; padding: 0}\n",
       ".list-inline>li {display: inline-block}\n",
       ".list-inline>li:not(:last-child)::after {content: \"\\00b7\"; padding: 0 .5ex}\n",
       "</style>\n",
       "<ol class=list-inline><li>'female'</li><li>'male'</li></ol>\n"
      ],
      "text/latex": [
       "\\begin{enumerate*}\n",
       "\\item 'female'\n",
       "\\item 'male'\n",
       "\\end{enumerate*}\n"
      ],
      "text/markdown": [
       "1. 'female'\n",
       "2. 'male'\n",
       "\n",
       "\n"
      ],
      "text/plain": [
       "[1] \"female\" \"male\"  "
      ]
     },
     "metadata": {},
     "output_type": "display_data"
    }
   ],
   "source": [
    "levels(data$sex)"
   ]
  },
  {
   "cell_type": "code",
   "execution_count": 8,
   "id": "acdf743b",
   "metadata": {},
   "outputs": [
    {
     "data": {
      "text/html": [
       "2"
      ],
      "text/latex": [
       "2"
      ],
      "text/markdown": [
       "2"
      ],
      "text/plain": [
       "[1] 2"
      ]
     },
     "metadata": {},
     "output_type": "display_data"
    }
   ],
   "source": [
    "nlevels(data$sex)"
   ]
  },
  {
   "cell_type": "code",
   "execution_count": 16,
   "id": "237f4043",
   "metadata": {},
   "outputs": [
    {
     "data": {
      "text/html": [
       "2"
      ],
      "text/latex": [
       "2"
      ],
      "text/markdown": [
       "2"
      ],
      "text/plain": [
       "[1] 2"
      ]
     },
     "metadata": {},
     "output_type": "display_data"
    }
   ],
   "source": [
    "nlevels(data$sex)"
   ]
  },
  {
   "cell_type": "code",
   "execution_count": 32,
   "id": "bc1531f9",
   "metadata": {},
   "outputs": [],
   "source": [
    "?read_tsv"
   ]
  },
  {
   "cell_type": "code",
   "execution_count": 34,
   "id": "298fa6dc",
   "metadata": {},
   "outputs": [
    {
     "data": {
      "text/html": [
       "<table class=\"dataframe\">\n",
       "<caption>A spec_tbl_df: 17 × 2</caption>\n",
       "<thead>\n",
       "\t<tr><th scope=col>sex</th><th scope=col>weight</th></tr>\n",
       "\t<tr><th scope=col>&lt;fct&gt;</th><th scope=col>&lt;dbl&gt;</th></tr>\n",
       "</thead>\n",
       "<tbody>\n",
       "\t<tr><td>male  </td><td>17.8</td></tr>\n",
       "\t<tr><td>female</td><td>13.2</td></tr>\n",
       "\t<tr><td>female</td><td>15.8</td></tr>\n",
       "\t<tr><td>male  </td><td>17.3</td></tr>\n",
       "\t<tr><td>female</td><td>10.2</td></tr>\n",
       "\t<tr><td>female</td><td>12.1</td></tr>\n",
       "\t<tr><td>female</td><td>10.8</td></tr>\n",
       "\t<tr><td>male  </td><td>15.9</td></tr>\n",
       "\t<tr><td>male  </td><td>15.2</td></tr>\n",
       "\t<tr><td>male  </td><td>16.4</td></tr>\n",
       "\t<tr><td>female</td><td>13.1</td></tr>\n",
       "\t<tr><td>female</td><td>13.4</td></tr>\n",
       "\t<tr><td>male  </td><td>15.7</td></tr>\n",
       "\t<tr><td>male  </td><td>15.5</td></tr>\n",
       "\t<tr><td>male  </td><td>18.3</td></tr>\n",
       "\t<tr><td>female</td><td>13.5</td></tr>\n",
       "\t<tr><td>female</td><td>11.8</td></tr>\n",
       "</tbody>\n",
       "</table>\n"
      ],
      "text/latex": [
       "A spec\\_tbl\\_df: 17 × 2\n",
       "\\begin{tabular}{ll}\n",
       " sex & weight\\\\\n",
       " <fct> & <dbl>\\\\\n",
       "\\hline\n",
       "\t male   & 17.8\\\\\n",
       "\t female & 13.2\\\\\n",
       "\t female & 15.8\\\\\n",
       "\t male   & 17.3\\\\\n",
       "\t female & 10.2\\\\\n",
       "\t female & 12.1\\\\\n",
       "\t female & 10.8\\\\\n",
       "\t male   & 15.9\\\\\n",
       "\t male   & 15.2\\\\\n",
       "\t male   & 16.4\\\\\n",
       "\t female & 13.1\\\\\n",
       "\t female & 13.4\\\\\n",
       "\t male   & 15.7\\\\\n",
       "\t male   & 15.5\\\\\n",
       "\t male   & 18.3\\\\\n",
       "\t female & 13.5\\\\\n",
       "\t female & 11.8\\\\\n",
       "\\end{tabular}\n"
      ],
      "text/markdown": [
       "\n",
       "A spec_tbl_df: 17 × 2\n",
       "\n",
       "| sex &lt;fct&gt; | weight &lt;dbl&gt; |\n",
       "|---|---|\n",
       "| male   | 17.8 |\n",
       "| female | 13.2 |\n",
       "| female | 15.8 |\n",
       "| male   | 17.3 |\n",
       "| female | 10.2 |\n",
       "| female | 12.1 |\n",
       "| female | 10.8 |\n",
       "| male   | 15.9 |\n",
       "| male   | 15.2 |\n",
       "| male   | 16.4 |\n",
       "| female | 13.1 |\n",
       "| female | 13.4 |\n",
       "| male   | 15.7 |\n",
       "| male   | 15.5 |\n",
       "| male   | 18.3 |\n",
       "| female | 13.5 |\n",
       "| female | 11.8 |\n",
       "\n"
      ],
      "text/plain": [
       "   sex    weight\n",
       "1  male   17.8  \n",
       "2  female 13.2  \n",
       "3  female 15.8  \n",
       "4  male   17.3  \n",
       "5  female 10.2  \n",
       "6  female 12.1  \n",
       "7  female 10.8  \n",
       "8  male   15.9  \n",
       "9  male   15.2  \n",
       "10 male   16.4  \n",
       "11 female 13.1  \n",
       "12 female 13.4  \n",
       "13 male   15.7  \n",
       "14 male   15.5  \n",
       "15 male   18.3  \n",
       "16 female 13.5  \n",
       "17 female 11.8  "
      ]
     },
     "metadata": {},
     "output_type": "display_data"
    }
   ],
   "source": [
    "weights_data = read_tsv(\n",
    "                        \"data/weights.tsv\",\n",
    "                        col_types = cols(\"sex\" = col_factor(),\"weight\" = col_double())\n",
    "                       )\n",
    "\n",
    "\n",
    "weights_data"
   ]
  },
  {
   "cell_type": "code",
   "execution_count": 35,
   "id": "e0b83a81",
   "metadata": {},
   "outputs": [
    {
     "data": {
      "text/plain": [
       "\n",
       "Call:\n",
       "lm(formula = weight ~ sex, data = weights_data)\n",
       "\n",
       "Coefficients:\n",
       "(Intercept)    sexfemale  \n",
       "     16.513       -3.857  \n"
      ]
     },
     "metadata": {},
     "output_type": "display_data"
    }
   ],
   "source": [
    "# this will work even if sex is not a factor\n",
    "# R will coerce it into a factor for the purpose\n",
    "# of this operation\n",
    "lm(weight~sex, weights_data)"
   ]
  },
  {
   "cell_type": "markdown",
   "id": "8f0b72c5",
   "metadata": {},
   "source": [
    "### Interpretation in Simple linear Regression\n",
    "\n",
    "* Recall that in the absence of any othe explanatory variable, the mean is the best predictor \n",
    "\n",
    "* Here, model the weight as a function of the explanatory variable by taking the mean for each category\n",
    "    \n",
    "* we'll follow the long route to gener\n",
    "\n"
   ]
  },
  {
   "cell_type": "code",
   "execution_count": 56,
   "id": "d4d11dc5",
   "metadata": {},
   "outputs": [
    {
     "data": {
      "text/html": [
       "<table class=\"dataframe\">\n",
       "<caption>A tibble: 8 × 2</caption>\n",
       "<thead>\n",
       "\t<tr><th scope=col>sex</th><th scope=col>weight</th></tr>\n",
       "\t<tr><th scope=col>&lt;fct&gt;</th><th scope=col>&lt;dbl&gt;</th></tr>\n",
       "</thead>\n",
       "<tbody>\n",
       "\t<tr><td>male</td><td>17.8</td></tr>\n",
       "\t<tr><td>male</td><td>17.3</td></tr>\n",
       "\t<tr><td>male</td><td>15.9</td></tr>\n",
       "\t<tr><td>male</td><td>15.2</td></tr>\n",
       "\t<tr><td>male</td><td>16.4</td></tr>\n",
       "\t<tr><td>male</td><td>15.7</td></tr>\n",
       "\t<tr><td>male</td><td>15.5</td></tr>\n",
       "\t<tr><td>male</td><td>18.3</td></tr>\n",
       "</tbody>\n",
       "</table>\n"
      ],
      "text/latex": [
       "A tibble: 8 × 2\n",
       "\\begin{tabular}{ll}\n",
       " sex & weight\\\\\n",
       " <fct> & <dbl>\\\\\n",
       "\\hline\n",
       "\t male & 17.8\\\\\n",
       "\t male & 17.3\\\\\n",
       "\t male & 15.9\\\\\n",
       "\t male & 15.2\\\\\n",
       "\t male & 16.4\\\\\n",
       "\t male & 15.7\\\\\n",
       "\t male & 15.5\\\\\n",
       "\t male & 18.3\\\\\n",
       "\\end{tabular}\n"
      ],
      "text/markdown": [
       "\n",
       "A tibble: 8 × 2\n",
       "\n",
       "| sex &lt;fct&gt; | weight &lt;dbl&gt; |\n",
       "|---|---|\n",
       "| male | 17.8 |\n",
       "| male | 17.3 |\n",
       "| male | 15.9 |\n",
       "| male | 15.2 |\n",
       "| male | 16.4 |\n",
       "| male | 15.7 |\n",
       "| male | 15.5 |\n",
       "| male | 18.3 |\n",
       "\n"
      ],
      "text/plain": [
       "  sex  weight\n",
       "1 male 17.8  \n",
       "2 male 17.3  \n",
       "3 male 15.9  \n",
       "4 male 15.2  \n",
       "5 male 16.4  \n",
       "6 male 15.7  \n",
       "7 male 15.5  \n",
       "8 male 18.3  "
      ]
     },
     "metadata": {},
     "output_type": "display_data"
    }
   ],
   "source": [
    "weights_data[weights_data$sex == \"male\", ]"
   ]
  },
  {
   "cell_type": "code",
   "execution_count": 57,
   "id": "732be59b",
   "metadata": {},
   "outputs": [
    {
     "data": {
      "text/html": [
       "<style>\n",
       ".list-inline {list-style: none; margin:0; padding: 0}\n",
       ".list-inline>li {display: inline-block}\n",
       ".list-inline>li:not(:last-child)::after {content: \"\\00b7\"; padding: 0 .5ex}\n",
       "</style>\n",
       "<ol class=list-inline><li>17.8</li><li>17.3</li><li>15.9</li><li>15.2</li><li>16.4</li><li>15.7</li><li>15.5</li><li>18.3</li></ol>\n"
      ],
      "text/latex": [
       "\\begin{enumerate*}\n",
       "\\item 17.8\n",
       "\\item 17.3\n",
       "\\item 15.9\n",
       "\\item 15.2\n",
       "\\item 16.4\n",
       "\\item 15.7\n",
       "\\item 15.5\n",
       "\\item 18.3\n",
       "\\end{enumerate*}\n"
      ],
      "text/markdown": [
       "1. 17.8\n",
       "2. 17.3\n",
       "3. 15.9\n",
       "4. 15.2\n",
       "5. 16.4\n",
       "6. 15.7\n",
       "7. 15.5\n",
       "8. 18.3\n",
       "\n",
       "\n"
      ],
      "text/plain": [
       "[1] 17.8 17.3 15.9 15.2 16.4 15.7 15.5 18.3"
      ]
     },
     "metadata": {},
     "output_type": "display_data"
    }
   ],
   "source": [
    "weights_data[weights_data$sex == \"male\", ]$weight"
   ]
  },
  {
   "cell_type": "code",
   "execution_count": 58,
   "id": "e86bc8a4",
   "metadata": {},
   "outputs": [
    {
     "data": {
      "text/html": [
       "16.5125"
      ],
      "text/latex": [
       "16.5125"
      ],
      "text/markdown": [
       "16.5125"
      ],
      "text/plain": [
       "[1] 16.5125"
      ]
     },
     "metadata": {},
     "output_type": "display_data"
    }
   ],
   "source": [
    "mean(weights_data[weights_data$sex == \"male\", ]$weight)"
   ]
  },
  {
   "cell_type": "code",
   "execution_count": 59,
   "id": "ea494490",
   "metadata": {},
   "outputs": [
    {
     "data": {
      "text/html": [
       "12.6555555555556"
      ],
      "text/latex": [
       "12.6555555555556"
      ],
      "text/markdown": [
       "12.6555555555556"
      ],
      "text/plain": [
       "[1] 12.65556"
      ]
     },
     "metadata": {},
     "output_type": "display_data"
    }
   ],
   "source": [
    "mean(weights_data[weights_data$sex == \"female\", ]$weight)"
   ]
  },
  {
   "cell_type": "code",
   "execution_count": 67,
   "id": "966987dc",
   "metadata": {},
   "outputs": [
    {
     "data": {
      "text/html": [
       "16.5125"
      ],
      "text/latex": [
       "16.5125"
      ],
      "text/markdown": [
       "16.5125"
      ],
      "text/plain": [
       "[1] 16.5125"
      ]
     },
     "metadata": {},
     "output_type": "display_data"
    }
   ],
   "source": [
    "# Another approach using Filter\n",
    "male_data = weights_data %>% filter(sex == \"male\")\n",
    "mean(male_data$weight)"
   ]
  },
  {
   "cell_type": "code",
   "execution_count": 68,
   "id": "bbbe7dd8",
   "metadata": {},
   "outputs": [
    {
     "data": {
      "text/html": [
       "12.6555555555556"
      ],
      "text/latex": [
       "12.6555555555556"
      ],
      "text/markdown": [
       "12.6555555555556"
      ],
      "text/plain": [
       "[1] 12.65556"
      ]
     },
     "metadata": {},
     "output_type": "display_data"
    }
   ],
   "source": [
    "female_data = weights_data %>% filter(sex == \"female\")\n",
    "mean(female_data$weight)"
   ]
  },
  {
   "cell_type": "code",
   "execution_count": 64,
   "id": "aebba0c0",
   "metadata": {},
   "outputs": [
    {
     "data": {
      "text/html": [
       "<table class=\"dataframe\">\n",
       "<caption>A spec_tbl_df: 3 × 2</caption>\n",
       "<thead>\n",
       "\t<tr><th scope=col>sex</th><th scope=col>weight</th></tr>\n",
       "\t<tr><th scope=col>&lt;fct&gt;</th><th scope=col>&lt;dbl&gt;</th></tr>\n",
       "</thead>\n",
       "<tbody>\n",
       "\t<tr><td>male</td><td>17.8</td></tr>\n",
       "\t<tr><td>male</td><td>17.3</td></tr>\n",
       "\t<tr><td>male</td><td>18.3</td></tr>\n",
       "</tbody>\n",
       "</table>\n"
      ],
      "text/latex": [
       "A spec\\_tbl\\_df: 3 × 2\n",
       "\\begin{tabular}{ll}\n",
       " sex & weight\\\\\n",
       " <fct> & <dbl>\\\\\n",
       "\\hline\n",
       "\t male & 17.8\\\\\n",
       "\t male & 17.3\\\\\n",
       "\t male & 18.3\\\\\n",
       "\\end{tabular}\n"
      ],
      "text/markdown": [
       "\n",
       "A spec_tbl_df: 3 × 2\n",
       "\n",
       "| sex &lt;fct&gt; | weight &lt;dbl&gt; |\n",
       "|---|---|\n",
       "| male | 17.8 |\n",
       "| male | 17.3 |\n",
       "| male | 18.3 |\n",
       "\n"
      ],
      "text/plain": [
       "  sex  weight\n",
       "1 male 17.8  \n",
       "2 male 17.3  \n",
       "3 male 18.3  "
      ]
     },
     "metadata": {},
     "output_type": "display_data"
    }
   ],
   "source": [
    "weights_data %>% filter(weight > 17 )"
   ]
  },
  {
   "cell_type": "markdown",
   "id": "1f12d48a",
   "metadata": {},
   "source": [
    "### Usign `dplyr`'s' `group_by `\n",
    "\n",
    "* `group_by` is a useful function to group data based on a factor's levels\n",
    "  * Takes one of more `factor` columns on which to group\n",
    "  * Results in a group_by tibble where operation can be applied to each group\n",
    "  * Note that printing the tibble does not show anything different\n",
    "* For example:\n",
    "\n",
    "```R\n",
    "weights_data %>% group_by(sex)\n",
    "```\n",
    "* Note the `conditional` operator `==`, which tests for equality"
   ]
  },
  {
   "cell_type": "code",
   "execution_count": 71,
   "id": "9fcb9f2f",
   "metadata": {},
   "outputs": [
    {
     "data": {
      "text/html": [
       "<table class=\"dataframe\">\n",
       "<caption>A grouped_df: 17 × 2</caption>\n",
       "<thead>\n",
       "\t<tr><th scope=col>sex</th><th scope=col>weight</th></tr>\n",
       "\t<tr><th scope=col>&lt;fct&gt;</th><th scope=col>&lt;dbl&gt;</th></tr>\n",
       "</thead>\n",
       "<tbody>\n",
       "\t<tr><td>male  </td><td>17.8</td></tr>\n",
       "\t<tr><td>female</td><td>13.2</td></tr>\n",
       "\t<tr><td>female</td><td>15.8</td></tr>\n",
       "\t<tr><td>male  </td><td>17.3</td></tr>\n",
       "\t<tr><td>female</td><td>10.2</td></tr>\n",
       "\t<tr><td>female</td><td>12.1</td></tr>\n",
       "\t<tr><td>female</td><td>10.8</td></tr>\n",
       "\t<tr><td>male  </td><td>15.9</td></tr>\n",
       "\t<tr><td>male  </td><td>15.2</td></tr>\n",
       "\t<tr><td>male  </td><td>16.4</td></tr>\n",
       "\t<tr><td>female</td><td>13.1</td></tr>\n",
       "\t<tr><td>female</td><td>13.4</td></tr>\n",
       "\t<tr><td>male  </td><td>15.7</td></tr>\n",
       "\t<tr><td>male  </td><td>15.5</td></tr>\n",
       "\t<tr><td>male  </td><td>18.3</td></tr>\n",
       "\t<tr><td>female</td><td>13.5</td></tr>\n",
       "\t<tr><td>female</td><td>11.8</td></tr>\n",
       "</tbody>\n",
       "</table>\n"
      ],
      "text/latex": [
       "A grouped\\_df: 17 × 2\n",
       "\\begin{tabular}{ll}\n",
       " sex & weight\\\\\n",
       " <fct> & <dbl>\\\\\n",
       "\\hline\n",
       "\t male   & 17.8\\\\\n",
       "\t female & 13.2\\\\\n",
       "\t female & 15.8\\\\\n",
       "\t male   & 17.3\\\\\n",
       "\t female & 10.2\\\\\n",
       "\t female & 12.1\\\\\n",
       "\t female & 10.8\\\\\n",
       "\t male   & 15.9\\\\\n",
       "\t male   & 15.2\\\\\n",
       "\t male   & 16.4\\\\\n",
       "\t female & 13.1\\\\\n",
       "\t female & 13.4\\\\\n",
       "\t male   & 15.7\\\\\n",
       "\t male   & 15.5\\\\\n",
       "\t male   & 18.3\\\\\n",
       "\t female & 13.5\\\\\n",
       "\t female & 11.8\\\\\n",
       "\\end{tabular}\n"
      ],
      "text/markdown": [
       "\n",
       "A grouped_df: 17 × 2\n",
       "\n",
       "| sex &lt;fct&gt; | weight &lt;dbl&gt; |\n",
       "|---|---|\n",
       "| male   | 17.8 |\n",
       "| female | 13.2 |\n",
       "| female | 15.8 |\n",
       "| male   | 17.3 |\n",
       "| female | 10.2 |\n",
       "| female | 12.1 |\n",
       "| female | 10.8 |\n",
       "| male   | 15.9 |\n",
       "| male   | 15.2 |\n",
       "| male   | 16.4 |\n",
       "| female | 13.1 |\n",
       "| female | 13.4 |\n",
       "| male   | 15.7 |\n",
       "| male   | 15.5 |\n",
       "| male   | 18.3 |\n",
       "| female | 13.5 |\n",
       "| female | 11.8 |\n",
       "\n"
      ],
      "text/plain": [
       "   sex    weight\n",
       "1  male   17.8  \n",
       "2  female 13.2  \n",
       "3  female 15.8  \n",
       "4  male   17.3  \n",
       "5  female 10.2  \n",
       "6  female 12.1  \n",
       "7  female 10.8  \n",
       "8  male   15.9  \n",
       "9  male   15.2  \n",
       "10 male   16.4  \n",
       "11 female 13.1  \n",
       "12 female 13.4  \n",
       "13 male   15.7  \n",
       "14 male   15.5  \n",
       "15 male   18.3  \n",
       "16 female 13.5  \n",
       "17 female 11.8  "
      ]
     },
     "metadata": {},
     "output_type": "display_data"
    }
   ],
   "source": [
    "weights_data %>% group_by(sex)"
   ]
  },
  {
   "cell_type": "code",
   "execution_count": 74,
   "id": "752f09ee",
   "metadata": {},
   "outputs": [
    {
     "name": "stdout",
     "output_type": "stream",
     "text": [
      "<list_of<integer>[2]>\n",
      "[[1]]\n",
      "[1]  1  4  8  9 10 13 14 15\n",
      "\n",
      "[[2]]\n",
      "[1]  2  3  5  6  7 11 12 16 17\n",
      "\n"
     ]
    }
   ],
   "source": [
    "group_rows = weights_data %>% group_by(sex) %>% group_rows\n",
    "print(group_rows)"
   ]
  },
  {
   "cell_type": "markdown",
   "id": "bcd35155",
   "metadata": {},
   "source": [
    "### Usign `dplyr`'s' `summarize` \n",
    "\n",
    "* `summarize` is a useful function that can take a function as input and use it to summarize a group of group_by tibble\n",
    "    \n",
    "* For example:\n",
    "\n",
    "```R\n",
    "weights_data %>% group_by(sex) %>% summarize(head(weight, 2), .groups='keep')\n",
    "```\n",
    "\n",
    "* the `.groups = 'keep'` is not required. It's used to avoid an annoying warning that informs the users that the groups were dropped."
   ]
  },
  {
   "cell_type": "code",
   "execution_count": 79,
   "id": "affc8da2",
   "metadata": {},
   "outputs": [
    {
     "data": {
      "text/html": [
       "<table class=\"dataframe\">\n",
       "<caption>A grouped_df: 4 × 2</caption>\n",
       "<thead>\n",
       "\t<tr><th scope=col>sex</th><th scope=col>head(weight, 2)</th></tr>\n",
       "\t<tr><th scope=col>&lt;fct&gt;</th><th scope=col>&lt;dbl&gt;</th></tr>\n",
       "</thead>\n",
       "<tbody>\n",
       "\t<tr><td>male  </td><td>17.8</td></tr>\n",
       "\t<tr><td>male  </td><td>17.3</td></tr>\n",
       "\t<tr><td>female</td><td>13.2</td></tr>\n",
       "\t<tr><td>female</td><td>15.8</td></tr>\n",
       "</tbody>\n",
       "</table>\n"
      ],
      "text/latex": [
       "A grouped\\_df: 4 × 2\n",
       "\\begin{tabular}{ll}\n",
       " sex & head(weight, 2)\\\\\n",
       " <fct> & <dbl>\\\\\n",
       "\\hline\n",
       "\t male   & 17.8\\\\\n",
       "\t male   & 17.3\\\\\n",
       "\t female & 13.2\\\\\n",
       "\t female & 15.8\\\\\n",
       "\\end{tabular}\n"
      ],
      "text/markdown": [
       "\n",
       "A grouped_df: 4 × 2\n",
       "\n",
       "| sex &lt;fct&gt; | head(weight, 2) &lt;dbl&gt; |\n",
       "|---|---|\n",
       "| male   | 17.8 |\n",
       "| male   | 17.3 |\n",
       "| female | 13.2 |\n",
       "| female | 15.8 |\n",
       "\n"
      ],
      "text/plain": [
       "  sex    head(weight, 2)\n",
       "1 male   17.8           \n",
       "2 male   17.3           \n",
       "3 female 13.2           \n",
       "4 female 15.8           "
      ]
     },
     "metadata": {},
     "output_type": "display_data"
    }
   ],
   "source": [
    "weights_data %>% group_by(sex) %>% summarize(head(weight, 2), .groups='keep')"
   ]
  },
  {
   "cell_type": "code",
   "execution_count": 80,
   "id": "fcb4ab34",
   "metadata": {},
   "outputs": [
    {
     "data": {
      "text/html": [
       "<table class=\"dataframe\">\n",
       "<caption>A grouped_df: 4 × 2</caption>\n",
       "<thead>\n",
       "\t<tr><th scope=col>sex</th><th scope=col>head(mean, 2)</th></tr>\n",
       "\t<tr><th scope=col>&lt;fct&gt;</th><th scope=col>&lt;noquote&gt;</th></tr>\n",
       "</thead>\n",
       "<tbody>\n",
       "\t<tr><td>male  </td><td>function (x, ...) </td></tr>\n",
       "\t<tr><td>male  </td><td>UseMethod(\"mean\") </td></tr>\n",
       "\t<tr><td>female</td><td>function (x, ...) </td></tr>\n",
       "\t<tr><td>female</td><td>UseMethod(\"mean\") </td></tr>\n",
       "</tbody>\n",
       "</table>\n"
      ],
      "text/latex": [
       "A grouped\\_df: 4 × 2\n",
       "\\begin{tabular}{ll}\n",
       " sex & head(mean, 2)\\\\\n",
       " <fct> & <noquote>\\\\\n",
       "\\hline\n",
       "\t male   & function (x, ...) \\\\\n",
       "\t male   & UseMethod(\"mean\") \\\\\n",
       "\t female & function (x, ...) \\\\\n",
       "\t female & UseMethod(\"mean\") \\\\\n",
       "\\end{tabular}\n"
      ],
      "text/markdown": [
       "\n",
       "A grouped_df: 4 × 2\n",
       "\n",
       "| sex &lt;fct&gt; | head(mean, 2) &lt;noquote&gt; |\n",
       "|---|---|\n",
       "| male   | function (x, ...)  |\n",
       "| male   | UseMethod(\"mean\")  |\n",
       "| female | function (x, ...)  |\n",
       "| female | UseMethod(\"mean\")  |\n",
       "\n"
      ],
      "text/plain": [
       "  sex    head(mean, 2)     \n",
       "1 male   function (x, ...) \n",
       "2 male   UseMethod(\"mean\") \n",
       "3 female function (x, ...) \n",
       "4 female UseMethod(\"mean\") "
      ]
     },
     "metadata": {},
     "output_type": "display_data"
    }
   ],
   "source": [
    "weights_data %>% group_by(sex) %>% summarize(head(mean, 2), .groups='keep')"
   ]
  },
  {
   "cell_type": "code",
   "execution_count": 53,
   "id": "efa05d07",
   "metadata": {},
   "outputs": [
    {
     "data": {
      "text/html": [
       "<table class=\"dataframe\">\n",
       "<caption>A grouped_df: 2 × 2</caption>\n",
       "<thead>\n",
       "\t<tr><th scope=col>sex</th><th scope=col>mean_weight</th></tr>\n",
       "\t<tr><th scope=col>&lt;fct&gt;</th><th scope=col>&lt;dbl&gt;</th></tr>\n",
       "</thead>\n",
       "<tbody>\n",
       "\t<tr><td>male  </td><td>16.51250</td></tr>\n",
       "\t<tr><td>female</td><td>12.65556</td></tr>\n",
       "</tbody>\n",
       "</table>\n"
      ],
      "text/latex": [
       "A grouped\\_df: 2 × 2\n",
       "\\begin{tabular}{ll}\n",
       " sex & mean\\_weight\\\\\n",
       " <fct> & <dbl>\\\\\n",
       "\\hline\n",
       "\t male   & 16.51250\\\\\n",
       "\t female & 12.65556\\\\\n",
       "\\end{tabular}\n"
      ],
      "text/markdown": [
       "\n",
       "A grouped_df: 2 × 2\n",
       "\n",
       "| sex &lt;fct&gt; | mean_weight &lt;dbl&gt; |\n",
       "|---|---|\n",
       "| male   | 16.51250 |\n",
       "| female | 12.65556 |\n",
       "\n"
      ],
      "text/plain": [
       "  sex    mean_weight\n",
       "1 male   16.51250   \n",
       "2 female 12.65556   "
      ]
     },
     "metadata": {},
     "output_type": "display_data"
    }
   ],
   "source": [
    "weights_data %>% group_by(sex) %>% summarize(mean_weight = mean(weight),  .groups=\"keep\")"
   ]
  },
  {
   "cell_type": "markdown",
   "id": "849b6afe",
   "metadata": {},
   "source": [
    "### Rewriting the Equation without the Intercept\n",
    "\n",
    "* Avoid negative values using the following notation\n",
    "\n",
    "```R\n",
    "lm(weight ~ sex + 0 , weights_data)\n",
    "```"
   ]
  },
  {
   "cell_type": "code",
   "execution_count": 36,
   "id": "89ff8b2d",
   "metadata": {},
   "outputs": [
    {
     "data": {
      "text/plain": [
       "\n",
       "Call:\n",
       "lm(formula = weight ~ sex + 0, data = weights_data)\n",
       "\n",
       "Coefficients:\n",
       "  sexmale  sexfemale  \n",
       "    16.51      12.66  \n"
      ]
     },
     "metadata": {},
     "output_type": "display_data"
    }
   ],
   "source": [
    "lm(weight ~ sex + 0 , weights_data)"
   ]
  },
  {
   "cell_type": "markdown",
   "id": "9886c199",
   "metadata": {},
   "source": [
    "### Using Categorical variables in Regression\n",
    "\n",
    "* what does it mean to use a categorical variable in a regression\n",
    "\n",
    "* The following explanation not longer appplication\n",
    "\n",
    "$$\n",
    "weight = intercept + slope * sex\n",
    "$$\n",
    "\n",
    "* Instead the following interpretation is used\n",
    "\n",
    "$$\n",
    "weight = lvl\\_1\\_status * \\mu_{lvl\\_1} + lvl\\_2\\_status * \\mu_{lvl\\_2} + \\ldots\n",
    "$$\n",
    "\n",
    "Where $lvl\\_i\\_status$ is either 0 or 1.\n",
    "\n",
    "\n",
    "\n",
    "\n",
    "\n"
   ]
  },
  {
   "cell_type": "code",
   "execution_count": null,
   "id": "9504a720",
   "metadata": {},
   "outputs": [],
   "source": []
  }
 ],
 "metadata": {
  "kernelspec": {
   "display_name": "R",
   "language": "R",
   "name": "ir"
  },
  "language_info": {
   "codemirror_mode": "r",
   "file_extension": ".r",
   "mimetype": "text/x-r-source",
   "name": "R",
   "pygments_lexer": "r",
   "version": "4.0.2"
  }
 },
 "nbformat": 4,
 "nbformat_minor": 5
}
