{
 "cells": [
  {
   "cell_type": "markdown",
   "id": "a8b2b601",
   "metadata": {},
   "source": [
    "The data in the file `RIKZ.txt` available in the `data` folder was collected to study the relationship between some abiotic aspects (e.g., sediment composition, slope of the beach) as these might affect benthic fauna. Mulder (2000) described the results of a pilot study that looked at the effects of differences in slope and grain size on fauna in the coastal zone. \n",
    "\n",
    "\n",
    "Janssen, G.M., Mulder, S., Zuur, A.F., Ieno, E.N. and Smith, G.M."
   ]
  },
  {
   "cell_type": "markdown",
   "id": "28f2e03c",
   "metadata": {},
   "source": [
    "Q1. Load the data into a variable called `survey_data`\n",
    "  * The `survey_data` should be a `tibble`\n",
    "  * The fileds in the file are delimited. You can change read_csv's behavior to split on tabs, rather that on comma (\",\"), which is the default behavior"
   ]
  },
  {
   "cell_type": "code",
   "execution_count": 2,
   "id": "88e6f261",
   "metadata": {},
   "outputs": [],
   "source": [
    "# write your code here"
   ]
  },
  {
   "cell_type": "markdown",
   "id": "b38ffe9f",
   "metadata": {},
   "source": [
    "Q2. display the first 6 lines of the tables"
   ]
  },
  {
   "cell_type": "code",
   "execution_count": 3,
   "id": "3bfcc569",
   "metadata": {},
   "outputs": [],
   "source": [
    "# write your code here"
   ]
  },
  {
   "cell_type": "markdown",
   "id": "7504d7cb",
   "metadata": {},
   "source": [
    "Q3 The columns C1 P1-P25, N1, CR1-28, M1-17 and I1-5 of the table represent the counts for 75 species grouped within five taxa: Chaetognatha (C), Polychaeta (P), Crustacea (CR), Mollusca (M), and Insecta (I). We're only interested in the richness, and we need to compute it as:\n",
    "* `1` if the group has a value `> 0`\n",
    "* `0` otherwise.\n",
    "\n",
    "* Create a new column, call it `richness`, which represents the richness in each sample. The richness of `sample 1` should be `11`, since sample has non-null values only for the following groups: \n",
    "```\n",
    "'C1''P6''P15''P16''P25''CR1''CR14''CR15''CR19''CR26''I3'\n",
    "```\n",
    "\n"
   ]
  },
  {
   "cell_type": "code",
   "execution_count": 4,
   "id": "cf24a458",
   "metadata": {},
   "outputs": [],
   "source": [
    "# write your code here"
   ]
  },
  {
   "cell_type": "markdown",
   "id": "1f51b37a",
   "metadata": {},
   "source": [
    "Q4 Create a copy of the variable `survey_data` that does not have columns C1 P1-P25, N1, CR1-28, M1-17 and I1-5. Call this variable `survey_data_richness`\n"
   ]
  },
  {
   "cell_type": "code",
   "execution_count": 5,
   "id": "ecb3b089",
   "metadata": {},
   "outputs": [],
   "source": [
    "# Write your code here"
   ]
  },
  {
   "cell_type": "markdown",
   "id": "1560369e",
   "metadata": {},
   "source": [
    "Q6. Use the `lm` function to model the richness as a function of the remaining variables but not including the variable `week`, which needs a special treatment we haven't covered yet!     \n"
   ]
  },
  {
   "cell_type": "code",
   "execution_count": null,
   "id": "6d598229",
   "metadata": {},
   "outputs": [],
   "source": [
    "# Write your code here"
   ]
  },
  {
   "cell_type": "markdown",
   "id": "9f0f0228",
   "metadata": {},
   "source": [
    "Q7. What do the various output of the `lm` mean? Interpret the results of your model. "
   ]
  },
  {
   "cell_type": "code",
   "execution_count": null,
   "id": "d747ba66",
   "metadata": {},
   "outputs": [],
   "source": [
    "# Write your Interpretation here"
   ]
  },
  {
   "cell_type": "code",
   "execution_count": null,
   "id": "0e94fbf2",
   "metadata": {},
   "outputs": [],
   "source": [
    "Q8. Build a model that includes all the parameters and assess the fit of the data"
   ]
  },
  {
   "cell_type": "code",
   "execution_count": null,
   "id": "7db50ed7",
   "metadata": {},
   "outputs": [],
   "source": [
    "# Write your code here"
   ]
  },
  {
   "cell_type": "code",
   "execution_count": null,
   "id": "16428cb3",
   "metadata": {},
   "outputs": [],
   "source": [
    "# Write your Interpretation here"
   ]
  },
  {
   "cell_type": "markdown",
   "id": "158ef918",
   "metadata": {},
   "source": [
    "Q9. Use an appropriate method that only selects a subset of the data. Compare the AIC with the previous method. What do you conclude? Justify your answer."
   ]
  },
  {
   "cell_type": "code",
   "execution_count": null,
   "id": "0d8ffa31",
   "metadata": {},
   "outputs": [],
   "source": [
    "# Write your code here"
   ]
  },
  {
   "cell_type": "code",
   "execution_count": null,
   "id": "f2ba66a1",
   "metadata": {},
   "outputs": [],
   "source": [
    "# Write your Interpretation here"
   ]
  },
  {
   "cell_type": "markdown",
   "id": "211dc3a7",
   "metadata": {},
   "source": [
    "Q10. Can you find the model that provide the best fit. You can use term interaction in the model. Justify why this model is the `best`.\n",
    "\n",
    "\n"
   ]
  },
  {
   "cell_type": "code",
   "execution_count": null,
   "id": "5e10b743",
   "metadata": {},
   "outputs": [],
   "source": [
    "# Write your code here"
   ]
  },
  {
   "cell_type": "code",
   "execution_count": null,
   "id": "1cefda50",
   "metadata": {},
   "outputs": [],
   "source": []
  }
 ],
 "metadata": {
  "kernelspec": {
   "display_name": "R",
   "language": "R",
   "name": "ir"
  },
  "language_info": {
   "codemirror_mode": "r",
   "file_extension": ".r",
   "mimetype": "text/x-r-source",
   "name": "R",
   "pygments_lexer": "r",
   "version": "4.0.2"
  }
 },
 "nbformat": 4,
 "nbformat_minor": 5
}
