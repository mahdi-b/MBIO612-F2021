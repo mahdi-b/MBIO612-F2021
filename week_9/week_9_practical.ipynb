{
 "cells": [
  {
   "cell_type": "markdown",
   "id": "a8b2b601",
   "metadata": {},
   "source": [
    "The data in the file `RIKZ.txt` available in the `data` folder was collected to study the relationship between some abiotic aspects (e.g., sediment composition, slope of the beach) as these might affect benthic fauna. Mulder (2000) described the results of a pilot study that looked at the effects of differences in slope and grain size on fauna in the coastal zone. \n",
    "\n",
    "\n",
    "Janssen, G.M., Mulder, S., Zuur, A.F., Ieno, E.N. and Smith, G.M."
   ]
  },
  {
   "cell_type": "markdown",
   "id": "28f2e03c",
   "metadata": {},
   "source": [
    "Q1. Load the data into a variable called `survey_data`\n",
    "  * The `survey_data` should be a `tibble`\n",
    "  * The fileds in the file are delimited. You can change read_csv's behavior to split on tabs, rather that on comma (\",\"), which is the default behavior"
   ]
  },
  {
   "cell_type": "code",
   "execution_count": 8,
   "id": "88e6f261",
   "metadata": {},
   "outputs": [
    {
     "name": "stderr",
     "output_type": "stream",
     "text": [
      "\u001b[1m\u001b[1mRows: \u001b[1m\u001b[22m\u001b[34m\u001b[34m45\u001b[34m\u001b[39m \u001b[1m\u001b[1mColumns: \u001b[1m\u001b[22m\u001b[34m\u001b[34m89\u001b[34m\u001b[39m\n",
      "\n",
      "\u001b[36m──\u001b[39m \u001b[1m\u001b[1mColumn specification\u001b[1m\u001b[22m \u001b[36m────────────────────────────────────────────────────────\u001b[39m\n",
      "\u001b[1mDelimiter:\u001b[22m \"\\t\"\n",
      "\u001b[32mdbl\u001b[39m (89): Sample, C1, P1, P2, P3, P4, P5, P6, P7, P8, P9, P10, P11, P12, P13...\n",
      "\n",
      "\n",
      "\n",
      "\u001b[36mℹ\u001b[39m Use \u001b[38;5;235m\u001b[48;5;253m\u001b[38;5;235m\u001b[48;5;253m`spec()`\u001b[48;5;253m\u001b[38;5;235m\u001b[49m\u001b[39m to retrieve the full column specification for this data.\n",
      "\u001b[36mℹ\u001b[39m Specify the column types or set \u001b[38;5;235m\u001b[48;5;253m\u001b[38;5;235m\u001b[48;5;253m`show_col_types = FALSE`\u001b[48;5;253m\u001b[38;5;235m\u001b[49m\u001b[39m to quiet this message.\n",
      "\n"
     ]
    },
    {
     "data": {
      "text/html": [
       "TRUE"
      ],
      "text/latex": [
       "TRUE"
      ],
      "text/markdown": [
       "TRUE"
      ],
      "text/plain": [
       "[1] TRUE"
      ]
     },
     "metadata": {},
     "output_type": "display_data"
    }
   ],
   "source": [
    "library(tidyverse)\n",
    "survey_data<- read_delim(\"data/RIKZ.txt\", delim = \"\\t\", \n",
    "                          escape_double = FALSE, trim_ws = TRUE)\n",
    "is_tibble(survey_data)\n"
   ]
  },
  {
   "cell_type": "markdown",
   "id": "b38ffe9f",
   "metadata": {},
   "source": [
    "Q2. display the first 6 lines of the tables"
   ]
  },
  {
   "cell_type": "code",
   "execution_count": 9,
   "id": "3bfcc569",
   "metadata": {},
   "outputs": [
    {
     "data": {
      "text/html": [
       "<table class=\"dataframe\">\n",
       "<caption>A tibble: 6 × 89</caption>\n",
       "<thead>\n",
       "\t<tr><th scope=col>Sample</th><th scope=col>C1</th><th scope=col>P1</th><th scope=col>P2</th><th scope=col>P3</th><th scope=col>P4</th><th scope=col>P5</th><th scope=col>P6</th><th scope=col>P7</th><th scope=col>P8</th><th scope=col>⋯</th><th scope=col>exposure</th><th scope=col>salinity</th><th scope=col>temperature</th><th scope=col>NAP</th><th scope=col>penetrability</th><th scope=col>grainsize</th><th scope=col>humus</th><th scope=col>chalk</th><th scope=col>sorting1</th><th scope=col>Beach</th></tr>\n",
       "\t<tr><th scope=col>&lt;dbl&gt;</th><th scope=col>&lt;dbl&gt;</th><th scope=col>&lt;dbl&gt;</th><th scope=col>&lt;dbl&gt;</th><th scope=col>&lt;dbl&gt;</th><th scope=col>&lt;dbl&gt;</th><th scope=col>&lt;dbl&gt;</th><th scope=col>&lt;dbl&gt;</th><th scope=col>&lt;dbl&gt;</th><th scope=col>&lt;dbl&gt;</th><th scope=col>⋯</th><th scope=col>&lt;dbl&gt;</th><th scope=col>&lt;dbl&gt;</th><th scope=col>&lt;dbl&gt;</th><th scope=col>&lt;dbl&gt;</th><th scope=col>&lt;dbl&gt;</th><th scope=col>&lt;dbl&gt;</th><th scope=col>&lt;dbl&gt;</th><th scope=col>&lt;dbl&gt;</th><th scope=col>&lt;dbl&gt;</th><th scope=col>&lt;dbl&gt;</th></tr>\n",
       "</thead>\n",
       "<tbody>\n",
       "\t<tr><td>1</td><td>4</td><td>0</td><td>0</td><td>0</td><td>0</td><td>0</td><td>1</td><td>0</td><td>0</td><td>⋯</td><td>10</td><td>29.4</td><td>17.5</td><td> 0.045</td><td>253.9</td><td>222.5</td><td>0.05</td><td>2.05</td><td>69.830</td><td>1</td></tr>\n",
       "\t<tr><td>2</td><td>0</td><td>0</td><td>1</td><td>0</td><td>0</td><td>0</td><td>0</td><td>0</td><td>0</td><td>⋯</td><td>10</td><td>29.4</td><td>17.5</td><td>-1.036</td><td>226.9</td><td>200.0</td><td>0.30</td><td>2.50</td><td>59.000</td><td>1</td></tr>\n",
       "\t<tr><td>3</td><td>0</td><td>0</td><td>3</td><td>0</td><td>0</td><td>0</td><td>0</td><td>0</td><td>0</td><td>⋯</td><td>10</td><td>29.4</td><td>17.5</td><td>-1.336</td><td>237.1</td><td>194.5</td><td>0.10</td><td>3.45</td><td>59.220</td><td>1</td></tr>\n",
       "\t<tr><td>4</td><td>0</td><td>0</td><td>0</td><td>0</td><td>0</td><td>0</td><td>0</td><td>0</td><td>0</td><td>⋯</td><td>10</td><td>29.4</td><td>17.5</td><td> 0.616</td><td>248.6</td><td>221.0</td><td>0.15</td><td>1.60</td><td>67.750</td><td>1</td></tr>\n",
       "\t<tr><td>5</td><td>1</td><td>0</td><td>0</td><td>0</td><td>0</td><td>0</td><td>0</td><td>0</td><td>0</td><td>⋯</td><td>10</td><td>29.4</td><td>17.5</td><td>-0.684</td><td>251.9</td><td>202.0</td><td>0.05</td><td>2.45</td><td>57.760</td><td>1</td></tr>\n",
       "\t<tr><td>6</td><td>0</td><td>0</td><td>0</td><td>0</td><td>0</td><td>1</td><td>0</td><td>0</td><td>0</td><td>⋯</td><td> 8</td><td>29.6</td><td>20.8</td><td> 1.190</td><td>250.1</td><td>192.5</td><td>0.10</td><td>2.50</td><td>53.075</td><td>2</td></tr>\n",
       "</tbody>\n",
       "</table>\n"
      ],
      "text/latex": [
       "A tibble: 6 × 89\n",
       "\\begin{tabular}{lllllllllllllllllllll}\n",
       " Sample & C1 & P1 & P2 & P3 & P4 & P5 & P6 & P7 & P8 & ⋯ & exposure & salinity & temperature & NAP & penetrability & grainsize & humus & chalk & sorting1 & Beach\\\\\n",
       " <dbl> & <dbl> & <dbl> & <dbl> & <dbl> & <dbl> & <dbl> & <dbl> & <dbl> & <dbl> & ⋯ & <dbl> & <dbl> & <dbl> & <dbl> & <dbl> & <dbl> & <dbl> & <dbl> & <dbl> & <dbl>\\\\\n",
       "\\hline\n",
       "\t 1 & 4 & 0 & 0 & 0 & 0 & 0 & 1 & 0 & 0 & ⋯ & 10 & 29.4 & 17.5 &  0.045 & 253.9 & 222.5 & 0.05 & 2.05 & 69.830 & 1\\\\\n",
       "\t 2 & 0 & 0 & 1 & 0 & 0 & 0 & 0 & 0 & 0 & ⋯ & 10 & 29.4 & 17.5 & -1.036 & 226.9 & 200.0 & 0.30 & 2.50 & 59.000 & 1\\\\\n",
       "\t 3 & 0 & 0 & 3 & 0 & 0 & 0 & 0 & 0 & 0 & ⋯ & 10 & 29.4 & 17.5 & -1.336 & 237.1 & 194.5 & 0.10 & 3.45 & 59.220 & 1\\\\\n",
       "\t 4 & 0 & 0 & 0 & 0 & 0 & 0 & 0 & 0 & 0 & ⋯ & 10 & 29.4 & 17.5 &  0.616 & 248.6 & 221.0 & 0.15 & 1.60 & 67.750 & 1\\\\\n",
       "\t 5 & 1 & 0 & 0 & 0 & 0 & 0 & 0 & 0 & 0 & ⋯ & 10 & 29.4 & 17.5 & -0.684 & 251.9 & 202.0 & 0.05 & 2.45 & 57.760 & 1\\\\\n",
       "\t 6 & 0 & 0 & 0 & 0 & 0 & 1 & 0 & 0 & 0 & ⋯ &  8 & 29.6 & 20.8 &  1.190 & 250.1 & 192.5 & 0.10 & 2.50 & 53.075 & 2\\\\\n",
       "\\end{tabular}\n"
      ],
      "text/markdown": [
       "\n",
       "A tibble: 6 × 89\n",
       "\n",
       "| Sample &lt;dbl&gt; | C1 &lt;dbl&gt; | P1 &lt;dbl&gt; | P2 &lt;dbl&gt; | P3 &lt;dbl&gt; | P4 &lt;dbl&gt; | P5 &lt;dbl&gt; | P6 &lt;dbl&gt; | P7 &lt;dbl&gt; | P8 &lt;dbl&gt; | ⋯ ⋯ | exposure &lt;dbl&gt; | salinity &lt;dbl&gt; | temperature &lt;dbl&gt; | NAP &lt;dbl&gt; | penetrability &lt;dbl&gt; | grainsize &lt;dbl&gt; | humus &lt;dbl&gt; | chalk &lt;dbl&gt; | sorting1 &lt;dbl&gt; | Beach &lt;dbl&gt; |\n",
       "|---|---|---|---|---|---|---|---|---|---|---|---|---|---|---|---|---|---|---|---|---|\n",
       "| 1 | 4 | 0 | 0 | 0 | 0 | 0 | 1 | 0 | 0 | ⋯ | 10 | 29.4 | 17.5 |  0.045 | 253.9 | 222.5 | 0.05 | 2.05 | 69.830 | 1 |\n",
       "| 2 | 0 | 0 | 1 | 0 | 0 | 0 | 0 | 0 | 0 | ⋯ | 10 | 29.4 | 17.5 | -1.036 | 226.9 | 200.0 | 0.30 | 2.50 | 59.000 | 1 |\n",
       "| 3 | 0 | 0 | 3 | 0 | 0 | 0 | 0 | 0 | 0 | ⋯ | 10 | 29.4 | 17.5 | -1.336 | 237.1 | 194.5 | 0.10 | 3.45 | 59.220 | 1 |\n",
       "| 4 | 0 | 0 | 0 | 0 | 0 | 0 | 0 | 0 | 0 | ⋯ | 10 | 29.4 | 17.5 |  0.616 | 248.6 | 221.0 | 0.15 | 1.60 | 67.750 | 1 |\n",
       "| 5 | 1 | 0 | 0 | 0 | 0 | 0 | 0 | 0 | 0 | ⋯ | 10 | 29.4 | 17.5 | -0.684 | 251.9 | 202.0 | 0.05 | 2.45 | 57.760 | 1 |\n",
       "| 6 | 0 | 0 | 0 | 0 | 0 | 1 | 0 | 0 | 0 | ⋯ |  8 | 29.6 | 20.8 |  1.190 | 250.1 | 192.5 | 0.10 | 2.50 | 53.075 | 2 |\n",
       "\n"
      ],
      "text/plain": [
       "  Sample C1 P1 P2 P3 P4 P5 P6 P7 P8 ⋯ exposure salinity temperature NAP   \n",
       "1 1      4  0  0  0  0  0  1  0  0  ⋯ 10       29.4     17.5         0.045\n",
       "2 2      0  0  1  0  0  0  0  0  0  ⋯ 10       29.4     17.5        -1.036\n",
       "3 3      0  0  3  0  0  0  0  0  0  ⋯ 10       29.4     17.5        -1.336\n",
       "4 4      0  0  0  0  0  0  0  0  0  ⋯ 10       29.4     17.5         0.616\n",
       "5 5      1  0  0  0  0  0  0  0  0  ⋯ 10       29.4     17.5        -0.684\n",
       "6 6      0  0  0  0  0  1  0  0  0  ⋯  8       29.6     20.8         1.190\n",
       "  penetrability grainsize humus chalk sorting1 Beach\n",
       "1 253.9         222.5     0.05  2.05  69.830   1    \n",
       "2 226.9         200.0     0.30  2.50  59.000   1    \n",
       "3 237.1         194.5     0.10  3.45  59.220   1    \n",
       "4 248.6         221.0     0.15  1.60  67.750   1    \n",
       "5 251.9         202.0     0.05  2.45  57.760   1    \n",
       "6 250.1         192.5     0.10  2.50  53.075   2    "
      ]
     },
     "metadata": {},
     "output_type": "display_data"
    }
   ],
   "source": [
    "# write your code here\n",
    "head(survey_data)"
   ]
  },
  {
   "cell_type": "markdown",
   "id": "7504d7cb",
   "metadata": {},
   "source": [
    "Q3 The columns C1 P1-P25, N1, CR1-28, M1-17 and I1-5 of the table represent the counts for 75 species grouped within five taxa: Chaetognatha (C), Polychaeta (P), Crustacea (CR), Mollusca (M), and Insecta (I). We're only interested in the richness, and we need to compute it as:\n",
    "* `1` if the group has a value `> 0`\n",
    "* `0` otherwise.\n",
    "\n",
    "* Create a new column, call it `richness`, which represents the richness in each sample. The richness of `sample 1` should be `11`, since sample has non-null values only for the following groups: \n",
    "```\n",
    "'C1''P6''P15''P16''P25''CR1''CR14''CR15''CR19''CR26''I3'\n",
    "```\n",
    "\n"
   ]
  },
  {
   "cell_type": "code",
   "execution_count": 10,
   "id": "cf24a458",
   "metadata": {},
   "outputs": [],
   "source": [
    "species_cols = 2:76\n",
    "counts = apply(survey_data[, species_cols] > 0, 1, sum)\n",
    "survey_data[\"richness\"] = counts"
   ]
  },
  {
   "cell_type": "markdown",
   "id": "1f51b37a",
   "metadata": {},
   "source": [
    "Q4 Create a copy of the variable `survey_data` that does not have columns C1 P1-P25, N1, CR1-28, M1-17 and I1-5. Call this variable `survey_data_richness`\n"
   ]
  },
  {
   "cell_type": "code",
   "execution_count": 11,
   "id": "ecb3b089",
   "metadata": {},
   "outputs": [
    {
     "data": {
      "text/html": [
       "<table class=\"dataframe\">\n",
       "<caption>A tibble: 2 × 15</caption>\n",
       "<thead>\n",
       "\t<tr><th scope=col>Sample</th><th scope=col>week</th><th scope=col>angle1</th><th scope=col>angle2</th><th scope=col>exposure</th><th scope=col>salinity</th><th scope=col>temperature</th><th scope=col>NAP</th><th scope=col>penetrability</th><th scope=col>grainsize</th><th scope=col>humus</th><th scope=col>chalk</th><th scope=col>sorting1</th><th scope=col>Beach</th><th scope=col>richness</th></tr>\n",
       "\t<tr><th scope=col>&lt;dbl&gt;</th><th scope=col>&lt;dbl&gt;</th><th scope=col>&lt;dbl&gt;</th><th scope=col>&lt;dbl&gt;</th><th scope=col>&lt;dbl&gt;</th><th scope=col>&lt;dbl&gt;</th><th scope=col>&lt;dbl&gt;</th><th scope=col>&lt;dbl&gt;</th><th scope=col>&lt;dbl&gt;</th><th scope=col>&lt;dbl&gt;</th><th scope=col>&lt;dbl&gt;</th><th scope=col>&lt;dbl&gt;</th><th scope=col>&lt;dbl&gt;</th><th scope=col>&lt;dbl&gt;</th><th scope=col>&lt;int&gt;</th></tr>\n",
       "</thead>\n",
       "<tbody>\n",
       "\t<tr><td>1</td><td>1</td><td>32</td><td>96</td><td>10</td><td>29.4</td><td>17.5</td><td> 0.045</td><td>253.9</td><td>222.5</td><td>0.05</td><td>2.05</td><td>69.83</td><td>1</td><td>11</td></tr>\n",
       "\t<tr><td>2</td><td>1</td><td>62</td><td>96</td><td>10</td><td>29.4</td><td>17.5</td><td>-1.036</td><td>226.9</td><td>200.0</td><td>0.30</td><td>2.50</td><td>59.00</td><td>1</td><td>10</td></tr>\n",
       "</tbody>\n",
       "</table>\n"
      ],
      "text/latex": [
       "A tibble: 2 × 15\n",
       "\\begin{tabular}{lllllllllllllll}\n",
       " Sample & week & angle1 & angle2 & exposure & salinity & temperature & NAP & penetrability & grainsize & humus & chalk & sorting1 & Beach & richness\\\\\n",
       " <dbl> & <dbl> & <dbl> & <dbl> & <dbl> & <dbl> & <dbl> & <dbl> & <dbl> & <dbl> & <dbl> & <dbl> & <dbl> & <dbl> & <int>\\\\\n",
       "\\hline\n",
       "\t 1 & 1 & 32 & 96 & 10 & 29.4 & 17.5 &  0.045 & 253.9 & 222.5 & 0.05 & 2.05 & 69.83 & 1 & 11\\\\\n",
       "\t 2 & 1 & 62 & 96 & 10 & 29.4 & 17.5 & -1.036 & 226.9 & 200.0 & 0.30 & 2.50 & 59.00 & 1 & 10\\\\\n",
       "\\end{tabular}\n"
      ],
      "text/markdown": [
       "\n",
       "A tibble: 2 × 15\n",
       "\n",
       "| Sample &lt;dbl&gt; | week &lt;dbl&gt; | angle1 &lt;dbl&gt; | angle2 &lt;dbl&gt; | exposure &lt;dbl&gt; | salinity &lt;dbl&gt; | temperature &lt;dbl&gt; | NAP &lt;dbl&gt; | penetrability &lt;dbl&gt; | grainsize &lt;dbl&gt; | humus &lt;dbl&gt; | chalk &lt;dbl&gt; | sorting1 &lt;dbl&gt; | Beach &lt;dbl&gt; | richness &lt;int&gt; |\n",
       "|---|---|---|---|---|---|---|---|---|---|---|---|---|---|---|\n",
       "| 1 | 1 | 32 | 96 | 10 | 29.4 | 17.5 |  0.045 | 253.9 | 222.5 | 0.05 | 2.05 | 69.83 | 1 | 11 |\n",
       "| 2 | 1 | 62 | 96 | 10 | 29.4 | 17.5 | -1.036 | 226.9 | 200.0 | 0.30 | 2.50 | 59.00 | 1 | 10 |\n",
       "\n"
      ],
      "text/plain": [
       "  Sample week angle1 angle2 exposure salinity temperature NAP    penetrability\n",
       "1 1      1    32     96     10       29.4     17.5         0.045 253.9        \n",
       "2 2      1    62     96     10       29.4     17.5        -1.036 226.9        \n",
       "  grainsize humus chalk sorting1 Beach richness\n",
       "1 222.5     0.05  2.05  69.83    1     11      \n",
       "2 200.0     0.30  2.50  59.00    1     10      "
      ]
     },
     "metadata": {},
     "output_type": "display_data"
    }
   ],
   "source": [
    "# Write your code here\n",
    "survey_data_richness = survey_data[,-species_cols]\n",
    "head(survey_data_richness, n=2)"
   ]
  },
  {
   "cell_type": "markdown",
   "id": "1560369e",
   "metadata": {},
   "source": [
    "Q6. Use the `lm` function to model the richness as a function of the remaining variables but not including the variable `week`, which needs a special treatment we haven't covered yet!     \n"
   ]
  },
  {
   "cell_type": "code",
   "execution_count": 12,
   "id": "6d598229",
   "metadata": {},
   "outputs": [
    {
     "data": {
      "text/plain": [
       "\n",
       "Call:\n",
       "lm(formula = richness ~ angle1 + angle2 + exposure + salinity + \n",
       "    temperature + NAP + penetrability + grainsize + humus + chalk + \n",
       "    sorting1 + Beach, data = survey_data_richness)\n",
       "\n",
       "Residuals:\n",
       "    Min      1Q  Median      3Q     Max \n",
       "-4.4344 -1.3933 -0.5195  0.7726 11.6044 \n",
       "\n",
       "Coefficients:\n",
       "                Estimate Std. Error t value Pr(>|t|)    \n",
       "(Intercept)   -43.371160  47.580750  -0.912    0.369    \n",
       "angle1         -0.009397   0.010924  -0.860    0.396    \n",
       "angle2          0.053760   0.040977   1.312    0.199    \n",
       "exposure       -0.541853   1.856944  -0.292    0.772    \n",
       "salinity        1.020630   1.311337   0.778    0.442    \n",
       "temperature     1.195516   1.230227   0.972    0.338    \n",
       "NAP            -2.765120   0.580865  -4.760 3.98e-05 ***\n",
       "penetrability  -0.006443   0.007021  -0.918    0.366    \n",
       "grainsize       0.019833   0.030860   0.643    0.525    \n",
       "humus           0.306015   9.087738   0.034    0.973    \n",
       "chalk          -0.137526   0.138167  -0.995    0.327    \n",
       "sorting1        0.004968   0.042032   0.118    0.907    \n",
       "Beach          -0.228777   0.782530  -0.292    0.772    \n",
       "---\n",
       "Signif. codes:  0 ‘***’ 0.001 ‘**’ 0.01 ‘*’ 0.05 ‘.’ 0.1 ‘ ’ 1\n",
       "\n",
       "Residual standard error: 3.105 on 32 degrees of freedom\n",
       "Multiple R-squared:   0.72,\tAdjusted R-squared:  0.615 \n",
       "F-statistic: 6.858 on 12 and 32 DF,  p-value: 6.314e-06\n"
      ]
     },
     "metadata": {},
     "output_type": "display_data"
    }
   ],
   "source": [
    "# Write your code here\n",
    "\n",
    "model_richness = lm(richness ~ angle1 + angle2+ exposure + salinity + temperature +NAP +penetrability +grainsize +humus +chalk + sorting1+ Beach, data= survey_data_richness)\n",
    "summary(model_richness)\n"
   ]
  },
  {
   "cell_type": "markdown",
   "id": "9f0f0228",
   "metadata": {},
   "source": [
    "Q7. What do the various output of the `lm` mean? Interpret the results of your model. "
   ]
  },
  {
   "cell_type": "markdown",
   "id": "6eeb9e79",
   "metadata": {},
   "source": [
    "\n",
    "\n",
    "* Intercept\n",
    "* coefficients for each predictor: what a unit increase in variable yields as increase in richness\n",
    "* The p-value indicates whether the NAP is relevant in that model.\n",
    "* The Adjusted R-squared represents the % of variation in the response variable explained by this model adjusted for the number of explantory variables in the model\n",
    "  * R-squared: same as above without the adjustment.\n",
    "\n",
    "* Residual standard error: the model predict the richeness with, on average, an error of 3.1\n",
    "\n",
    "\n",
    "* The Residuals seem skewed, is this model even suitable?\n",
    "\n"
   ]
  },
  {
   "cell_type": "markdown",
   "id": "e2c0d37a",
   "metadata": {},
   "source": [
    "Q8. Build a model that includes all the parameters and assess the fit of the data"
   ]
  },
  {
   "cell_type": "code",
   "execution_count": 14,
   "id": "00189988",
   "metadata": {},
   "outputs": [
    {
     "data": {
      "text/plain": [
       "\n",
       "Call:\n",
       "lm(formula = richness ~ ., data = survey_data_richness)\n",
       "\n",
       "Residuals:\n",
       "    Min      1Q  Median      3Q     Max \n",
       "-4.3655 -1.5021 -0.2868  0.9568 11.4025 \n",
       "\n",
       "Coefficients:\n",
       "                Estimate Std. Error t value Pr(>|t|)    \n",
       "(Intercept)   -22.153820  63.670191  -0.348    0.730    \n",
       "Sample         -0.172468   0.352696  -0.489    0.628    \n",
       "week            1.400035   2.923140   0.479    0.635    \n",
       "angle1         -0.009360   0.011433  -0.819    0.419    \n",
       "angle2          0.075140   0.063627   1.181    0.247    \n",
       "exposure       -0.238078   2.015257  -0.118    0.907    \n",
       "salinity       -0.076049   2.594129  -0.029    0.977    \n",
       "temperature     1.591002   1.524570   1.044    0.305    \n",
       "NAP            -2.764832   0.603947  -4.578 7.65e-05 ***\n",
       "penetrability  -0.008497   0.008686  -0.978    0.336    \n",
       "grainsize       0.014804   0.032535   0.455    0.652    \n",
       "humus          -1.152655   9.529386  -0.121    0.905    \n",
       "chalk          -0.127294   0.142870  -0.891    0.380    \n",
       "sorting1        0.004339   0.043053   0.101    0.920    \n",
       "Beach          -0.118780   2.570064  -0.046    0.963    \n",
       "---\n",
       "Signif. codes:  0 ‘***’ 0.001 ‘**’ 0.01 ‘*’ 0.05 ‘.’ 0.1 ‘ ’ 1\n",
       "\n",
       "Residual standard error: 3.179 on 30 degrees of freedom\n",
       "Multiple R-squared:  0.7248,\tAdjusted R-squared:  0.5963 \n",
       "F-statistic: 5.643 on 14 and 30 DF,  p-value: 3.591e-05\n"
      ]
     },
     "metadata": {},
     "output_type": "display_data"
    }
   ],
   "source": [
    "model_richness_all_parameters = lm(richness ~ ., data= survey_data_richness)\n",
    "summary(model_richness_all_parameters)"
   ]
  },
  {
   "cell_type": "markdown",
   "id": "5830ed9d",
   "metadata": {},
   "source": [
    "* Model R-square improved marginally, but adjusted R square is lower when accounting for weeks\n",
    "  * Not justified to add the new variable. \n",
    "* The idea here was to show that adding a variable can actually degrade the Adjusted R-squared. This is the approach theward step selection model chooses. \n",
    "  * Incrementally add values but pick, each time, the one that leads the most improvement in some stat (ex. Adjusted R-squared). Stop when the variable introduces caused a decrease in the Adjusted R-squared"
   ]
  },
  {
   "cell_type": "markdown",
   "id": "061f8411",
   "metadata": {},
   "source": [
    "Q9. Use an appropriate method that only selects a subset of the data. Compare the AIC with the previous method. What do you conclude? Justify your answer."
   ]
  },
  {
   "cell_type": "code",
   "execution_count": 16,
   "id": "c20a22ba",
   "metadata": {},
   "outputs": [
    {
     "name": "stderr",
     "output_type": "stream",
     "text": [
      "\n",
      "Attaching package: ‘MASS’\n",
      "\n",
      "\n",
      "The following object is masked from ‘package:dplyr’:\n",
      "\n",
      "    select\n",
      "\n",
      "\n"
     ]
    },
    {
     "name": "stdout",
     "output_type": "stream",
     "text": [
      "Start:  AIC=115.85\n",
      "richness ~ Sample + week + angle1 + angle2 + exposure + salinity + \n",
      "    temperature + NAP + penetrability + grainsize + humus + chalk + \n",
      "    sorting1 + Beach\n",
      "\n",
      "                Df Sum of Sq    RSS    AIC\n",
      "- salinity       1     0.009 303.20 113.85\n",
      "- Beach          1     0.022 303.21 113.85\n",
      "- sorting1       1     0.103 303.30 113.86\n",
      "- exposure       1     0.141 303.33 113.87\n",
      "- humus          1     0.148 303.34 113.87\n",
      "- grainsize      1     2.092 305.29 114.16\n",
      "- week           1     2.318 305.51 114.19\n",
      "- Sample         1     2.417 305.61 114.20\n",
      "- angle1         1     6.774 309.97 114.84\n",
      "- chalk          1     8.023 311.22 115.02\n",
      "- penetrability  1     9.673 312.87 115.26\n",
      "- temperature    1    11.006 314.20 115.45\n",
      "<none>                       303.19 115.85\n",
      "- angle2         1    14.095 317.29 115.89\n",
      "- NAP            1   211.806 515.00 137.69\n",
      "\n",
      "Step:  AIC=113.85\n",
      "richness ~ Sample + week + angle1 + angle2 + exposure + temperature + \n",
      "    NAP + penetrability + grainsize + humus + chalk + sorting1 + \n",
      "    Beach\n",
      "\n",
      "                Df Sum of Sq    RSS    AIC\n",
      "- Beach          1     0.013 303.21 111.85\n",
      "- sorting1       1     0.094 303.30 111.86\n",
      "- humus          1     0.144 303.35 111.87\n",
      "- exposure       1     0.220 303.42 111.88\n",
      "- Sample         1     2.442 305.64 112.21\n",
      "- grainsize      1     3.129 306.33 112.31\n",
      "- angle1         1     6.932 310.13 112.86\n",
      "- week           1     7.753 310.95 112.98\n",
      "- chalk          1     8.127 311.33 113.04\n",
      "- penetrability  1    13.072 316.27 113.75\n",
      "<none>                       303.20 113.85\n",
      "- angle2         1    17.641 320.84 114.39\n",
      "- temperature    1    20.665 323.87 114.81\n",
      "- NAP            1   212.490 515.69 135.75\n",
      "\n",
      "Step:  AIC=111.85\n",
      "richness ~ Sample + week + angle1 + angle2 + exposure + temperature + \n",
      "    NAP + penetrability + grainsize + humus + chalk + sorting1\n",
      "\n",
      "                Df Sum of Sq    RSS    AIC\n",
      "- sorting1       1     0.093 303.31 109.86\n",
      "- humus          1     0.153 303.37 109.87\n",
      "- exposure       1     0.256 303.47 109.89\n",
      "- grainsize      1     3.283 306.50 110.33\n",
      "- angle1         1     7.429 310.64 110.94\n",
      "- week           1     8.066 311.28 111.03\n",
      "- chalk          1     8.118 311.33 111.04\n",
      "- penetrability  1    13.084 316.30 111.75\n",
      "<none>                       303.21 111.85\n",
      "- angle2         1    18.925 322.14 112.58\n",
      "- temperature    1    21.761 324.98 112.97\n",
      "- Sample         1    26.456 329.67 113.61\n",
      "- NAP            1   220.025 523.24 134.40\n",
      "\n",
      "Step:  AIC=109.86\n",
      "richness ~ Sample + week + angle1 + angle2 + exposure + temperature + \n",
      "    NAP + penetrability + grainsize + humus + chalk\n",
      "\n",
      "                Df Sum of Sq    RSS    AIC\n",
      "- humus          1     0.165 303.47 107.89\n",
      "- exposure       1     0.316 303.62 107.91\n",
      "- grainsize      1     6.130 309.44 108.76\n",
      "- angle1         1     7.991 311.30 109.03\n",
      "- week           1    11.646 314.95 109.56\n",
      "<none>                       303.31 109.86\n",
      "- chalk          1    17.175 320.48 110.34\n",
      "- penetrability  1    18.925 322.23 110.59\n",
      "- temperature    1    21.773 325.08 110.98\n",
      "- angle2         1    25.613 328.92 111.51\n",
      "- Sample         1    26.363 329.67 111.61\n",
      "- NAP            1   226.689 530.00 132.98\n",
      "\n",
      "Step:  AIC=107.89\n",
      "richness ~ Sample + week + angle1 + angle2 + exposure + temperature + \n",
      "    NAP + penetrability + grainsize + chalk\n",
      "\n",
      "                Df Sum of Sq    RSS    AIC\n",
      "- exposure       1     0.354 303.83 105.94\n",
      "- grainsize      1     5.965 309.44 106.76\n",
      "- angle1         1     7.840 311.31 107.04\n",
      "- week           1    11.483 314.96 107.56\n",
      "<none>                       303.47 107.89\n",
      "- chalk          1    17.103 320.58 108.36\n",
      "- penetrability  1    19.101 322.57 108.64\n",
      "- temperature    1    21.623 325.10 108.99\n",
      "- angle2         1    26.692 330.17 109.68\n",
      "- Sample         1    27.399 330.87 109.78\n",
      "- NAP            1   229.698 533.17 131.25\n",
      "\n",
      "Step:  AIC=105.94\n",
      "richness ~ Sample + week + angle1 + angle2 + temperature + NAP + \n",
      "    penetrability + grainsize + chalk\n",
      "\n",
      "                Df Sum of Sq    RSS    AIC\n",
      "- angle1         1     7.732 311.56 105.07\n",
      "- grainsize      1     8.226 312.05 105.14\n",
      "- week           1    11.146 314.97 105.56\n",
      "<none>                       303.83 105.94\n",
      "- penetrability  1    18.845 322.67 106.65\n",
      "- angle2         1    30.708 334.53 108.27\n",
      "- chalk          1    38.997 342.82 109.38\n",
      "- Sample         1    47.589 351.42 110.49\n",
      "- temperature    1   167.583 471.41 123.71\n",
      "- NAP            1   248.795 552.62 130.86\n",
      "\n",
      "Step:  AIC=105.07\n",
      "richness ~ Sample + week + angle2 + temperature + NAP + penetrability + \n",
      "    grainsize + chalk\n",
      "\n",
      "                Df Sum of Sq    RSS    AIC\n",
      "- grainsize      1    10.396 321.95 104.55\n",
      "- penetrability  1    13.242 324.80 104.94\n",
      "<none>                       311.56 105.07\n",
      "- week           1    15.486 327.04 105.25\n",
      "- angle2         1    29.484 341.04 107.14\n",
      "- chalk          1    36.632 348.19 108.07\n",
      "- Sample         1    63.321 374.88 111.40\n",
      "- temperature    1   161.199 472.76 121.84\n",
      "- NAP            1   242.761 554.32 129.00\n",
      "\n",
      "Step:  AIC=104.55\n",
      "richness ~ Sample + week + angle2 + temperature + NAP + penetrability + \n",
      "    chalk\n",
      "\n",
      "                Df Sum of Sq    RSS    AIC\n",
      "- week           1     8.777 330.73 103.76\n",
      "- penetrability  1    14.419 336.37 104.52\n",
      "<none>                       321.95 104.55\n",
      "- angle2         1    20.229 342.18 105.29\n",
      "- chalk          1    30.038 351.99 106.56\n",
      "- Sample         1    54.834 376.79 109.63\n",
      "- temperature    1   162.567 484.52 120.94\n",
      "- NAP            1   300.056 622.01 132.18\n",
      "\n",
      "Step:  AIC=103.76\n",
      "richness ~ Sample + angle2 + temperature + NAP + penetrability + \n",
      "    chalk\n",
      "\n",
      "                Df Sum of Sq    RSS    AIC\n",
      "- angle2         1     12.30 343.03 103.40\n",
      "- penetrability  1     12.55 343.28 103.44\n",
      "<none>                       330.73 103.76\n",
      "- Sample         1     55.16 385.89 108.70\n",
      "- chalk          1     61.54 392.27 109.44\n",
      "- temperature    1    186.05 516.78 121.84\n",
      "- NAP            1    328.34 659.07 132.79\n",
      "\n",
      "Step:  AIC=103.4\n",
      "richness ~ Sample + temperature + NAP + penetrability + chalk\n",
      "\n",
      "                Df Sum of Sq    RSS    AIC\n",
      "- penetrability  1      6.15 349.18 102.20\n",
      "<none>                       343.03 103.40\n",
      "- chalk          1     71.51 414.54 109.92\n",
      "- Sample         1     81.29 424.32 110.97\n",
      "- temperature    1    204.55 547.58 122.45\n",
      "- NAP            1    342.55 685.58 132.56\n",
      "\n",
      "Step:  AIC=102.2\n",
      "richness ~ Sample + temperature + NAP + chalk\n",
      "\n",
      "              Df Sum of Sq    RSS    AIC\n",
      "<none>                     349.18 102.20\n",
      "- chalk        1     65.68 414.86 107.96\n",
      "- Sample       1    146.75 495.93 115.99\n",
      "- temperature  1    205.37 554.56 121.02\n",
      "- NAP          1    336.87 686.05 130.59\n"
     ]
    }
   ],
   "source": [
    "library(MASS)\n",
    "cpus.lm2 <- stepAIC(model_richness_all_parameters, trace = TRUE)"
   ]
  },
  {
   "cell_type": "code",
   "execution_count": null,
   "id": "3f6ed67c",
   "metadata": {},
   "outputs": [],
   "source": [
    "StepAIC, find that the model with chalk, Sample, temperature and NAP is the best, if interaction is not taken into account.\n",
    "- chalk        1     65.68 414.86 107.96\n",
    "- Sample       1    146.75 495.93 115.99\n",
    "- temperature  1    205.37 554.56 121.02\n",
    "- NAP          1    336.87 686.05 130.59"
   ]
  },
  {
   "cell_type": "markdown",
   "id": "9ad5710f",
   "metadata": {},
   "source": [
    "Q10. Can you find the model that provide the best fit. You can use term interaction in the model. Justify why this model is the `best`.\n",
    "\n",
    "\n"
   ]
  },
  {
   "cell_type": "code",
   "execution_count": null,
   "id": "07393c81",
   "metadata": {},
   "outputs": [],
   "source": [
    "Not applicable here"
   ]
  }
 ],
 "metadata": {
  "kernelspec": {
   "display_name": "R",
   "language": "R",
   "name": "ir"
  },
  "language_info": {
   "codemirror_mode": "r",
   "file_extension": ".r",
   "mimetype": "text/x-r-source",
   "name": "R",
   "pygments_lexer": "r",
   "version": "4.0.2"
  }
 },
 "nbformat": 4,
 "nbformat_minor": 5
}
