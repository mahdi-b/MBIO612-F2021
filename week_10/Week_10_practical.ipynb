{
 "cells": [
  {
   "cell_type": "markdown",
   "id": "7de61552",
   "metadata": {},
   "source": [
    "* Here you'll generate your own data to make sure you understand what PCA is doing\n",
    "\n",
    "* Generate 4 variables W, X, Y, and Z\n",
    "\n",
    "1. X and Y should not be correlated\n",
    "  * They are independent\n",
    "\n",
    "2. W and X should have a mild correlation ( < 0.5)\n",
    "\n",
    "3. Y and Z should have a mild correlation ( > 0.9)\n",
    "\n",
    "* Here, it's important to note that:\n",
    "  1. The correction of two variables A and B is not determined by the linear regression\n",
    "    * $B = 0.4 \\times X$ does not mean that the correlation cor(A,B) = 0.4\n",
    "  2. Correction is factor of the noise in the linear regressio. \n",
    "     * For example, for  $B = 0.4 \\times X + \\epsilon$, the larger the noise component, the samller will be the correction between A and B\n",
    "   \n",
    "\n",
    "4. Generate a variable outcome as a linear combination of W, X, Y, and Z\n",
    "  * i.e., choose values for the coefficients $\\beta_0$, $\\beta_1$, etc.. and compute `outcome` \n",
    " \n",
    " \n",
    " $$outcome = \\beta_0 + \\beta_1 \\times W + \\beta_2 \\times X + \\beta_3 \\times Y + \\beta_4 \\times Z$$"
   ]
  },
  {
   "cell_type": "markdown",
   "id": "6c97b474",
   "metadata": {},
   "source": [
    "5. Model your outcome using W, X, Y, and Z.\n",
    "  * Do your results match your model params?"
   ]
  },
  {
   "cell_type": "markdown",
   "id": "ab6754a8",
   "metadata": {},
   "source": [
    "6. Use PCA to reduce the dimensionality of your dataset\n",
    "  * Can you explain why you don't need to include the outcome?     "
   ]
  },
  {
   "cell_type": "markdown",
   "id": "8b851bc6",
   "metadata": {},
   "source": [
    "7. Use the bi-plot to visualize the contributions of your initial variables"
   ]
  },
  {
   "cell_type": "markdown",
   "id": "aac6da7c",
   "metadata": {},
   "source": [
    "8. How efficient is the new lower-dimensional space representation at predicting the outcome?\n",
    "  * Do your results match your model params?"
   ]
  }
 ],
 "metadata": {
  "kernelspec": {
   "display_name": "R",
   "language": "R",
   "name": "ir"
  },
  "language_info": {
   "codemirror_mode": "r",
   "file_extension": ".r",
   "mimetype": "text/x-r-source",
   "name": "R",
   "pygments_lexer": "r",
   "version": "4.0.2"
  }
 },
 "nbformat": 4,
 "nbformat_minor": 5
}
